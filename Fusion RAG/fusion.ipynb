{
 "cells": [
  {
   "cell_type": "code",
   "execution_count": 4,
   "metadata": {
    "cellUniqueIdByVincent": "d18bb"
   },
   "outputs": [],
   "source": [
    "import os\n",
    "import google.generativeai as genai\n",
    "from langchain_experimental.text_splitter import SemanticChunker\n",
    "from langchain_community.vectorstores import Chroma\n",
    "from langchain.document_loaders import TextLoader, DirectoryLoader\n",
    "from dotenv import load_dotenv\n",
    "\n",
    "from langchain_openai import ChatOpenAI"
   ]
  },
  {
   "cell_type": "code",
   "execution_count": 5,
   "metadata": {
    "cellUniqueIdByVincent": "4771b"
   },
   "outputs": [
    {
     "data": {
      "text/plain": [
       "True"
      ]
     },
     "execution_count": 5,
     "metadata": {},
     "output_type": "execute_result"
    }
   ],
   "source": [
    "load_dotenv()"
   ]
  },
  {
   "cell_type": "code",
   "execution_count": 6,
   "metadata": {
    "cellUniqueIdByVincent": "e8c04"
   },
   "outputs": [],
   "source": [
    "# Configure API keys\n",
    "GEMINI_API_KEY = os.getenv('GEMINI_API_KEY')\n",
    "OPENROUTER_API_KEY = os.getenv('OPENROUTER_API_KEY')\n",
    "KNOWLEDGE_BASE = \"/home/olande/Desktop/Rag_Techniques/Contextual Chunk Headers/books\"\n",
    "# Configure constants\n",
    "EMBEDDING_MODEL = 'text-embedding-004'  \n",
    "\n",
    "LLM_MODEL = 'meta-llama/llama-3.1-8b-instruct'  "
   ]
  },
  {
   "cell_type": "code",
   "execution_count": 7,
   "metadata": {
    "cellUniqueIdByVincent": "8343a"
   },
   "outputs": [],
   "source": [
    "# Initialize Gemini for embeddings\n",
    "genai.configure(api_key=GEMINI_API_KEY)\n"
   ]
  },
  {
   "cell_type": "code",
   "execution_count": 8,
   "metadata": {
    "cellUniqueIdByVincent": "4d52e"
   },
   "outputs": [],
   "source": [
    "llm = ChatOpenAI(\n",
    "    model=LLM_MODEL,\n",
    "    openai_api_key=OPENROUTER_API_KEY,\n",
    "    openai_api_base=\"https://openrouter.ai/api/v1\",\n",
    "    temperature=0.7\n",
    ")"
   ]
  },
  {
   "cell_type": "code",
   "execution_count": 9,
   "metadata": {
    "cellUniqueIdByVincent": "8beff"
   },
   "outputs": [
    {
     "name": "stderr",
     "output_type": "stream",
     "text": [
      "100%|██████████| 2/2 [00:00<00:00, 834.19it/s]\n"
     ]
    }
   ],
   "source": [
    "loader = DirectoryLoader(KNOWLEDGE_BASE, glob = \"**/*.txt\", show_progress = True, loader_cls = TextLoader)\n",
    "documents = loader.load()"
   ]
  },
  {
   "cell_type": "code",
   "execution_count": 20,
   "metadata": {
    "cellUniqueIdByVincent": "23573"
   },
   "outputs": [
    {
     "name": "stdout",
     "output_type": "stream",
     "text": [
      "Splitting documents...\n"
     ]
    },
    {
     "data": {
      "application/vnd.jupyter.widget-view+json": {
       "model_id": "4caa94adf8dc4a5999c92110c4688143",
       "version_major": 2,
       "version_minor": 0
      },
      "text/plain": [
       "Embedding documents:   0%|          | 0/830 [00:00<?, ?it/s]"
      ]
     },
     "metadata": {},
     "output_type": "display_data"
    },
    {
     "data": {
      "application/vnd.jupyter.widget-view+json": {
       "model_id": "9815f37345574c24a8a9451013d6b359",
       "version_major": 2,
       "version_minor": 0
      },
      "text/plain": [
       "Embedding documents:   0%|          | 0/38 [00:00<?, ?it/s]"
      ]
     },
     "metadata": {},
     "output_type": "display_data"
    },
    {
     "name": "stdout",
     "output_type": "stream",
     "text": [
      "Split documents into 89 chunks\n"
     ]
    }
   ],
   "source": [
    "from langchain.embeddings.base import Embeddings\n",
    "from tqdm.notebook import tqdm\n",
    "\n",
    "class GeminiEmbeddings(Embeddings):\n",
    "    def __init__(self, api_key=None):\n",
    "        if api_key:\n",
    "            genai.configure(api_key=api_key)\n",
    "        \n",
    "    def embed_documents(self, texts):\n",
    "        \"\"\"Embed a list of documents using Gemini API\"\"\"\n",
    "        embeddings = []\n",
    "        for text in tqdm(texts, desc = \"Embedding documents\"):\n",
    "            response = genai.embed_content(\n",
    "                model=\"text-embedding-004\",\n",
    "                content=text,\n",
    "                task_type=\"RETRIEVAL_DOCUMENT\"\n",
    "            )\n",
    "            embeddings.append(response['embedding'])\n",
    "        return embeddings\n",
    "    \n",
    "    def embed_query(self, text):\n",
    "        \"\"\"Embed a query using Gemini API\"\"\"\n",
    "        response = genai.embed_content(\n",
    "            model=\"text-embedding-004\",\n",
    "            content=text,\n",
    "            task_type=\"RETRIEVAL_QUERY\"\n",
    "        )\n",
    "        return response['embedding']\n",
    "\n",
    "# Create the embeddings model\n",
    "embeddings_model = GeminiEmbeddings(api_key=GEMINI_API_KEY)\n",
    "\n",
    "# Now create the semantic chunker with the embeddings model\n",
    "text_splitter = SemanticChunker(embeddings=embeddings_model, breakpoint_threshold_type='percentile', breakpoint_threshold_amount=90)\n",
    "\n",
    "# Split the documents\n",
    "print(\"Splitting documents...\")\n",
    "chunks = text_splitter.split_documents(documents)\n",
    "print(f\"Split documents into {len(chunks)} chunks\")"
   ]
  },
  {
   "cell_type": "code",
   "execution_count": 26,
   "metadata": {
    "cellUniqueIdByVincent": "f1f88"
   },
   "outputs": [
    {
     "data": {
      "application/vnd.jupyter.widget-view+json": {
       "model_id": "c6d901c9c62c4e1b8856ede86f606d81",
       "version_major": 2,
       "version_minor": 0
      },
      "text/plain": [
       "Embedding documents:   0%|          | 0/89 [00:00<?, ?it/s]"
      ]
     },
     "metadata": {},
     "output_type": "display_data"
    }
   ],
   "source": [
    "embeddings = GeminiEmbeddings(api_key=GEMINI_API_KEY)\n",
    "vectorstore = FAISS.from_documents(chunks, embeddings)\n",
    "retriever = vectorstore.as_retriever(search_kwargs={\"k\": 5})\n",
    "\n",
    "# Save the vectorstore\n",
    "vectorstore.save_local(\"faiss_index\")"
   ]
  },
  {
   "cell_type": "code",
   "execution_count": 27,
   "metadata": {
    "cellUniqueIdByVincent": "3a681"
   },
   "outputs": [],
   "source": [
    "from langchain_core.prompts import ChatPromptTemplate\n",
    "from langchain.schema.output_parser import StrOutputParser\n",
    "from langchain.schema.runnable import RunnableLambda, RunnablePassthrough"
   ]
  },
  {
   "cell_type": "code",
   "execution_count": 28,
   "metadata": {
    "cellUniqueIdByVincent": "459ac"
   },
   "outputs": [],
   "source": [
    "template = \"\"\"Answer the question based only on the following context:\n",
    "{context}\n",
    "\n",
    "Question: {question}\n",
    "\"\"\"\n",
    "prompt = ChatPromptTemplate.from_template(template)\n"
   ]
  },
  {
   "cell_type": "code",
   "execution_count": 29,
   "metadata": {
    "cellUniqueIdByVincent": "f49ec"
   },
   "outputs": [],
   "source": [
    "chain = (\n",
    "    {\"context\": retriever, \"question\": RunnablePassthrough()}\n",
    "    | prompt\n",
    "    | llm\n",
    "    | StrOutputParser()\n",
    ")"
   ]
  },
  {
   "cell_type": "code",
   "execution_count": 30,
   "metadata": {
    "cellUniqueIdByVincent": "d1f5b"
   },
   "outputs": [
    {
     "data": {
      "text/plain": [
       "'Thomas Jefferson was the author of the Declaration of Independence of the United States of America.'"
      ]
     },
     "execution_count": 30,
     "metadata": {},
     "output_type": "execute_result"
    }
   ],
   "source": [
    "chain.invoke(\"Tell me about Thomas Jefferson\")"
   ]
  },
  {
   "cell_type": "markdown",
   "metadata": {
    "cellUniqueIdByVincent": "ea7ba"
   },
   "source": [
    "# Enter RAGFusion"
   ]
  },
  {
   "cell_type": "code",
   "execution_count": null,
   "metadata": {
    "cellUniqueIdByVincent": "dcd97"
   },
   "outputs": [],
   "source": []
  }
 ],
 "metadata": {
  "kernelspec": {
   "display_name": ".venv",
   "language": "python",
   "name": "python3"
  },
  "language_info": {
   "codemirror_mode": {
    "name": "ipython",
    "version": 3
   },
   "file_extension": ".py",
   "mimetype": "text/x-python",
   "name": "python",
   "nbconvert_exporter": "python",
   "pygments_lexer": "ipython3",
   "version": "3.13.3"
  },
  "vincent": {
   "sessionId": "9589c878840d51aede58d545_2025-05-21T15-27-24-854Z"
  }
 },
 "nbformat": 4,
 "nbformat_minor": 5
}
