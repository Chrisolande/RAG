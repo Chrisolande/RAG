{
 "cells": [
  {
   "cell_type": "code",
   "execution_count": 52,
   "metadata": {
    "cellUniqueIdByVincent": "8a9cc"
   },
   "outputs": [],
   "source": [
    "import os\n",
    "from typing import List\n",
    "\n",
    "import google.generativeai as genai\n",
    "from langchain_core.embeddings import Embeddings\n",
    "from dotenv import load_dotenv\n",
    "\n",
    "load_dotenv()\n",
    "\n",
    "# Configure google genai api key\n",
    "genai.configure(api_key = os.getenv(\"GEMINI_API_KEY\"))\n",
    "\n",
    "class GeminiEmbeddings(Embeddings):\n",
    "    def __init__(self, model_name: str = \"text-embedding-004\", task_type:str = \"RETRIEVAL_DOCUMENT\"):\n",
    "        self.model_name = model_name\n",
    "        self.task_type = task_type\n",
    "\n",
    "    def embed_documents(self, texts: list[str]) -> list[list[float]]:\n",
    "        embeddings = []\n",
    "        for text in texts:\n",
    "            embedding = genai.embed_content(model =self.model_name, content = text, task_type = self.task_type)\n",
    "            embeddings.append(embedding[\"embedding\"])\n",
    "\n",
    "        return embeddings\n",
    "\n",
    "    def embed_query(self, text:str) -> List[float]:\n",
    "        embedding = genai.embed_content(model = self.model_name, content = text, task_type = \"RETRIEVAL_QUERY\")\n",
    "        return embedding[\"embedding\"]"
   ]
  },
  {
   "cell_type": "code",
   "execution_count": 53,
   "metadata": {
    "cellUniqueIdByVincent": "61cea"
   },
   "outputs": [],
   "source": [
    "from langchain_openai import ChatOpenAI\n",
    "\n",
    "llm = ChatOpenAI(\n",
    "        model=\"meta-llama/llama-3.2-1b-instruct\",\n",
    "        temperature=0.1,\n",
    "        openai_api_key=os.getenv(\"OPENROUTER_API_KEY\"),\n",
    "        openai_api_base=\"https://openrouter.ai/api/v1\",\n",
    "    )"
   ]
  },
  {
   "cell_type": "code",
   "execution_count": 54,
   "metadata": {
    "cellUniqueIdByVincent": "804e1"
   },
   "outputs": [],
   "source": [
    "KNOWLEDGE_BASE = \"/home/olande/Desktop/Rag_Techniques/Contextual Chunk Headers/books\""
   ]
  },
  {
   "cell_type": "code",
   "execution_count": 55,
   "metadata": {
    "cellUniqueIdByVincent": "64b0d"
   },
   "outputs": [
    {
     "name": "stderr",
     "output_type": "stream",
     "text": [
      "100%|██████████| 2/2 [00:00<00:00, 211.66it/s]\n"
     ]
    }
   ],
   "source": [
    "from langchain.text_splitter import RecursiveCharacterTextSplitter\n",
    "from langchain.document_loaders import TextLoader, DirectoryLoader\n",
    "from langchain.vectorstores import FAISS\n",
    "\n",
    "loader = DirectoryLoader(KNOWLEDGE_BASE, glob=\"**/*.txt\", show_progress = True, loader_cls = TextLoader)\n",
    "documents = loader.load()"
   ]
  },
  {
   "cell_type": "code",
   "execution_count": 56,
   "metadata": {
    "cellUniqueIdByVincent": "dab6a"
   },
   "outputs": [],
   "source": [
    "text_splitter = RecursiveCharacterTextSplitter(chunk_size = 1024, chunk_overlap = 128, length_function = len)\n",
    "texts = text_splitter.split_documents(documents)"
   ]
  },
  {
   "cell_type": "code",
   "execution_count": 57,
   "metadata": {
    "cellUniqueIdByVincent": "91da6"
   },
   "outputs": [],
   "source": [
    "retriever = FAISS.from_documents(texts,\n",
    "                                 embedding = GeminiEmbeddings()).as_retriever()\n",
    "\n"
   ]
  },
  {
   "cell_type": "code",
   "execution_count": 58,
   "metadata": {
    "cellUniqueIdByVincent": "38e0a"
   },
   "outputs": [
    {
     "name": "stdout",
     "output_type": "stream",
     "text": [
      "Document 1:\n",
      "\n",
      "﻿The Project Gutenberg eBook of The Declaration of Independence of the United States of America\n",
      "    \n",
      "This ebook is for the use of anyone anywhere in the United States and\n",
      "most other parts of the world at no cost and with almost no restrictions\n",
      "whatsoever. You may copy it, give it away or re-use it under the terms\n",
      "of the Project Gutenberg License included with this ebook or online\n",
      "at www.gutenberg.org. If you are not located in the United States,\n",
      "you will have to check the laws of the country where you are located\n",
      "before using this eBook.\n",
      "\n",
      "Title: The Declaration of Independence of the United States of America\n",
      "\n",
      "Author: Thomas Jefferson\n",
      "\n",
      "Release date: December 1, 1971 [eBook #1]\n",
      "                Most recently updated: January 1, 2021\n",
      "\n",
      "Language: English\n",
      "\n",
      "\n",
      "\n",
      "*** START OF THE PROJECT GUTENBERG EBOOK THE DECLARATION OF INDEPENDENCE OF THE UNITED STATES OF AMERICA ***\n",
      "\n",
      "\n",
      "\n",
      "December, 1971  [Etext #1]\n",
      "\n",
      "\n",
      "The Project Gutenberg Etext of The Declaration of Independence.\n",
      "----------------------------------------------------------------------------------------------------\n",
      "Document 2:\n",
      "\n",
      "He has made judges dependent on his Will alone, for the tenure\n",
      "of their offices, and the amount and payment of their salaries.\n",
      "\n",
      "He has erected a multitude of New Offices, and sent hither swarms of\n",
      "Officers to harass our People, and eat out their substance.\n",
      "\n",
      "He has kept among us, in times of peace, Standing Armies\n",
      "without the Consent of our legislatures.\n",
      "\n",
      "He has affected to render the Military independent of\n",
      "and superior to the Civil Power.\n",
      "\n",
      "He has combined with others to subject us to a jurisdiction\n",
      "foreign to our constitution, and unacknowledged by our laws;\n",
      "giving his Assent to their Acts of pretended legislation:\n",
      "\n",
      "For quartering large bodies of armed troops among us:\n",
      "\n",
      "For protecting them, by a mock Trial, from Punishment for any Murders\n",
      "which they should commit on the Inhabitants of these States:\n",
      "\n",
      "For cutting off our Trade with all parts of the world:\n",
      "\n",
      "For imposing taxes on us without our Consent:\n",
      "\n",
      "For depriving us, in many cases, of the benefits of Trial by Jury:\n",
      "----------------------------------------------------------------------------------------------------\n",
      "Document 3:\n",
      "\n",
      "He has made judges dependent on his Will alone, for the tenure\n",
      "of their offices, and the amount and payment of their salaries.\n",
      "\n",
      "He has erected a multitude of New Offices, and sent hither swarms of\n",
      "Officers to harass our People, and eat out their substance.\n",
      "\n",
      "He has kept among us, in times of peace, Standing Armies\n",
      "without the Consent of our legislatures.\n",
      "\n",
      "He has affected to render the Military independent of\n",
      "and superior to the Civil Power.\n",
      "\n",
      "He has combined with others to subject us to a jurisdiction\n",
      "foreign to our constitution, and unacknowledged by our laws;\n",
      "giving his Assent to their Acts of pretended legislation:\n",
      "\n",
      "For quartering large bodies of armed troops among us:\n",
      "\n",
      "For protecting them, by a mock Trial, from Punishment for any Murders\n",
      "which they should commit on the Inhabitants of these States:\n",
      "\n",
      "For cutting off our Trade with all parts of the world:\n",
      "\n",
      "For imposing taxes on us without our Consent:\n",
      "\n",
      "For depriving us, in many cases, of the benefits of Trial by Jury:\n",
      "----------------------------------------------------------------------------------------------------\n",
      "Document 4:\n",
      "\n",
      "===============\n",
      "\n",
      "\n",
      "\n",
      "The Project Gutenberg EBook of The Declaration of Independence\n",
      "\n",
      "Copyright laws are changing all over the world. Be sure to check the\n",
      "copyright laws for your country before downloading or redistributing\n",
      "this or any other Project Gutenberg eBook.\n",
      "\n",
      "This header should be the first thing seen when viewing this Project\n",
      "Gutenberg file.  Please do not remove it.  Do not change or edit the\n",
      "header without written permission.\n",
      "\n",
      "Please read the \"legal small print,\" and other information about the\n",
      "eBook and Project Gutenberg at the bottom of this file.  Included is\n",
      "important information about your specific rights and restrictions in\n",
      "how the file may be used.  You can also find out about how to make a\n",
      "donation to Project Gutenberg, and how to get involved.\n",
      "\n",
      "\n",
      "**Welcome To The World of Free Plain Vanilla Electronic Texts**\n",
      "\n",
      "**eBooks Readable By Both Humans and By Computers, Since 1971**\n",
      "\n",
      "*****These eBooks Were Prepared By Thousands of Volunteers!*****\n",
      "\n",
      "\n",
      "Title: The Declaration of Independence\n"
     ]
    }
   ],
   "source": [
    "def pretty_print_docs(docs):\n",
    "    print(f\"\\n{'-' * 100}\\n\".join([f\"Document {i+1}:\\n\\n\" + d.page_content for i, d in enumerate(docs)]))\n",
    "    \n",
    "pretty_print_docs(retriever.get_relevant_documents(\"Who is Thomas Jefferson?\"))"
   ]
  },
  {
   "cell_type": "code",
   "execution_count": 59,
   "metadata": {
    "cellUniqueIdByVincent": "7bab1"
   },
   "outputs": [],
   "source": [
    "from langchain.retrievers import ContextualCompressionRetriever\n",
    "from langchain.retrievers.document_compressors import LLMChainExtractor, LLMChainFilter\n",
    "\n",
    "compressor = LLMChainExtractor.from_llm(llm)\n",
    "compression_retriever = ContextualCompressionRetriever(base_compressor = compressor,\n",
    "                                                    base_retriever = retriever)\n"
   ]
  },
  {
   "cell_type": "code",
   "execution_count": 60,
   "metadata": {
    "cellUniqueIdByVincent": "ca515"
   },
   "outputs": [
    {
     "name": "stdout",
     "output_type": "stream",
     "text": [
      "Document 1:\n",
      "\n",
      "the forms to which they are accustomed.  But when a long train of abuses and\n",
      "usurpations, pursuing invariably the same Object evinces a design to reduce\n",
      "them under absolute Despotism, it is their right, it is their duty, to throw\n",
      "off such Government, and to provide new Guards for their future security. --Such has been the patient sufferance of these Colonies; and such is now\n",
      "the necessity which constrains them to alter their former Systems of Government.\n",
      "The history of the present King of Great Britain is a history of repeated\n",
      "injuries and usurpations, all having in direct object the establishment\n",
      "of an absolute Tyranny over these States.  To prove this, let Facts\n",
      "be submitted to a candid world.\n",
      "----------------------------------------------------------------------------------------------------\n",
      "Document 2:\n",
      "\n",
      "*The grievances against the King: repeated injuries and usurpations, all having in direct object the establishment of an absolute Tyranny over these States.\n",
      "----------------------------------------------------------------------------------------------------\n",
      "Document 3:\n",
      "\n",
      "taxes, trial by jury, separation of powers, laws, government, legislatures, legislated for us, protection, war\n",
      "----------------------------------------------------------------------------------------------------\n",
      "Document 4:\n",
      "\n",
      "He has abdicated Government here, by declaring us out of his Protection\n",
      "and waging War against us.\n"
     ]
    }
   ],
   "source": [
    "compressed_docs = compression_retriever.get_relevant_documents(\"What were the grievances against the King?\")\n",
    "pretty_print_docs(compressed_docs)\n"
   ]
  },
  {
   "cell_type": "code",
   "execution_count": 61,
   "metadata": {
    "cellUniqueIdByVincent": "e7faa"
   },
   "outputs": [],
   "source": [
    "_filter = LLMChainFilter.from_llm(llm)"
   ]
  },
  {
   "cell_type": "code",
   "execution_count": 62,
   "metadata": {
    "cellUniqueIdByVincent": "572c1"
   },
   "outputs": [
    {
     "name": "stdout",
     "output_type": "stream",
     "text": [
      "Document 1:\n",
      "\n",
      "Chris Olande: A Professional Profile\n",
      "\n",
      "Chris Olande is a dynamic and intellectually curious student of Statistics and Programming at Kenyatta University, with a growing portfolio of sophisticated projects that blend statistical rigor with cutting-edge machine learning techniques. His academic and practical pursuits reflect not only a mastery of foundational principles in data science and programming, but also a passion for innovative applications in real-world contexts, including education and artificial intelligence.\n",
      "\n",
      "From his meticulous handling of sentiment classification tasks using state-of-the-art transformer models to his leadership in organizing educational field studies, Chris demonstrates a rare combination of technical excellence, strategic thinking, and human-centered values. His ability to bridge theory and practice places him at the forefront of a new generation of data-driven professionals.\n",
      "\n",
      "Academic Background and Technical Expertise\n",
      "----------------------------------------------------------------------------------------------------\n",
      "Document 2:\n",
      "\n",
      "In Conclusion\n",
      "\n",
      "Chris Olande is a promising young professional whose blend of technical competence, educational leadership, and forward-thinking innovation makes him stand out. As he continues his journey in statistics and programming at Kenyatta University, he is steadily building a foundation for meaningful, high-impact contributions to both industry and society.\n",
      "\n",
      "He exemplifies what it means to be a 21st-century technologist: skilled, thoughtful, and driven by a clear sense of purpose.\n",
      "----------------------------------------------------------------------------------------------------\n",
      "Document 3:\n",
      "\n",
      "Agentic RAG and Knowledge Systems\n",
      "\n",
      "Chris is currently advancing his work in the domain of agentic RAG systems—an area at the frontier of AI research and application. His vision is to create ultra-modern knowledge agents capable of autonomous planning, reasoning, memory management, and external tool use. To realize this, he leverages LangChain Expression Language (LCEL), OpenRouter models, and well-structured API integrations.\n",
      "\n",
      "He has emphasized modular codebases, separating components into distinct files and classes to promote reuse, clarity, and scalability. Chris’s agentic systems also show sensitivity to the evolving landscape of tools, prioritizing developer-friendly abstractions without sacrificing control or customization.\n",
      "\n",
      "Leadership in Education and Community Engagement\n",
      "----------------------------------------------------------------------------------------------------\n",
      "Document 4:\n",
      "\n",
      "Leadership in Education and Community Engagement\n",
      "\n",
      "In addition to his technical pursuits, Chris has demonstrated leadership in education by organizing a field study for Grade 7 students to visit Impala Glass Industries in Nairobi. This initiative reflects his commitment to nurturing curiosity and STEM literacy among younger learners. His work in this domain underscores a broader commitment to education as a vehicle for empowerment and societal progress.\n",
      "\n",
      "This dual commitment—to technology and to people—makes Chris a well-rounded and impactful contributor in any professional setting.\n",
      "\n",
      "Professional Traits and Work Ethic\n",
      "\n",
      "Chris is methodical, results-oriented, and deeply inquisitive. He approaches problems analytically, balancing statistical rigor with creative thinking. His code is clean, well-documented, and adheres to best practices in software development. Whether working independently or as part of a team, he brings discipline, reliability, and a collaborative spirit.\n"
     ]
    }
   ],
   "source": [
    "compression_retriever = ContextualCompressionRetriever(base_compressor=_filter, base_retriever=retriever)\n",
    "\n",
    "compressed_docs = compression_retriever.get_relevant_documents(\"What is Chris Olande?\")\n",
    "pretty_print_docs(compressed_docs)"
   ]
  },
  {
   "cell_type": "code",
   "execution_count": 63,
   "metadata": {
    "cellUniqueIdByVincent": "d6aa2"
   },
   "outputs": [
    {
     "name": "stdout",
     "output_type": "stream",
     "text": [
      "Document 1:\n",
      "\n",
      "One-eighth of the whole population were colored slaves, not distributed\n",
      "generally over the Union, but localized in the Southern part of it.\n",
      "These slaves constituted a peculiar and powerful interest.  All knew\n",
      "that this interest was, somehow, the cause of the war.  To strengthen,\n",
      "perpetuate, and extend this interest was the object for which the\n",
      "insurgents would rend the Union, even by war; while the government claimed\n",
      "no right to do more than to restrict the territorial enlargement of it.\n",
      "----------------------------------------------------------------------------------------------------\n",
      "Document 2:\n",
      "\n",
      "In every stage of these Oppressions We have Petitioned for Redress\n",
      "in the most humble terms:  Our repeated Petitions have been answered\n",
      "only by repeated injury.  A Prince, whose character is thus marked\n",
      "by every act which may define a Tyrant, is unfit to be the ruler\n",
      "of a free People.\n",
      "\n",
      "Nor have We been wanting in attention to our British brethren.\n",
      "We have warned them from time to time of attempts by their\n",
      "legislature to extend an unwarrantable jurisdiction over us.\n",
      "We have reminded them of the circumstances of our emigration and\n",
      "settlement here.  We have appealed to their native justice\n",
      "and magnanimity, and we have conjured them by the ties of our\n",
      "common kindred to disavow these usurpations, which would inevitably\n",
      "interrupt our connections and correspondence.  They too have been\n",
      "deaf to the voice of justice and of consanguinity.  We must, therefore,\n",
      "acquiesce in the necessity, which denounces our Separation, and hold them,\n",
      "as we hold the rest of mankind, Enemies in War, in Peace Friends.\n",
      "----------------------------------------------------------------------------------------------------\n",
      "Document 3:\n",
      "\n",
      "In every stage of these Oppressions We have Petitioned for Redress\n",
      "in the most humble terms:  Our repeated Petitions have been answered\n",
      "only by repeated injury.  A Prince, whose character is thus marked\n",
      "by every act which may define a Tyrant, is unfit to be the ruler\n",
      "of a free People.\n",
      "\n",
      "Nor have We been wanting in attention to our Brittish brethren.\n",
      "We have warned them from time to time of attempts by their\n",
      "legislature to extend an unwarrantable jurisdiction over us.\n",
      "We have reminded them of the circumstances of our emigration and\n",
      "settlement here.  We have appealed to their native justice\n",
      "and magnanimity, and we have conjured them by the ties of our\n",
      "common kindred to disavow these usurpations, which would inevitably\n",
      "interrupt our connections and correspondence.  They too have been\n",
      "deaf to the voice of justice and of consanguinity.  We must, therefore,\n",
      "acquiesce in the necessity, which denounces our Separation, and hold them,\n",
      "as we hold the rest of mankind, Enemies in War, in Peace Friends.\n",
      "----------------------------------------------------------------------------------------------------\n",
      "Document 4:\n",
      "\n",
      "find which have not been already exhausted?  Let us not, I beseech you, sir,\n",
      "deceive ourselves.  Sir, we have done everything that could be done to avert\n",
      "the storm which is now coming on.  We have petitioned; we have remonstrated;\n",
      "we have supplicated; we have prostrated ourselves before the throne, and have\n",
      "implored its interposition to arrest the tyrannical hands of the ministry and\n",
      "Parliament.  Our petitions have been slighted; our remonstrances have produced\n",
      "additional violence and insult; our supplications have been disregarded;\n",
      "and we have been spurned, with contempt, from the foot of the throne!\n",
      "In vain, after these things, may we indulge the fond hope of peace and\n",
      "reconciliation.  There is no longer any room for hope.  If we wish to be free--\n",
      "if we mean to preserve inviolate those inestimable privileges for which\n",
      "we have been so long contending--if we mean not basely to abandon the noble\n",
      "struggle in which we have been so long engaged, and which we have pledged\n"
     ]
    }
   ],
   "source": [
    "from langchain.retrievers.document_compressors import EmbeddingsFilter\n",
    "\n",
    "embeddings_filter = EmbeddingsFilter(embeddings=GeminiEmbeddings(), similarity_threshold=0.5)\n",
    "compression_retriever = ContextualCompressionRetriever(base_compressor=embeddings_filter, base_retriever=retriever)\n",
    "\n",
    "compressed_docs = compression_retriever.get_relevant_documents(\"How important were the minorities in the fight for independence?\")\n",
    "pretty_print_docs(compressed_docs)"
   ]
  },
  {
   "cell_type": "markdown",
   "metadata": {
    "cellUniqueIdByVincent": "dd9fc"
   },
   "source": [
    "# Pipelines"
   ]
  },
  {
   "cell_type": "code",
   "execution_count": 64,
   "metadata": {
    "cellUniqueIdByVincent": "5d482"
   },
   "outputs": [],
   "source": [
    "from langchain.document_transformers import EmbeddingsRedundantFilter\n",
    "from langchain.text_splitter import CharacterTextSplitter\n",
    "from langchain.retrievers.document_compressors import DocumentCompressorPipeline\n",
    "splitter = CharacterTextSplitter(chunk_size=500, chunk_overlap=128, separator = \".\")\n",
    "redundant_filter = EmbeddingsRedundantFilter(embeddings=GeminiEmbeddings(), similarity_threshold = 0.5)\n",
    "relevant_filter = EmbeddingsFilter(embeddings = GeminiEmbeddings(), min_similarity = 0.5)\n",
    "compressor_pipeline = DocumentCompressorPipeline(transformers = [splitter, redundant_filter, relevant_filter, ])"
   ]
  },
  {
   "cell_type": "code",
   "execution_count": 65,
   "metadata": {
    "cellUniqueIdByVincent": "53789"
   },
   "outputs": [
    {
     "name": "stderr",
     "output_type": "stream",
     "text": [
      "Created a chunk of size 700, which is longer than the specified 500\n",
      "Created a chunk of size 700, which is longer than the specified 500\n"
     ]
    },
    {
     "name": "stdout",
     "output_type": "stream",
     "text": [
      "Document 1:\n",
      "\n",
      "He has abdicated Government here, by declaring us out of his Protection\n",
      "and waging War against us.\n",
      "\n",
      "He has plundered our seas, ravaged our Coasts, burnt our towns,\n",
      "and destroyed the lives of our people\n"
     ]
    }
   ],
   "source": [
    "compression_retriever = ContextualCompressionRetriever(base_compressor=compressor_pipeline,\n",
    "                                                       base_retriever=retriever)\n",
    "\n",
    "compressed_docs = compression_retriever.get_relevant_documents(\"What were the grievances against the King?\")\n",
    "pretty_print_docs(compressed_docs)"
   ]
  },
  {
   "cell_type": "code",
   "execution_count": 66,
   "metadata": {
    "cellUniqueIdByVincent": "7df7e"
   },
   "outputs": [
    {
     "name": "stderr",
     "output_type": "stream",
     "text": [
      "Created a chunk of size 700, which is longer than the specified 500\n",
      "Created a chunk of size 700, which is longer than the specified 500\n"
     ]
    },
    {
     "name": "stdout",
     "output_type": "stream",
     "text": [
      "Document 1:\n",
      "\n",
      "He has abdicated Government here, by declaring us out of his Protection\n",
      "and waging War against us.\n",
      "He has plundered our seas, ravaged our Coasts, burnt our towns,\n",
      "and destroyed the lives of our people\n"
     ]
    }
   ],
   "source": [
    "pipeline_compressor = DocumentCompressorPipeline(\n",
    "    transformers=[splitter, compressor, redundant_filter, relevant_filter]\n",
    ")\n",
    "\n",
    "compression_retriever = ContextualCompressionRetriever(base_compressor=pipeline_compressor,\n",
    "                                                       base_retriever=retriever)\n",
    "\n",
    "compressed_docs = compression_retriever.get_relevant_documents(\"What were the grievances against the King?\")\n",
    "pretty_print_docs(compressed_docs)"
   ]
  },
  {
   "cell_type": "code",
   "execution_count": null,
   "metadata": {
    "cellUniqueIdByVincent": "f2ea7"
   },
   "outputs": [],
   "source": []
  }
 ],
 "metadata": {
  "kernelspec": {
   "display_name": ".venv",
   "language": "python",
   "name": "python3"
  },
  "language_info": {
   "codemirror_mode": {
    "name": "ipython",
    "version": 3
   },
   "file_extension": ".py",
   "mimetype": "text/x-python",
   "name": "python",
   "nbconvert_exporter": "python",
   "pygments_lexer": "ipython3",
   "version": "3.13.3"
  },
  "vincent": {
   "sessionId": "6465414b2b50a5d0ef66c168_2025-05-21T21-13-47-098Z"
  }
 },
 "nbformat": 4,
 "nbformat_minor": 5
}
