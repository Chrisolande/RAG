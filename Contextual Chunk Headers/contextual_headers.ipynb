{
 "cells": [
  {
   "cell_type": "code",
   "execution_count": 2,
   "metadata": {
    "cellUniqueIdByVincent": "dcf3e"
   },
   "outputs": [
    {
     "name": "stdout",
     "output_type": "stream",
     "text": [
      "All required environment variables are set.\n"
     ]
    }
   ],
   "source": [
    "import os\n",
    "import time\n",
    "import matplotlib.pyplot as plt\n",
    "from dotenv import load_dotenv\n",
    "\n",
    "load_dotenv()\n",
    "\n",
    "from embedding import GeminiEmbeddings\n",
    "from document_processor import DocumentProcessor, ContextualHeaderProcessor\n",
    "from vector_store import VectorstoreManager\n",
    "from retrieval import StandardRetriever, ContextualHeaderRetriever\n",
    "from llm_interface import get_openrouter_llm, StandardRAGChain, ContextualHeaderRAGChain\n",
    "from evaluation import RAGEvaluator\n",
    "\n",
    "# Check if environment variables are set\n",
    "required_env_vars = [\"GEMINI_API_KEY\", \"PINECONE_API_KEY\", \"OPENROUTER_API_KEY\"]\n",
    "missing_vars = [var for var in required_env_vars if not os.getenv(var)]\n",
    "\n",
    "if missing_vars:\n",
    "    print(f\"Missing environment variables: {', '.join(missing_vars)}\")\n",
    "    print(\"Please set these variables in your .env file.\")\n",
    "else:\n",
    "    print(\"All required environment variables are set.\")"
   ]
  },
  {
   "cell_type": "code",
   "execution_count": 3,
   "id": "866d9da6",
   "metadata": {
    "cellUniqueIdByVincent": "e9f37"
   },
   "outputs": [],
   "source": [
    "# Configuration\n",
    "DOCS_DIR = \"books\"  # Path to the documents directory\n",
    "CHUNK_SIZE = 2000      # Size of text chunks\n",
    "CHUNK_OVERLAP = 200    # Overlap between chunks\n",
    "REBUILD_INDEX = False   # Whether to rebuild the vector store index"
   ]
  },
  {
   "cell_type": "markdown",
   "metadata": {
    "cellUniqueIdByVincent": "ddfdc"
   },
   "source": [
    "# Initialize components"
   ]
  },
  {
   "cell_type": "code",
   "execution_count": 5,
   "metadata": {
    "cellUniqueIdByVincent": "4fd84"
   },
   "outputs": [
    {
     "name": "stdout",
     "output_type": "stream",
     "text": [
      "Initializing the embedding model ...\n",
      "Initializing the LLM ...\n",
      "Initializing the vector store\n"
     ]
    }
   ],
   "source": [
    "# Initialize the embedding model\n",
    "print(\"Initializing the embedding model ...\")\n",
    "embeddings = GeminiEmbeddings()\n",
    "\n",
    "# Initialize the LLM\n",
    "print(\"Initializing the LLM ...\")\n",
    "llm = get_openrouter_llm()\n",
    "\n",
    "print(\"Initializing the vector store\")\n",
    "vectorstore_manager = VectorstoreManager(embeddings)"
   ]
  },
  {
   "cell_type": "markdown",
   "metadata": {
    "cellUniqueIdByVincent": "c23cc"
   },
   "source": [
    "# Process Documents and Create vector store"
   ]
  },
  {
   "cell_type": "code",
   "execution_count": null,
   "metadata": {
    "cellUniqueIdByVincent": "98e14"
   },
   "outputs": [],
   "source": [
    "if REBUILD_INDEX:\n",
    "    print(\"Rebuilding index from documents ...\")\n",
    "    doc_processor = DocumentProcessor(DOCS_DIR,\n",
    "                                      chunk_size=CHUNK_SIZE,\n",
    "                                      chunk_overlap=CHUNK_OVERLAP)\n",
    "    standard_docs = doc_processor.process_documents()\n",
    "    print(f\"Processed {len(standard_docs)} document chunks for standard RAG\")\n",
    "\n",
    "    # Display a sample document chunk\n",
    "    if standard_docs:\n",
    "        print(\"\\nSample standard document chunk:\")\n",
    "        print(f\"Source: {standard_docs[0].metadata.get(\"source\", \"unknown\")}\")\n",
    "        print(f\"Content (first 300 chars): {standard_docs[0].page_content[:300]}...\")\n",
    "\n",
    "    # Contextual Header document processing\n",
    "    contextual_doc_processor = DocumentProcessor(\n",
    "        llm = LLM,\n",
    "        chunk_size = CHUNK_SIZE,\n",
    "        chunk_overlap = CHUNK_OVERLAP,\n",
    "        docs_dir = DOCS_DIR\n",
    "    )\n",
    "    contextual_docs = contextual_doc_processor.process_documents()\n",
    "    print(f\"Processed {len(contextual_docs)} document chunks for contextual RAG\")\n",
    "\n",
    "    # Display a sample contextual document chunk\n",
    "    if contextual_docs:\n",
    "        print(\"\\nSample contextual document chunk:\")\n",
    "        print(f\"Source: {contextual_docs[0].metadata.get(\"source\", \"unknown\")}\")\n",
    "        print(f\"Content (first 300 chars): {contextual_docs[0].page_content[:300]}...\")\n",
    "\n",
    "    # Add documents to the vector store\n",
    "    # Clear any existing vector store\n",
    "    print(\"Clearing any existing vector store\")\n",
    "    vectorstore_manager.clear_all()\n",
    "\n",
    "    # Add documents to vector store\n",
    "    print(\"Adding documents to standard RAG vector store...\")\n",
    "    vectorstore_manager.add_documents(standard_docs)\n",
    "    # Add contextual documents to vector store\n",
    "    print(\"Adding documents to contextual RAG vector store...\")\n",
    "    vectorstore_manager.add_documents(contextual_docs)\n",
    "\n",
    "    "
   ]
  },
  {
   "cell_type": "code",
   "execution_count": null,
   "metadata": {
    "cellUniqueIdByVincent": "19102"
   },
   "outputs": [
    {
     "data": {
      "text/plain": [
       "1368000"
      ]
     },
     "execution_count": 2,
     "metadata": {},
     "output_type": "execute_result"
    }
   ],
   "source": []
  },
  {
   "cell_type": "code",
   "execution_count": null,
   "metadata": {
    "cellUniqueIdByVincent": "00737"
   },
   "outputs": [],
   "source": []
  },
  {
   "cell_type": "code",
   "execution_count": null,
   "metadata": {
    "cellUniqueIdByVincent": "1e98a"
   },
   "outputs": [],
   "source": []
  }
 ],
 "metadata": {
  "kernelspec": {
   "display_name": ".venv",
   "language": "python",
   "name": "python3"
  },
  "language_info": {
   "codemirror_mode": {
    "name": "ipython",
    "version": 3
   },
   "file_extension": ".py",
   "mimetype": "text/x-python",
   "name": "python",
   "nbconvert_exporter": "python",
   "pygments_lexer": "ipython3",
   "version": "3.13.3"
  },
  "vincent": {
   "sessionId": "05dd7bc0e84d6773754e6673_2025-05-20T18-15-25-922Z"
  }
 },
 "nbformat": 4,
 "nbformat_minor": 5
}
