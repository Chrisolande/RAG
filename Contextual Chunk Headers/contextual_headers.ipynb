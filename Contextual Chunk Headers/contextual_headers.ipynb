{
 "cells": [
  {
   "cell_type": "code",
   "execution_count": 1,
   "metadata": {
    "cellUniqueIdByVincent": "dcf3e"
   },
   "outputs": [
    {
     "name": "stdout",
     "output_type": "stream",
     "text": [
      "All required environment variables are set.\n"
     ]
    }
   ],
   "source": [
    "import os\n",
    "import time\n",
    "import matplotlib.pyplot as plt\n",
    "from dotenv import load_dotenv\n",
    "\n",
    "load_dotenv()\n",
    "\n",
    "from embedding import GeminiEmbeddings\n",
    "from document_processor import DocumentProcessor, ContextualHeaderProcessor\n",
    "from vector_store import VectorstoreManager\n",
    "from retrieval import StandardRetriever, ContextualHeaderRetriever\n",
    "from llm_interface import get_openrouter_llm, StandardRAGChain, ContextualHeaderRAGChain\n",
    "from evaluation import RAGEvaluator\n",
    "\n",
    "# Check if environment variables are set\n",
    "required_env_vars = [\"GEMINI_API_KEY\", \"PINECONE_API_KEY\", \"OPENROUTER_API_KEY\"]\n",
    "missing_vars = [var for var in required_env_vars if not os.getenv(var)]\n",
    "\n",
    "if missing_vars:\n",
    "    print(f\"Missing environment variables: {', '.join(missing_vars)}\")\n",
    "    print(\"Please set these variables in your .env file.\")\n",
    "else:\n",
    "    print(\"All required environment variables are set.\")"
   ]
  },
  {
   "cell_type": "code",
   "execution_count": 2,
   "id": "866d9da6",
   "metadata": {
    "cellUniqueIdByVincent": "e9f37"
   },
   "outputs": [],
   "source": [
    "# Configuration\n",
    "DOCS_DIR = \"books\"  # Path to the documents directory\n",
    "CHUNK_SIZE = 2000      # Size of text chunks\n",
    "CHUNK_OVERLAP = 200    # Overlap between chunks\n",
    "REBUILD_INDEX = False   # Whether to rebuild the vector store index"
   ]
  },
  {
   "cell_type": "markdown",
   "metadata": {
    "cellUniqueIdByVincent": "ddfdc"
   },
   "source": [
    "# Initialize components"
   ]
  },
  {
   "cell_type": "code",
   "execution_count": 3,
   "metadata": {
    "cellUniqueIdByVincent": "4fd84"
   },
   "outputs": [
    {
     "name": "stdout",
     "output_type": "stream",
     "text": [
      "Initializing the embedding model ...\n",
      "Initializing the LLM ...\n",
      "Initializing the vector store\n"
     ]
    }
   ],
   "source": [
    "# Initialize the embedding model\n",
    "print(\"Initializing the embedding model ...\")\n",
    "embeddings = GeminiEmbeddings()\n",
    "\n",
    "# Initialize the LLM\n",
    "print(\"Initializing the LLM ...\")\n",
    "llm = get_openrouter_llm()\n",
    "\n",
    "print(\"Initializing the vector store\")\n",
    "vectorstore_manager = VectorstoreManager(embeddings)"
   ]
  },
  {
   "cell_type": "markdown",
   "metadata": {
    "cellUniqueIdByVincent": "c23cc"
   },
   "source": [
    "# Process Documents and Create vector store"
   ]
  },
  {
   "cell_type": "code",
   "execution_count": 4,
   "metadata": {
    "cellUniqueIdByVincent": "98e14"
   },
   "outputs": [],
   "source": [
    "if REBUILD_INDEX:\n",
    "    print(\"Rebuilding index from documents ...\")\n",
    "    doc_processor = DocumentProcessor(DOCS_DIR,\n",
    "                                      chunk_size=CHUNK_SIZE,\n",
    "                                      chunk_overlap=CHUNK_OVERLAP)\n",
    "    standard_docs = doc_processor.process_documents()\n",
    "    print(f\"Processed {len(standard_docs)} document chunks for standard RAG\")\n",
    "\n",
    "    # Display a sample document chunk\n",
    "    if standard_docs:\n",
    "        print(\"\\nSample standard document chunk:\")\n",
    "        print(f\"Source: {standard_docs[0].metadata.get(\"source\", \"unknown\")}\")\n",
    "        print(f\"Content (first 300 chars): {standard_docs[0].page_content[:300]}...\")\n",
    "\n",
    "    # Contextual Header document processing\n",
    "    contextual_doc_processor = DocumentProcessor(\n",
    "        llm = LLM,\n",
    "        chunk_size = CHUNK_SIZE,\n",
    "        chunk_overlap = CHUNK_OVERLAP,\n",
    "        docs_dir = DOCS_DIR\n",
    "    )\n",
    "    contextual_docs = contextual_doc_processor.process_documents()\n",
    "    print(f\"Processed {len(contextual_docs)} document chunks for contextual RAG\")\n",
    "\n",
    "    # Display a sample contextual document chunk\n",
    "    if contextual_docs:\n",
    "        print(\"\\nSample contextual document chunk:\")\n",
    "        print(f\"Source: {contextual_docs[0].metadata.get(\"source\", \"unknown\")}\")\n",
    "        print(f\"Content (first 300 chars): {contextual_docs[0].page_content[:300]}...\")\n",
    "\n",
    "    # Add documents to the vector store\n",
    "    # Clear any existing vector store\n",
    "    print(\"Clearing any existing vector store\")\n",
    "    vectorstore_manager.clear_all()\n",
    "\n",
    "    # Add documents to vector store\n",
    "    print(\"Adding documents to standard RAG vector store...\")\n",
    "    vectorstore_manager.add_documents(standard_docs)\n",
    "    # Add contextual documents to vector store\n",
    "    print(\"Adding documents to contextual RAG vector store...\")\n",
    "    vectorstore_manager.add_documents(contextual_docs)\n",
    "\n",
    "    "
   ]
  },
  {
   "cell_type": "markdown",
   "metadata": {
    "cellUniqueIdByVincent": "9a3c0"
   },
   "source": [
    "# Initialize Retrievers and RAG Chains"
   ]
  },
  {
   "cell_type": "code",
   "execution_count": 5,
   "metadata": {
    "cellUniqueIdByVincent": "19102"
   },
   "outputs": [],
   "source": [
    "# Get vector stores\n",
    "standard_vector_store = vectorstore_manager.get_standard_vector_store()\n",
    "contextual_vector_store = vectorstore_manager.get_contextual_vector_store()\n",
    "\n",
    "# Initialize retrievers\n",
    "standard_retriever = StandardRetriever(standard_vector_store)\n",
    "contextual_retriever = ContextualHeaderRetriever(contextual_vector_store)\n",
    "\n",
    "# Initialize RAG chains\n",
    "standard_rag = StandardRAGChain(llm, standard_retriever)\n",
    "contextual_rag = ContextualHeaderRAGChain(llm, contextual_retriever)\n",
    "\n",
    "# Initialize evaluator\n",
    "evaluator = RAGEvaluator(embeddings)"
   ]
  },
  {
   "cell_type": "markdown",
   "metadata": {
    "cellUniqueIdByVincent": "e0294"
   },
   "source": [
    "# Query both RAGs"
   ]
  },
  {
   "cell_type": "code",
   "execution_count": 6,
   "metadata": {
    "cellUniqueIdByVincent": "00737"
   },
   "outputs": [],
   "source": [
    "def test_query(query):\n",
    "    print(f\"\\nquery: {query}\")\n",
    "    print(\"\\n Processing...\")\n",
    "\n",
    "    # Measure standard RAG performance\n",
    "    print(\"Running standard RAG...\")\n",
    "    standard_start = time.time()\n",
    "    standard_response = standard_rag.invoke(query)\n",
    "    standard_time = time.time() - standard_start\n",
    "\n",
    "    # Measure contextual header RAG performance\n",
    "    print(\"Running contextual header RAG...\")\n",
    "    contextual_start = time.time()\n",
    "    contextual_response = contextual_rag.invoke(query)\n",
    "    contextual_time = time.time() - contextual_start\n",
    "\n",
    "    # Print results\n",
    "    print(\"\\n=== Standard RAG ===\")\n",
    "    print(f\"Time: {standard_time:.2f}s\")\n",
    "    print(f\"Response: {standard_response}\")\n",
    "    \n",
    "    print(\"\\n=== Contextual Header RAG ===\")\n",
    "    print(f\"Time: {contextual_time:.2f}s\")\n",
    "    print(f\"Response: {contextual_response}\")\n",
    "    \n",
    "    # Return the responses and times for further analysis\n",
    "    return {\n",
    "        \"standard\": {\"response\": standard_response, \"time\": standard_time},\n",
    "        \"contextual\": {\"response\": contextual_response, \"time\": contextual_time}\n",
    "    }"
   ]
  },
  {
   "cell_type": "code",
   "execution_count": 7,
   "metadata": {
    "cellUniqueIdByVincent": "1e98a"
   },
   "outputs": [
    {
     "name": "stdout",
     "output_type": "stream",
     "text": [
      "\n",
      "query: What are the key principles in the Declaration of Independence?\n",
      "\n",
      " Processing...\n",
      "Running standard RAG...\n",
      "Running contextual header RAG...\n",
      "\n",
      "=== Standard RAG ===\n",
      "Time: 76.28s\n",
      "Response: The key principles in the Declaration of Independence are:\n",
      "\n",
      "1. **All men are created equal**: The document asserts that all individuals are born with inherent rights and dignity, and are equal in their inherent worth and value.\n",
      "2. **Life, Liberty, and the pursuit of Happiness**: The document outlines the fundamental rights that governments are established to protect, including the right to life, liberty, and the pursuit of happiness.\n",
      "3. **Governments derive their power from the consent of the governed**: The document argues that governments are instituted to represent the will of the people, and that the people have the right to alter or abolish a government that becomes destructive of these rights.\n",
      "4. **The right to alter or abolish a government**: The document asserts that if a government becomes tyrannical or abusive, the people have the right to throw it off and establish a new government that is more just and equitable.\n",
      "5. **The importance of individual rights and freedoms**: The document emphasizes the importance of individual rights and freedoms, such as freedom of speech, assembly, and the press.\n",
      "6. **The principle of separation of powers**: The document argues that governments should be divided into separate branches, with power not being concentrated in one person or institution.\n",
      "7. **The concept of natural rights**: The document asserts that certain rights are inherent and inalienable, such as life, liberty, and the pursuit of happiness.\n",
      "8. **The importance of prudence**: The document advises that governments should be cautious in their actions, as long-term abuses and usurpations can lead to suffering and tyranny.\n",
      "\n",
      "These principles are central to the Declaration of Independence and have had a profound impact on the development of democracy and human rights around the world.\n",
      "\n",
      "=== Contextual Header RAG ===\n",
      "Time: 12.30s\n",
      "Response: The key principles in the Declaration of Independence are:\n",
      "\n",
      "1. **All men are created equal**: This is stated in the first paragraph, \"We hold these truths to be self-evident, that all men are created equal, that they are endowed by their Creator with certain unalienable Rights, that among these are Life, Liberty, and the pursuit of Happiness.\"\n",
      "2. **Life, Liberty, and the pursuit of Happiness**: These three unalienable rights are listed as fundamental to all men, and are essential to the pursuit of happiness.\n",
      "3. **Governments derive their powers from the consent of the governed**: This principle is stated in the second paragraph, \"That among these are Life, Liberty, and the pursuit of Happiness. That to secure these rights, Governments are instituted among Men, deriving their just powers from the consent of the governed, That whenever any Form of Government becomes destructive of these ends, it is the Right of the People to alter or to abolish it, and to institute new Government, laying its foundation on such principles and organizing its powers in such form, as to them shall seem most likely to effect their Safety and Happiness.\"\n",
      "4. **Right to alter or abolish government**: This principle is stated in the third paragraph, \"That to secure these rights, Governments are instituted among Men, deriving their just powers from the consent of the governed, That whenever any Form of Government becomes destructive of these ends, it is the Right of the People to alter or to abolish it, and to institute new Government, laying its foundation on such principles and organizing its powers in such form, as to them shall seem most likely to effect their Safety and Happiness.\"\n",
      "5. **Prudence dictates that governments should not be changed lightly**: This principle is mentioned in the fourth paragraph, \"Prudence, indeed, will dictate that Governments long established should not be changed for light and transient causes; and accordingly all experience hath shown, that mankind are more disposed to suffer, while evils are sufferable, than to right themselves by abolishing the forms to which they are accustomed.\"\n",
      "6. **Tyranny is a threat to individual rights and freedoms**: This principle is stated in the fifth paragraph, \"But when a long train of abuses and usurpations, pursuing invariably the same Object evinces a design to reduce them under absolute Despotism, it is their right, it is their duty, to throw off such Government, and to provide new Guards for their future security.\"\n",
      "\n",
      "These principles are fundamental to the Declaration of Independence and are essential to the document's purpose of establishing the rights and freedoms of the American colonies.\n"
     ]
    },
    {
     "data": {
      "text/plain": [
       "{'standard': {'response': 'The key principles in the Declaration of Independence are:\\n\\n1. **All men are created equal**: The document asserts that all individuals are born with inherent rights and dignity, and are equal in their inherent worth and value.\\n2. **Life, Liberty, and the pursuit of Happiness**: The document outlines the fundamental rights that governments are established to protect, including the right to life, liberty, and the pursuit of happiness.\\n3. **Governments derive their power from the consent of the governed**: The document argues that governments are instituted to represent the will of the people, and that the people have the right to alter or abolish a government that becomes destructive of these rights.\\n4. **The right to alter or abolish a government**: The document asserts that if a government becomes tyrannical or abusive, the people have the right to throw it off and establish a new government that is more just and equitable.\\n5. **The importance of individual rights and freedoms**: The document emphasizes the importance of individual rights and freedoms, such as freedom of speech, assembly, and the press.\\n6. **The principle of separation of powers**: The document argues that governments should be divided into separate branches, with power not being concentrated in one person or institution.\\n7. **The concept of natural rights**: The document asserts that certain rights are inherent and inalienable, such as life, liberty, and the pursuit of happiness.\\n8. **The importance of prudence**: The document advises that governments should be cautious in their actions, as long-term abuses and usurpations can lead to suffering and tyranny.\\n\\nThese principles are central to the Declaration of Independence and have had a profound impact on the development of democracy and human rights around the world.',\n",
       "  'time': 76.28334975242615},\n",
       " 'contextual': {'response': 'The key principles in the Declaration of Independence are:\\n\\n1. **All men are created equal**: This is stated in the first paragraph, \"We hold these truths to be self-evident, that all men are created equal, that they are endowed by their Creator with certain unalienable Rights, that among these are Life, Liberty, and the pursuit of Happiness.\"\\n2. **Life, Liberty, and the pursuit of Happiness**: These three unalienable rights are listed as fundamental to all men, and are essential to the pursuit of happiness.\\n3. **Governments derive their powers from the consent of the governed**: This principle is stated in the second paragraph, \"That among these are Life, Liberty, and the pursuit of Happiness. That to secure these rights, Governments are instituted among Men, deriving their just powers from the consent of the governed, That whenever any Form of Government becomes destructive of these ends, it is the Right of the People to alter or to abolish it, and to institute new Government, laying its foundation on such principles and organizing its powers in such form, as to them shall seem most likely to effect their Safety and Happiness.\"\\n4. **Right to alter or abolish government**: This principle is stated in the third paragraph, \"That to secure these rights, Governments are instituted among Men, deriving their just powers from the consent of the governed, That whenever any Form of Government becomes destructive of these ends, it is the Right of the People to alter or to abolish it, and to institute new Government, laying its foundation on such principles and organizing its powers in such form, as to them shall seem most likely to effect their Safety and Happiness.\"\\n5. **Prudence dictates that governments should not be changed lightly**: This principle is mentioned in the fourth paragraph, \"Prudence, indeed, will dictate that Governments long established should not be changed for light and transient causes; and accordingly all experience hath shown, that mankind are more disposed to suffer, while evils are sufferable, than to right themselves by abolishing the forms to which they are accustomed.\"\\n6. **Tyranny is a threat to individual rights and freedoms**: This principle is stated in the fifth paragraph, \"But when a long train of abuses and usurpations, pursuing invariably the same Object evinces a design to reduce them under absolute Despotism, it is their right, it is their duty, to throw off such Government, and to provide new Guards for their future security.\"\\n\\nThese principles are fundamental to the Declaration of Independence and are essential to the document\\'s purpose of establishing the rights and freedoms of the American colonies.',\n",
       "  'time': 12.295605182647705}}"
      ]
     },
     "execution_count": 7,
     "metadata": {},
     "output_type": "execute_result"
    }
   ],
   "source": [
    "import time\n",
    "test_query(\"What are the key principles in the Declaration of Independence?\")"
   ]
  },
  {
   "cell_type": "code",
   "execution_count": null,
   "metadata": {
    "cellUniqueIdByVincent": "c0e76"
   },
   "outputs": [],
   "source": []
  }
 ],
 "metadata": {
  "kernelspec": {
   "display_name": ".venv",
   "language": "python",
   "name": "python3"
  },
  "language_info": {
   "codemirror_mode": {
    "name": "ipython",
    "version": 3
   },
   "file_extension": ".py",
   "mimetype": "text/x-python",
   "name": "python",
   "nbconvert_exporter": "python",
   "pygments_lexer": "ipython3",
   "version": "3.13.3"
  },
  "vincent": {
   "sessionId": "05dd7bc0e84d6773754e6673_2025-05-20T18-15-25-922Z"
  }
 },
 "nbformat": 4,
 "nbformat_minor": 5
}
