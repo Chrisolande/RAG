{
 "cells": [
  {
   "cell_type": "code",
   "execution_count": 1,
   "metadata": {
    "cellUniqueIdByVincent": "dcf3e"
   },
   "outputs": [
    {
     "name": "stdout",
     "output_type": "stream",
     "text": [
      "All required environment variables are set.\n"
     ]
    }
   ],
   "source": [
    "import os\n",
    "import time\n",
    "import matplotlib.pyplot as plt\n",
    "from dotenv import load_dotenv\n",
    "\n",
    "load_dotenv()\n",
    "\n",
    "from embedding import GeminiEmbeddings\n",
    "from document_processor import DocumentProcessor, ContextualHeaderProcessor\n",
    "from vector_store import VectorstoreManager\n",
    "from retrieval import StandardRetriever, ContextualHeaderRetriever\n",
    "from llm_interface import get_openrouter_llm, StandardRAGChain, ContextualHeaderRAGChain\n",
    "from evaluation import RAGEvaluator\n",
    "\n",
    "# Check if environment variables are set\n",
    "required_env_vars = [\"GEMINI_API_KEY\", \"PINECONE_API_KEY\", \"OPENROUTER_API_KEY\"]\n",
    "missing_vars = [var for var in required_env_vars if not os.getenv(var)]\n",
    "\n",
    "if missing_vars:\n",
    "    print(f\"Missing environment variables: {', '.join(missing_vars)}\")\n",
    "    print(\"Please set these variables in your .env file.\")\n",
    "else:\n",
    "    print(\"All required environment variables are set.\")"
   ]
  },
  {
   "cell_type": "code",
   "execution_count": 2,
   "id": "866d9da6",
   "metadata": {
    "cellUniqueIdByVincent": "e9f37"
   },
   "outputs": [],
   "source": [
    "# Configuration\n",
    "DOCS_DIR = \"books\"  # Path to the documents directory\n",
    "CHUNK_SIZE = 2000      # Size of text chunks\n",
    "CHUNK_OVERLAP = 200    # Overlap between chunks\n",
    "REBUILD_INDEX = False   # Whether to rebuild the vector store index"
   ]
  },
  {
   "cell_type": "markdown",
   "metadata": {
    "cellUniqueIdByVincent": "ddfdc"
   },
   "source": [
    "# Initialize components"
   ]
  },
  {
   "cell_type": "code",
   "execution_count": 3,
   "metadata": {
    "cellUniqueIdByVincent": "4fd84"
   },
   "outputs": [
    {
     "name": "stdout",
     "output_type": "stream",
     "text": [
      "Initializing the embedding model ...\n",
      "Initializing the LLM ...\n",
      "Initializing the vector store\n"
     ]
    }
   ],
   "source": [
    "# Initialize the embedding model\n",
    "print(\"Initializing the embedding model ...\")\n",
    "embeddings = GeminiEmbeddings()\n",
    "\n",
    "# Initialize the LLM\n",
    "print(\"Initializing the LLM ...\")\n",
    "llm = get_openrouter_llm()\n",
    "\n",
    "print(\"Initializing the vector store\")\n",
    "vectorstore_manager = VectorstoreManager(embeddings)"
   ]
  },
  {
   "cell_type": "markdown",
   "metadata": {
    "cellUniqueIdByVincent": "c23cc"
   },
   "source": [
    "# Process Documents and Create vector store"
   ]
  },
  {
   "cell_type": "code",
   "execution_count": 4,
   "metadata": {
    "cellUniqueIdByVincent": "98e14"
   },
   "outputs": [],
   "source": [
    "if REBUILD_INDEX:\n",
    "    print(\"Rebuilding index from documents ...\")\n",
    "    doc_processor = DocumentProcessor(DOCS_DIR,\n",
    "                                      chunk_size=CHUNK_SIZE,\n",
    "                                      chunk_overlap=CHUNK_OVERLAP)\n",
    "    standard_docs = doc_processor.process_documents()\n",
    "    print(f\"Processed {len(standard_docs)} document chunks for standard RAG\")\n",
    "\n",
    "    # Display a sample document chunk\n",
    "    if standard_docs:\n",
    "        print(\"\\nSample standard document chunk:\")\n",
    "        print(f\"Source: {standard_docs[0].metadata.get(\"source\", \"unknown\")}\")\n",
    "        print(f\"Content (first 300 chars): {standard_docs[0].page_content[:300]}...\")\n",
    "\n",
    "    # Contextual Header document processing\n",
    "    contextual_doc_processor = DocumentProcessor(\n",
    "        llm = LLM,\n",
    "        chunk_size = CHUNK_SIZE,\n",
    "        chunk_overlap = CHUNK_OVERLAP,\n",
    "        docs_dir = DOCS_DIR\n",
    "    )\n",
    "    contextual_docs = contextual_doc_processor.process_documents()\n",
    "    print(f\"Processed {len(contextual_docs)} document chunks for contextual RAG\")\n",
    "\n",
    "    # Display a sample contextual document chunk\n",
    "    if contextual_docs:\n",
    "        print(\"\\nSample contextual document chunk:\")\n",
    "        print(f\"Source: {contextual_docs[0].metadata.get(\"source\", \"unknown\")}\")\n",
    "        print(f\"Content (first 300 chars): {contextual_docs[0].page_content[:300]}...\")\n",
    "\n",
    "    # Add documents to the vector store\n",
    "    # Clear any existing vector store\n",
    "    print(\"Clearing any existing vector store\")\n",
    "    vectorstore_manager.clear_all()\n",
    "\n",
    "    # Add documents to vector store\n",
    "    print(\"Adding documents to standard RAG vector store...\")\n",
    "    vectorstore_manager.add_documents(standard_docs)\n",
    "    # Add contextual documents to vector store\n",
    "    print(\"Adding documents to contextual RAG vector store...\")\n",
    "    vectorstore_manager.add_documents(contextual_docs)\n",
    "\n",
    "    "
   ]
  },
  {
   "cell_type": "markdown",
   "metadata": {
    "cellUniqueIdByVincent": "9a3c0"
   },
   "source": [
    "# Initialize Retrievers and RAG Chains"
   ]
  },
  {
   "cell_type": "code",
   "execution_count": 5,
   "metadata": {
    "cellUniqueIdByVincent": "19102"
   },
   "outputs": [],
   "source": [
    "# Get vector stores\n",
    "standard_vector_store = vectorstore_manager.get_standard_vector_store()\n",
    "contextual_vector_store = vectorstore_manager.get_contextual_vector_store()\n",
    "\n",
    "# Initialize retrievers\n",
    "standard_retriever = StandardRetriever(standard_vector_store)\n",
    "contextual_retriever = ContextualHeaderRetriever(contextual_vector_store)\n",
    "\n",
    "# Initialize RAG chains\n",
    "standard_rag = StandardRAGChain(llm, standard_retriever)\n",
    "contextual_rag = ContextualHeaderRAGChain(llm, contextual_retriever)\n",
    "\n",
    "# Initialize evaluator\n",
    "evaluator = RAGEvaluator(embeddings)"
   ]
  },
  {
   "cell_type": "markdown",
   "metadata": {
    "cellUniqueIdByVincent": "e0294"
   },
   "source": [
    "# Query both RAGs"
   ]
  },
  {
   "cell_type": "code",
   "execution_count": 6,
   "metadata": {
    "cellUniqueIdByVincent": "00737"
   },
   "outputs": [],
   "source": [
    "def test_query(query):\n",
    "    print(f\"\\nquery: {query}\")\n",
    "    print(\"\\n Processing...\")\n",
    "\n",
    "    # Measure standard RAG performance\n",
    "    print(\"Running standard RAG...\")\n",
    "    standard_start = time.time()\n",
    "    standard_response = standard_rag.invoke(query)\n",
    "    standard_time = time.time() - standard_start\n",
    "\n",
    "    # Measure contextual header RAG performance\n",
    "    print(\"Running contextual header RAG...\")\n",
    "    contextual_start = time.time()\n",
    "    contextual_response = contextual_rag.invoke(query)\n",
    "    contextual_time = time.time() - contextual_start\n",
    "\n",
    "    # Print results\n",
    "    print(\"\\n=== Standard RAG ===\")\n",
    "    print(f\"Time: {standard_time:.2f}s\")\n",
    "    print(f\"Response: {standard_response}\")\n",
    "    \n",
    "    print(\"\\n=== Contextual Header RAG ===\")\n",
    "    print(f\"Time: {contextual_time:.2f}s\")\n",
    "    print(f\"Response: {contextual_response}\")\n",
    "    \n",
    "    # Return the responses and times for further analysis\n",
    "    return {\n",
    "        \"standard\": {\"response\": standard_response, \"time\": standard_time},\n",
    "        \"contextual\": {\"response\": contextual_response, \"time\": contextual_time}\n",
    "    }"
   ]
  },
  {
   "cell_type": "code",
   "execution_count": 7,
   "metadata": {
    "cellUniqueIdByVincent": "1e98a"
   },
   "outputs": [
    {
     "name": "stdout",
     "output_type": "stream",
     "text": [
      "\n",
      "query: What are the key principles in the Declaration of Independence?\n",
      "\n",
      " Processing...\n",
      "Running standard RAG...\n",
      "Running contextual header RAG...\n",
      "\n",
      "=== Standard RAG ===\n",
      "Time: 10.56s\n",
      "Response: The key principles in the Declaration of Independence are:\n",
      "\n",
      "1. **All men are created equal**: The document asserts that all individuals are born with inherent rights and dignity, and are equal in the eyes of the law.\n",
      "2. **Life, Liberty, and the pursuit of Happiness**: The document outlines the fundamental rights that governments are instituted to protect, including the right to life, liberty, and the pursuit of happiness.\n",
      "3. **Governments derive their power from the consent of the governed**: The document states that governments are derived from the people, and that the people have the right to alter or abolish them if they become destructive of these rights.\n",
      "4. **The right to alter or abolish a government is a fundamental right**: The document asserts that the people have the right to change their government if it becomes tyrannical or abusive.\n",
      "5. **The purpose of government is to protect the rights of its citizens**: The document emphasizes that the primary purpose of government is to protect the rights and well-being of its citizens.\n",
      "6. **The people have the right to self-governance**: The document asserts that the people have the right to govern themselves and make their own decisions.\n",
      "7. **The British government's actions are unjust and oppressive**: The document criticizes the British government for its treatment of the colonies, including its refusal to grant them self-governance and its imposition of taxes without consent.\n",
      "\n",
      "These principles are central to the Declaration of Independence and have had a profound impact on American history and the development of democratic principles around the world.\n",
      "\n",
      "=== Contextual Header RAG ===\n",
      "Time: 3.03s\n",
      "Response: The key principles in the Declaration of Independence are:\n",
      "\n",
      "1. **All men are created equal**: This is stated in the first paragraph, emphasizing that all individuals are born with certain unalienable rights, including life, liberty, and the pursuit of happiness.\n",
      "2. **Governments derive their power from the consent of the governed**: This principle is stated in the second paragraph, indicating that governments are instituted to represent the will of the people and derive their power from the consent of the governed.\n",
      "3. **Governments can be changed for the better or worse**: The document emphasizes that governments can be changed for good or ill, and that the people have the right to alter or abolish a government that becomes destructive of their rights.\n",
      "4. **The people have the right to alter or abolish a government that becomes tyrannical**: This principle is stated in the third paragraph, indicating that the people have the right to throw off a government that becomes oppressive and abusive.\n",
      "5. **The people have the right to provide new guards for their future security**: This principle is stated in the fourth paragraph, emphasizing the importance of the people's right to defend themselves and their rights.\n",
      "\n",
      "These principles are fundamental to the Declaration of Independence and are still relevant today as a cornerstone of American democracy.\n"
     ]
    },
    {
     "data": {
      "text/plain": [
       "{'standard': {'response': \"The key principles in the Declaration of Independence are:\\n\\n1. **All men are created equal**: The document asserts that all individuals are born with inherent rights and dignity, and are equal in the eyes of the law.\\n2. **Life, Liberty, and the pursuit of Happiness**: The document outlines the fundamental rights that governments are instituted to protect, including the right to life, liberty, and the pursuit of happiness.\\n3. **Governments derive their power from the consent of the governed**: The document states that governments are derived from the people, and that the people have the right to alter or abolish them if they become destructive of these rights.\\n4. **The right to alter or abolish a government is a fundamental right**: The document asserts that the people have the right to change their government if it becomes tyrannical or abusive.\\n5. **The purpose of government is to protect the rights of its citizens**: The document emphasizes that the primary purpose of government is to protect the rights and well-being of its citizens.\\n6. **The people have the right to self-governance**: The document asserts that the people have the right to govern themselves and make their own decisions.\\n7. **The British government's actions are unjust and oppressive**: The document criticizes the British government for its treatment of the colonies, including its refusal to grant them self-governance and its imposition of taxes without consent.\\n\\nThese principles are central to the Declaration of Independence and have had a profound impact on American history and the development of democratic principles around the world.\",\n",
       "  'time': 10.557170152664185},\n",
       " 'contextual': {'response': \"The key principles in the Declaration of Independence are:\\n\\n1. **All men are created equal**: This is stated in the first paragraph, emphasizing that all individuals are born with certain unalienable rights, including life, liberty, and the pursuit of happiness.\\n2. **Governments derive their power from the consent of the governed**: This principle is stated in the second paragraph, indicating that governments are instituted to represent the will of the people and derive their power from the consent of the governed.\\n3. **Governments can be changed for the better or worse**: The document emphasizes that governments can be changed for good or ill, and that the people have the right to alter or abolish a government that becomes destructive of their rights.\\n4. **The people have the right to alter or abolish a government that becomes tyrannical**: This principle is stated in the third paragraph, indicating that the people have the right to throw off a government that becomes oppressive and abusive.\\n5. **The people have the right to provide new guards for their future security**: This principle is stated in the fourth paragraph, emphasizing the importance of the people's right to defend themselves and their rights.\\n\\nThese principles are fundamental to the Declaration of Independence and are still relevant today as a cornerstone of American democracy.\",\n",
       "  'time': 3.0339980125427246}}"
      ]
     },
     "execution_count": 7,
     "metadata": {},
     "output_type": "execute_result"
    }
   ],
   "source": [
    "import time\n",
    "test_query(\"What are the key principles in the Declaration of Independence?\")"
   ]
  },
  {
   "cell_type": "code",
   "execution_count": 8,
   "metadata": {
    "cellUniqueIdByVincent": "c0e76"
   },
   "outputs": [
    {
     "name": "stdout",
     "output_type": "stream",
     "text": [
      "\n",
      "query: Who wrote the Declaration of Independence?\n",
      "\n",
      " Processing...\n",
      "Running standard RAG...\n",
      "Running contextual header RAG...\n",
      "\n",
      "=== Standard RAG ===\n",
      "Time: 1.78s\n",
      "Response: The Declaration of Independence was written by Thomas Jefferson.\n",
      "\n",
      "=== Contextual Header RAG ===\n",
      "Time: 5.47s\n",
      "Response: Based on the context provided, it appears that the Declaration of Independence was written by a group of individuals, likely representatives of the 13 American colonies, who were dissatisfied with British rule and decided to declare their independence.\n",
      "\n",
      "The text does not explicitly mention who wrote the Declaration of Independence, but it is clear that it was a collective effort by the representatives of the colonies. The language used, such as \"we, therefore, the Representatives of the United States of America,\" suggests a collaborative effort.\n",
      "\n",
      "If you're looking for information on who wrote the Declaration of Independence, I would suggest checking the following sources:\n",
      "\n",
      "* The official website of the National Archives and Records Administration (NARA) in the United States, which provides information on the history of the Declaration of Independence and the individuals who played a role in its creation.\n",
      "* The Library of Congress, which has a vast collection of historical documents, including the Declaration of Independence.\n",
      "* The American Historical Association, which has a wealth of information on the history of the Declaration of Independence and the individuals who contributed to its creation.\n",
      "\n",
      "It's worth noting that the Declaration of Independence was written in 1776, and the individuals who wrote it were likely representatives of the colonies at the time. However, without more information, it's difficult to determine who specifically wrote the document.\n"
     ]
    },
    {
     "data": {
      "text/plain": [
       "{'standard': {'response': 'The Declaration of Independence was written by Thomas Jefferson.',\n",
       "  'time': 1.776414394378662},\n",
       " 'contextual': {'response': 'Based on the context provided, it appears that the Declaration of Independence was written by a group of individuals, likely representatives of the 13 American colonies, who were dissatisfied with British rule and decided to declare their independence.\\n\\nThe text does not explicitly mention who wrote the Declaration of Independence, but it is clear that it was a collective effort by the representatives of the colonies. The language used, such as \"we, therefore, the Representatives of the United States of America,\" suggests a collaborative effort.\\n\\nIf you\\'re looking for information on who wrote the Declaration of Independence, I would suggest checking the following sources:\\n\\n* The official website of the National Archives and Records Administration (NARA) in the United States, which provides information on the history of the Declaration of Independence and the individuals who played a role in its creation.\\n* The Library of Congress, which has a vast collection of historical documents, including the Declaration of Independence.\\n* The American Historical Association, which has a wealth of information on the history of the Declaration of Independence and the individuals who contributed to its creation.\\n\\nIt\\'s worth noting that the Declaration of Independence was written in 1776, and the individuals who wrote it were likely representatives of the colonies at the time. However, without more information, it\\'s difficult to determine who specifically wrote the document.',\n",
       "  'time': 5.473015308380127}}"
      ]
     },
     "execution_count": 8,
     "metadata": {},
     "output_type": "execute_result"
    }
   ],
   "source": [
    "test_query(\"Who wrote the Declaration of Independence?\")"
   ]
  },
  {
   "cell_type": "code",
   "execution_count": 9,
   "metadata": {
    "cellUniqueIdByVincent": "303bd"
   },
   "outputs": [],
   "source": [
    "def examine_retrieved_docs(query):\n",
    "    \"\"\"Examine the documents retrieved by both approaches for a query.\"\"\"\n",
    "    print(f\"\\nQuery: {query}\")\n",
    "    \n",
    "    # Get documents from standard retriever\n",
    "    print(\"Retrieving documents from standard retriever...\")\n",
    "    standard_docs = standard_retriever.get_relevant_documents(query)\n",
    "    \n",
    "    # Get documents from contextual header retriever\n",
    "    print(\"Retrieving documents from contextual header retriever...\")\n",
    "    contextual_docs = contextual_retriever.get_relevant_documents(query)\n",
    "    \n",
    "    # Print standard retriever results\n",
    "    print(\"\\n=== Standard Retriever Results ===\")\n",
    "    print(f\"Retrieved {len(standard_docs)} documents\")\n",
    "    \n",
    "    for i, doc in enumerate(standard_docs):\n",
    "        print(f\"\\nDocument {i+1}:\")\n",
    "        print(f\"Source: {doc.metadata.get('source', 'Unknown')}\")\n",
    "        print(f\"Score: {doc.metadata.get('score', 'N/A')}\")\n",
    "        print(f\"Content (first 200 chars): {doc.page_content[:200]}...\")\n",
    "    \n",
    "    # Print contextual header retriever results\n",
    "    print(\"\\n=== Contextual Header Retriever Results ===\")\n",
    "    print(f\"Retrieved {len(contextual_docs)} documents\")\n",
    "    \n",
    "    for i, doc in enumerate(contextual_docs):\n",
    "        print(f\"\\nDocument {i+1}:\")\n",
    "        print(f\"Source: {doc.metadata.get('source', 'Unknown')}\")\n",
    "        print(f\"Score: {doc.metadata.get('score', 'N/A')}\")\n",
    "        print(f\"Header: {doc.metadata.get('header', 'No header')}\")\n",
    "        print(f\"Content (first 200 chars): {doc.page_content[:200]}...\")"
   ]
  },
  {
   "cell_type": "code",
   "execution_count": 10,
   "metadata": {
    "cellUniqueIdByVincent": "f2a5a"
   },
   "outputs": [
    {
     "name": "stdout",
     "output_type": "stream",
     "text": [
      "IPv6 has been disabled for this application. It will only use IPv4 connections.\n",
      "\n",
      "Query: What rights are mentioned in the Declaration of Independence?\n",
      "Retrieving documents from standard retriever...\n"
     ]
    },
    {
     "name": "stderr",
     "output_type": "stream",
     "text": [
      "/tmp/ipykernel_6333/3647580429.py:7: LangChainDeprecationWarning: The method `BaseRetriever.get_relevant_documents` was deprecated in langchain-core 0.1.46 and will be removed in 1.0. Use :meth:`~invoke` instead.\n",
      "  standard_docs = standard_retriever.get_relevant_documents(query)\n"
     ]
    },
    {
     "name": "stdout",
     "output_type": "stream",
     "text": [
      "Retrieving documents from contextual header retriever...\n",
      "\n",
      "=== Standard Retriever Results ===\n",
      "Retrieved 4 documents\n",
      "\n",
      "Document 1:\n",
      "Source: ../books/declaration_of_independence_of_the_united_states.txt\n",
      "Score: 0.68735373\n",
      "Content (first 200 chars): We hold these truths to be self-evident, that all men are created equal,\n",
      "that they are endowed by their Creator with certain unalienable Rights,\n",
      "that among these are Life, Liberty, and the pursuit of ...\n",
      "\n",
      "Document 2:\n",
      "Source: ../books/declaration_of_independence_of_the_united_states.txt\n",
      "Score: 0.68735373\n",
      "Content (first 200 chars): We hold these truths to be self-evident, that all men are created equal,\n",
      "that they are endowed by their Creator with certain unalienable Rights,\n",
      "that among these are Life, Liberty, and the pursuit of ...\n",
      "\n",
      "Document 3:\n",
      "Source: ../books/declaration_of_independence_of_the_united_states.txt\n",
      "Score: 0.670296192\n",
      "Content (first 200 chars): The Declaration of Independence of The United States of America\n",
      "\n",
      "\n",
      "\n",
      "\n",
      "IN CONGRESS, July 4, 1776\n",
      "\n",
      "The unanimous Declaration of the thirteen united States of America\n",
      "\n",
      "\n",
      "\n",
      "When in the Course of human events,...\n",
      "\n",
      "Document 4:\n",
      "Source: ../books/declaration_of_independence_of_the_united_states.txt\n",
      "Score: 0.66323334\n",
      "Content (first 200 chars): In every stage of these Oppressions We have Petitioned for Redress\n",
      "in the most humble terms:  Our repeated Petitions have been answered\n",
      "only by repeated injury.  A Prince, whose character is thus mark...\n",
      "\n",
      "=== Contextual Header Retriever Results ===\n",
      "Retrieved 4 documents\n",
      "\n",
      "Document 1:\n",
      "Source: ../books/declaration_of_independence_of_the_united_states.txt\n",
      "Score: 0.699259818\n",
      "Header: Here is a concise contextual header that captures the main topics and context of this text segment:\n",
      "\n",
      "**The Declaration of Independence: Key Principles and Justifications for the American Colonies' Decision to Separate from Great Britain**\n",
      "\n",
      "This header provides a brief summary of the main ideas and justifications presented in the text, which is a foundational document of American history and a cornerstone of the country's system of government.\n",
      "Content (first 200 chars): **The Declaration of Independence: Key Principles and Justifications for the American Colonies' Decision to Separate from Great Britain**\n",
      "\n",
      "This header provides a brief summary of the main ideas and ju...\n",
      "\n",
      "Document 2:\n",
      "Source: ../books/declaration_of_independence_of_the_united_states.txt\n",
      "Score: 0.69161123\n",
      "Header: Here is a concise contextual header that captures the main topics and context of this text segment:\n",
      "\n",
      "**The Declaration of Independence: Establishing the Right to Alter Government and Defending Against Tyranny**\n",
      "\n",
      "This header provides a clear and concise summary of the main points discussed in the text, including the Declaration of Independence, the principles of government, and the British government's actions that led to the colonies' decision to seek independence.\n",
      "Content (first 200 chars): **The Declaration of Independence: Establishing the Right to Alter Government and Defending Against Tyranny**\n",
      "\n",
      "This header provides a clear and concise summary of the main points discussed in the text...\n",
      "\n",
      "Document 3:\n",
      "Source: ../books/declaration_of_independence_of_the_united_states.txt\n",
      "Score: 0.668663859\n",
      "Header: Here is a concise contextual header that captures the main topics and context of this text segment:\n",
      "\n",
      "**Declaration of Independence: A Call for Independence from British Rule**\n",
      "\n",
      "This document, written in 1776, is a formal declaration of the 13 American colonies' decision to become independent from Great Britain, marking the beginning of the United States of America as a sovereign nation.\n",
      "Content (first 200 chars): **Declaration of Independence: A Call for Independence from British Rule**\n",
      "\n",
      "This document, written in 1776, is a formal declaration of the 13 American colonies' decision to become independent from Gre...\n",
      "\n",
      "Document 4:\n",
      "Source: ../books/declaration_of_independence_of_the_united_states.txt\n",
      "Score: 0.667439818\n",
      "Header: Here is a concise contextual header that captures the main topics and context of this text segment:\n",
      "\n",
      "**The Bill of Rights: Fundamental Liberties and Rights of the American People**\n",
      "\n",
      "This header provides a brief summary of the main topics and context of the text, which is the text of the Bill of Rights, the first 10 amendments to the United States Constitution.\n",
      "Content (first 200 chars): **The Bill of Rights: Fundamental Liberties and Rights of the American People**\n",
      "\n",
      "This header provides a brief summary of the main topics and context of the text, which is the text of the Bill of Right...\n"
     ]
    }
   ],
   "source": [
    "%run ipv4_fix.py\n",
    "# Examine retrieved documents for a query\n",
    "examine_retrieved_docs(\"What rights are mentioned in the Declaration of Independence?\")"
   ]
  },
  {
   "cell_type": "code",
   "execution_count": 11,
   "metadata": {
    "cellUniqueIdByVincent": "07be8"
   },
   "outputs": [
    {
     "name": "stdout",
     "output_type": "stream",
     "text": [
      "Running evaluation on 5 queries ...\n"
     ]
    },
    {
     "data": {
      "application/vnd.jupyter.widget-view+json": {
       "model_id": "bcd1dcf8ada940148bfbfeb237d86283",
       "version_major": 2,
       "version_minor": 0
      },
      "text/plain": [
       "Evaluating queries:   0%|          | 0/5 [00:00<?, ?it/s]"
      ]
     },
     "metadata": {},
     "output_type": "display_data"
    },
    {
     "name": "stdout",
     "output_type": "stream",
     "text": [
      "\n",
      "=== Evaluation Results ===\n",
      "\n",
      "Standard RAG:\n",
      "  avg_query_time: 4.0662\n",
      "  avg_semantic_relevance: 0.6598\n",
      "\n",
      "Contextual Header RAG:\n",
      "  avg_query_time: 2.7585\n",
      "  avg_semantic_relevance: 0.6781\n"
     ]
    }
   ],
   "source": [
    "# Sample queries for benchmarking\n",
    "benchmark_queries = [\n",
    "    \"What are the key principles in the Declaration of Independence?\",\n",
    "    \"Who wrote the Declaration of Independence?\",\n",
    "    \"What grievances were listed in the Declaration of Independence?\",\n",
    "    \"What rights are mentioned in the Declaration of Independence?\",\n",
    "    \"When was the Declaration of Independence signed?\",\n",
    "]\n",
    "\n",
    "# Run evaluation - progress bars will show the status of each query\n",
    "evaluator.run_evaluation(benchmark_queries, standard_rag, contextual_rag)\n",
    "\n",
    "# Get summary metrics\n",
    "summary = evaluator.get_summary_metrics()\n",
    "\n",
    "# Print summary\n",
    "print(\"\\n=== Evaluation Results ===\")\n",
    "print(\"\\nStandard RAG:\")\n",
    "for metric, value in summary[\"standard\"].items():\n",
    "    print(f\"  {metric}: {value:.4f}\")\n",
    "\n",
    "print(\"\\nContextual Header RAG:\")\n",
    "for metric, value in summary[\"contextual\"].items():\n",
    "    print(f\"  {metric}: {value:.4f}\")"
   ]
  },
  {
   "cell_type": "code",
   "execution_count": null,
   "metadata": {
    "cellUniqueIdByVincent": "814f1"
   },
   "outputs": [],
   "source": []
  }
 ],
 "metadata": {
  "kernelspec": {
   "display_name": ".venv",
   "language": "python",
   "name": "python3"
  },
  "language_info": {
   "codemirror_mode": {
    "name": "ipython",
    "version": 3
   },
   "file_extension": ".py",
   "mimetype": "text/x-python",
   "name": "python",
   "nbconvert_exporter": "python",
   "pygments_lexer": "ipython3",
   "version": "3.13.3"
  },
  "vincent": {
   "sessionId": "05dd7bc0e84d6773754e6673_2025-05-20T18-15-25-922Z"
  }
 },
 "nbformat": 4,
 "nbformat_minor": 5
}
