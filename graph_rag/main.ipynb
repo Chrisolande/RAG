{
 "cells": [
  {
   "cell_type": "code",
   "execution_count": 1,
   "metadata": {
    "cellUniqueIdByVincent": "b87e5"
   },
   "outputs": [
    {
     "name": "stdout",
     "output_type": "stream",
     "text": [
      "All required environment variables are set.\n"
     ]
    }
   ],
   "source": [
    "from document_processor import DocumentProcessor\n",
    "from knowledge_graph import KnowledgeGraph\n",
    "from vector_store import VectorStore\n",
    "from entity_extraction import GraphEntityRetriever\n",
    "from retrieval import Retriever\n",
    "from rag_chain import RagChain\n",
    "from dotenv import load_dotenv\n",
    "import os\n",
    "import warnings\n",
    "warnings.filterwarnings(\"ignore\")\n",
    "load_dotenv()\n",
    "\n",
    "required_vars = [\"NEO4J_URI\", \"NEO4J_USERNAME\", \"NEO4J_PASSWORD\", \"OPENROUTER_API_KEY\"]\n",
    "missing_vars = [var for var in required_vars if not os.getenv(var)]\n",
    "\n",
    "if missing_vars:\n",
    "    print(f\"Warning: The following environment variables are not set: {', '.join(missing_vars)}\")\n",
    "    print(\"Please set them in a .env file or directly in the environment.\")\n",
    "else:\n",
    "    print(\"All required environment variables are set.\")"
   ]
  },
  {
   "cell_type": "code",
   "execution_count": 2,
   "metadata": {
    "cellUniqueIdByVincent": "7f1a4"
   },
   "outputs": [],
   "source": [
    "# Initialize the System\n",
    "\n",
    "document_processor = DocumentProcessor()\n",
    "knowledge_graph = KnowledgeGraph()\n",
    "vector_store = VectorStore(knowledge_graph)\n",
    "entity_extractor = GraphEntityRetriever()\n",
    "retriever = Retriever(knowledge_graph, vector_store)\n",
    "rag_chain = RagChain(retriever)\n",
    "\n"
   ]
  },
  {
   "cell_type": "markdown",
   "metadata": {
    "cellUniqueIdByVincent": "50bc0"
   },
   "source": [
    "# Load the documents"
   ]
  },
  {
   "cell_type": "code",
   "execution_count": 3,
   "metadata": {
    "cellUniqueIdByVincent": "d97fa"
   },
   "outputs": [
    {
     "name": "stdout",
     "output_type": "stream",
     "text": [
      "Loaded 78 document chunks from the knowledge base\n",
      "\n",
      "First document chunk:\n",
      "**Chris Olande: A Deep Professional Profile for RAG Systems**\n",
      "\n",
      "**Overview**\n",
      "\n",
      "Chris Olande is an statistics and programming student at Kenyatta University in Nairobi, Kenya. With a rigorous academic foundation in statistics and programming, Chris is cultivating a multidisciplinary approach that intersects applied mathematics, artificial intelligence, and human-centered design. He brings together analytical precision, computational depth, and social responsibility in his work. Chris is not only bu...\n"
     ]
    }
   ],
   "source": [
    "documents = document_processor.process_documents()\n",
    "print(f\"Loaded {len(documents)} document chunks from the knowledge base\")\n",
    "print(\"\\nFirst document chunk:\")\n",
    "print(documents[0].page_content[:500] + \"...\")"
   ]
  },
  {
   "cell_type": "markdown",
   "metadata": {
    "cellUniqueIdByVincent": "2039d"
   },
   "source": [
    "# Build the knowledge graph"
   ]
  },
  {
   "cell_type": "code",
   "execution_count": 4,
   "metadata": {
    "cellUniqueIdByVincent": "4c14e"
   },
   "outputs": [],
   "source": [
    "from IPython.display import clear_output\n",
    "\n",
    "# Create or load an existing knowledge graph from the documents\n",
    "knowledge_graph.load_or_create_graph(documents)\n",
    "clear_output()"
   ]
  },
  {
   "cell_type": "code",
   "execution_count": 5,
   "metadata": {
    "cellUniqueIdByVincent": "cc87b"
   },
   "outputs": [],
   "source": [
    "#knowledge_graph.get_graph_summary()"
   ]
  },
  {
   "cell_type": "code",
   "execution_count": 6,
   "metadata": {
    "cellUniqueIdByVincent": "08a2b"
   },
   "outputs": [
    {
     "data": {
      "application/vnd.jupyter.widget-view+json": {
       "model_id": "f0b148c849bc4b76bf8ad96f576454e1",
       "version_major": 2,
       "version_minor": 0
      },
      "text/plain": [
       "GraphWidget(layout=Layout(height='800px', width='100%'))"
      ]
     },
     "metadata": {},
     "output_type": "display_data"
    }
   ],
   "source": [
    "knowledge_graph.visualize_graph()"
   ]
  },
  {
   "cell_type": "markdown",
   "metadata": {
    "cellUniqueIdByVincent": "97fdf"
   },
   "source": [
    "# Test entity Extraction"
   ]
  },
  {
   "cell_type": "code",
   "execution_count": 7,
   "metadata": {
    "cellUniqueIdByVincent": "65bbb"
   },
   "outputs": [
    {
     "name": "stdout",
     "output_type": "stream",
     "text": [
      "Extracting entities for question: Who is Chris Olande?\n",
      "Extracted 1 entities: ['Chris Olande']\n",
      "['Chris Olande']\n"
     ]
    }
   ],
   "source": [
    "question = \"Who is Chris Olande?\"\n",
    "entity = entity_extractor.extract_entities(question)\n",
    "print(entity)"
   ]
  },
  {
   "cell_type": "markdown",
   "metadata": {
    "cellUniqueIdByVincent": "7da29"
   },
   "source": [
    "# Test structured entity extraction"
   ]
  },
  {
   "cell_type": "code",
   "execution_count": 8,
   "metadata": {
    "cellUniqueIdByVincent": "b8f86"
   },
   "outputs": [
    {
     "name": "stdout",
     "output_type": "stream",
     "text": [
      "Processing structured retrieval for question: Who is Chris Olande?\n",
      "Extracting entities for question: Who is Chris Olande?\n",
      "Extracted 1 entities: ['Chris Olande']\n",
      "Retrieved 31 relationships for entity 'Chris Olande'\n",
      "Found 31 relationships for entity 'Chris Olande'\n",
      "  - Chris Olande - STUDENT_AT -> Kenyatta University\n",
      "  - Chris Olande - USES -> Python\n",
      "  - Chris Olande - USES -> LangChain\n",
      "  - Chris Olande - USES -> Hugging Face pipelines\n",
      "  - Chris Olande - USES -> OpenRouter’s LLaMA 3.2B and Gemini embeddings\n",
      "  ... and 26 more\n",
      "Question: Who is Chris Olande?\n",
      "\n",
      "Structured retrieval results:\n",
      "Chris Olande - STUDENT_AT -> Kenyatta University\n",
      "Chris Olande - USES -> Python\n",
      "Chris Olande - USES -> LangChain\n",
      "Chris Olande - USES -> Hugging Face pipelines\n",
      "Chris Olande - USES -> OpenRouter’s LLaMA 3.2B and Gemini embeddings\n",
      "Chris Olande - USES -> FAISS or Pinecone\n",
      "Chris Olande - DESIGNS -> intelligent job search assistant\n",
      "Chris Olande - LOCATED_IN -> Africa\n",
      "Chris Olande - PROMOTES -> STEM exposure and engagement among young learners\n",
      "Chris Olande - DEVELOPS -> ConversationalRAG class\n",
      "Chris Olande - BASED_IN -> Nairobi\n",
      "Chris Olande - WORKS_FOR -> RAG Systems\n",
      "Chris Olande - WORKS_FOR -> (Future Research Labs & AI Startups, Open Source Contributions)\n",
      "Chris Olande - LEADS -> educational visit for Grade 7 students\n",
      "Chris Olande - STUDIES -> Data Science\n",
      "Chris Olande - CONNECTS -> Pinecone\n",
      "Chris Olande - INTEGRATES -> OpenAI APIs\n",
      "Chris Olande - PARSES -> job listings\n",
      "Chris Olande - MENTOR_OF -> peers at Kenyatta University\n",
      "Chris Olande - AIMS_TO_CONTRIBUTE_TO -> LangChain, Haystack, Hugging Face\n",
      "Chris Olande - TUTORS -> peers in statistics and machine learning\n",
      "Chris Olande - FINE_TUNED -> DistilBERT\n",
      "Chris Olande - FINE_TUNED -> BERT\n",
      "Chris Olande - ADVOCATES -> equitable access to digital education in Kenya\n",
      "Chris Olande - HAS_EXPERIENCE_IN -> style transfer\n",
      "Chris Olande - HAS_EXPERIENCE_IN -> object detection\n",
      "Chris Olande - HAS_EXPERIENCE_IN -> image classification\n",
      "Chris Olande - INTERESTED_IN -> Intelligent Agents, AI in Education\n",
      "Chris Olande - VISION -> (Future Career Aspirations)\n",
      "Chris Olande - MORAL_OBLIGATION -> Artificial Intelligence\n",
      "Artificial Intelligence - MORAL_OBLIGATION -> Chris Olande\n"
     ]
    }
   ],
   "source": [
    "structured_results = entity_extractor.structured_retriever(question)\n",
    "\n",
    "print(f\"Question: {question}\")\n",
    "print(\"\\nStructured retrieval results:\")\n",
    "print(structured_results)"
   ]
  },
  {
   "cell_type": "markdown",
   "metadata": {
    "cellUniqueIdByVincent": "3c6ba"
   },
   "source": [
    "# Create the hybrid vector index"
   ]
  },
  {
   "cell_type": "code",
   "execution_count": 9,
   "metadata": {
    "cellUniqueIdByVincent": "a7cd6"
   },
   "outputs": [
    {
     "name": "stdout",
     "output_type": "stream",
     "text": [
      "Hybrid vector index created successfully!\n"
     ]
    }
   ],
   "source": [
    "vector_store.create_hybrid_index()\n",
    "\n",
    "print(\"Hybrid vector index created successfully!\")"
   ]
  },
  {
   "cell_type": "markdown",
   "metadata": {
    "cellUniqueIdByVincent": "7ab8f"
   },
   "source": [
    "# Create vector index"
   ]
  },
  {
   "cell_type": "code",
   "execution_count": 10,
   "metadata": {
    "cellUniqueIdByVincent": "a9a16"
   },
   "outputs": [
    {
     "name": "stdout",
     "output_type": "stream",
     "text": [
      "Vector index created successfully!\n"
     ]
    }
   ],
   "source": [
    "# create vector index from documents\n",
    "vector_store.create_vector_index(documents)\n",
    "\n",
    "print(\"Vector index created successfully!\")"
   ]
  },
  {
   "cell_type": "markdown",
   "metadata": {
    "cellUniqueIdByVincent": "53d75"
   },
   "source": [
    "## Test vector Retrieval"
   ]
  },
  {
   "cell_type": "code",
   "execution_count": 11,
   "metadata": {
    "cellUniqueIdByVincent": "173f8"
   },
   "outputs": [
    {
     "name": "stdout",
     "output_type": "stream",
     "text": [
      "Question: Who is Chris Olande?\n",
      "\n",
      "Vector retrieval results:\n",
      "\n",
      "Document 1:\n",
      " in statistics and machine learning, explaining complex concepts like backpropagation, gradient descent, and dimensionality reduction using intuitive analogies and real-life examples.\n",
      "\n",
      "**Personality, Work Ethic, and Personal Interests**\n",
      "\n",
      "Chris is disciplined, curious, and mathematically inclined. He...\n",
      "\n",
      "Document 2:\n",
      "**Chris Olande: A Deep Professional Profile for RAG Systems**\n",
      "\n",
      "**Overview**\n",
      "\n",
      "Chris Olande is an statistics and programming student at Kenyatta University in Nairobi, Kenya. With a rigorous academic foundation in statistics and programming, Chris is cultivating a multidisciplinary approach that inter...\n",
      "\n",
      "Document 3:\n",
      ".\n",
      "Have we anything new to offer upon the subject?  Nothing.  We have held the\n",
      "subject up in every light of which it is capable; but it has been all in vain.\n",
      "Shall we resort to entreaty and humble supplication?  What terms shall we\n",
      "find which have not been already exhausted?  Let us not, I beseech yo...\n",
      "\n",
      "Document 4:\n",
      "\n",
      "\n",
      "The Mayflower Compact\n",
      "\n",
      "November 11, 1620  [This was November 21, old style calendar]\n",
      "\n",
      "In the name of God, Amen.  We, whose names are underwritten,\n",
      "the Loyal Subjects of our dread Sovereigne Lord, King James,\n",
      "by the Grace of God, of Great Britaine, France, and Ireland,\n",
      "King, Defender of the Faith, ...\n"
     ]
    }
   ],
   "source": [
    "# Test vector retrieval\n",
    "vector_results = retriever.vector_retrieval(question, k=2)\n",
    "\n",
    "print(f\"Question: {question}\")\n",
    "print(\"\\nVector retrieval results:\")\n",
    "for i, doc in enumerate(vector_results):\n",
    "    print(f\"\\nDocument {i+1}:\")\n",
    "    print(doc.page_content[:300] + \"...\")"
   ]
  },
  {
   "cell_type": "markdown",
   "metadata": {
    "cellUniqueIdByVincent": "0aeb5"
   },
   "source": [
    "# Test hybrid retrieval\n"
   ]
  },
  {
   "cell_type": "code",
   "execution_count": 12,
   "metadata": {
    "cellUniqueIdByVincent": "4a76d"
   },
   "outputs": [
    {
     "name": "stdout",
     "output_type": "stream",
     "text": [
      "Question: Who is Chris Olande?\n",
      "\n",
      "Hybrid retrieval results:\n",
      "Structured data:\n",
      "            No relevant information found in the knowledge graph.\n",
      "\n",
      "            Unstructured data:\n",
      "             in statistics and machine learning, explaining complex concepts like backpropagation, gradient descent, and dimensionality reduction using intuitive analogies and real-life examples.\n",
      "\n",
      "**Personality, Work Ethic, and Personal Interests**\n",
      "\n",
      "Chris is disciplined, curious, and mathematically inclined. He can spend hours discussing abstract mathematical theory—from convergence of sequences to information entropy. Despite his technical prowess, he remains grounded and people-centered, embodying humility and empathy in all collaborations.\n",
      "\n",
      "* **Personality traits**: Methodical, introspective, self-motivated, collaborative, and principled.\n",
      "* **Coding style**: Clean, modular, well-documented with adherence to PEP-8 and best practices in version control.\n",
      "* **Personal vision**: To become one of Africa’s leading data scientists and contribute to responsible AI systems that serve the public good.\n",
      "\n",
      "Chris views artificial intelligence not just as a technical endeavor, but as a **moral obligation**—a way to design systems that preserve human dignity, enhance transparency, and foster equitable outcomes.\n",
      "\n",
      "**Career Aspirations and Future Directions**\n",
      "\n",
      "Chris is preparing for a future that merges AI systems research with applied data science in dynamic sectors such as:\n",
      "\n",
      "* **Intelligent Agents**: Autonomous systems with real-time planning, reasoning, and interactivity.\n",
      "* **AI in Education**: Systems that personalize learning, assess student understanding, and provide adaptive feedback.\n",
      "* **Research Labs & AI Startups**: Contributing to language model interpretability, ethical AI, or real-time AI tooling.\n",
      "* **Open Source Contributions**: Chris aims to contribute to LangChain, Haystack, or Hugging Face projects.\n",
      "\n",
      "In the near term, he seeks internships, research assistantships, and open-source opportunities aligned with his vision.\n",
      "\n",
      "**Final Note**\n",
      "\n",
      "Chris Olande is not merely a student of data science—he is a builder of knowledge systems, an educational innovator, and a principled technologist. With his intellectual rigor, empathetic leadership, and forward-thinking spirit, Chris represents the future of responsible AI in Africa.\n",
      "\n",
      "He is ready not just to participate in the next wave of technological progress—but to lead it.\n",
      "#Document **Chris Olande: A Deep Professional Profile for RAG Systems**\n",
      "\n",
      "**Overview**\n",
      "\n",
      "Chris Olande is an statistics and programming student at Kenyatta University in Nairobi, Kenya. With a rigorous academic foundation in statistics and programming, Chris is cultivating a multidisciplinary approach that intersects applied mathematics, artificial intelligence, and human-centered design. He brings together analytical precision, computational depth, and social responsibility in his work. Chris is not only building machine learning systems—he is actively shaping the future of AI literacy and ethical, context-aware data applications in Kenya and beyond.\n",
      "\n",
      "**Academic Background and Technical Expertise**\n",
      "\n",
      "Chris’s academic journey is rooted in mathematical reasoning and statistical theory, reinforced by practical mastery in Python programming. His skillset spans across a comprehensive set of technologies essential to modern data science, including:\n",
      "\n",
      "* **Statistical Foundations**: Hypothesis testing, linear and multiple regression, time series analysis, exploratory factor analysis (EFA), and experimental design.\n",
      "* **Programming and Tooling**: Python, R (for statistical computing), Git/GitHub, and shell scripting for automated workflows.\n",
      "* **Data Science Libraries**: NumPy, pandas, matplotlib, seaborn, scikit-learn, SciPy.\n",
      "* **Deep Learning and NLP**: PyTorch, Hugging Face Transformers, Fastai, OpenCV, LangChain, SentenceTransformers.\n",
      "* **ML Experiment Tracking**: Weights & Biases, TensorBoard.\n",
      "* **Deployment Tools**: Streamlit, Gradio, and Flask for prototyping models; Docker for containerized environments.\n",
      "\n",
      "Chris routinely constructs full pipelines—from ingestion and preprocessing to modeling, evaluation, and deployment—both for academic research and real-world impact.\n",
      "\n",
      "**Advanced NLP and Retrieval-Augmented Generation Work**\n",
      "\n",
      "Chris’s passion for language modeling has evolved into serious research around **Retrieval-Augmented Generation (RAG)** and its applications in building intelligent agents. Notably:\n",
      "\n",
      "* He has fine-tuned transformer models such as BERT and DistilBERT for sentiment classification tasks, integrating techniques such as early stopping, learning rate schedulers, and hyperparameter optimization.\n",
      "* He developed a **modular ConversationalRAG class** integrating OpenAI APIs, LangChain, and Hugging Face pipelines with vector search (e.g., FAISS or Pinecone), enabling semantic Q\\&A from custom document stores.\n",
      "* He is actively experimenting with **agentic RAG systems** capable of long-term memory, tool invocation, and self-reflection via LangChain Expression Language (LCEL). His agents feature layered control loops for planning, reasoning, and document-aware response generation.\n",
      "* As of May 2025, Chris is designing an intelligent job search assistant powered by OpenRouter’s LLaMA 3.2B and Gemini embeddings. It connects Pinecone for semantic search, parses job listings, and enables modular response formatting, highlighting his system design skills.\n",
      "\n",
      "**Computer Vision and Multimodal Learning**\n",
      "\n",
      "Chris has substantial experience in image classification, object detection, and style transfer. His work includes:\n",
      "\n",
      "* Training convolutional networks on disease detection datasets involving tomato leaves.\n",
      "* Implementing YOLOv8 and vision transformers for object detection tasks.\n",
      "* Using Fastai with ViT backbones, customizing DataLoaders, and applying PCA for dimensionality reduction and visualization.\n",
      "* Running neural style transfer with customized weight tuning and visual outputs using Gradio Blocks.\n",
      "* Performing practical image augmentation and preprocessing using OpenCV and torchvision transforms.\n",
      "\n",
      "**Educational Leadership and STEM Advocacy**\n",
      "\n",
      "A lifelong learner and passionate educator, Chris led a pioneering educational visit for Grade 7 students to Impala Glass Industries in Nairobi. His initiative promoted STEM exposure and hands-on industry engagement among young learners. As a mentor and community leader, he values demystifying technology for marginalized groups, ensuring equitable access to digital education in Kenya.\n",
      "\n",
      "He is also a firm believer in **constructive peer learning**. At Kenyatta University, Chris is known for tutoring peers in statistics and machine learning, explaining complex concepts like backpropagation, gradient descent, and dimensionality reduction using intuitive analogies and real-life examples.\n",
      "\n",
      "**Personality, Work Ethic, and Personal Interests**\n",
      "\n",
      "Chris is disciplined, curious, and mathematically inclined. He can spend hours discussing abstract mathematical theory—from convergence of sequences to information entropy. Despite his technical prowess, he remains grounded and people-centered, embodying humility and empathy in all collaborations.\n",
      "\n",
      "* **Personality traits**: Methodical, introspective, self-motivated, collaborative, and principled.\n",
      "* **C#Document .\n",
      "Have we anything new to offer upon the subject?  Nothing.  We have held the\n",
      "subject up in every light of which it is capable; but it has been all in vain.\n",
      "Shall we resort to entreaty and humble supplication?  What terms shall we\n",
      "find which have not been already exhausted?  Let us not, I beseech you, sir,\n",
      "deceive ourselves.  Sir, we have done everything that could be done to avert\n",
      "the storm which is now coming on.  We have petitioned; we have remonstrated;\n",
      "we have supplicated; we have prostrated ourselves before the throne, and have\n",
      "implored its interposition to arrest the tyrannical hands of the ministry and\n",
      "Parliament.  Our petitions have been slighted; our remonstrances have produced\n",
      "additional violence and insult; our supplications have been disregarded;\n",
      "and we have been spurned, with contempt, from the foot of the throne!\n",
      "In vain, after these things, may we indulge the fond hope of peace and\n",
      "reconciliation.  There is no longer any room for hope.  If we wish to be free--\n",
      "if we mean to preserve inviolate those inestimable privileges for which\n",
      "we have been so long contending--if we mean not basely to abandon the noble\n",
      "struggle in which we have been so long engaged, and which we have pledged\n",
      "ourselves never to abandon until the glorious object of our contest\n",
      "shall be obtained--we must fight!  I repeat it, sir, we must fight!\n",
      "An appeal to arms  and to the God of hosts is all that is left us!\n",
      "\n",
      "They tell us, sir, that we are weak; unable to cope with so formidable\n",
      "an adversary.  But when shall we be stronger?  Will it be the next week,\n",
      "or the next year?  Will it be when we are totally disarmed, and when a British\n",
      "guard shall be stationed in every house?  Shall we gather strength but\n",
      "irresolution and inaction?  Shall we acquire the means of effectual resistance\n",
      "by lying supinely on our backs and hugging the delusive phantom of hope, until\n",
      "our enemies shall have bound us hand and foot?  Sir, we are not weak if we make\n",
      "a proper use of those means which the God of nature hath placed in our power.\n",
      "The millions of people, armed in the holy cause of liberty, and in such a\n",
      "country as that which we possess, are invincible by any force which our enemy\n",
      "can send against us.  Besides, sir, we shall not fight our battles alone.\n",
      "There is a just God who presides over the destinies of nations, and who will\n",
      "raise up friends to fight our battles for us.  The battle, sir, is not to the\n",
      "strong alone; it is to the vigilant, the active, the brave.  Besides, sir,\n",
      "we have no election.  If we were base enough to desire it, it is now too late\n",
      "to retire from the contest.  There is no retreat but in submission and slavery!\n",
      "Our chains are forged!  Their clanking may be heard on the plains of Boston!\n",
      "The war is inevitable--and let it come!  I repeat it, sir, let it come.\n",
      "\n",
      "It is in vain, sir, to extenuate the matter.  Gentlemen may cry, Peace, Peace--\n",
      "but there is no peace.  The war is actually begun!  The next gale that sweeps\n",
      "from the north will bring to our ears the clash of resounding arms!\n",
      "Our brethren are already in the field!  Why stand we here idle?\n",
      "What is it that gentlemen wish?  What would they have?  Is life so dear,\n",
      "or peace so sweet, as to be purchased at the price of chains and slavery?\n",
      "Forbid it, Almighty God!  I know not what course others may take;\n",
      "but as for me, give me liberty or give me death!\n",
      "\n",
      "\n",
      "\n",
      "\n",
      "Officially released December 31, 1977  [Etext #7]\n",
      "Officially re-released November 25, 1993\n",
      "In honor of Thanksgiving\n",
      "\n",
      "******The Project Gutenberg Etext of The Mayflower Compact*****\n",
      "\n",
      "\n",
      "\n",
      "The Mayflower Compact\n",
      "\n",
      "November 11, 1620  [This was November 21, old style calendar]\n",
      "\n",
      "In the name of God, Amen.  We, whose names are underwritten,\n",
      "the Loyal Subjects of our dread Sovereigne Lord, King James,\n",
      "by the Grace of God, of Great Britaine, France, and Ireland,\n",
      "King, Defender of the Faith, &c.\n",
      "\n",
      "Having undertaken for the Glory of God, and Advancement of\n",
      "the Christian Faith, and the Honour of our King and Country,\n",
      "a Voyage to plant the first colony in the Northerne Parts#Document \n",
      "\n",
      "The Mayflower Compact\n",
      "\n",
      "November 11, 1620  [This was November 21, old style calendar]\n",
      "\n",
      "In the name of God, Amen.  We, whose names are underwritten,\n",
      "the Loyal Subjects of our dread Sovereigne Lord, King James,\n",
      "by the Grace of God, of Great Britaine, France, and Ireland,\n",
      "King, Defender of the Faith, &c.\n",
      "\n",
      "Having undertaken for the Glory of God, and Advancement of\n",
      "the Christian Faith, and the Honour of our King and Country,\n",
      "a Voyage to plant the first colony in the Northerne Parts\n",
      "of Virginia; doe, by these Presents, solemnly and mutually\n",
      "in the Presence of God and one of another, covenant and\n",
      "combine ourselves together into a civill Body Politick,\n",
      "for our better Ordering and Preservation, and Furtherance\n",
      "of the Ends aforesaid; And by Virtue hereof do enact,\n",
      "constitute, and frame, such just and equall Laws, Ordinances,\n",
      "Acts, Constitutions, and Offices, from time to time,\n",
      "as shall be thought most meete and convenient for the\n",
      "Generall Good of the Colonie; unto which we promise\n",
      "all due Submission and Obedience.\n",
      "\n",
      "In Witness whereof we have hereunto subscribed our names\n",
      "at Cape Cod the eleventh of November, in the Raigne of our\n",
      "Sovereigne Lord, King James of England, France, and Ireland,\n",
      "the eighteenth, and of Scotland, the fiftie-fourth,\n",
      "Anno. Domini, 1620.\n",
      "\n",
      "Mr. John Carver           Mr. Stephen Hopkins\n",
      "Mr. William Bradford      Digery Priest\n",
      "Mr. Edward Winslow        Thomas Williams\n",
      "Mr. William Brewster      Gilbert Winslow\n",
      "Isaac Allerton            Edmund Margesson\n",
      "Miles Standish            Peter Brown\n",
      "John Alden                Richard Bitteridge\n",
      "John Turner               George Soule\n",
      "Francis Eaton             Edward Tilly\n",
      "James Chilton             John Tilly\n",
      "John Craxton              Francis Cooke\n",
      "John Billington           Thomas Rogers\n",
      "Joses Fletcher            Thomas Tinker\n",
      "John Goodman              John Ridgate\n",
      "Mr. Samuel Fuller         Edward Fuller\n",
      "Mr. Christopher Martin    Richard Clark\n",
      "Mr. William Mullins       Richard Gardiner\n",
      "Mr. William White         Mr. John Allerton\n",
      "Mr. Richard Warren        Thomas English\n",
      "John Howland              Edward Doten\n",
      "Edward Liester\n",
      "\n",
      "\n",
      "\n",
      "December, 1978  [Etext #8]\n",
      "\n",
      "**The Project Gutenberg Etext of Lincoln's 2nd Inaugural Address**\n",
      "\n",
      "\n",
      "\n",
      "\n",
      "Lincoln's Second Inaugural Address\n",
      "March 4, 1865\n",
      "\n",
      "\n",
      "\n",
      "Fellow countrymen:  At this second appearing to take the oath\n",
      "of the presidential office, there is less occasion for an extended\n",
      "address than there was at the first.  Then a statement, somewhat\n",
      "in detail, of a course to be pursued, seemed fitting and proper.\n",
      "Now, at the expiration of four years, during which public declarations\n",
      "have been constantly called forth on every point and phase of the great\n",
      "contest which still absorbs the attention and engrosses the energies\n",
      "of the nation, little that is new could be presented.  The progress\n",
      "of our arms, upon which all else chiefly depends, is as well known\n",
      "to the public as to myself; and it is, I trust, reasonably satisfactory\n",
      "and encouraging to all.  With high hope for the future, no prediction\n",
      "in regard to it is ventured.\n",
      "\n",
      "On the occasion corresponding to this four years ago, all thoughts\n",
      "were anxiously directed to an impending civil war.  All dreaded it--\n",
      "all sought to avert it.  While the inaugural address was being delivered\n",
      "from this place, devoted altogether to saving the Union without war,\n",
      "insurgent agents were in the city seeking to destroy it without war--\n",
      "seeking to dissolve the Union, and divide effects, by negotiation.\n",
      "Both parties deprecated war; but one of them would make war rather\n",
      "than let the nation survive; and the other would accept war rather\n",
      "\n",
      "            \n"
     ]
    }
   ],
   "source": [
    "# Test hybrid retrieval\n",
    "hybrid_results = retriever.hybrid_retrieval(question)\n",
    "\n",
    "print(f\"Question: {question}\")\n",
    "print(\"\\nHybrid retrieval results:\")\n",
    "print(hybrid_results)"
   ]
  },
  {
   "cell_type": "markdown",
   "metadata": {
    "cellUniqueIdByVincent": "6473b"
   },
   "source": [
    "# Test RAG Chain"
   ]
  },
  {
   "cell_type": "code",
   "execution_count": 13,
   "metadata": {
    "cellUniqueIdByVincent": "d14ea"
   },
   "outputs": [],
   "source": [
    "from typing import Optional, List, Tuple\n",
    "\n",
    "# Global chat history\n",
    "chat_history: List[Tuple[str, str]] = []\n",
    "\n",
    "def ask_questions(\n",
    "    rag_chain,\n",
    "    question: str,\n",
    "    chat_history_override: Optional[List[Tuple[str, str]]] = None\n",
    "):\n",
    "    global chat_history\n",
    "\n",
    "    if chat_history_override is None:\n",
    "        chat_history = []\n",
    "    else:\n",
    "        chat_history = chat_history_override\n",
    "\n",
    "    answer = rag_chain.invoke({\n",
    "        \"question\": question,\n",
    "        \"chat_history\": chat_history\n",
    "    })\n",
    "\n",
    "    chat_history.append((question, answer))\n",
    "\n",
    "    print(f\"Question: {question}\")\n",
    "    print(f\"\\nAnswer: {answer}\\n\")\n",
    "\n",
    "    return answer\n"
   ]
  },
  {
   "cell_type": "code",
   "execution_count": 14,
   "metadata": {
    "cellUniqueIdByVincent": "bc990"
   },
   "outputs": [
    {
     "name": "stdout",
     "output_type": "stream",
     "text": [
      "Question: Who is Chris Olande?\n",
      "\n",
      "Answer:  Chris Olande is a statistics and programming student at Kenyatta University in Nairobi, Kenya. He is cultivating a multidisciplinary approach that intersects applied mathematics, artificial intelligence, and human-centered design. Chris is known for his analytical precision, computational depth, and social responsibility in his work. He is passionate about building machine learning systems and shaping the future of AI literacy and ethical, context-aware data applications in Kenya and beyond. He is preparing for a future that merges AI systems research with applied data science in dynamic sectors such as intelligent agents, AI in education, research labs & AI startups, and open-source contributions.\n",
      "\n"
     ]
    }
   ],
   "source": [
    "answer1 = ask_questions(rag_chain = rag_chain, question = question, chat_history_override = None)"
   ]
  },
  {
   "cell_type": "markdown",
   "metadata": {
    "cellUniqueIdByVincent": "d2e68"
   },
   "source": [
    "## Test using a follow up question"
   ]
  },
  {
   "cell_type": "code",
   "execution_count": 15,
   "metadata": {
    "cellUniqueIdByVincent": "fc8fb"
   },
   "outputs": [
    {
     "name": "stdout",
     "output_type": "stream",
     "text": [
      "Question: What does he even do at Kenyatta University?\n",
      "\n",
      "Answer:  Chris Olande is a student at Kenyatta University in Nairobi, Kenya. He is not specified to have a faculty role, but he is known for tutoring peers in statistics and machine learning, and he is also involved in educational leadership and STEM advocacy, such as leading a pioneering educational visit for Grade 7 students to Impala Glass Industries in Nairobi.\n",
      "\n"
     ]
    }
   ],
   "source": [
    "question = \"What does he even do at Kenyatta University?\"\n",
    "answer2 = ask_questions(rag_chain = rag_chain, question = question, chat_history_override = chat_history)\n"
   ]
  },
  {
   "cell_type": "code",
   "execution_count": 16,
   "metadata": {
    "cellUniqueIdByVincent": "7909e"
   },
   "outputs": [
    {
     "name": "stdout",
     "output_type": "stream",
     "text": [
      "Question: How and what tools does he use, whats his tech stack?\n",
      "\n",
      "Answer:  Chris Olande uses a variety of tools and technologies in his studies and projects at Kenyatta University. These include:\n",
      "\n",
      "* Programming languages: Python, R\n",
      "* Data science libraries: NumPy, pandas, matplotlib, seaborn, scikit-learn, SciPy\n",
      "* Deep learning and NLP: PyTorch, Hugging Face Transformers, Fastai, OpenCV, LangChain, SentenceTransformers\n",
      "* ML Experiment Tracking: Weights & Biases, TensorBoard\n",
      "* Deployment Tools: Streamlit, Gradio, Flask, Docker\n",
      "* Version control: Git/GitHub\n",
      "* Shell scripting for automated workflows\n",
      "* Data preprocessing and augmentation: OpenCV, torchvision transforms\n",
      "* Vector search: FAISS or Pinecone\n",
      "* AI and language model interpretability, ethical AI, or real-time AI tooling (potential contributions in research labs & AI startups)\n",
      "* LangChain Expression Language (LCEL) for agentic RAG systems\n",
      "* OpenRouter’s LLaMA 3.2B and Gemini embeddings for an intelligent job search assistant (future project)\n",
      "\n"
     ]
    }
   ],
   "source": [
    "\n",
    "question = \"How and what tools does he use, whats his tech stack?\"\n",
    "answer3 = ask_questions(rag_chain = rag_chain, question = question, chat_history_override = chat_history)\n"
   ]
  },
  {
   "cell_type": "markdown",
   "metadata": {
    "cellUniqueIdByVincent": "8e3d9"
   },
   "source": [
    "# Test questions based on romeo and juliet knowledge base"
   ]
  },
  {
   "cell_type": "code",
   "execution_count": 17,
   "metadata": {
    "cellUniqueIdByVincent": "ad736"
   },
   "outputs": [
    {
     "name": "stdout",
     "output_type": "stream",
     "text": [
      "Question: give me a brief story about the romeo and juliet book\n",
      "\n",
      "Answer:  \"Romeo and Juliet\" is a tragic play written by William Shakespeare. Set in Verona, the story revolves around two young lovers, Romeo Montague and Juliet Capulet, who belong to two rival families. Despite their families' longstanding feud, Romeo and Juliet fall in love at first sight and secretly marry with the help of Friar Lawrence. However, their happiness is short-lived as their marriage is discovered, leading to a series of unfortunate events. Romeo is banished from Verona, and Juliet is forced to marry Paris, a kinsman of the Prince, to end the feud.\n",
      "\n",
      "In a desperate attempt to be reunited with Romeo, Juliet is given a potion by Friar Lawrence that is supposed to make her appear dead for 42 hours. Romeo, believing Juliet to be dead, takes poison and dies in her tomb. When Juliet wakes up and finds Romeo dead, she also takes the same poison and dies. The tragic ending of the play reveals the devastating consequences of the feud between the Montagues and Capulets, as both families lose their children. The play is known for its exploration of love, family, and the destructive power of hatred.\n",
      "\n"
     ]
    }
   ],
   "source": [
    "question = \"give me a brief story about the romeo and juliet book\"\n",
    "\n",
    "answer4 = ask_questions(rag_chain = rag_chain, question = question)\n",
    "\n"
   ]
  },
  {
   "cell_type": "code",
   "execution_count": 18,
   "metadata": {
    "cellUniqueIdByVincent": "849a0"
   },
   "outputs": [
    {
     "name": "stdout",
     "output_type": "stream",
     "text": [
      "Question: How did Romeo meet Juliet?\n",
      "\n",
      "Answer:  Romeo and Juliet met at a ball hosted by Capulet, where they fell in love at first sight. However, they were from feuding families, Montagues and Capulets, and their relationship was forbidden. Later, they met secretly with the help of Friar Lawrence, who married them in secret. After their marriage, they continued to meet secretly, and Friar Lawrence gave Juliet a potion to make it appear as if she was dead for 42 hours, so they could be apart without arousing suspicion. Romeo was to come to take her from the tomb when the potion's effect wore off, but he was unaware that Friar John, who was supposed to deliver the message, had been delayed. Tragically, both Romeo and Paris, who was betrothed to Juliet, ended up at the tomb on the same night, and a series of misunderstandings led to their deaths.\n",
      "\n"
     ]
    }
   ],
   "source": [
    "question = \"How did Romeo meet Juliet?\"\n",
    "answer5 = ask_questions(rag_chain = rag_chain, question = question, chat_history_override = chat_history)\n"
   ]
  },
  {
   "cell_type": "code",
   "execution_count": 19,
   "metadata": {
    "cellUniqueIdByVincent": "217fe"
   },
   "outputs": [
    {
     "name": "stdout",
     "output_type": "stream",
     "text": [
      "Question: How did Romeo meet his fate? go on to tell me how Juliet met her too.\n",
      "\n",
      "Answer:  Romeo met his fate by drinking poison, believing Juliet to be dead. Juliet met her fate by taking the same poison after finding Romeo dead in the tomb.\n",
      "\n"
     ]
    }
   ],
   "source": [
    "quiz = \"How did Romeo meet his fate? go on to tell me how Juliet met her too.\"\n",
    "\n",
    "answer6 = ask_questions(rag_chain = rag_chain, question = quiz, chat_history_override = chat_history)"
   ]
  },
  {
   "cell_type": "markdown",
   "metadata": {
    "cellUniqueIdByVincent": "6a385"
   },
   "source": [
    "# Test for questions about the declaration of independence"
   ]
  },
  {
   "cell_type": "code",
   "execution_count": 20,
   "metadata": {
    "cellUniqueIdByVincent": "da1f5"
   },
   "outputs": [
    {
     "name": "stdout",
     "output_type": "stream",
     "text": [
      "Question: what grievances were made against the King of England?\n",
      "\n",
      "Answer:  The grievances made against the King of England, as stated in the Declaration of Independence, include:\n",
      "\n",
      "1. Refusing to give assent to laws that were necessary for the public good.\n",
      "2. Forbidding governors to pass laws of immediate and pressing importance without suspending them until his assent was obtained, and then neglecting to attend to them.\n",
      "3. Refusing to pass laws for the accommodation of large districts of people unless they would relinquish the right of representation in the legislature.\n",
      "4. Calling legislative bodies together at places unusual, uncomfortable, and distant from the depository of their public records, for the sole purpose of fatiguing them into compliance with his measures.\n",
      "5. Dissolving representative houses repeatedly for opposing his invasions on the rights of the people.\n",
      "6. Refusing for a long time to cause others to be elected after dissolving the representative houses, leaving the legislative powers incapable of annihilation in the hands of the people.\n",
      "7. Preventing the population of the colonies by obstructing the laws of naturalization of foreigners, refusing to pass laws to encourage their migration, and raising the conditions of new appropriations of lands.\n",
      "8. Obstructing the administration of justice by refusing his assent to laws for establishing judiciary powers.\n",
      "9. Making judges dependent on his will alone for the tenure of their offices and the amount and payment of their salaries.\n",
      "10. Erecting a multitude of new offices and sending swarms of officers to harass the people and eat out their substance.\n",
      "11. Keeping standing armies among the people in times of peace without the consent of their legislatures.\n",
      "12. Affecting to render the military independent of and superior to the civil power.\n",
      "13. Combining with others to subject the colonies to a jurisdiction foreign to their constitution and unacknowledged by their laws.\n",
      "14. Quartering large bodies of armed troops among the people.\n",
      "15. Protecting soldiers by a mock trial from punishment for any murders they might commit on the inhabitants of the colonies.\n",
      "16. Cutting off trade with all parts of the world.\n",
      "17. Imposing taxes on the colonies without their consent.\n",
      "18. Depriving the colonies, in many cases, of the benefits of trial by jury.\n",
      "19. Transporting the colonists beyond seas to be tried for pretended offenses.\n",
      "20. Abolishing the free system of English laws in a neighboring province, establishing therein an arbitrary government, and enlarging its boundaries so as to render it an example and fit instrument for introducing the same absolute rule into the colonies.\n",
      "21. Taking away their charters, abolishing their most valuable laws, and altering fundamentally the forms of their governments.\n",
      "22. Suspending their own legislatures and declaring themselves invested with power to legislate for them in all cases whatsoever.\n",
      "23. Abdicating government here by declaring the colonies out of his protection and waging war against them.\n",
      "24. Plundering their seas, ravaging their coasts, burning their towns, and destroying the lives of their people.\n",
      "25. Transporting large armies of foreign mercenaries to complete the works of death, desolation, and tyranny already begun.\n",
      "26. Constraining fellow citizens taken captive on the high seas to bear arms against their country, to become the executioners of their friends and brethren, or to fall themselves by their hands.\n",
      "27. Exciting domestic insurrections amongst the people and endeavoring to bring on the inhabitants of their frontiers, the merciless Indian savages, whose known rule of warfare is an undistinguished destruction of all ages, sexes, and conditions.\n",
      "28. In every stage of these oppressions, they have petitioned for redress in the most humble terms, but their repeated petitions have been answered only by repeated injury.\n",
      "29. A prince whose character is thus marked by every act which may define a tyrant is unfit to be the ruler of a free people.\n",
      "30. They have warned their British brethren from time to time of attempts by their legislature to extend an unwarrantable jurisdiction over them.\n",
      "31. They have reminded them of the circumstances of their emigration and settlement here.\n",
      "32. They have appealed to their native justice and magnanimity, and conjured them by the ties of their common kindred to disavow these usurpations, which would inevitably interrupt their connections and correspondence.\n",
      "33. They too have been deaf to the voice of justice and of consanguinity.\n",
      "34. Therefore, they must acquiesce in the necessity which denounces their separation, and hold them, as they hold the rest of mankind, enemies in war, in peace friends.\n",
      "\n"
     ]
    }
   ],
   "source": [
    "question = \"what grievances were made against the King of England?\" \n",
    "answer7 = ask_questions(rag_chain = rag_chain, question = question)"
   ]
  },
  {
   "cell_type": "code",
   "execution_count": 21,
   "metadata": {
    "cellUniqueIdByVincent": "73d82"
   },
   "outputs": [
    {
     "name": "stdout",
     "output_type": "stream",
     "text": [
      "Question: How did the declaration change the status of the American colonies?\n",
      "\n",
      "Answer:  The Declaration of Independence declared the American colonies to be free and independent states, absolving them from all allegiance to the British Crown and dissolving all political connection between them and Great Britain. This meant that the colonies were no longer under British rule and were now independent nations.\n",
      "\n"
     ]
    }
   ],
   "source": [
    "question = \"How did the declaration change the status of the American colonies?\"\n",
    "\n",
    "answer8 = ask_questions(rag_chain = rag_chain, question = question, chat_history_override = chat_history)\n"
   ]
  },
  {
   "cell_type": "code",
   "execution_count": 22,
   "metadata": {
    "cellUniqueIdByVincent": "6a972"
   },
   "outputs": [
    {
     "name": "stdout",
     "output_type": "stream",
     "text": [
      "Question: What enlightenment ideas are embedded in the declaration of independence?\n",
      "\n",
      "Answer:  The Declaration of Independence, written by Thomas Jefferson, is a foundational document of the United States that reflects Enlightenment ideas. Some of the Enlightenment ideas found in the Declaration include:\n",
      "\n",
      "1. Natural Rights: The Declaration asserts that all men are created equal and are endowed by their Creator with certain unalienable Rights, such as Life, Liberty, and the pursuit of Happiness. This idea is rooted in the Enlightenment belief in the inherent rights of individuals.\n",
      "\n",
      "2. Consent of the Governed: The Declaration states that governments are instituted among men to secure these rights, deriving their just powers from the consent of the governed. This idea reflects the Enlightenment belief in the social contract, where the people have the right to choose their government and can alter or abolish it if it becomes destructive of their rights.\n",
      "\n",
      "3. Reason and Rationality: The Declaration appeals to reason and the \"Laws of Nature and of Nature's God\" to justify the separation from Great Britain. This reflects the Enlightenment emphasis on reason and the use of rational argument to justify political actions.\n",
      "\n",
      "4. Progress and Improvement: The Declaration asserts that governments can be altered or abolished and new ones instituted to better secure the rights of the people. This reflects the Enlightenment belief in progress and the idea that society can be improved through rational reform.\n",
      "\n",
      "5. Humanity and Compassion: The Declaration ends with a call for reconciliation with the British people, appealing to the ties of common kindred and the \"better angels of our nature.\" This reflects the Enlightenment emphasis on humanity, compassion, and the potential for moral improvement in individuals and society.\n",
      "\n"
     ]
    }
   ],
   "source": [
    "question = \"What enlightenment ideas are embedded in the declaration of independence?\"\n",
    "\n",
    "answer9 = ask_questions(rag_chain = rag_chain, question = question, chat_history_override = chat_history)\n"
   ]
  },
  {
   "cell_type": "code",
   "execution_count": 23,
   "metadata": {
    "cellUniqueIdByVincent": "dfea3"
   },
   "outputs": [
    {
     "name": "stdout",
     "output_type": "stream",
     "text": [
      "Question: What events led to the drafting of the declaration of independence in 1776?\n",
      "\n",
      "Answer:  The events that culminated in the drafting of the Declaration of Independence in 1776 were a long series of abuses and usurpations by the King of Great Britain, which were aimed at establishing an absolute tyranny over the American colonies. These abuses included refusing to pass necessary laws, obstructing the administration of justice, raising taxes without consent, quartering troops among the colonists, and more. The colonists believed that these actions violated their rights to life, liberty, and the pursuit of happiness, and so they declared their independence from Great Britain.\n",
      "\n"
     ]
    }
   ],
   "source": [
    "question = \"What events led to the drafting of the declaration of independence in 1776?\"\n",
    "\n",
    "answer10 = ask_questions(rag_chain = rag_chain, question = question, chat_history_override = chat_history)"
   ]
  },
  {
   "cell_type": "code",
   "execution_count": null,
   "metadata": {
    "cellUniqueIdByVincent": "969f3"
   },
   "outputs": [],
   "source": []
  }
 ],
 "metadata": {
  "kernelspec": {
   "display_name": ".venv",
   "language": "python",
   "name": "python3"
  },
  "language_info": {
   "codemirror_mode": {
    "name": "ipython",
    "version": 3
   },
   "file_extension": ".py",
   "mimetype": "text/x-python",
   "name": "python",
   "nbconvert_exporter": "python",
   "pygments_lexer": "ipython3",
   "version": "3.13.3"
  },
  "vincent": {
   "sessionId": "2427feff4053bc9692a9fc94_2025-05-23T15-31-23-081Z"
  }
 },
 "nbformat": 4,
 "nbformat_minor": 5
}
