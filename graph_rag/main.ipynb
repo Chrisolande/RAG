{
 "cells": [
  {
   "cell_type": "code",
   "execution_count": 1,
   "metadata": {
    "cellUniqueIdByVincent": "b87e5"
   },
   "outputs": [
    {
     "name": "stdout",
     "output_type": "stream",
     "text": [
      "All required environment variables are set.\n"
     ]
    }
   ],
   "source": [
    "from document_processor import DocumentProcessor\n",
    "from knowledge_graph import KnowledgeGraph\n",
    "from vector_store import VectorStore\n",
    "from entity_extraction import GraphEntityRetriever\n",
    "from retrieval import Retriever\n",
    "from rag_chain import RagChain\n",
    "from dotenv import load_dotenv\n",
    "import os\n",
    "import warnings\n",
    "warnings.filterwarnings(\"ignore\")\n",
    "load_dotenv()\n",
    "\n",
    "required_vars = [\"NEO4J_URI\", \"NEO4J_USERNAME\", \"NEO4J_PASSWORD\", \"OPENROUTER_API_KEY\"]\n",
    "missing_vars = [var for var in required_vars if not os.getenv(var)]\n",
    "\n",
    "if missing_vars:\n",
    "    print(f\"Warning: The following environment variables are not set: {', '.join(missing_vars)}\")\n",
    "    print(\"Please set them in a .env file or directly in the environment.\")\n",
    "else:\n",
    "    print(\"All required environment variables are set.\")"
   ]
  },
  {
   "cell_type": "code",
   "execution_count": 2,
   "metadata": {
    "cellUniqueIdByVincent": "7f1a4"
   },
   "outputs": [],
   "source": [
    "# Initialize the System\n",
    "\n",
    "document_processor = DocumentProcessor()\n",
    "knowledge_graph = KnowledgeGraph()\n",
    "vector_store = VectorStore(knowledge_graph)\n",
    "entity_extractor = GraphEntityRetriever()\n",
    "retriever = Retriever(knowledge_graph, vector_store)\n",
    "rag_chain = RagChain(retriever)\n",
    "\n"
   ]
  },
  {
   "cell_type": "markdown",
   "metadata": {
    "cellUniqueIdByVincent": "50bc0"
   },
   "source": [
    "# Load the documents"
   ]
  },
  {
   "cell_type": "code",
   "execution_count": 3,
   "metadata": {
    "cellUniqueIdByVincent": "d97fa"
   },
   "outputs": [
    {
     "name": "stdout",
     "output_type": "stream",
     "text": [
      "Loaded 78 document chunks from the knowledge base\n",
      "\n",
      "First document chunk:\n",
      "**Chris Olande: A Deep Professional Profile for RAG Systems**\n",
      "\n",
      "**Overview**\n",
      "\n",
      "Chris Olande is an ambitious and intellectually gifted data science student at Kenyatta University in Nairobi, Kenya. With a rigorous academic foundation in statistics and programming, Chris is cultivating a multidisciplinary approach that intersects applied mathematics, artificial intelligence, and human-centered design. He brings together analytical precision, computational depth, and social responsibility in his work...\n"
     ]
    }
   ],
   "source": [
    "documents = document_processor.process_documents()\n",
    "print(f\"Loaded {len(documents)} document chunks from the knowledge base\")\n",
    "print(\"\\nFirst document chunk:\")\n",
    "print(documents[0].page_content[:500] + \"...\")"
   ]
  },
  {
   "cell_type": "markdown",
   "metadata": {
    "cellUniqueIdByVincent": "2039d"
   },
   "source": [
    "# Build the knowledge graph"
   ]
  },
  {
   "cell_type": "code",
   "execution_count": 4,
   "metadata": {
    "cellUniqueIdByVincent": "4c14e"
   },
   "outputs": [
    {
     "name": "stdout",
     "output_type": "stream",
     "text": [
      "Knowledge graph created successfully!\n"
     ]
    }
   ],
   "source": [
    "from IPython.display import clear_output\n",
    "# Clear the existing database\n",
    "knowledge_graph.clear_database()\n",
    "\n",
    "# Create a knowledge graph from the documents\n",
    "knowledge_graph.create_graph_from_documents(documents)\n",
    "clear_output()\n",
    "print(\"Knowledge graph created successfully!\")"
   ]
  },
  {
   "cell_type": "code",
   "execution_count": 5,
   "metadata": {
    "cellUniqueIdByVincent": "08a2b"
   },
   "outputs": [
    {
     "data": {
      "application/vnd.jupyter.widget-view+json": {
       "model_id": "ad25ae1e1a4a4f22897390fcba77325e",
       "version_major": 2,
       "version_minor": 0
      },
      "text/plain": [
       "GraphWidget(layout=Layout(height='800px', width='100%'))"
      ]
     },
     "metadata": {},
     "output_type": "display_data"
    }
   ],
   "source": [
    "knowledge_graph.visualize_graph()"
   ]
  },
  {
   "cell_type": "markdown",
   "metadata": {
    "cellUniqueIdByVincent": "97fdf"
   },
   "source": [
    "# Test entity Extraction"
   ]
  },
  {
   "cell_type": "code",
   "execution_count": 6,
   "metadata": {
    "cellUniqueIdByVincent": "65bbb"
   },
   "outputs": [
    {
     "name": "stdout",
     "output_type": "stream",
     "text": [
      "Extracting entities for question: Who is Chris Olande?\n",
      "Extracted 1 entities: ['Chris Olande']\n",
      "['Chris Olande']\n"
     ]
    }
   ],
   "source": [
    "question = \"Who is Chris Olande?\"\n",
    "entity = entity_extractor.extract_entities(question)\n",
    "print(entity)"
   ]
  },
  {
   "cell_type": "markdown",
   "metadata": {
    "cellUniqueIdByVincent": "7da29"
   },
   "source": [
    "# Test structured entity extraction"
   ]
  },
  {
   "cell_type": "code",
   "execution_count": 7,
   "metadata": {
    "cellUniqueIdByVincent": "b8f86"
   },
   "outputs": [
    {
     "name": "stdout",
     "output_type": "stream",
     "text": [
      "Processing structured retrieval for question: Who is Chris Olande?\n",
      "Extracting entities for question: Who is Chris Olande?\n",
      "Extracted 1 entities: ['Chris Olande']\n",
      "Retrieved 39 relationships for entity 'Chris Olande'\n",
      "Found 39 relationships for entity 'Chris Olande'\n",
      "  - Chris Olande - WORKS_ON -> Data Science\n",
      "  - Chris Olande - USES -> OpenCV\n",
      "  - Chris Olande - USES -> FAISS\n",
      "  - Chris Olande - USES -> vision transformers\n",
      "  - Chris Olande - USES -> Pinecone\n",
      "  ... and 34 more\n",
      "Question: Who is Chris Olande?\n",
      "\n",
      "Structured retrieval results:\n",
      "Chris Olande - WORKS_ON -> Data Science\n",
      "Chris Olande - USES -> OpenCV\n",
      "Chris Olande - USES -> FAISS\n",
      "Chris Olande - USES -> vision transformers\n",
      "Chris Olande - USES -> Pinecone\n",
      "Chris Olande - USES -> Streamlit\n",
      "Chris Olande - USES -> Docker\n",
      "Chris Olande - USES -> Python\n",
      "Chris Olande - USES -> Flask\n",
      "Chris Olande - USES -> Fastai\n",
      "Chris Olande - USES -> Gradio\n",
      "Chris Olande - USES -> torchvision transforms\n",
      "Chris Olande - DESIGNS -> intelligent job search assistant\n",
      "Chris Olande - PROMOTES -> STEM exposure\n",
      "Chris Olande - DEVELOPS -> ConversationalRAG\n",
      "Chris Olande - IMPLEMENTS -> YOLOv8\n",
      "Chris Olande - BASED_IN -> Africa\n",
      "Chris Olande - WORKS_FOR -> RAG Systems\n",
      "Chris Olande - LEADS -> educational visit to Impala Glass Industries\n",
      "Chris Olande - FINE_TUNES -> BERT\n",
      "Chris Olande - INTEGRATES -> LangChain\n",
      "Chris Olande - INTEGRATES -> Hugging Face pipelines\n",
      "Chris Olande - INTEGRATES -> OpenAI APIs\n",
      "Chris Olande - CUSTOMIZES -> DataLoaders\n",
      "Chris Olande - APPLIES -> PCA\n",
      "Chris Olande - RUNS -> neural style transfer\n",
      "Chris Olande - AIMS_TO_CONTRIBUTE_TO -> Hugging Face\n",
      "Chris Olande - AIMS_TO_CONTRIBUTE_TO -> AI in Education\n",
      "Chris Olande - AIMS_TO_CONTRIBUTE_TO -> Haystack\n",
      "Chris Olande - AIMS_TO_CONTRIBUTE_TO -> LangChain\n",
      "Chris Olande - AIMS_TO_CONTRIBUTE_TO -> Research Labs & AI Startups\n",
      "Chris Olande - AIMS_TO_CONTRIBUTE_TO -> Intelligent Agents\n",
      "Chris Olande - AIMS_TO_CONTRIBUTE_TO -> Open Source Contributions\n",
      "Chris Olande - SEEKS -> Internships, Research Assistantships, Open-source Opportunities\n",
      "Chris Olande - ATTENDS_AT -> Kenyatta University\n",
      "Chris Olande - TRAINS -> convolutional networks\n",
      "Chris Olande - MENTORS -> peers\n",
      "Chris Olande - TUTORS -> peers in statistics and machine learning\n",
      "Nairobi - BASED_IN -> Chris Olande\n"
     ]
    }
   ],
   "source": [
    "structured_results = entity_extractor.structured_retriever(question)\n",
    "\n",
    "print(f\"Question: {question}\")\n",
    "print(\"\\nStructured retrieval results:\")\n",
    "print(structured_results)"
   ]
  },
  {
   "cell_type": "markdown",
   "metadata": {
    "cellUniqueIdByVincent": "3c6ba"
   },
   "source": [
    "# Create the hybrid vector index"
   ]
  },
  {
   "cell_type": "code",
   "execution_count": 8,
   "metadata": {
    "cellUniqueIdByVincent": "a7cd6"
   },
   "outputs": [
    {
     "name": "stdout",
     "output_type": "stream",
     "text": [
      "Hybrid vector index created successfully!\n"
     ]
    }
   ],
   "source": [
    "vector_store.create_hybrid_index()\n",
    "\n",
    "print(\"Hybrid vector index created successfully!\")"
   ]
  },
  {
   "cell_type": "markdown",
   "metadata": {
    "cellUniqueIdByVincent": "7ab8f"
   },
   "source": [
    "# Create vector index"
   ]
  },
  {
   "cell_type": "code",
   "execution_count": 9,
   "metadata": {
    "cellUniqueIdByVincent": "a9a16"
   },
   "outputs": [
    {
     "name": "stdout",
     "output_type": "stream",
     "text": [
      "Vector index created successfully!\n"
     ]
    }
   ],
   "source": [
    "# create vector index from documents\n",
    "vector_store.create_vector_index(documents)\n",
    "\n",
    "print(\"Vector index created successfully!\")"
   ]
  },
  {
   "cell_type": "markdown",
   "metadata": {
    "cellUniqueIdByVincent": "53d75"
   },
   "source": [
    "## Test vector Retrieval"
   ]
  },
  {
   "cell_type": "code",
   "execution_count": 10,
   "metadata": {
    "cellUniqueIdByVincent": "173f8"
   },
   "outputs": [
    {
     "name": "stdout",
     "output_type": "stream",
     "text": [
      "Question: Who is Chris Olande?\n",
      "\n",
      "Vector retrieval results:\n",
      "\n",
      "Document 1:\n",
      "**Chris Olande: A Deep Professional Profile for RAG Systems**\n",
      "\n",
      "**Overview**\n",
      "\n",
      "Chris Olande is an ambitious and intellectually gifted data science student at Kenyatta University in Nairobi, Kenya. With a rigorous academic foundation in statistics and programming, Chris is cultivating a multidisciplina...\n",
      "\n",
      "Document 2:\n",
      " tutoring peers in statistics and machine learning, explaining complex concepts like backpropagation, gradient descent, and dimensionality reduction using intuitive analogies and real-life examples.\n",
      "\n",
      "**Personality, Work Ethic, and Personal Interests**\n",
      "\n",
      "Chris is disciplined, curious, and mathematical...\n",
      "\n",
      "Document 3:\n",
      ".\n",
      "Have we anything new to offer upon the subject?  Nothing.  We have held the\n",
      "subject up in every light of which it is capable; but it has been all in vain.\n",
      "Shall we resort to entreaty and humble supplication?  What terms shall we\n",
      "find which have not been already exhausted?  Let us not, I beseech yo...\n",
      "\n",
      "Document 4:\n",
      "\n",
      "\n",
      "The Mayflower Compact\n",
      "\n",
      "November 11, 1620  [This was November 21, old style calendar]\n",
      "\n",
      "In the name of God, Amen.  We, whose names are underwritten,\n",
      "the Loyal Subjects of our dread Sovereigne Lord, King James,\n",
      "by the Grace of God, of Great Britaine, France, and Ireland,\n",
      "King, Defender of the Faith, ...\n"
     ]
    }
   ],
   "source": [
    "# Test vector retrieval\n",
    "vector_results = retriever.vector_retrieval(question, k=2)\n",
    "\n",
    "print(f\"Question: {question}\")\n",
    "print(\"\\nVector retrieval results:\")\n",
    "for i, doc in enumerate(vector_results):\n",
    "    print(f\"\\nDocument {i+1}:\")\n",
    "    print(doc.page_content[:300] + \"...\")"
   ]
  },
  {
   "cell_type": "markdown",
   "metadata": {
    "cellUniqueIdByVincent": "0aeb5"
   },
   "source": [
    "# Test hybrid retrieval\n"
   ]
  },
  {
   "cell_type": "code",
   "execution_count": 11,
   "metadata": {
    "cellUniqueIdByVincent": "4a76d"
   },
   "outputs": [
    {
     "name": "stdout",
     "output_type": "stream",
     "text": [
      "Question: Who is Chris Olande?\n",
      "\n",
      "Hybrid retrieval results:\n",
      "Structured data:\n",
      "            No relevant information found in the knowledge graph.\n",
      "\n",
      "            Unstructured data:\n",
      "            **Chris Olande: A Deep Professional Profile for RAG Systems**\n",
      "\n",
      "**Overview**\n",
      "\n",
      "Chris Olande is an ambitious and intellectually gifted data science student at Kenyatta University in Nairobi, Kenya. With a rigorous academic foundation in statistics and programming, Chris is cultivating a multidisciplinary approach that intersects applied mathematics, artificial intelligence, and human-centered design. He brings together analytical precision, computational depth, and social responsibility in his work. Chris is not only building machine learning systems—he is actively shaping the future of AI literacy and ethical, context-aware data applications in Kenya and beyond.\n",
      "\n",
      "**Academic Background and Technical Expertise**\n",
      "\n",
      "Chris’s academic journey is rooted in mathematical reasoning and statistical theory, reinforced by practical mastery in Python programming. His skillset spans across a comprehensive set of technologies essential to modern data science, including:\n",
      "\n",
      "* **Statistical Foundations**: Hypothesis testing, linear and multiple regression, time series analysis, exploratory factor analysis (EFA), and experimental design.\n",
      "* **Programming and Tooling**: Python, R (for statistical computing), Git/GitHub, and shell scripting for automated workflows.\n",
      "* **Data Science Libraries**: NumPy, pandas, matplotlib, seaborn, scikit-learn, SciPy.\n",
      "* **Deep Learning and NLP**: PyTorch, Hugging Face Transformers, Fastai, OpenCV, LangChain, SentenceTransformers.\n",
      "* **ML Experiment Tracking**: Weights & Biases, TensorBoard.\n",
      "* **Deployment Tools**: Streamlit, Gradio, and Flask for prototyping models; Docker for containerized environments.\n",
      "\n",
      "Chris routinely constructs full pipelines—from ingestion and preprocessing to modeling, evaluation, and deployment—both for academic research and real-world impact.\n",
      "\n",
      "**Advanced NLP and Retrieval-Augmented Generation Work**\n",
      "\n",
      "Chris’s passion for language modeling has evolved into serious research around **Retrieval-Augmented Generation (RAG)** and its applications in building intelligent agents. Notably:\n",
      "\n",
      "* He has fine-tuned transformer models such as BERT and DistilBERT for sentiment classification tasks, integrating techniques such as early stopping, learning rate schedulers, and hyperparameter optimization.\n",
      "* He developed a **modular ConversationalRAG class** integrating OpenAI APIs, LangChain, and Hugging Face pipelines with vector search (e.g., FAISS or Pinecone), enabling semantic Q\\&A from custom document stores.\n",
      "* He is actively experimenting with **agentic RAG systems** capable of long-term memory, tool invocation, and self-reflection via LangChain Expression Language (LCEL). His agents feature layered control loops for planning, reasoning, and document-aware response generation.\n",
      "* As of May 2025, Chris is designing an intelligent job search assistant powered by OpenRouter’s LLaMA 3.2B and Gemini embeddings. It connects Pinecone for semantic search, parses job listings, and enables modular response formatting, highlighting his system design skills.\n",
      "\n",
      "**Computer Vision and Multimodal Learning**\n",
      "\n",
      "Chris has substantial experience in image classification, object detection, and style transfer. His work includes:\n",
      "\n",
      "* Training convolutional networks on disease detection datasets involving tomato leaves.\n",
      "* Implementing YOLOv8 and vision transformers for object detection tasks.\n",
      "* Using Fastai with ViT backbones, customizing DataLoaders, and applying PCA for dimensionality reduction and visualization.\n",
      "* Running neural style transfer with customized weight tuning and visual outputs using Gradio Blocks.\n",
      "* Performing practical image augmentation and preprocessing using OpenCV and torchvision transforms.\n",
      "\n",
      "**Educational Leadership and STEM Advocacy**\n",
      "\n",
      "A lifelong learner and passionate educator, Chris led a pioneering educational visit for Grade 7 students to Impala Glass Industries in Nairobi. His initiative promoted STEM exposure and hands-on industry engagement among young learners. As a mentor and community leader, he values demystifying technology for marginalized groups, ensuring equitable access to digital education in Kenya.\n",
      "\n",
      "He is also a firm believer in **constructive peer learning**. At Kenyatta University, Chris is known for tutoring peers in statistics and machine learning, explaining complex concepts like backpropagation, gradient descent, and dimensionality reduction using intuitive analogies and real-life examples.\n",
      "\n",
      "**Personality, Work Ethic, and Personal Interests**\n",
      "\n",
      "Chris is disciplined, curious, and mathematically inclined. He can spend hours discussing abstract mathematical theory—from convergence of sequences to information entropy. Despite his technical prowess, he remains grounded and people-centered, embodying humility and empathy in all collaborations.\n",
      "\n",
      "* **Personality traits**: Methodical, introspective, self-motivated, collaborative, and principled.\n",
      "#Document  tutoring peers in statistics and machine learning, explaining complex concepts like backpropagation, gradient descent, and dimensionality reduction using intuitive analogies and real-life examples.\n",
      "\n",
      "**Personality, Work Ethic, and Personal Interests**\n",
      "\n",
      "Chris is disciplined, curious, and mathematically inclined. He can spend hours discussing abstract mathematical theory—from convergence of sequences to information entropy. Despite his technical prowess, he remains grounded and people-centered, embodying humility and empathy in all collaborations.\n",
      "\n",
      "* **Personality traits**: Methodical, introspective, self-motivated, collaborative, and principled.\n",
      "* **Coding style**: Clean, modular, well-documented with adherence to PEP-8 and best practices in version control.\n",
      "* **Personal vision**: To become one of Africa’s leading data scientists and contribute to responsible AI systems that serve the public good.\n",
      "\n",
      "Chris views artificial intelligence not just as a technical endeavor, but as a **moral obligation**—a way to design systems that preserve human dignity, enhance transparency, and foster equitable outcomes.\n",
      "\n",
      "**Career Aspirations and Future Directions**\n",
      "\n",
      "Chris is preparing for a future that merges AI systems research with applied data science in dynamic sectors such as:\n",
      "\n",
      "* **Intelligent Agents**: Autonomous systems with real-time planning, reasoning, and interactivity.\n",
      "* **AI in Education**: Systems that personalize learning, assess student understanding, and provide adaptive feedback.\n",
      "* **Research Labs & AI Startups**: Contributing to language model interpretability, ethical AI, or real-time AI tooling.\n",
      "* **Open Source Contributions**: Chris aims to contribute to LangChain, Haystack, or Hugging Face projects.\n",
      "\n",
      "In the near term, he seeks internships, research assistantships, and open-source opportunities aligned with his vision.\n",
      "\n",
      "**Final Note**\n",
      "\n",
      "Chris Olande is not merely a student of data science—he is a builder of knowledge systems, an educational innovator, and a principled technologist. With his intellectual rigor, empathetic leadership, and forward-thinking spirit, Chris represents the future of responsible AI in Africa.\n",
      "\n",
      "He is ready not just to participate in the next wave of technological progress—but to lead it.\n",
      "#Document .\n",
      "Have we anything new to offer upon the subject?  Nothing.  We have held the\n",
      "subject up in every light of which it is capable; but it has been all in vain.\n",
      "Shall we resort to entreaty and humble supplication?  What terms shall we\n",
      "find which have not been already exhausted?  Let us not, I beseech you, sir,\n",
      "deceive ourselves.  Sir, we have done everything that could be done to avert\n",
      "the storm which is now coming on.  We have petitioned; we have remonstrated;\n",
      "we have supplicated; we have prostrated ourselves before the throne, and have\n",
      "implored its interposition to arrest the tyrannical hands of the ministry and\n",
      "Parliament.  Our petitions have been slighted; our remonstrances have produced\n",
      "additional violence and insult; our supplications have been disregarded;\n",
      "and we have been spurned, with contempt, from the foot of the throne!\n",
      "In vain, after these things, may we indulge the fond hope of peace and\n",
      "reconciliation.  There is no longer any room for hope.  If we wish to be free--\n",
      "if we mean to preserve inviolate those inestimable privileges for which\n",
      "we have been so long contending--if we mean not basely to abandon the noble\n",
      "struggle in which we have been so long engaged, and which we have pledged\n",
      "ourselves never to abandon until the glorious object of our contest\n",
      "shall be obtained--we must fight!  I repeat it, sir, we must fight!\n",
      "An appeal to arms  and to the God of hosts is all that is left us!\n",
      "\n",
      "They tell us, sir, that we are weak; unable to cope with so formidable\n",
      "an adversary.  But when shall we be stronger?  Will it be the next week,\n",
      "or the next year?  Will it be when we are totally disarmed, and when a British\n",
      "guard shall be stationed in every house?  Shall we gather strength but\n",
      "irresolution and inaction?  Shall we acquire the means of effectual resistance\n",
      "by lying supinely on our backs and hugging the delusive phantom of hope, until\n",
      "our enemies shall have bound us hand and foot?  Sir, we are not weak if we make\n",
      "a proper use of those means which the God of nature hath placed in our power.\n",
      "The millions of people, armed in the holy cause of liberty, and in such a\n",
      "country as that which we possess, are invincible by any force which our enemy\n",
      "can send against us.  Besides, sir, we shall not fight our battles alone.\n",
      "There is a just God who presides over the destinies of nations, and who will\n",
      "raise up friends to fight our battles for us.  The battle, sir, is not to the\n",
      "strong alone; it is to the vigilant, the active, the brave.  Besides, sir,\n",
      "we have no election.  If we were base enough to desire it, it is now too late\n",
      "to retire from the contest.  There is no retreat but in submission and slavery!\n",
      "Our chains are forged!  Their clanking may be heard on the plains of Boston!\n",
      "The war is inevitable--and let it come!  I repeat it, sir, let it come.\n",
      "\n",
      "It is in vain, sir, to extenuate the matter.  Gentlemen may cry, Peace, Peace--\n",
      "but there is no peace.  The war is actually begun!  The next gale that sweeps\n",
      "from the north will bring to our ears the clash of resounding arms!\n",
      "Our brethren are already in the field!  Why stand we here idle?\n",
      "What is it that gentlemen wish?  What would they have?  Is life so dear,\n",
      "or peace so sweet, as to be purchased at the price of chains and slavery?\n",
      "Forbid it, Almighty God!  I know not what course others may take;\n",
      "but as for me, give me liberty or give me death!\n",
      "\n",
      "\n",
      "\n",
      "\n",
      "Officially released December 31, 1977  [Etext #7]\n",
      "Officially re-released November 25, 1993\n",
      "In honor of Thanksgiving\n",
      "\n",
      "******The Project Gutenberg Etext of The Mayflower Compact*****\n",
      "\n",
      "\n",
      "\n",
      "The Mayflower Compact\n",
      "\n",
      "November 11, 1620  [This was November 21, old style calendar]\n",
      "\n",
      "In the name of God, Amen.  We, whose names are underwritten,\n",
      "the Loyal Subjects of our dread Sovereigne Lord, King James,\n",
      "by the Grace of God, of Great Britaine, France, and Ireland,\n",
      "King, Defender of the Faith, &c.\n",
      "\n",
      "Having undertaken for the Glory of God, and Advancement of\n",
      "the Christian Faith, and the Honour of our King and Country,\n",
      "a Voyage to plant the first colony in the Northerne Parts#Document \n",
      "\n",
      "The Mayflower Compact\n",
      "\n",
      "November 11, 1620  [This was November 21, old style calendar]\n",
      "\n",
      "In the name of God, Amen.  We, whose names are underwritten,\n",
      "the Loyal Subjects of our dread Sovereigne Lord, King James,\n",
      "by the Grace of God, of Great Britaine, France, and Ireland,\n",
      "King, Defender of the Faith, &c.\n",
      "\n",
      "Having undertaken for the Glory of God, and Advancement of\n",
      "the Christian Faith, and the Honour of our King and Country,\n",
      "a Voyage to plant the first colony in the Northerne Parts\n",
      "of Virginia; doe, by these Presents, solemnly and mutually\n",
      "in the Presence of God and one of another, covenant and\n",
      "combine ourselves together into a civill Body Politick,\n",
      "for our better Ordering and Preservation, and Furtherance\n",
      "of the Ends aforesaid; And by Virtue hereof do enact,\n",
      "constitute, and frame, such just and equall Laws, Ordinances,\n",
      "Acts, Constitutions, and Offices, from time to time,\n",
      "as shall be thought most meete and convenient for the\n",
      "Generall Good of the Colonie; unto which we promise\n",
      "all due Submission and Obedience.\n",
      "\n",
      "In Witness whereof we have hereunto subscribed our names\n",
      "at Cape Cod the eleventh of November, in the Raigne of our\n",
      "Sovereigne Lord, King James of England, France, and Ireland,\n",
      "the eighteenth, and of Scotland, the fiftie-fourth,\n",
      "Anno. Domini, 1620.\n",
      "\n",
      "Mr. John Carver           Mr. Stephen Hopkins\n",
      "Mr. William Bradford      Digery Priest\n",
      "Mr. Edward Winslow        Thomas Williams\n",
      "Mr. William Brewster      Gilbert Winslow\n",
      "Isaac Allerton            Edmund Margesson\n",
      "Miles Standish            Peter Brown\n",
      "John Alden                Richard Bitteridge\n",
      "John Turner               George Soule\n",
      "Francis Eaton             Edward Tilly\n",
      "James Chilton             John Tilly\n",
      "John Craxton              Francis Cooke\n",
      "John Billington           Thomas Rogers\n",
      "Joses Fletcher            Thomas Tinker\n",
      "John Goodman              John Ridgate\n",
      "Mr. Samuel Fuller         Edward Fuller\n",
      "Mr. Christopher Martin    Richard Clark\n",
      "Mr. William Mullins       Richard Gardiner\n",
      "Mr. William White         Mr. John Allerton\n",
      "Mr. Richard Warren        Thomas English\n",
      "John Howland              Edward Doten\n",
      "Edward Liester\n",
      "\n",
      "\n",
      "\n",
      "December, 1978  [Etext #8]\n",
      "\n",
      "**The Project Gutenberg Etext of Lincoln's 2nd Inaugural Address**\n",
      "\n",
      "\n",
      "\n",
      "\n",
      "Lincoln's Second Inaugural Address\n",
      "March 4, 1865\n",
      "\n",
      "\n",
      "\n",
      "Fellow countrymen:  At this second appearing to take the oath\n",
      "of the presidential office, there is less occasion for an extended\n",
      "address than there was at the first.  Then a statement, somewhat\n",
      "in detail, of a course to be pursued, seemed fitting and proper.\n",
      "Now, at the expiration of four years, during which public declarations\n",
      "have been constantly called forth on every point and phase of the great\n",
      "contest which still absorbs the attention and engrosses the energies\n",
      "of the nation, little that is new could be presented.  The progress\n",
      "of our arms, upon which all else chiefly depends, is as well known\n",
      "to the public as to myself; and it is, I trust, reasonably satisfactory\n",
      "and encouraging to all.  With high hope for the future, no prediction\n",
      "in regard to it is ventured.\n",
      "\n",
      "On the occasion corresponding to this four years ago, all thoughts\n",
      "were anxiously directed to an impending civil war.  All dreaded it--\n",
      "all sought to avert it.  While the inaugural address was being delivered\n",
      "from this place, devoted altogether to saving the Union without war,\n",
      "insurgent agents were in the city seeking to destroy it without war--\n",
      "seeking to dissolve the Union, and divide effects, by negotiation.\n",
      "Both parties deprecated war; but one of them would make war rather\n",
      "than let the nation survive; and the other would accept war rather\n",
      "\n",
      "            \n"
     ]
    }
   ],
   "source": [
    "# Test hybrid retrieval\n",
    "hybrid_results = retriever.hybrid_retrieval(question)\n",
    "\n",
    "print(f\"Question: {question}\")\n",
    "print(\"\\nHybrid retrieval results:\")\n",
    "print(hybrid_results)"
   ]
  },
  {
   "cell_type": "markdown",
   "metadata": {
    "cellUniqueIdByVincent": "6473b"
   },
   "source": [
    "# Test RAG Chain"
   ]
  },
  {
   "cell_type": "code",
   "execution_count": 12,
   "metadata": {
    "cellUniqueIdByVincent": "7e4f1"
   },
   "outputs": [
    {
     "name": "stdout",
     "output_type": "stream",
     "text": [
      "Question: Who is Chris Olande?\n",
      "\n",
      "Answer:  Chris Olande is an ambitious and intellectually gifted data science student at Kenyatta University in Nairobi, Kenya. He has a rigorous academic foundation in statistics and programming, and is cultivating a multidisciplinary approach that intersects applied mathematics, artificial intelligence, and human-centered design. Chris is known for building machine learning systems and is actively shaping the future of AI literacy and ethical, context-aware data applications in Kenya and beyond. He has a wide range of technical expertise in various data science technologies, including statistical foundations, programming and tooling, data science libraries, deep learning and NLP, ML experiment tracking, deployment tools, and more. He is also involved in educational leadership and STEM advocacy, and has a personal vision to become one of Africa's leading data scientists and contribute to responsible AI systems that serve the public good.\n"
     ]
    }
   ],
   "source": [
    "# Test the RAG chain\n",
    "answer = rag_chain.invoke({\"question\": question})\n",
    "\n",
    "print(f\"Question: {question}\")\n",
    "print(f\"\\nAnswer: {answer}\")"
   ]
  },
  {
   "cell_type": "markdown",
   "metadata": {
    "cellUniqueIdByVincent": "d2e68"
   },
   "source": [
    "## Test using a follow up question"
   ]
  },
  {
   "cell_type": "code",
   "execution_count": 13,
   "metadata": {
    "cellUniqueIdByVincent": "fc8fb"
   },
   "outputs": [
    {
     "name": "stdout",
     "output_type": "stream",
     "text": [
      "Follow-up question: What does he even do at Kenyatta University?\n",
      "\n",
      "Answer:  Chris Olande is a data science student at Kenyatta University in Nairobi, Kenya. He tutors peers in statistics and machine learning, explaining complex concepts using intuitive analogies and real-life examples.\n"
     ]
    }
   ],
   "source": [
    "# Initialize chat history\n",
    "chat_history = [(question, answer)]\n",
    "\n",
    "# Ask a follow-up question\n",
    "follow_up_question = \"What does he even do at Kenyatta University?\"\n",
    "\n",
    "# Get answer to follow-up question\n",
    "follow_up_answer = rag_chain.invoke({\n",
    "    \"question\": follow_up_question,\n",
    "    \"chat_history\": chat_history\n",
    "})\n",
    "\n",
    "print(f\"Follow-up question: {follow_up_question}\")\n",
    "print(f\"\\nAnswer: {follow_up_answer}\")"
   ]
  },
  {
   "cell_type": "code",
   "execution_count": 14,
   "metadata": {
    "cellUniqueIdByVincent": "7909e"
   },
   "outputs": [
    {
     "name": "stdout",
     "output_type": "stream",
     "text": [
      "Follow-up question: How and what tools does he use and what jobs is he suited for in the future?\n",
      "\n",
      "Answer:  Chris Olande uses various tools in his work as a data scientist, including Python, R, Git/GitHub, shell scripting, NumPy, pandas, matplotlib, seaborn, scikit-learn, SciPy, PyTorch, Hugging Face Transformers, Fastai, OpenCV, LangChain, SentenceTransformers, Weights & Biases, TensorBoard, Streamlit, Gradio, Flask, Docker, FAISS, and Pinecone. He is suited for jobs in intelligent agents, AI in education, research labs & AI startups, and open-source contributions, particularly in areas like language model interpretability, ethical AI, real-time AI tooling, and Retrieval-Augmented Generation (RAG) systems.\n"
     ]
    }
   ],
   "source": [
    "quiz = \"How and what tools does he use and what jobs is he suited for in the future?\"\n",
    "\n",
    "# Get answer to follow-up question\n",
    "follow_up_answer = rag_chain.invoke({\n",
    "    \"question\": quiz,\n",
    "    \"chat_history\": chat_history\n",
    "})\n",
    "\n",
    "print(f\"Follow-up question: {quiz}\")\n",
    "print(f\"\\nAnswer: {follow_up_answer}\")"
   ]
  },
  {
   "cell_type": "markdown",
   "metadata": {
    "cellUniqueIdByVincent": "8e3d9"
   },
   "source": [
    "# Test questions based on romeo and juliet knowledge base"
   ]
  },
  {
   "cell_type": "code",
   "execution_count": 15,
   "metadata": {
    "cellUniqueIdByVincent": "ad736"
   },
   "outputs": [
    {
     "name": "stdout",
     "output_type": "stream",
     "text": [
      "Question: give me a brief story about the romeo and juliet book\n",
      "\n",
      "Answer:  \"The Tragedy of Romeo and Juliet\" is a play written by William Shakespeare. It tells the story of two young lovers, Romeo Montague and Juliet Capulet, who belong to two feuding families in the city of Verona. Despite their families' longstanding hatred for each other, Romeo and Juliet fall in love at first sight at a masquerade ball. They secretly marry with the help of Friar Lawrence, but their happiness is short-lived as their families' feud leads to a series of tragic events, including the deaths of both Romeo and Juliet. The play explores themes of love, family, and the consequences of hatred, and is considered one of Shakespeare's most famous works.\n"
     ]
    }
   ],
   "source": [
    "question = \"give me a brief story about the romeo and juliet book\"\n",
    "# Test the RAG chain\n",
    "answer = rag_chain.invoke({\"question\": question})\n",
    "\n",
    "print(f\"Question: {question}\")\n",
    "print(f\"\\nAnswer: {answer}\")"
   ]
  },
  {
   "cell_type": "code",
   "execution_count": 16,
   "metadata": {
    "cellUniqueIdByVincent": "849a0"
   },
   "outputs": [
    {
     "name": "stdout",
     "output_type": "stream",
     "text": [
      "Follow-up question: How did Romeo meet Juliet?\n",
      "\n",
      "Answer:  In the context provided, Romeo and Juliet first meet at a party hosted by Capulet. They meet in secret because they are from rival families and are not supposed to associate with each other. Juliet is introduced to Romeo by her Nurse, and they quickly fall in love. Later, they meet again in Friar Lawrence's garden, where they consummate their relationship and plan to get married in secret.\n"
     ]
    }
   ],
   "source": [
    "question = \"How did Romeo meet Juliet?\"\n",
    "\n",
    "# Get answer to follow-up question\n",
    "follow_up_answer = rag_chain.invoke({\n",
    "    \"question\": question,\n",
    "    \"chat_history\": chat_history\n",
    "})\n",
    "\n",
    "print(f\"Follow-up question: {question}\")\n",
    "print(f\"\\nAnswer: {follow_up_answer}\")"
   ]
  },
  {
   "cell_type": "code",
   "execution_count": 17,
   "metadata": {
    "cellUniqueIdByVincent": "217fe"
   },
   "outputs": [
    {
     "name": "stdout",
     "output_type": "stream",
     "text": [
      "Follow-up question: How did Romeo meet his fate? go on to tell me how Juliet met her too.\n",
      "\n",
      "Answer:  In the play \"Romeo and Juliet\" by William Shakespeare, Romeo is banished from Verona after killing Tybalt in a duel. Later, Juliet is given a potion by Friar Lawrence that is meant to make her appear dead, but she is awakened before Romeo can arrive to take her away. When he finds her in the tomb, he is devastated and eventually takes his own life. As for Juliet, she wakes up and finds herself in the tomb, not knowing that Romeo is dead. She is later found by Friar Laurence and the Nurse, and they try to find a way to reunite her with Romeo. However, the play ends tragically with both Juliet and Romeo dying.\n"
     ]
    }
   ],
   "source": [
    "quiz = \"How did Romeo meet his fate? go on to tell me how Juliet met her too.\"\n",
    "\n",
    "# Get answer to follow-up question\n",
    "follow_up_answer = rag_chain.invoke({\n",
    "    \"question\": quiz,\n",
    "    \"chat_history\": chat_history\n",
    "})\n",
    "\n",
    "print(f\"Follow-up question: {quiz}\")\n",
    "print(f\"\\nAnswer: {follow_up_answer}\")"
   ]
  },
  {
   "cell_type": "markdown",
   "metadata": {
    "cellUniqueIdByVincent": "6a385"
   },
   "source": [
    "# Test for questions about the declaration of independence"
   ]
  },
  {
   "cell_type": "code",
   "execution_count": 18,
   "metadata": {
    "cellUniqueIdByVincent": "da1f5"
   },
   "outputs": [
    {
     "name": "stdout",
     "output_type": "stream",
     "text": [
      "Question: what grievances were made against the King of England?\n",
      "\n",
      "Answer:  The grievances made against the King of England, as stated in the Declaration of Independence, include:\n",
      "\n",
      "1. Refusing to give assent to laws that were wholesome and necessary for the public good.\n",
      "2. Forbidding governors to pass laws of immediate and pressing importance without suspending them until his assent was obtained, and neglecting to attend to them when suspended.\n",
      "3. Refusing to pass laws for the accommodation of large districts of people unless they would relinquish the right of representation in the legislature.\n",
      "4. Calling legislative bodies to places unusual, uncomfortable, and distant from the depository of their public records, for the sole purpose of fatiguing them into compliance with his measures.\n",
      "5. Dissolving representative houses repeatedly for opposing his invasions on the rights of the people.\n",
      "6. Refusing for a long time to cause others to be elected after dissolutions, leaving the legislative powers incapable of annihilation to return to the people at large.\n",
      "7. Preventing the population of the states by obstructing the laws of naturalization of foreigners, refusing to pass laws to encourage their migration, and raising the conditions of new appropriations of lands.\n",
      "8. Obstructing the administration of justice by refusing his assent to laws for establishing judiciary powers.\n",
      "9. Making judges dependent on his will alone for the tenure of their offices and the amount and payment of their salaries.\n",
      "10. Erecting a multitude of new offices and sending swarms of officers to harass the people and eat out their substance.\n",
      "11. Keeping standing armies among the people in times of peace without the consent of their legislatures.\n",
      "12. Affecting to render the military independent of and superior to the civil power.\n",
      "13. Combining with others to subject the people to a jurisdiction foreign to their constitution and unacknowledged by their laws.\n",
      "14. Quartering large bodies of armed troops among the people.\n",
      "15. Protecting these troops by a mock trial from punishment for any murders they might commit on the inhabitants of the states.\n",
      "16. Cutting off their trade with all parts of the world.\n",
      "17. Imposing taxes on them without their consent.\n",
      "18. Depriving them, in many cases, of the benefits of trial by jury.\n",
      "19. Transporting them beyond seas to be tried for pretended offenses.\n",
      "20. Abolishing the free system of English laws in a neighboring province and establishing therein an arbitrary government.\n",
      "21. Taking away their charters, abolishing their most valuable laws, and altering fundamentally the forms of their governments.\n",
      "22. Suspending their own legislatures and declaring themselves invested with power to legislate for them in all cases whatsoever.\n",
      "23. Abdicating government here by declaring them out of his protection and waging war against them.\n",
      "24. Plundering their seas, ravaging their coasts, burning their towns, and destroying the lives of their people.\n",
      "25. Transporting large armies of foreign mercenaries to complete the works of death, desolation, and tyranny already begun.\n",
      "26. Constraining their fellow citizens taken captive on the high seas to bear arms against their country, to become the executioners of their friends and brethren, or to fall themselves by their hands.\n",
      "27. Exciting domestic insurrections amongst them and endeavoring to bring on the inhabitants of their frontiers, the merciless Indian savages, whose known rule of warfare is an undistinguished destruction of all ages, sexes, and conditions.\n",
      "28. In every stage of these oppressions, they have petitioned for redress in the most humble terms, but their repeated petitions have been answered only by repeated injury. A prince whose character is thus marked by every act which may define a tyrant is unfit to be the ruler of a free people.\n"
     ]
    }
   ],
   "source": [
    "question = \"what grievances were made against the King of England?\"\n",
    "# Test the RAG chain\n",
    "answer = rag_chain.invoke({\"question\": question})\n",
    "\n",
    "print(f\"Question: {question}\")\n",
    "print(f\"\\nAnswer: {answer}\")"
   ]
  },
  {
   "cell_type": "code",
   "execution_count": 19,
   "metadata": {
    "cellUniqueIdByVincent": "73d82"
   },
   "outputs": [
    {
     "name": "stdout",
     "output_type": "stream",
     "text": [
      "Follow-up question: How did the declaration change the status of the American colonies?\n",
      "\n",
      "Answer:  The Declaration of Independence declared the American colonies to be free and independent states, absolved from all allegiance to the British Crown, and dissolved all political connection between them and the State of Great Britain. This meant that the American colonies were no longer under British rule and were now independent nations.\n"
     ]
    }
   ],
   "source": [
    "quiz = \"How did the declaration change the status of the American colonies?\"\n",
    "\n",
    "# Get answer to follow-up question\n",
    "follow_up_answer = rag_chain.invoke({\n",
    "    \"question\": quiz,\n",
    "    \"chat_history\": chat_history\n",
    "})\n",
    "\n",
    "print(f\"Follow-up question: {quiz}\")\n",
    "print(f\"\\nAnswer: {follow_up_answer}\")"
   ]
  },
  {
   "cell_type": "code",
   "execution_count": 20,
   "metadata": {
    "cellUniqueIdByVincent": "6a972"
   },
   "outputs": [
    {
     "name": "stdout",
     "output_type": "stream",
     "text": [
      "Follow-up question: What enlightenment ideas are embedded in the declaration of independence?\n",
      "\n",
      "Answer:  The Declaration of Independence, written by Thomas Jefferson, is a foundational document of the United States that embodies several Enlightenment ideas. Here are some key Enlightenment ideas that can be found in the Declaration:\n",
      "\n",
      "1. Natural Rights: The Declaration asserts that all men are created equal and are endowed by their Creator with certain unalienable Rights, such as Life, Liberty, and the pursuit of Happiness. This idea is rooted in the Enlightenment belief in natural rights, which are inherent to all individuals and cannot be taken away by any government.\n",
      "\n",
      "2. Consent of the Governed: The Declaration states that governments are instituted among men to secure these rights, deriving their just powers from the consent of the governed. This idea reflects the Enlightenment belief in the social contract, whereby individuals agree to be governed in exchange for protection of their rights.\n",
      "\n",
      "3. Reason and Rationality: The Declaration appeals to reason and the principles of nature and nature's God, rather than tradition or divine right, as the basis for its arguments. This reflects the Enlightenment emphasis on reason and rationality as the means to understand the world and to guide human actions.\n",
      "\n",
      "4. Progress and Improvement: The Declaration asserts that governments can become destructive of the ends for which they were instituted, and that it is the right of the people to alter or abolish such governments. This idea reflects the Enlightenment belief in progress and the idea that human societies can and should improve over time.\n",
      "\n",
      "5. Humanity and Empathy: The Declaration appeals to the \"opinions of mankind\" and the \"better angels of our nature.\" This reflects the Enlightenment emphasis on humanity, empathy, and the potential for moral and ethical behavior.\n",
      "\n",
      "6. Self-Determination: The Declaration asserts the right of the people to determine their own government and to seek independence when their rights are being violated. This idea reflects the Enlightenment belief in self-determination and the idea that individuals should have the freedom to shape their own destiny.\n",
      "\n",
      "Overall, the Declaration of Independence embodies many of the key Enlightenment ideas, including the belief in natural rights, the consent of the governed, reason and rationality, progress and improvement, humanity and empathy, self-determination, and the potential for moral and ethical behavior.\n"
     ]
    }
   ],
   "source": [
    "quiz = \"What enlightenment ideas are embedded in the declaration of independence?\"\n",
    "\n",
    "# Get answer to follow-up question\n",
    "follow_up_answer = rag_chain.invoke({\n",
    "    \"question\": quiz,\n",
    "    \"chat_history\": chat_history\n",
    "})\n",
    "\n",
    "print(f\"Follow-up question: {quiz}\")\n",
    "print(f\"\\nAnswer: {follow_up_answer}\")"
   ]
  },
  {
   "cell_type": "code",
   "execution_count": 23,
   "metadata": {
    "cellUniqueIdByVincent": "dfea3"
   },
   "outputs": [
    {
     "name": "stdout",
     "output_type": "stream",
     "text": [
      "Follow-up question: What events led to the drafting of the declaration of independence in 1776?\n",
      "\n",
      "Answer:  The events that led to the drafting of the Declaration of Independence in 1776 were a long train of abuses and usurpations by the King of Great Britain, which the colonists believed were designed to establish an absolute tyranny over them. These abuses included refusing assent to laws, obstructing the administration of justice, quartering troops among them, cutting off trade, imposing taxes without consent, depriving them of trial by jury, and waging war against them, among other grievances. The colonists felt that these actions violated their rights to life, liberty, and the pursuit of happiness, and that it was their right and duty to throw off such a government and provide new guards for their future security.\n"
     ]
    }
   ],
   "source": [
    "quiz = \"What events led to the drafting of the declaration of independence in 1776?\"\n",
    "\n",
    "# Get answer to follow-up question\n",
    "follow_up_answer = rag_chain.invoke({\n",
    "    \"question\": quiz,\n",
    "    \"chat_history\": chat_history\n",
    "})\n",
    "\n",
    "print(f\"Follow-up question: {quiz}\")\n",
    "print(f\"\\nAnswer: {follow_up_answer}\")"
   ]
  },
  {
   "cell_type": "code",
   "execution_count": null,
   "metadata": {
    "cellUniqueIdByVincent": "969f3"
   },
   "outputs": [],
   "source": []
  }
 ],
 "metadata": {
  "kernelspec": {
   "display_name": ".venv",
   "language": "python",
   "name": "python3"
  },
  "language_info": {
   "codemirror_mode": {
    "name": "ipython",
    "version": 3
   },
   "file_extension": ".py",
   "mimetype": "text/x-python",
   "name": "python",
   "nbconvert_exporter": "python",
   "pygments_lexer": "ipython3",
   "version": "3.13.3"
  },
  "vincent": {
   "sessionId": "2427feff4053bc9692a9fc94_2025-05-23T15-31-23-081Z"
  }
 },
 "nbformat": 4,
 "nbformat_minor": 5
}
