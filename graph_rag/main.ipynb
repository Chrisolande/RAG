{
 "cells": [
  {
   "cell_type": "code",
   "execution_count": 1,
   "metadata": {
    "cellUniqueIdByVincent": "b87e5"
   },
   "outputs": [
    {
     "name": "stdout",
     "output_type": "stream",
     "text": [
      "All required environment variables are set.\n"
     ]
    }
   ],
   "source": [
    "from document_processor import DocumentProcessor\n",
    "from knowledge_graph import KnowledgeGraph\n",
    "from vector_store import VectorStore\n",
    "from entity_extraction import GraphEntityRetriever\n",
    "from retrieval import Retriever\n",
    "from rag_chain import RagChain\n",
    "from dotenv import load_dotenv\n",
    "import os\n",
    "import warnings\n",
    "warnings.filterwarnings(\"ignore\")\n",
    "load_dotenv()\n",
    "\n",
    "required_vars = [\"NEO4J_URI\", \"NEO4J_USERNAME\", \"NEO4J_PASSWORD\", \"OPENROUTER_API_KEY\"]\n",
    "missing_vars = [var for var in required_vars if not os.getenv(var)]\n",
    "\n",
    "if missing_vars:\n",
    "    print(f\"Warning: The following environment variables are not set: {', '.join(missing_vars)}\")\n",
    "    print(\"Please set them in a .env file or directly in the environment.\")\n",
    "else:\n",
    "    print(\"All required environment variables are set.\")"
   ]
  },
  {
   "cell_type": "code",
   "execution_count": 2,
   "metadata": {
    "cellUniqueIdByVincent": "7f1a4"
   },
   "outputs": [],
   "source": [
    "# Initialize the System\n",
    "\n",
    "document_processor = DocumentProcessor()\n",
    "knowledge_graph = KnowledgeGraph()\n",
    "vector_store = VectorStore(knowledge_graph)\n",
    "entity_extractor = GraphEntityRetriever()\n",
    "retriever = Retriever(knowledge_graph, vector_store)\n",
    "rag_chain = RagChain(retriever)\n",
    "\n"
   ]
  },
  {
   "cell_type": "markdown",
   "metadata": {
    "cellUniqueIdByVincent": "50bc0"
   },
   "source": [
    "# Load the documents"
   ]
  },
  {
   "cell_type": "code",
   "execution_count": 3,
   "metadata": {
    "cellUniqueIdByVincent": "d97fa"
   },
   "outputs": [
    {
     "name": "stdout",
     "output_type": "stream",
     "text": [
      "Loaded 2 document chunks from the knowledge base\n",
      "\n",
      "First document chunk:\n",
      "Chris Olande: A Professional Profile\n",
      "\n",
      "Chris Olande is a dynamic and intellectually curious student of Statistics and Programming at Kenyatta University, with a growing portfolio of sophisticated projects that blend statistical rigor with cutting-edge machine learning techniques. His academic and practical pursuits reflect not only a mastery of foundational principles in data science and programming, but also a passion for innovative applications in real-world contexts, including education and ar...\n"
     ]
    }
   ],
   "source": [
    "documents = document_processor.process_documents()\n",
    "print(f\"Loaded {len(documents)} document chunks from the knowledge base\")\n",
    "print(\"\\nFirst document chunk:\")\n",
    "print(documents[0].page_content[:500] + \"...\")"
   ]
  },
  {
   "cell_type": "markdown",
   "metadata": {
    "cellUniqueIdByVincent": "2039d"
   },
   "source": [
    "# Build the knowledge graph"
   ]
  },
  {
   "cell_type": "code",
   "execution_count": 4,
   "metadata": {
    "cellUniqueIdByVincent": "4c14e"
   },
   "outputs": [
    {
     "name": "stdout",
     "output_type": "stream",
     "text": [
      "Extracting entities and relationships from documents...\n"
     ]
    },
    {
     "data": {
      "application/vnd.jupyter.widget-view+json": {
       "model_id": "ef12e8c94f5a49abba221af723548ec5",
       "version_major": 2,
       "version_minor": 0
      },
      "text/plain": [
       "Processing documents:   0%|          | 0/2 [00:00<?, ?it/s]"
      ]
     },
     "metadata": {},
     "output_type": "display_data"
    },
    {
     "name": "stdout",
     "output_type": "stream",
     "text": [
      "Extracted 42 unique entities and 36 relationships\n",
      "Creating entities...\n"
     ]
    },
    {
     "data": {
      "application/vnd.jupyter.widget-view+json": {
       "model_id": "904bfed131ec4fb7894dd30b1a8cd60a",
       "version_major": 2,
       "version_minor": 0
      },
      "text/plain": [
       "Creating entities in batches:   0%|          | 0/1 [00:00<?, ?it/s]"
      ]
     },
     "metadata": {},
     "output_type": "display_data"
    },
    {
     "name": "stdout",
     "output_type": "stream",
     "text": [
      "Creating relationships...\n"
     ]
    },
    {
     "data": {
      "application/vnd.jupyter.widget-view+json": {
       "model_id": "9ca76bf39b364390968d51b6b4b3295a",
       "version_major": 2,
       "version_minor": 0
      },
      "text/plain": [
       "Creating STUDIES_AT relationships:   0%|          | 0/1 [00:00<?, ?it/s]"
      ]
     },
     "metadata": {},
     "output_type": "display_data"
    },
    {
     "data": {
      "application/vnd.jupyter.widget-view+json": {
       "model_id": "79a8084ce7094561ad86774b1528af77",
       "version_major": 2,
       "version_minor": 0
      },
      "text/plain": [
       "Creating SPECIALIZES_IN relationships:   0%|          | 0/1 [00:00<?, ?it/s]"
      ]
     },
     "metadata": {},
     "output_type": "display_data"
    },
    {
     "data": {
      "application/vnd.jupyter.widget-view+json": {
       "model_id": "183bebc56af94d728b68a87a90c3eac1",
       "version_major": 2,
       "version_minor": 0
      },
      "text/plain": [
       "Creating PROFICIENT_IN relationships:   0%|          | 0/1 [00:00<?, ?it/s]"
      ]
     },
     "metadata": {},
     "output_type": "display_data"
    },
    {
     "data": {
      "application/vnd.jupyter.widget-view+json": {
       "model_id": "bd3230ead3214ccfb56f7b3bac661a14",
       "version_major": 2,
       "version_minor": 0
      },
      "text/plain": [
       "Creating WORKS_WITH relationships:   0%|          | 0/1 [00:00<?, ?it/s]"
      ]
     },
     "metadata": {},
     "output_type": "display_data"
    },
    {
     "data": {
      "application/vnd.jupyter.widget-view+json": {
       "model_id": "1cba56a3c4884fd9af9b38a230d6f61c",
       "version_major": 2,
       "version_minor": 0
      },
      "text/plain": [
       "Creating WORKED_ON relationships:   0%|          | 0/1 [00:00<?, ?it/s]"
      ]
     },
     "metadata": {},
     "output_type": "display_data"
    },
    {
     "data": {
      "application/vnd.jupyter.widget-view+json": {
       "model_id": "fb19dff896884321b54a5595d54ac693",
       "version_major": 2,
       "version_minor": 0
      },
      "text/plain": [
       "Creating LED relationships:   0%|          | 0/1 [00:00<?, ?it/s]"
      ]
     },
     "metadata": {},
     "output_type": "display_data"
    },
    {
     "data": {
      "application/vnd.jupyter.widget-view+json": {
       "model_id": "64bc4493814e4be7864611ac9481bbc3",
       "version_major": 2,
       "version_minor": 0
      },
      "text/plain": [
       "Creating ORGANIZES relationships:   0%|          | 0/1 [00:00<?, ?it/s]"
      ]
     },
     "metadata": {},
     "output_type": "display_data"
    },
    {
     "data": {
      "application/vnd.jupyter.widget-view+json": {
       "model_id": "6b52786c71fe4092a2d62e7abc397f62",
       "version_major": 2,
       "version_minor": 0
      },
      "text/plain": [
       "Creating EXPLORES relationships:   0%|          | 0/1 [00:00<?, ?it/s]"
      ]
     },
     "metadata": {},
     "output_type": "display_data"
    },
    {
     "data": {
      "application/vnd.jupyter.widget-view+json": {
       "model_id": "2b4e002180ce4dec8dacb77f01e53cb5",
       "version_major": 2,
       "version_minor": 0
      },
      "text/plain": [
       "Creating IMPLEMENTS relationships:   0%|          | 0/1 [00:00<?, ?it/s]"
      ]
     },
     "metadata": {},
     "output_type": "display_data"
    },
    {
     "data": {
      "application/vnd.jupyter.widget-view+json": {
       "model_id": "ae31b8a0cbe943fc81e02f00fc5559d8",
       "version_major": 2,
       "version_minor": 0
      },
      "text/plain": [
       "Creating INTEGRATES relationships:   0%|          | 0/1 [00:00<?, ?it/s]"
      ]
     },
     "metadata": {},
     "output_type": "display_data"
    },
    {
     "data": {
      "application/vnd.jupyter.widget-view+json": {
       "model_id": "13b339025d264beca37f58f274f8bc16",
       "version_major": 2,
       "version_minor": 0
      },
      "text/plain": [
       "Creating USES relationships:   0%|          | 0/1 [00:00<?, ?it/s]"
      ]
     },
     "metadata": {},
     "output_type": "display_data"
    },
    {
     "data": {
      "application/vnd.jupyter.widget-view+json": {
       "model_id": "b0c53b8d9a6f4c6180651a0ccd75ebb2",
       "version_major": 2,
       "version_minor": 0
      },
      "text/plain": [
       "Creating LOCATED_AT relationships:   0%|          | 0/1 [00:00<?, ?it/s]"
      ]
     },
     "metadata": {},
     "output_type": "display_data"
    },
    {
     "data": {
      "application/vnd.jupyter.widget-view+json": {
       "model_id": "b68b5e09e4374bb0920da37b593672a9",
       "version_major": 2,
       "version_minor": 0
      },
      "text/plain": [
       "Creating DEMONSTRATES_LEADERSHIP_IN relationships:   0%|          | 0/1 [00:00<?, ?it/s]"
      ]
     },
     "metadata": {},
     "output_type": "display_data"
    },
    {
     "data": {
      "application/vnd.jupyter.widget-view+json": {
       "model_id": "3c209fcc9c2c49f7804fa464d5a054e1",
       "version_major": 2,
       "version_minor": 0
      },
      "text/plain": [
       "Creating DEMONSTRATES_COMMITMENT_TO relationships:   0%|          | 0/1 [00:00<?, ?it/s]"
      ]
     },
     "metadata": {},
     "output_type": "display_data"
    },
    {
     "data": {
      "application/vnd.jupyter.widget-view+json": {
       "model_id": "2a1d1d2927624a49a51ca6ec00bbabe6",
       "version_major": 2,
       "version_minor": 0
      },
      "text/plain": [
       "Creating CURRENT_FOCUS_ON relationships:   0%|          | 0/1 [00:00<?, ?it/s]"
      ]
     },
     "metadata": {},
     "output_type": "display_data"
    },
    {
     "data": {
      "application/vnd.jupyter.widget-view+json": {
       "model_id": "4da8b7e7f6664b05b37ada8607ddb647",
       "version_major": 2,
       "version_minor": 0
      },
      "text/plain": [
       "Creating FUTURE_IN relationships:   0%|          | 0/1 [00:00<?, ?it/s]"
      ]
     },
     "metadata": {},
     "output_type": "display_data"
    },
    {
     "data": {
      "application/vnd.jupyter.widget-view+json": {
       "model_id": "0d67b84eeebf4d6d956242bfca221996",
       "version_major": 2,
       "version_minor": 0
      },
      "text/plain": [
       "Creating THRIVES_IN_ENVIRONMENTS_SUCH_AS relationships:   0%|          | 0/1 [00:00<?, ?it/s]"
      ]
     },
     "metadata": {},
     "output_type": "display_data"
    },
    {
     "data": {
      "application/vnd.jupyter.widget-view+json": {
       "model_id": "ab04d6e01084419880cd8ff6397d7262",
       "version_major": 2,
       "version_minor": 0
      },
      "text/plain": [
       "Creating COULD_WORK_IN relationships:   0%|          | 0/1 [00:00<?, ?it/s]"
      ]
     },
     "metadata": {},
     "output_type": "display_data"
    },
    {
     "data": {
      "application/vnd.jupyter.widget-view+json": {
       "model_id": "cd25b763a65043018c477cb384ccd087",
       "version_major": 2,
       "version_minor": 0
      },
      "text/plain": [
       "Creating HAS_BLEND_OF relationships:   0%|          | 0/1 [00:00<?, ?it/s]"
      ]
     },
     "metadata": {},
     "output_type": "display_data"
    },
    {
     "name": "stdout",
     "output_type": "stream",
     "text": [
      "Graph creation completed!\n",
      "Knowledge graph created successfully!\n"
     ]
    }
   ],
   "source": [
    "# Clear the existing database\n",
    "knowledge_graph.clear_database()\n",
    "\n",
    "# Create a knowledge graph from the documents\n",
    "knowledge_graph.create_graph_from_documents(documents)\n",
    "\n",
    "print(\"Knowledge graph created successfully!\")"
   ]
  },
  {
   "cell_type": "code",
   "execution_count": 5,
   "metadata": {
    "cellUniqueIdByVincent": "08a2b"
   },
   "outputs": [
    {
     "data": {
      "application/vnd.jupyter.widget-view+json": {
       "model_id": "8b4e2be0b2d14ea68c697d51b692ffca",
       "version_major": 2,
       "version_minor": 0
      },
      "text/plain": [
       "GraphWidget(layout=Layout(height='800px', width='100%'))"
      ]
     },
     "metadata": {},
     "output_type": "display_data"
    }
   ],
   "source": [
    "knowledge_graph.visualize_graph()"
   ]
  },
  {
   "cell_type": "markdown",
   "metadata": {
    "cellUniqueIdByVincent": "97fdf"
   },
   "source": [
    "# Test entity Extraction"
   ]
  },
  {
   "cell_type": "code",
   "execution_count": 14,
   "metadata": {
    "cellUniqueIdByVincent": "65bbb"
   },
   "outputs": [
    {
     "name": "stdout",
     "output_type": "stream",
     "text": [
      "Extracting entities for question: Who is Chris Olande?\n",
      "Extracted 1 entities: ['Chris Olande']\n",
      "['Chris Olande']\n"
     ]
    }
   ],
   "source": [
    "question = \"Who is Chris Olande?\"\n",
    "entity = entity_extractor.extract_entities(question)\n",
    "print(entity)"
   ]
  },
  {
   "cell_type": "markdown",
   "metadata": {
    "cellUniqueIdByVincent": "7da29"
   },
   "source": [
    "# Test structured entity extraction"
   ]
  },
  {
   "cell_type": "code",
   "execution_count": 15,
   "metadata": {
    "cellUniqueIdByVincent": "b8f86"
   },
   "outputs": [
    {
     "name": "stdout",
     "output_type": "stream",
     "text": [
      "Processing structured retrieval for question: Who is Chris Olande?\n",
      "Extracting entities for question: Who is Chris Olande?\n",
      "Extracted 1 entities: ['Chris Olande']\n",
      "Retrieved 35 relationships for entity 'Chris Olande'\n",
      "Found 35 relationships for entity 'Chris Olande'\n",
      "  - Chris Olande - USES -> LangChain Expression Language (LCEL)\n",
      "  - Chris Olande - USES -> OpenRouter models\n",
      "  - Chris Olande - SPECIALIZES_IN -> Data Science, Machine Learning Engineering, Research, AI Systems Development, Agentic RAGs, Intelligent Information Systems, AI Product Development\n",
      "  - Chris Olande - SPECIALIZES_IN -> Programming\n",
      "  - Chris Olande - SPECIALIZES_IN -> Statistics\n",
      "  ... and 30 more\n",
      "Question: Who is Chris Olande?\n",
      "\n",
      "Structured retrieval results:\n",
      "Chris Olande - USES -> LangChain Expression Language (LCEL)\n",
      "Chris Olande - USES -> OpenRouter models\n",
      "Chris Olande - SPECIALIZES_IN -> Data Science, Machine Learning Engineering, Research, AI Systems Development, Agentic RAGs, Intelligent Information Systems, AI Product Development\n",
      "Chris Olande - SPECIALIZES_IN -> Programming\n",
      "Chris Olande - SPECIALIZES_IN -> Statistics\n",
      "Chris Olande - PROFICIENT_IN -> Python\n",
      "Chris Olande - WORKED_ON -> Sentiment Classification tasks\n",
      "Chris Olande - LOCATED_AT -> Nairobi\n",
      "Chris Olande - IMPLEMENTS -> ConversationalRAG\n",
      "Chris Olande - STUDIES_AT -> Kenyatta University\n",
      "Chris Olande - WORKS_WITH -> scikit-learn\n",
      "Chris Olande - WORKS_WITH -> Hugging Face Transformers\n",
      "Chris Olande - WORKS_WITH -> seaborn\n",
      "Chris Olande - WORKS_WITH -> pandas\n",
      "Chris Olande - WORKS_WITH -> PyTorch\n",
      "Chris Olande - WORKS_WITH -> NumPy\n",
      "Chris Olande - WORKS_WITH -> matplotlib\n",
      "Chris Olande - EXPLORES -> retrieval-augmented generation (RAG) systems\n",
      "Chris Olande - INTEGRATES -> Hugging Face models\n",
      "Chris Olande - INTEGRATES -> LangChain\n",
      "Chris Olande - INTEGRATES -> OpenAI\n",
      "Chris Olande - INTEGRATES -> vector stores\n",
      "Chris Olande - ORGANIZES -> field study for Grade 7 students\n",
      "Chris Olande - COULD_WORK_IN -> Research Labs, AI Startups, Ed-Tech Companies, Advanced Analytics Units\n",
      "Chris Olande - HAS_BLEND_OF -> Statistical Depth, Programming Expertise, Interpersonal Insight\n",
      "Chris Olande - LED -> educational field studies\n",
      "Chris Olande - DEMONSTRATES_LEADERSHIP_IN -> education\n",
      "Chris Olande - DEMONSTRATES_COMMITMENT_TO -> education as a vehicle for empowerment and societal progress\n",
      "Chris Olande - CURRENT_FOCUS_ON -> agentic_RAGs\n",
      "Chris Olande - FUTURE_IN -> AI_product_development\n",
      "Chris Olande - FUTURE_IN -> intelligent_information_systems\n",
      "Chris Olande - THRIVES_IN_ENVIRONMENTS_SUCH_AS -> advanced analytics units in large organizations\n",
      "Chris Olande - THRIVES_IN_ENVIRONMENTS_SUCH_AS -> research labs\n",
      "Chris Olande - THRIVES_IN_ENVIRONMENTS_SUCH_AS -> ed-tech companies\n",
      "Chris Olande - THRIVES_IN_ENVIRONMENTS_SUCH_AS -> AI startups\n"
     ]
    }
   ],
   "source": [
    "structured_results = entity_extractor.structured_retriever(question)\n",
    "\n",
    "print(f\"Question: {question}\")\n",
    "print(\"\\nStructured retrieval results:\")\n",
    "print(structured_results)"
   ]
  },
  {
   "cell_type": "markdown",
   "metadata": {
    "cellUniqueIdByVincent": "3c6ba"
   },
   "source": [
    "# Create the hybrid vector index"
   ]
  },
  {
   "cell_type": "code",
   "execution_count": 16,
   "metadata": {
    "cellUniqueIdByVincent": "a7cd6"
   },
   "outputs": [
    {
     "name": "stdout",
     "output_type": "stream",
     "text": [
      "Hybrid vector index created successfully!\n"
     ]
    }
   ],
   "source": [
    "vector_store.create_hybrid_index()\n",
    "\n",
    "print(\"Hybrid vector index created successfully!\")"
   ]
  },
  {
   "cell_type": "markdown",
   "metadata": {
    "cellUniqueIdByVincent": "7ab8f"
   },
   "source": [
    "# Create vector index"
   ]
  },
  {
   "cell_type": "code",
   "execution_count": 17,
   "metadata": {
    "cellUniqueIdByVincent": "a9a16"
   },
   "outputs": [
    {
     "name": "stdout",
     "output_type": "stream",
     "text": [
      "Vector index created successfully!\n"
     ]
    }
   ],
   "source": [
    "# create vector index from documents\n",
    "vector_store.create_vector_index(documents)\n",
    "\n",
    "print(\"Vector index created successfully!\")"
   ]
  },
  {
   "cell_type": "markdown",
   "metadata": {
    "cellUniqueIdByVincent": "53d75"
   },
   "source": [
    "## Test vector Retrieval"
   ]
  },
  {
   "cell_type": "code",
   "execution_count": 18,
   "metadata": {
    "cellUniqueIdByVincent": "173f8"
   },
   "outputs": [
    {
     "name": "stdout",
     "output_type": "stream",
     "text": [
      "Question: Who is Chris Olande?\n",
      "\n",
      "Vector retrieval results:\n",
      "\n",
      "Document 1:\n",
      " trajectory, Chris is well-positioned for roles in data science, machine learning engineering, research, or AI systems development. His current focus on agentic RAGs suggests a future in intelligent information systems and AI product development, especially those requiring real-time reasoning and ad...\n",
      "\n",
      "Document 2:\n",
      "Chris Olande: A Professional Profile\n",
      "\n",
      "Chris Olande is a dynamic and intellectually curious student of Statistics and Programming at Kenyatta University, with a growing portfolio of sophisticated projects that blend statistical rigor with cutting-edge machine learning techniques. His academic and pra...\n"
     ]
    }
   ],
   "source": [
    "# Test vector retrieval\n",
    "vector_results = retriever.vector_retrieval(question, k=2)\n",
    "\n",
    "print(f\"Question: {question}\")\n",
    "print(\"\\nVector retrieval results:\")\n",
    "for i, doc in enumerate(vector_results):\n",
    "    print(f\"\\nDocument {i+1}:\")\n",
    "    print(doc.page_content[:300] + \"...\")"
   ]
  },
  {
   "cell_type": "markdown",
   "metadata": {
    "cellUniqueIdByVincent": "0aeb5"
   },
   "source": [
    "# Test hybrid retrieval\n"
   ]
  },
  {
   "cell_type": "code",
   "execution_count": 19,
   "metadata": {
    "cellUniqueIdByVincent": "4a76d"
   },
   "outputs": [
    {
     "name": "stdout",
     "output_type": "stream",
     "text": [
      "Question: Who is Chris Olande?\n",
      "\n",
      "Hybrid retrieval results:\n",
      "Structured data:\n",
      "            No relevant information found in the knowledge graph.\n",
      "\n",
      "            Unstructured data:\n",
      "             trajectory, Chris is well-positioned for roles in data science, machine learning engineering, research, or AI systems development. His current focus on agentic RAGs suggests a future in intelligent information systems and AI product development, especially those requiring real-time reasoning and adaptive behavior.\n",
      "\n",
      "He could thrive in environments such as research labs, AI startups, ed-tech companies, or advanced analytics units in large organizations. With his blend of statistical depth, programming expertise, and interpersonal insight, Chris is not only a problem solver but a builder of intelligent systems that matter.\n",
      "\n",
      "In Conclusion\n",
      "\n",
      "Chris Olande is a promising young professional whose blend of technical competence, educational leadership, and forward-thinking innovation makes him stand out. As he continues his journey in statistics and programming at Kenyatta University, he is steadily building a foundation for meaningful, high-impact contributions to both industry and society.\n",
      "\n",
      "He exemplifies what it means to be a 21st-century technologist: skilled, thoughtful, and driven by a clear sense of purpose.\n",
      "\n",
      "#Document Chris Olande: A Professional Profile\n",
      "\n",
      "Chris Olande is a dynamic and intellectually curious student of Statistics and Programming at Kenyatta University, with a growing portfolio of sophisticated projects that blend statistical rigor with cutting-edge machine learning techniques. His academic and practical pursuits reflect not only a mastery of foundational principles in data science and programming, but also a passion for innovative applications in real-world contexts, including education and artificial intelligence.\n",
      "\n",
      "From his meticulous handling of sentiment classification tasks using state-of-the-art transformer models to his leadership in organizing educational field studies, Chris demonstrates a rare combination of technical excellence, strategic thinking, and human-centered values. His ability to bridge theory and practice places him at the forefront of a new generation of data-driven professionals.\n",
      "\n",
      "Academic Background and Technical Expertise\n",
      "\n",
      "Chris's academic foundation in statistics is complemented by a robust understanding of programming, especially in Python. At Kenyatta University, he has distinguished himself through rigorous coursework and hands-on projects. His technical repertoire includes proficiency in libraries such as NumPy, pandas, matplotlib, seaborn, scikit-learn, PyTorch, and Hugging Face Transformers. This allows him to work fluidly across the full data science pipeline—from data wrangling and exploratory analysis to model building, evaluation, and deployment.\n",
      "\n",
      "He has undertaken projects that demonstrate applied knowledge of exploratory factor analysis (EFA), hypothesis testing, regression modeling, and time series analysis. In programming, he has shown fluency in building modular systems, implementing neural networks, and developing natural language processing (NLP) pipelines.\n",
      "\n",
      "Machine Learning and NLP Projects\n",
      "\n",
      "One of Chris's standout projects involves training and fine-tuning transformer models, such as BERT and DistilBERT, on the Rotten Tomatoes movie review dataset. His work here is exemplary, combining modern NLP practices with hands-on experimentation using both Hugging Face Trainer and custom training loops. He has incorporated best practices such as early stopping, performance tracking with Weights & Biases, and parameter tuning for robust sentiment classification.\n",
      "\n",
      "Further pushing the envelope, Chris has explored retrieval-augmented generation (RAG) systems, implementing a modular ConversationalRAG class that integrates OpenAI and Hugging Face models, LangChain, and vector stores for document-based question answering. His design balances clarity and extensibility, reflecting solid architectural thinking.\n",
      "\n",
      "Agentic RAG and Knowledge Systems\n",
      "\n",
      "Chris is currently advancing his work in the domain of agentic RAG systems—an area at the frontier of AI research and application. His vision is to create ultra-modern knowledge agents capable of autonomous planning, reasoning, memory management, and external tool use. To realize this, he leverages LangChain Expression Language (LCEL), OpenRouter models, and well-structured API integrations.\n",
      "\n",
      "He has emphasized modular codebases, separating components into distinct files and classes to promote reuse, clarity, and scalability. Chris’s agentic systems also show sensitivity to the evolving landscape of tools, prioritizing developer-friendly abstractions without sacrificing control or customization.\n",
      "\n",
      "Leadership in Education and Community Engagement\n",
      "\n",
      "In addition to his technical pursuits, Chris has demonstrated leadership in education by organizing a field study for Grade 7 students to visit Impala Glass Industries in Nairobi. This initiative reflects his commitment to nurturing curiosity and STEM literacy among younger learners. His work in this domain underscores a broader commitment to education as a vehicle for empowerment and societal progress.\n",
      "\n",
      "This dual commitment—to technology and to people—makes Chris a well-rounded and impactful contributor in any professional setting.\n",
      "\n",
      "Professional Traits and Work Ethic\n",
      "\n",
      "Chris is methodical, results-oriented, and deeply inquisitive. He approaches problems analytically, balancing statistical rigor with creative thinking. His code is clean, well-documented, and adheres to best practices in software development. Whether working independently or as part of a team, he brings discipline, reliability, and a collaborative spirit.\n",
      "\n",
      "He is also a continuous learner. His willingness to experiment with new frameworks, keep up with industry trends, and learn from feedback positions him for long-term success in the fast-evolving tech landscape.\n",
      "\n",
      "Career Aspirations and Potential\n",
      "\n",
      "Given his trajectory, Chris is well-positioned for roles in data science, machine learning engineering, research, or AI systems development. His current focus on agentic RAGs suggests a future in intelligent information systems and AI product development, especially those requiring real-time reasoning and adaptive behavior.\n",
      "\n",
      "He could thrive in environments such as research labs, AI startups, ed-tech companies, or advanced analytics units in large organizations. With his blend of statistical depth, programming expertise, and interpersonal insight, Chris is not only a problem solver but a builder of intelligent systems that matter.\n",
      "\n",
      "In Conclusion\n",
      "\n",
      "Chris Olande is a\n",
      "            \n"
     ]
    }
   ],
   "source": [
    "# Test hybrid retrieval\n",
    "hybrid_results = retriever.hybrid_retrieval(question)\n",
    "\n",
    "print(f\"Question: {question}\")\n",
    "print(\"\\nHybrid retrieval results:\")\n",
    "print(hybrid_results)"
   ]
  },
  {
   "cell_type": "markdown",
   "metadata": {
    "cellUniqueIdByVincent": "6473b"
   },
   "source": [
    "# Test RAG Chain"
   ]
  },
  {
   "cell_type": "code",
   "execution_count": 20,
   "metadata": {
    "cellUniqueIdByVincent": "7e4f1"
   },
   "outputs": [
    {
     "name": "stdout",
     "output_type": "stream",
     "text": [
      "Question: Who is Chris Olande?\n",
      "\n",
      "Answer:  Chris Olande is a dynamic and intellectually curious student of Statistics and Programming at Kenyatta University, with a growing portfolio of sophisticated projects that blend statistical rigor with cutting-edge machine learning techniques. He is a promising young professional whose blend of technical competence, educational leadership, and forward-thinking innovation makes him stand out. He is currently focusing on agentic RAG systems and is well-positioned for roles in data science, machine learning engineering, research, or AI systems development.\n"
     ]
    }
   ],
   "source": [
    "# Test the RAG chain\n",
    "answer = rag_chain.invoke({\"question\": question})\n",
    "\n",
    "print(f\"Question: {question}\")\n",
    "print(f\"\\nAnswer: {answer}\")"
   ]
  },
  {
   "cell_type": "markdown",
   "metadata": {
    "cellUniqueIdByVincent": "d2e68"
   },
   "source": [
    "## Test using a follow up question"
   ]
  },
  {
   "cell_type": "code",
   "execution_count": 21,
   "metadata": {
    "cellUniqueIdByVincent": "fc8fb"
   },
   "outputs": [
    {
     "name": "stdout",
     "output_type": "stream",
     "text": [
      "Follow-up question: What does he even do at Kenyatta University?\n",
      "\n",
      "Answer:  The context does not specify Chris Olande's role or activities at Kenyatta University. However, it mentions that he is a student of Statistics and Programming at the university.\n"
     ]
    }
   ],
   "source": [
    "# Initialize chat history\n",
    "chat_history = [(question, answer)]\n",
    "\n",
    "# Ask a follow-up question\n",
    "follow_up_question = \"What does he even do at Kenyatta University?\"\n",
    "\n",
    "# Get answer to follow-up question\n",
    "follow_up_answer = rag_chain.invoke({\n",
    "    \"question\": follow_up_question,\n",
    "    \"chat_history\": chat_history\n",
    "})\n",
    "\n",
    "print(f\"Follow-up question: {follow_up_question}\")\n",
    "print(f\"\\nAnswer: {follow_up_answer}\")"
   ]
  },
  {
   "cell_type": "code",
   "execution_count": null,
   "metadata": {
    "cellUniqueIdByVincent": "7909e"
   },
   "outputs": [],
   "source": [
    "quiz = \"How and what tools does he use and what jobs is he suited for in the future?\"\n",
    "\n",
    "# Get answer to follow-up question\n",
    "follow_up_answer = rag_chain.invoke({\n",
    "    \"question\": quiz,\n",
    "    \"chat_history\": chat_history\n",
    "})\n",
    "\n",
    "print(f\"Follow-up question: {quiz}\")\n",
    "print(f\"\\nAnswer: {follow_up_answer}\")"
   ]
  },
  {
   "cell_type": "code",
   "execution_count": null,
   "metadata": {
    "cellUniqueIdByVincent": "8e56e"
   },
   "outputs": [],
   "source": []
  }
 ],
 "metadata": {
  "kernelspec": {
   "display_name": ".venv",
   "language": "python",
   "name": "python3"
  },
  "language_info": {
   "codemirror_mode": {
    "name": "ipython",
    "version": 3
   },
   "file_extension": ".py",
   "mimetype": "text/x-python",
   "name": "python",
   "nbconvert_exporter": "python",
   "pygments_lexer": "ipython3",
   "version": "3.13.3"
  },
  "vincent": {
   "sessionId": "2427feff4053bc9692a9fc94_2025-05-23T15-31-23-081Z"
  }
 },
 "nbformat": 4,
 "nbformat_minor": 5
}
