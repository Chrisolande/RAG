{
 "cells": [
  {
   "cell_type": "code",
   "execution_count": 1,
   "metadata": {
    "cellUniqueIdByVincent": "b87e5"
   },
   "outputs": [
    {
     "name": "stdout",
     "output_type": "stream",
     "text": [
      "All required environment variables are set.\n"
     ]
    }
   ],
   "source": [
    "from document_processor import DocumentProcessor\n",
    "from knowledge_graph import KnowledgeGraph\n",
    "from vector_store import VectorStore\n",
    "from entity_extraction import GraphEntityRetriever\n",
    "from retrieval import Retriever\n",
    "from rag_chain import RagChain\n",
    "from dotenv import load_dotenv\n",
    "import os\n",
    "import warnings\n",
    "warnings.filterwarnings(\"ignore\")\n",
    "load_dotenv()\n",
    "\n",
    "required_vars = [\"NEO4J_URI\", \"NEO4J_USERNAME\", \"NEO4J_PASSWORD\", \"OPENROUTER_API_KEY\"]\n",
    "missing_vars = [var for var in required_vars if not os.getenv(var)]\n",
    "\n",
    "if missing_vars:\n",
    "    print(f\"Warning: The following environment variables are not set: {', '.join(missing_vars)}\")\n",
    "    print(\"Please set them in a .env file or directly in the environment.\")\n",
    "else:\n",
    "    print(\"All required environment variables are set.\")"
   ]
  },
  {
   "cell_type": "code",
   "execution_count": 2,
   "metadata": {
    "cellUniqueIdByVincent": "7f1a4"
   },
   "outputs": [],
   "source": [
    "# Initialize the System\n",
    "\n",
    "document_processor = DocumentProcessor()\n",
    "knowledge_graph = KnowledgeGraph()\n",
    "vector_store = VectorStore(knowledge_graph)\n",
    "entity_extractor = GraphEntityRetriever()\n",
    "retriever = Retriever(knowledge_graph, vector_store)\n",
    "rag_chain = RagChain(retriever)\n",
    "\n"
   ]
  },
  {
   "cell_type": "markdown",
   "metadata": {
    "cellUniqueIdByVincent": "50bc0"
   },
   "source": [
    "# Load the documents"
   ]
  },
  {
   "cell_type": "code",
   "execution_count": 3,
   "metadata": {
    "cellUniqueIdByVincent": "d97fa"
   },
   "outputs": [
    {
     "name": "stdout",
     "output_type": "stream",
     "text": [
      "Loaded 84 document chunks from the knowledge base\n",
      "\n",
      "First document chunk:\n",
      "**Chris Olande: A Deep Professional Profile for RAG Systems**\n",
      "\n",
      "**Overview**\n",
      "\n",
      "Chris Olande is an ambitious and intellectually gifted data science student at Kenyatta University in Nairobi, Kenya. With a rigorous academic foundation in statistics and programming, Chris is cultivating a multidisciplinary approach that intersects applied mathematics, artificial intelligence, and human-centered design. He brings together analytical precision, computational depth, and social responsibility in his work...\n"
     ]
    }
   ],
   "source": [
    "documents = document_processor.process_documents()\n",
    "print(f\"Loaded {len(documents)} document chunks from the knowledge base\")\n",
    "print(\"\\nFirst document chunk:\")\n",
    "print(documents[0].page_content[:500] + \"...\")"
   ]
  },
  {
   "cell_type": "markdown",
   "metadata": {
    "cellUniqueIdByVincent": "2039d"
   },
   "source": [
    "# Build the knowledge graph"
   ]
  },
  {
   "cell_type": "code",
   "execution_count": 4,
   "metadata": {
    "cellUniqueIdByVincent": "4c14e"
   },
   "outputs": [
    {
     "name": "stdout",
     "output_type": "stream",
     "text": [
      "Extracting entities and relationships from documents...\n"
     ]
    },
    {
     "data": {
      "application/vnd.jupyter.widget-view+json": {
       "model_id": "3f64014f7e9c498288a44dbd6ceefbbb",
       "version_major": 2,
       "version_minor": 0
      },
      "text/plain": [
       "Processing documents:   0%|          | 0/84 [00:00<?, ?it/s]"
      ]
     },
     "metadata": {},
     "output_type": "display_data"
    },
    {
     "name": "stdout",
     "output_type": "stream",
     "text": [
      "Extracted 455 unique entities and 1224 relationships\n",
      "Creating entities...\n"
     ]
    },
    {
     "data": {
      "application/vnd.jupyter.widget-view+json": {
       "model_id": "1b37679addc04a429aee3fc042fe9304",
       "version_major": 2,
       "version_minor": 0
      },
      "text/plain": [
       "Creating entities in batches:   0%|          | 0/5 [00:00<?, ?it/s]"
      ]
     },
     "metadata": {},
     "output_type": "display_data"
    },
    {
     "name": "stdout",
     "output_type": "stream",
     "text": [
      "Creating relationships...\n"
     ]
    },
    {
     "data": {
      "application/vnd.jupyter.widget-view+json": {
       "model_id": "57743fafe3af43e3b0f5d66cb7230f3c",
       "version_major": 2,
       "version_minor": 0
      },
      "text/plain": [
       "Creating ATTENDS_AT relationships:   0%|          | 0/1 [00:00<?, ?it/s]"
      ]
     },
     "metadata": {},
     "output_type": "display_data"
    },
    {
     "data": {
      "application/vnd.jupyter.widget-view+json": {
       "model_id": "c500770884284e06b666fa6b13933a66",
       "version_major": 2,
       "version_minor": 0
      },
      "text/plain": [
       "Creating WORKS_FOR relationships:   0%|          | 0/1 [00:00<?, ?it/s]"
      ]
     },
     "metadata": {},
     "output_type": "display_data"
    },
    {
     "data": {
      "application/vnd.jupyter.widget-view+json": {
       "model_id": "f6e2546b6e4e45c6852c15d4f458472c",
       "version_major": 2,
       "version_minor": 0
      },
      "text/plain": [
       "Creating USES relationships:   0%|          | 0/1 [00:00<?, ?it/s]"
      ]
     },
     "metadata": {},
     "output_type": "display_data"
    },
    {
     "data": {
      "application/vnd.jupyter.widget-view+json": {
       "model_id": "5b1213cf589646889b0695508f7deefc",
       "version_major": 2,
       "version_minor": 0
      },
      "text/plain": [
       "Creating FINE_TUNES relationships:   0%|          | 0/1 [00:00<?, ?it/s]"
      ]
     },
     "metadata": {},
     "output_type": "display_data"
    },
    {
     "data": {
      "application/vnd.jupyter.widget-view+json": {
       "model_id": "337818cd86cc446cbcde401ab888f222",
       "version_major": 2,
       "version_minor": 0
      },
      "text/plain": [
       "Creating DEVELOPS relationships:   0%|          | 0/1 [00:00<?, ?it/s]"
      ]
     },
     "metadata": {},
     "output_type": "display_data"
    },
    {
     "data": {
      "application/vnd.jupyter.widget-view+json": {
       "model_id": "6cf68e63488a461697504ebbb59e49eb",
       "version_major": 2,
       "version_minor": 0
      },
      "text/plain": [
       "Creating INTEGRATES relationships:   0%|          | 0/1 [00:00<?, ?it/s]"
      ]
     },
     "metadata": {},
     "output_type": "display_data"
    },
    {
     "data": {
      "application/vnd.jupyter.widget-view+json": {
       "model_id": "5b3bc90d80304573979925146d713c0b",
       "version_major": 2,
       "version_minor": 0
      },
      "text/plain": [
       "Creating DESIGNS relationships:   0%|          | 0/1 [00:00<?, ?it/s]"
      ]
     },
     "metadata": {},
     "output_type": "display_data"
    },
    {
     "data": {
      "application/vnd.jupyter.widget-view+json": {
       "model_id": "1b86dd6f19c04fbf9767079ec81a9902",
       "version_major": 2,
       "version_minor": 0
      },
      "text/plain": [
       "Creating TRAINS relationships:   0%|          | 0/1 [00:00<?, ?it/s]"
      ]
     },
     "metadata": {},
     "output_type": "display_data"
    },
    {
     "data": {
      "application/vnd.jupyter.widget-view+json": {
       "model_id": "dbf65963feb94d77977e55a428f2d9b5",
       "version_major": 2,
       "version_minor": 0
      },
      "text/plain": [
       "Creating IMPLEMENTS relationships:   0%|          | 0/1 [00:00<?, ?it/s]"
      ]
     },
     "metadata": {},
     "output_type": "display_data"
    },
    {
     "data": {
      "application/vnd.jupyter.widget-view+json": {
       "model_id": "0d15aa61012640888fbbcbab8e848736",
       "version_major": 2,
       "version_minor": 0
      },
      "text/plain": [
       "Creating CUSTOMIZES relationships:   0%|          | 0/1 [00:00<?, ?it/s]"
      ]
     },
     "metadata": {},
     "output_type": "display_data"
    },
    {
     "data": {
      "application/vnd.jupyter.widget-view+json": {
       "model_id": "7c10ebf8972246e7953993444b26c584",
       "version_major": 2,
       "version_minor": 0
      },
      "text/plain": [
       "Creating APPLIES relationships:   0%|          | 0/1 [00:00<?, ?it/s]"
      ]
     },
     "metadata": {},
     "output_type": "display_data"
    },
    {
     "data": {
      "application/vnd.jupyter.widget-view+json": {
       "model_id": "1882e8fa9c3b41cfa18bdd1bfc0df00c",
       "version_major": 2,
       "version_minor": 0
      },
      "text/plain": [
       "Creating RUNS relationships:   0%|          | 0/1 [00:00<?, ?it/s]"
      ]
     },
     "metadata": {},
     "output_type": "display_data"
    },
    {
     "data": {
      "application/vnd.jupyter.widget-view+json": {
       "model_id": "71215c5202b542dd8c08d0848d4abfe0",
       "version_major": 2,
       "version_minor": 0
      },
      "text/plain": [
       "Creating LEADS relationships:   0%|          | 0/1 [00:00<?, ?it/s]"
      ]
     },
     "metadata": {},
     "output_type": "display_data"
    },
    {
     "data": {
      "application/vnd.jupyter.widget-view+json": {
       "model_id": "5c63ec26634f43169feb4e9cce0fa500",
       "version_major": 2,
       "version_minor": 0
      },
      "text/plain": [
       "Creating PROMOTES relationships:   0%|          | 0/1 [00:00<?, ?it/s]"
      ]
     },
     "metadata": {},
     "output_type": "display_data"
    },
    {
     "data": {
      "application/vnd.jupyter.widget-view+json": {
       "model_id": "4e93b2fb6c4b4c2ba2e164878d1f44a2",
       "version_major": 2,
       "version_minor": 0
      },
      "text/plain": [
       "Creating MENTORS relationships:   0%|          | 0/1 [00:00<?, ?it/s]"
      ]
     },
     "metadata": {},
     "output_type": "display_data"
    },
    {
     "data": {
      "application/vnd.jupyter.widget-view+json": {
       "model_id": "2b8516c00ef3430289cc49fd5d67c868",
       "version_major": 2,
       "version_minor": 0
      },
      "text/plain": [
       "Creating TUTORS relationships:   0%|          | 0/1 [00:00<?, ?it/s]"
      ]
     },
     "metadata": {},
     "output_type": "display_data"
    },
    {
     "data": {
      "application/vnd.jupyter.widget-view+json": {
       "model_id": "7f557a980d75479cb7ae1e34b941cc02",
       "version_major": 2,
       "version_minor": 0
      },
      "text/plain": [
       "Creating BASED_IN relationships:   0%|          | 0/1 [00:00<?, ?it/s]"
      ]
     },
     "metadata": {},
     "output_type": "display_data"
    },
    {
     "data": {
      "application/vnd.jupyter.widget-view+json": {
       "model_id": "83a976f31ba14156998ca79e3b1fcb05",
       "version_major": 2,
       "version_minor": 0
      },
      "text/plain": [
       "Creating OPERATES_IN relationships:   0%|          | 0/1 [00:00<?, ?it/s]"
      ]
     },
     "metadata": {},
     "output_type": "display_data"
    },
    {
     "data": {
      "application/vnd.jupyter.widget-view+json": {
       "model_id": "202278888ea7400bbe9e4712c120eacd",
       "version_major": 2,
       "version_minor": 0
      },
      "text/plain": [
       "Creating LOCATED_AT relationships:   0%|          | 0/1 [00:00<?, ?it/s]"
      ]
     },
     "metadata": {},
     "output_type": "display_data"
    },
    {
     "data": {
      "application/vnd.jupyter.widget-view+json": {
       "model_id": "f7511f16002d4c439fddbea21b809ed9",
       "version_major": 2,
       "version_minor": 0
      },
      "text/plain": [
       "Creating STUDIES relationships:   0%|          | 0/1 [00:00<?, ?it/s]"
      ]
     },
     "metadata": {},
     "output_type": "display_data"
    },
    {
     "data": {
      "application/vnd.jupyter.widget-view+json": {
       "model_id": "4644762a69114a0b98c969bb8d11d9e2",
       "version_major": 2,
       "version_minor": 0
      },
      "text/plain": [
       "Creating BORN_IN relationships:   0%|          | 0/1 [00:00<?, ?it/s]"
      ]
     },
     "metadata": {},
     "output_type": "display_data"
    },
    {
     "data": {
      "application/vnd.jupyter.widget-view+json": {
       "model_id": "ce7c17ccfd7f45048807083684191a78",
       "version_major": 2,
       "version_minor": 0
      },
      "text/plain": [
       "Creating RESEARCHED_BY relationships:   0%|          | 0/1 [00:00<?, ?it/s]"
      ]
     },
     "metadata": {},
     "output_type": "display_data"
    },
    {
     "data": {
      "application/vnd.jupyter.widget-view+json": {
       "model_id": "6cb5a302741749bb9db3dbb0d509dc93",
       "version_major": 2,
       "version_minor": 0
      },
      "text/plain": [
       "Creating AIMS_TO_CONTRIBUTE_TO relationships:   0%|          | 0/1 [00:00<?, ?it/s]"
      ]
     },
     "metadata": {},
     "output_type": "display_data"
    },
    {
     "data": {
      "application/vnd.jupyter.widget-view+json": {
       "model_id": "a3a147a41ed34a718907f91d54768b6a",
       "version_major": 2,
       "version_minor": 0
      },
      "text/plain": [
       "Creating HAS_VISION_OF_BECOMING relationships:   0%|          | 0/1 [00:00<?, ?it/s]"
      ]
     },
     "metadata": {},
     "output_type": "display_data"
    },
    {
     "data": {
      "application/vnd.jupyter.widget-view+json": {
       "model_id": "bd29eea42771474bab0b737762a2bfd9",
       "version_major": 2,
       "version_minor": 0
      },
      "text/plain": [
       "Creating HAS_VISION_OF_CONTRIBUTING_TO relationships:   0%|          | 0/1 [00:00<?, ?it/s]"
      ]
     },
     "metadata": {},
     "output_type": "display_data"
    },
    {
     "data": {
      "application/vnd.jupyter.widget-view+json": {
       "model_id": "516b35274ec44b29ae7ad5576679ee11",
       "version_major": 2,
       "version_minor": 0
      },
      "text/plain": [
       "Creating VIEWS_ARTIFICIAL_INTELLIGENCE_AS relationships:   0%|          | 0/1 [00:00<?, ?it/s]"
      ]
     },
     "metadata": {},
     "output_type": "display_data"
    },
    {
     "data": {
      "application/vnd.jupyter.widget-view+json": {
       "model_id": "b81f79a015f14a059cf35ae3e33af529",
       "version_major": 2,
       "version_minor": 0
      },
      "text/plain": [
       "Creating EMBODIES relationships:   0%|          | 0/1 [00:00<?, ?it/s]"
      ]
     },
     "metadata": {},
     "output_type": "display_data"
    },
    {
     "data": {
      "application/vnd.jupyter.widget-view+json": {
       "model_id": "0662d6e958e54f1a93a0b8c078f4e591",
       "version_major": 2,
       "version_minor": 0
      },
      "text/plain": [
       "Creating HAS_CODING_STYLE_OF relationships:   0%|          | 0/1 [00:00<?, ?it/s]"
      ]
     },
     "metadata": {},
     "output_type": "display_data"
    },
    {
     "data": {
      "application/vnd.jupyter.widget-view+json": {
       "model_id": "399ea3f9528d47f7b318f54ff0c8b811",
       "version_major": 2,
       "version_minor": 0
      },
      "text/plain": [
       "Creating ADHERES_TO relationships:   0%|          | 0/1 [00:00<?, ?it/s]"
      ]
     },
     "metadata": {},
     "output_type": "display_data"
    },
    {
     "data": {
      "application/vnd.jupyter.widget-view+json": {
       "model_id": "36f6a666412d40f78aa2f5ab214ab453",
       "version_major": 2,
       "version_minor": 0
      },
      "text/plain": [
       "Creating WRITTEN_BY relationships:   0%|          | 0/1 [00:00<?, ?it/s]"
      ]
     },
     "metadata": {},
     "output_type": "display_data"
    },
    {
     "data": {
      "application/vnd.jupyter.widget-view+json": {
       "model_id": "9949a71fcf294d4785a582bda7c40321",
       "version_major": 2,
       "version_minor": 0
      },
      "text/plain": [
       "Creating BELONGS_TO relationships:   0%|          | 0/1 [00:00<?, ?it/s]"
      ]
     },
     "metadata": {},
     "output_type": "display_data"
    },
    {
     "data": {
      "application/vnd.jupyter.widget-view+json": {
       "model_id": "6db33d2f19e44efabad990d361b4b937",
       "version_major": 2,
       "version_minor": 0
      },
      "text/plain": [
       "Creating PUBLISHES relationships:   0%|          | 0/1 [00:00<?, ?it/s]"
      ]
     },
     "metadata": {},
     "output_type": "display_data"
    },
    {
     "data": {
      "application/vnd.jupyter.widget-view+json": {
       "model_id": "67b14da7f7bc4ad981bf5b2f291330d3",
       "version_major": 2,
       "version_minor": 0
      },
      "text/plain": [
       "Creating WRITTEN_IN relationships:   0%|          | 0/1 [00:00<?, ?it/s]"
      ]
     },
     "metadata": {},
     "output_type": "display_data"
    },
    {
     "data": {
      "application/vnd.jupyter.widget-view+json": {
       "model_id": "22468157e67348c09916d55845d005b2",
       "version_major": 2,
       "version_minor": 0
      },
      "text/plain": [
       "Creating SEPARATED_FROM relationships:   0%|          | 0/1 [00:00<?, ?it/s]"
      ]
     },
     "metadata": {},
     "output_type": "display_data"
    },
    {
     "data": {
      "application/vnd.jupyter.widget-view+json": {
       "model_id": "4d1d43c21a5e4dca96a156fa5f4d6e6f",
       "version_major": 2,
       "version_minor": 0
      },
      "text/plain": [
       "Creating APPEALED_TO relationships:   0%|          | 0/1 [00:00<?, ?it/s]"
      ]
     },
     "metadata": {},
     "output_type": "display_data"
    },
    {
     "data": {
      "application/vnd.jupyter.widget-view+json": {
       "model_id": "04deca03c9db425ca91f2df84a0fe333",
       "version_major": 2,
       "version_minor": 0
      },
      "text/plain": [
       "Creating REPRESENTED_BY relationships:   0%|          | 0/1 [00:00<?, ?it/s]"
      ]
     },
     "metadata": {},
     "output_type": "display_data"
    },
    {
     "data": {
      "application/vnd.jupyter.widget-view+json": {
       "model_id": "7542ff7acfab43338cf04223e9442cd0",
       "version_major": 2,
       "version_minor": 0
      },
      "text/plain": [
       "Creating RULED_BY relationships:   0%|          | 0/1 [00:00<?, ?it/s]"
      ]
     },
     "metadata": {},
     "output_type": "display_data"
    },
    {
     "data": {
      "application/vnd.jupyter.widget-view+json": {
       "model_id": "d5fc5f4d576741ee9b43888e41ddabac",
       "version_major": 2,
       "version_minor": 0
      },
      "text/plain": [
       "Creating WARNED_FROM_TIME_TO_TIME relationships:   0%|          | 0/1 [00:00<?, ?it/s]"
      ]
     },
     "metadata": {},
     "output_type": "display_data"
    },
    {
     "data": {
      "application/vnd.jupyter.widget-view+json": {
       "model_id": "a618c6f2fea74d29a1fb71572766051d",
       "version_major": 2,
       "version_minor": 0
      },
      "text/plain": [
       "Creating REMINDED_OF relationships:   0%|          | 0/1 [00:00<?, ?it/s]"
      ]
     },
     "metadata": {},
     "output_type": "display_data"
    },
    {
     "data": {
      "application/vnd.jupyter.widget-view+json": {
       "model_id": "0046b662e784477c9a919d559f4e221d",
       "version_major": 2,
       "version_minor": 0
      },
      "text/plain": [
       "Creating CONJURED_BY relationships:   0%|          | 0/1 [00:00<?, ?it/s]"
      ]
     },
     "metadata": {},
     "output_type": "display_data"
    },
    {
     "data": {
      "application/vnd.jupyter.widget-view+json": {
       "model_id": "033307f590c945e384d9c5a8d3c99e3f",
       "version_major": 2,
       "version_minor": 0
      },
      "text/plain": [
       "Creating DEAF_TO relationships:   0%|          | 0/1 [00:00<?, ?it/s]"
      ]
     },
     "metadata": {},
     "output_type": "display_data"
    },
    {
     "data": {
      "application/vnd.jupyter.widget-view+json": {
       "model_id": "ab7bfe9a6b50416aab7368d26f106cdb",
       "version_major": 2,
       "version_minor": 0
      },
      "text/plain": [
       "Creating RULES_OVER relationships:   0%|          | 0/1 [00:00<?, ?it/s]"
      ]
     },
     "metadata": {},
     "output_type": "display_data"
    },
    {
     "data": {
      "application/vnd.jupyter.widget-view+json": {
       "model_id": "021e426920634b748747d891b71752bc",
       "version_major": 2,
       "version_minor": 0
      },
      "text/plain": [
       "Creating REPRESENTS relationships:   0%|          | 0/1 [00:00<?, ?it/s]"
      ]
     },
     "metadata": {},
     "output_type": "display_data"
    },
    {
     "data": {
      "application/vnd.jupyter.widget-view+json": {
       "model_id": "3aeffffd4c9e425389d265f9c91a8cad",
       "version_major": 2,
       "version_minor": 0
      },
      "text/plain": [
       "Creating FOUNDED_IN relationships:   0%|          | 0/1 [00:00<?, ?it/s]"
      ]
     },
     "metadata": {},
     "output_type": "display_data"
    },
    {
     "data": {
      "application/vnd.jupyter.widget-view+json": {
       "model_id": "7a3768673d02402786047a365cb4ef3c",
       "version_major": 2,
       "version_minor": 0
      },
      "text/plain": [
       "Creating PART_OF relationships:   0%|          | 0/1 [00:00<?, ?it/s]"
      ]
     },
     "metadata": {},
     "output_type": "display_data"
    },
    {
     "data": {
      "application/vnd.jupyter.widget-view+json": {
       "model_id": "c1915529b9e440dcb1c61043a60b2d8b",
       "version_major": 2,
       "version_minor": 0
      },
      "text/plain": [
       "Creating PUBLISHED_BY relationships:   0%|          | 0/1 [00:00<?, ?it/s]"
      ]
     },
     "metadata": {},
     "output_type": "display_data"
    },
    {
     "data": {
      "application/vnd.jupyter.widget-view+json": {
       "model_id": "a53b9cb3cedf44e2a049ebe5cec4f439",
       "version_major": 2,
       "version_minor": 0
      },
      "text/plain": [
       "Creating OCCURRED_ON relationships:   0%|          | 0/1 [00:00<?, ?it/s]"
      ]
     },
     "metadata": {},
     "output_type": "display_data"
    },
    {
     "data": {
      "application/vnd.jupyter.widget-view+json": {
       "model_id": "ed4871927d0046a581654dc5f63cc966",
       "version_major": 2,
       "version_minor": 0
      },
      "text/plain": [
       "Creating SERVED_AS_PRESIDENT_OF relationships:   0%|          | 0/1 [00:00<?, ?it/s]"
      ]
     },
     "metadata": {},
     "output_type": "display_data"
    },
    {
     "data": {
      "application/vnd.jupyter.widget-view+json": {
       "model_id": "5105ecc38bb74152b168d95fb2828ca9",
       "version_major": 2,
       "version_minor": 0
      },
      "text/plain": [
       "Creating RETRANSCRIBED_BY relationships:   0%|          | 0/1 [00:00<?, ?it/s]"
      ]
     },
     "metadata": {},
     "output_type": "display_data"
    },
    {
     "data": {
      "application/vnd.jupyter.widget-view+json": {
       "model_id": "4f7b05b6313244139dec8c7a567049bb",
       "version_major": 2,
       "version_minor": 0
      },
      "text/plain": [
       "Creating SPEAKS_AT relationships:   0%|          | 0/1 [00:00<?, ?it/s]"
      ]
     },
     "metadata": {},
     "output_type": "display_data"
    },
    {
     "data": {
      "application/vnd.jupyter.widget-view+json": {
       "model_id": "f82c4298e61a45b392e5ce7904bfa452",
       "version_major": 2,
       "version_minor": 0
      },
      "text/plain": [
       "Creating ASKS relationships:   0%|          | 0/1 [00:00<?, ?it/s]"
      ]
     },
     "metadata": {},
     "output_type": "display_data"
    },
    {
     "data": {
      "application/vnd.jupyter.widget-view+json": {
       "model_id": "eb6d31c6c9e34db6ad0cb5c056848e6d",
       "version_major": 2,
       "version_minor": 0
      },
      "text/plain": [
       "Creating INVOLVED_IN relationships:   0%|          | 0/1 [00:00<?, ?it/s]"
      ]
     },
     "metadata": {},
     "output_type": "display_data"
    },
    {
     "data": {
      "application/vnd.jupyter.widget-view+json": {
       "model_id": "2fbd59667c794c2abc47e4d0f169b564",
       "version_major": 2,
       "version_minor": 0
      },
      "text/plain": [
       "Creating AFFECTED_BY relationships:   0%|          | 0/1 [00:00<?, ?it/s]"
      ]
     },
     "metadata": {},
     "output_type": "display_data"
    },
    {
     "data": {
      "application/vnd.jupyter.widget-view+json": {
       "model_id": "4d617abe76584f20a88d72a5495530c3",
       "version_major": 2,
       "version_minor": 0
      },
      "text/plain": [
       "Creating SEEKS_TO_DEFEND relationships:   0%|          | 0/1 [00:00<?, ?it/s]"
      ]
     },
     "metadata": {},
     "output_type": "display_data"
    },
    {
     "data": {
      "application/vnd.jupyter.widget-view+json": {
       "model_id": "0b3a34305edd4effb0eb1b54b4ce1cf5",
       "version_major": 2,
       "version_minor": 0
      },
      "text/plain": [
       "Creating SEEKS_TO_FORMULATE_PROPOSALS_WITH relationships:   0%|          | 0/1 [00:00<?, ?it/s]"
      ]
     },
     "metadata": {},
     "output_type": "display_data"
    },
    {
     "data": {
      "application/vnd.jupyter.widget-view+json": {
       "model_id": "27b90728a653498ca7716cd1c688d9ff",
       "version_major": 2,
       "version_minor": 0
      },
      "text/plain": [
       "Creating SEEKS_TO_INSPECT_AND_CONTROL_ARMS_WITH relationships:   0%|          | 0/1 [00:00<?, ?it/s]"
      ]
     },
     "metadata": {},
     "output_type": "display_data"
    },
    {
     "data": {
      "application/vnd.jupyter.widget-view+json": {
       "model_id": "a4d2c65773a64675be43876d189ab438",
       "version_major": 2,
       "version_minor": 0
      },
      "text/plain": [
       "Creating SEEKS_TO_EXPLORE_THE_STARS_WITH relationships:   0%|          | 0/1 [00:00<?, ?it/s]"
      ]
     },
     "metadata": {},
     "output_type": "display_data"
    },
    {
     "data": {
      "application/vnd.jupyter.widget-view+json": {
       "model_id": "2e4c1b38c38e40558ea8fe4140e33b78",
       "version_major": 2,
       "version_minor": 0
      },
      "text/plain": [
       "Creating SEEKS_TO_CONQUER_THE_DESERTS_WITH relationships:   0%|          | 0/1 [00:00<?, ?it/s]"
      ]
     },
     "metadata": {},
     "output_type": "display_data"
    },
    {
     "data": {
      "application/vnd.jupyter.widget-view+json": {
       "model_id": "2bc839065784482798b523237115d3d5",
       "version_major": 2,
       "version_minor": 0
      },
      "text/plain": [
       "Creating SEEKS_TO_ERADICATE_DISEASE_WITH relationships:   0%|          | 0/1 [00:00<?, ?it/s]"
      ]
     },
     "metadata": {},
     "output_type": "display_data"
    },
    {
     "data": {
      "application/vnd.jupyter.widget-view+json": {
       "model_id": "fa3ca3e7695d4bd9a9e218acbdfa556a",
       "version_major": 2,
       "version_minor": 0
      },
      "text/plain": [
       "Creating SEEKS_TO_TAP_THE_OCEAN_DEPTHS_WITH relationships:   0%|          | 0/1 [00:00<?, ?it/s]"
      ]
     },
     "metadata": {},
     "output_type": "display_data"
    },
    {
     "data": {
      "application/vnd.jupyter.widget-view+json": {
       "model_id": "56521bf9469c4beb9af0f492226870d9",
       "version_major": 2,
       "version_minor": 0
      },
      "text/plain": [
       "Creating SEEKS_TO_ENCOURAGE_ARTS_AND_COMMERCE_WITH relationships:   0%|          | 0/1 [00:00<?, ?it/s]"
      ]
     },
     "metadata": {},
     "output_type": "display_data"
    },
    {
     "data": {
      "application/vnd.jupyter.widget-view+json": {
       "model_id": "5c54f065ede148e9a1fdf1ffe9c859f8",
       "version_major": 2,
       "version_minor": 0
      },
      "text/plain": [
       "Creating SEEKS_TO_UNITE_NORTH_AND_SOUTH_WITH relationships:   0%|          | 0/1 [00:00<?, ?it/s]"
      ]
     },
     "metadata": {},
     "output_type": "display_data"
    },
    {
     "data": {
      "application/vnd.jupyter.widget-view+json": {
       "model_id": "445e6e20f68d4d899aef476fc83fee59",
       "version_major": 2,
       "version_minor": 0
      },
      "text/plain": [
       "Creating SEEKS_TO_UNITE_EAST_AND_WEST_WITH relationships:   0%|          | 0/1 [00:00<?, ?it/s]"
      ]
     },
     "metadata": {},
     "output_type": "display_data"
    },
    {
     "data": {
      "application/vnd.jupyter.widget-view+json": {
       "model_id": "53ab79c9cd3f48d5b17ffc5ef6aea405",
       "version_major": 2,
       "version_minor": 0
      },
      "text/plain": [
       "Creating SEEKS_TO_ASSURE_A_MORE_FRUITFUL_LIFE_FOR_MANKIND_WITH relationships:   0%|          | 0/1 [00:00<?, ?…"
      ]
     },
     "metadata": {},
     "output_type": "display_data"
    },
    {
     "data": {
      "application/vnd.jupyter.widget-view+json": {
       "model_id": "39e44e9b60d745ec96490fd863d4c240",
       "version_major": 2,
       "version_minor": 0
      },
      "text/plain": [
       "Creating ASKS_FOR_A_GRAND_AND_GLOBAL_ALLIANCE_WITH relationships:   0%|          | 0/1 [00:00<?, ?it/s]"
      ]
     },
     "metadata": {},
     "output_type": "display_data"
    },
    {
     "data": {
      "application/vnd.jupyter.widget-view+json": {
       "model_id": "628474e6b67442789a65eeacc435e78d",
       "version_major": 2,
       "version_minor": 0
      },
      "text/plain": [
       "Creating WELCOMES relationships:   0%|          | 0/1 [00:00<?, ?it/s]"
      ]
     },
     "metadata": {},
     "output_type": "display_data"
    },
    {
     "data": {
      "application/vnd.jupyter.widget-view+json": {
       "model_id": "ee6e718e194b4abfac9624209ea58ee5",
       "version_major": 2,
       "version_minor": 0
      },
      "text/plain": [
       "Creating HAS_BEEN_SUMMONED_TO_GIVE_TESTIMONY relationships:   0%|          | 0/1 [00:00<?, ?it/s]"
      ]
     },
     "metadata": {},
     "output_type": "display_data"
    },
    {
     "data": {
      "application/vnd.jupyter.widget-view+json": {
       "model_id": "80e8be6af9b744138a7051f24441b1ea",
       "version_major": 2,
       "version_minor": 0
      },
      "text/plain": [
       "Creating HAS_BEEN_GRANTED_THE_ROLE_OF_DEFENDING_FREEDOM relationships:   0%|          | 0/1 [00:00<?, ?it/s]"
      ]
     },
     "metadata": {},
     "output_type": "display_data"
    },
    {
     "data": {
      "application/vnd.jupyter.widget-view+json": {
       "model_id": "a50a6060194143c4921013b2c1670790",
       "version_major": 2,
       "version_minor": 0
      },
      "text/plain": [
       "Creating BELIEVES relationships:   0%|          | 0/1 [00:00<?, ?it/s]"
      ]
     },
     "metadata": {},
     "output_type": "display_data"
    },
    {
     "data": {
      "application/vnd.jupyter.widget-view+json": {
       "model_id": "2ef6ed56813b4415b41e635df9846b5f",
       "version_major": 2,
       "version_minor": 0
      },
      "text/plain": [
       "Creating HAS_THE_ENERGY_THE_FAITH_THE_DEVOTION relationships:   0%|          | 0/1 [00:00<?, ?it/s]"
      ]
     },
     "metadata": {},
     "output_type": "display_data"
    },
    {
     "data": {
      "application/vnd.jupyter.widget-view+json": {
       "model_id": "db3328f69c9143b388f64bd177a1c707",
       "version_major": 2,
       "version_minor": 0
      },
      "text/plain": [
       "Creating CAN_TRULY_LIGHT_THE_WORLD relationships:   0%|          | 0/1 [00:00<?, ?it/s]"
      ]
     },
     "metadata": {},
     "output_type": "display_data"
    },
    {
     "data": {
      "application/vnd.jupyter.widget-view+json": {
       "model_id": "5cb08b65ec484e61b3dce003dede8ba2",
       "version_major": 2,
       "version_minor": 0
      },
      "text/plain": [
       "Creating ASKS_OF_US relationships:   0%|          | 0/1 [00:00<?, ?it/s]"
      ]
     },
     "metadata": {},
     "output_type": "display_data"
    },
    {
     "data": {
      "application/vnd.jupyter.widget-view+json": {
       "model_id": "92044d2cc10842318c9c97f5a5271320",
       "version_major": 2,
       "version_minor": 0
      },
      "text/plain": [
       "Creating SPOKE_AT relationships:   0%|          | 0/1 [00:00<?, ?it/s]"
      ]
     },
     "metadata": {},
     "output_type": "display_data"
    },
    {
     "data": {
      "application/vnd.jupyter.widget-view+json": {
       "model_id": "627cad9ae4ca4c309830ec3e01a7a991",
       "version_major": 2,
       "version_minor": 0
      },
      "text/plain": [
       "Creating RETRANSCRIBED relationships:   0%|          | 0/1 [00:00<?, ?it/s]"
      ]
     },
     "metadata": {},
     "output_type": "display_data"
    },
    {
     "data": {
      "application/vnd.jupyter.widget-view+json": {
       "model_id": "5b796ff99e97490ead5c6e3625612da0",
       "version_major": 2,
       "version_minor": 0
      },
      "text/plain": [
       "Creating OFFICIALLY_RELEASED relationships:   0%|          | 0/1 [00:00<?, ?it/s]"
      ]
     },
     "metadata": {},
     "output_type": "display_data"
    },
    {
     "data": {
      "application/vnd.jupyter.widget-view+json": {
       "model_id": "3fe5af16d7f74123950d7ac667c01aeb",
       "version_major": 2,
       "version_minor": 0
      },
      "text/plain": [
       "Creating RELATED_TO relationships:   0%|          | 0/1 [00:00<?, ?it/s]"
      ]
     },
     "metadata": {},
     "output_type": "display_data"
    },
    {
     "data": {
      "application/vnd.jupyter.widget-view+json": {
       "model_id": "b7d969279e364eee93de2c2b83e104a6",
       "version_major": 2,
       "version_minor": 0
      },
      "text/plain": [
       "Creating ESTABLISHES relationships:   0%|          | 0/1 [00:00<?, ?it/s]"
      ]
     },
     "metadata": {},
     "output_type": "display_data"
    },
    {
     "data": {
      "application/vnd.jupyter.widget-view+json": {
       "model_id": "cc24f6e5fc0749309a69d300370b094a",
       "version_major": 2,
       "version_minor": 0
      },
      "text/plain": [
       "Creating CONSISTS_OF relationships:   0%|          | 0/1 [00:00<?, ?it/s]"
      ]
     },
     "metadata": {},
     "output_type": "display_data"
    },
    {
     "data": {
      "application/vnd.jupyter.widget-view+json": {
       "model_id": "e508dd87674c42698309a0848cfff61f",
       "version_major": 2,
       "version_minor": 0
      },
      "text/plain": [
       "Creating CHOSEN_BY relationships:   0%|          | 0/1 [00:00<?, ?it/s]"
      ]
     },
     "metadata": {},
     "output_type": "display_data"
    },
    {
     "data": {
      "application/vnd.jupyter.widget-view+json": {
       "model_id": "85f341aa86c543b5a726a5362a9cf9e0",
       "version_major": 2,
       "version_minor": 0
      },
      "text/plain": [
       "Creating COMPOSED_OF relationships:   0%|          | 0/1 [00:00<?, ?it/s]"
      ]
     },
     "metadata": {},
     "output_type": "display_data"
    },
    {
     "data": {
      "application/vnd.jupyter.widget-view+json": {
       "model_id": "0cfaca421bc54639a6cd6f1748e6be55",
       "version_major": 2,
       "version_minor": 0
      },
      "text/plain": [
       "Creating CHOSEN_EVERY relationships:   0%|          | 0/1 [00:00<?, ?it/s]"
      ]
     },
     "metadata": {},
     "output_type": "display_data"
    },
    {
     "data": {
      "application/vnd.jupyter.widget-view+json": {
       "model_id": "69c5f641638f451385883a39a76615fb",
       "version_major": 2,
       "version_minor": 0
      },
      "text/plain": [
       "Creating ATTAINED_AGE_OF relationships:   0%|          | 0/1 [00:00<?, ?it/s]"
      ]
     },
     "metadata": {},
     "output_type": "display_data"
    },
    {
     "data": {
      "application/vnd.jupyter.widget-view+json": {
       "model_id": "2f4d6ee2f7844f7981396e1cdbeb77db",
       "version_major": 2,
       "version_minor": 0
      },
      "text/plain": [
       "Creating CITIZEN_OF relationships:   0%|          | 0/1 [00:00<?, ?it/s]"
      ]
     },
     "metadata": {},
     "output_type": "display_data"
    },
    {
     "data": {
      "application/vnd.jupyter.widget-view+json": {
       "model_id": "8cd83ac7be7a4d56bab8de8c06bbcde7",
       "version_major": 2,
       "version_minor": 0
      },
      "text/plain": [
       "Creating INHABITANT_OF relationships:   0%|          | 0/1 [00:00<?, ?it/s]"
      ]
     },
     "metadata": {},
     "output_type": "display_data"
    },
    {
     "data": {
      "application/vnd.jupyter.widget-view+json": {
       "model_id": "4c96febc565c4837a4d76b816fa35144",
       "version_major": 2,
       "version_minor": 0
      },
      "text/plain": [
       "Creating APPORTIONED_AMONG relationships:   0%|          | 0/1 [00:00<?, ?it/s]"
      ]
     },
     "metadata": {},
     "output_type": "display_data"
    },
    {
     "data": {
      "application/vnd.jupyter.widget-view+json": {
       "model_id": "ba5fe138a978444abad7ccf8d5102115",
       "version_major": 2,
       "version_minor": 0
      },
      "text/plain": [
       "Creating DETERMINED_BY relationships:   0%|          | 0/1 [00:00<?, ?it/s]"
      ]
     },
     "metadata": {},
     "output_type": "display_data"
    },
    {
     "data": {
      "application/vnd.jupyter.widget-view+json": {
       "model_id": "b0c063cfd98b4e1fa45218a1617a14f6",
       "version_major": 2,
       "version_minor": 0
      },
      "text/plain": [
       "Creating MADE_WITHIN relationships:   0%|          | 0/1 [00:00<?, ?it/s]"
      ]
     },
     "metadata": {},
     "output_type": "display_data"
    },
    {
     "data": {
      "application/vnd.jupyter.widget-view+json": {
       "model_id": "8d6ac3799f144140aed0271fd434100a",
       "version_major": 2,
       "version_minor": 0
      },
      "text/plain": [
       "Creating MADE_EVERY relationships:   0%|          | 0/1 [00:00<?, ?it/s]"
      ]
     },
     "metadata": {},
     "output_type": "display_data"
    },
    {
     "data": {
      "application/vnd.jupyter.widget-view+json": {
       "model_id": "539aff44e24346ac8971f8566e7c8e7e",
       "version_major": 2,
       "version_minor": 0
      },
      "text/plain": [
       "Creating DIRECTED_BY relationships:   0%|          | 0/1 [00:00<?, ?it/s]"
      ]
     },
     "metadata": {},
     "output_type": "display_data"
    },
    {
     "data": {
      "application/vnd.jupyter.widget-view+json": {
       "model_id": "6a32adb39d494ee5b379dcb142d06d75",
       "version_major": 2,
       "version_minor": 0
      },
      "text/plain": [
       "Creating NOT_EXCEED relationships:   0%|          | 0/1 [00:00<?, ?it/s]"
      ]
     },
     "metadata": {},
     "output_type": "display_data"
    },
    {
     "data": {
      "application/vnd.jupyter.widget-view+json": {
       "model_id": "36e42120150a482ebcf1dc868d61a2fc",
       "version_major": 2,
       "version_minor": 0
      },
      "text/plain": [
       "Creating ENTITLED_TO_CHUSE relationships:   0%|          | 0/1 [00:00<?, ?it/s]"
      ]
     },
     "metadata": {},
     "output_type": "display_data"
    },
    {
     "data": {
      "application/vnd.jupyter.widget-view+json": {
       "model_id": "ee8b85c0094943008de4373174904150",
       "version_major": 2,
       "version_minor": 0
      },
      "text/plain": [
       "Creating CHOOSES relationships:   0%|          | 0/1 [00:00<?, ?it/s]"
      ]
     },
     "metadata": {},
     "output_type": "display_data"
    },
    {
     "data": {
      "application/vnd.jupyter.widget-view+json": {
       "model_id": "227523c9091c40e492c660071be8d82f",
       "version_major": 2,
       "version_minor": 0
      },
      "text/plain": [
       "Creating CHOSEN_FOR relationships:   0%|          | 0/1 [00:00<?, ?it/s]"
      ]
     },
     "metadata": {},
     "output_type": "display_data"
    },
    {
     "data": {
      "application/vnd.jupyter.widget-view+json": {
       "model_id": "1507ee1f1b6349ec93b9df6b1bb26dda",
       "version_major": 2,
       "version_minor": 0
      },
      "text/plain": [
       "Creating SEAT_VACATED_AT relationships:   0%|          | 0/1 [00:00<?, ?it/s]"
      ]
     },
     "metadata": {},
     "output_type": "display_data"
    },
    {
     "data": {
      "application/vnd.jupyter.widget-view+json": {
       "model_id": "7c12632ed0114d0897e4cbe5c2c5a002",
       "version_major": 2,
       "version_minor": 0
      },
      "text/plain": [
       "Creating DIVIDED_INTO relationships:   0%|          | 0/1 [00:00<?, ?it/s]"
      ]
     },
     "metadata": {},
     "output_type": "display_data"
    },
    {
     "data": {
      "application/vnd.jupyter.widget-view+json": {
       "model_id": "ba056d296f4b4bc89c6fad41c0a3458c",
       "version_major": 2,
       "version_minor": 0
      },
      "text/plain": [
       "Creating PRESIDENT_OF relationships:   0%|          | 0/1 [00:00<?, ?it/s]"
      ]
     },
     "metadata": {},
     "output_type": "display_data"
    },
    {
     "data": {
      "application/vnd.jupyter.widget-view+json": {
       "model_id": "173e52f4eecb4ef39fcf008f91ddf6a6",
       "version_major": 2,
       "version_minor": 0
      },
      "text/plain": [
       "Creating HAS_NO_VOTE relationships:   0%|          | 0/1 [00:00<?, ?it/s]"
      ]
     },
     "metadata": {},
     "output_type": "display_data"
    },
    {
     "data": {
      "application/vnd.jupyter.widget-view+json": {
       "model_id": "48979f9c0b6c4753bbc6f7f024035117",
       "version_major": 2,
       "version_minor": 0
      },
      "text/plain": [
       "Creating HAS_SOLE_POWER_TO relationships:   0%|          | 0/1 [00:00<?, ?it/s]"
      ]
     },
     "metadata": {},
     "output_type": "display_data"
    },
    {
     "data": {
      "application/vnd.jupyter.widget-view+json": {
       "model_id": "c0224b4ec8364f68936bcb606bb8c76f",
       "version_major": 2,
       "version_minor": 0
      },
      "text/plain": [
       "Creating SITS_FOR relationships:   0%|          | 0/1 [00:00<?, ?it/s]"
      ]
     },
     "metadata": {},
     "output_type": "display_data"
    },
    {
     "data": {
      "application/vnd.jupyter.widget-view+json": {
       "model_id": "d18275ee31c94c2fae44444722c09a93",
       "version_major": 2,
       "version_minor": 0
      },
      "text/plain": [
       "Creating ON_OATH_OR_AFFIRMATION relationships:   0%|          | 0/1 [00:00<?, ?it/s]"
      ]
     },
     "metadata": {},
     "output_type": "display_data"
    },
    {
     "data": {
      "application/vnd.jupyter.widget-view+json": {
       "model_id": "d82f907640084f0fbf3ae7a82b2b2f21",
       "version_major": 2,
       "version_minor": 0
      },
      "text/plain": [
       "Creating PRESIDED_BY relationships:   0%|          | 0/1 [00:00<?, ?it/s]"
      ]
     },
     "metadata": {},
     "output_type": "display_data"
    },
    {
     "data": {
      "application/vnd.jupyter.widget-view+json": {
       "model_id": "2d19ad3def374fd3b714da92269acb2f",
       "version_major": 2,
       "version_minor": 0
      },
      "text/plain": [
       "Creating REQUIRES_CONCURRENCE_OF relationships:   0%|          | 0/1 [00:00<?, ?it/s]"
      ]
     },
     "metadata": {},
     "output_type": "display_data"
    },
    {
     "data": {
      "application/vnd.jupyter.widget-view+json": {
       "model_id": "60a822d5d755469ba8e64766258aa86d",
       "version_major": 2,
       "version_minor": 0
      },
      "text/plain": [
       "Creating EXTENDS_FURTHER_THAN relationships:   0%|          | 0/1 [00:00<?, ?it/s]"
      ]
     },
     "metadata": {},
     "output_type": "display_data"
    },
    {
     "data": {
      "application/vnd.jupyter.widget-view+json": {
       "model_id": "36730ae5afd2483e8f03ad3891fa308c",
       "version_major": 2,
       "version_minor": 0
      },
      "text/plain": [
       "Creating LIABLE_AND_SUBJECT_TO relationships:   0%|          | 0/1 [00:00<?, ?it/s]"
      ]
     },
     "metadata": {},
     "output_type": "display_data"
    },
    {
     "data": {
      "application/vnd.jupyter.widget-view+json": {
       "model_id": "049c749424094f5fa53a937f89b00e1f",
       "version_major": 2,
       "version_minor": 0
      },
      "text/plain": [
       "Creating ASSEMBLES_AT relationships:   0%|          | 0/1 [00:00<?, ?it/s]"
      ]
     },
     "metadata": {},
     "output_type": "display_data"
    },
    {
     "data": {
      "application/vnd.jupyter.widget-view+json": {
       "model_id": "97fd617e328542449d98163dd1aebe17",
       "version_major": 2,
       "version_minor": 0
      },
      "text/plain": [
       "Creating MEETS_ON relationships:   0%|          | 0/1 [00:00<?, ?it/s]"
      ]
     },
     "metadata": {},
     "output_type": "display_data"
    },
    {
     "data": {
      "application/vnd.jupyter.widget-view+json": {
       "model_id": "37eab3dcc0a34109ba702ac2e305acf2",
       "version_major": 2,
       "version_minor": 0
      },
      "text/plain": [
       "Creating DETERMINES_RULES_OF_PROCEEDINGS relationships:   0%|          | 0/1 [00:00<?, ?it/s]"
      ]
     },
     "metadata": {},
     "output_type": "display_data"
    },
    {
     "data": {
      "application/vnd.jupyter.widget-view+json": {
       "model_id": "c38309f51f7249078a8e9002645dc9e6",
       "version_major": 2,
       "version_minor": 0
      },
      "text/plain": [
       "Creating PUNISHES_MEMBERS relationships:   0%|          | 0/1 [00:00<?, ?it/s]"
      ]
     },
     "metadata": {},
     "output_type": "display_data"
    },
    {
     "data": {
      "application/vnd.jupyter.widget-view+json": {
       "model_id": "c2528f6d188d475db1d5f98667aa5797",
       "version_major": 2,
       "version_minor": 0
      },
      "text/plain": [
       "Creating KEEPS_JOURNAL_OF_PROCEEDINGS relationships:   0%|          | 0/1 [00:00<?, ?it/s]"
      ]
     },
     "metadata": {},
     "output_type": "display_data"
    },
    {
     "data": {
      "application/vnd.jupyter.widget-view+json": {
       "model_id": "93f78c2f79214cc596d1ac2301362bea",
       "version_major": 2,
       "version_minor": 0
      },
      "text/plain": [
       "Creating ADJOURNS_WITH_CONSENT relationships:   0%|          | 0/1 [00:00<?, ?it/s]"
      ]
     },
     "metadata": {},
     "output_type": "display_data"
    },
    {
     "data": {
      "application/vnd.jupyter.widget-view+json": {
       "model_id": "448b61ffe4f34dba91e449fc13b65c07",
       "version_major": 2,
       "version_minor": 0
      },
      "text/plain": [
       "Creating ATTENDS relationships:   0%|          | 0/1 [00:00<?, ?it/s]"
      ]
     },
     "metadata": {},
     "output_type": "display_data"
    },
    {
     "data": {
      "application/vnd.jupyter.widget-view+json": {
       "model_id": "71d73d86ef60414b9e7e3ae4b2f7042a",
       "version_major": 2,
       "version_minor": 0
      },
      "text/plain": [
       "Creating RECEIVES_BILLS_FOR_RAISING_REVENUE relationships:   0%|          | 0/1 [00:00<?, ?it/s]"
      ]
     },
     "metadata": {},
     "output_type": "display_data"
    },
    {
     "data": {
      "application/vnd.jupyter.widget-view+json": {
       "model_id": "2b6d0205a7e14ec3a0ccd390ee58b6a0",
       "version_major": 2,
       "version_minor": 0
      },
      "text/plain": [
       "Creating ORIGINATES_BILLS_FOR_RAISING_REVENUE relationships:   0%|          | 0/1 [00:00<?, ?it/s]"
      ]
     },
     "metadata": {},
     "output_type": "display_data"
    },
    {
     "data": {
      "application/vnd.jupyter.widget-view+json": {
       "model_id": "7a62095b54c34ab1820ccd146648be36",
       "version_major": 2,
       "version_minor": 0
      },
      "text/plain": [
       "Creating SIGNS_BILLS relationships:   0%|          | 0/1 [00:00<?, ?it/s]"
      ]
     },
     "metadata": {},
     "output_type": "display_data"
    },
    {
     "data": {
      "application/vnd.jupyter.widget-view+json": {
       "model_id": "c453f6e61e5f4615b1150154e7481d7b",
       "version_major": 2,
       "version_minor": 0
      },
      "text/plain": [
       "Creating RETURNS_BILLS_WITH_OBJECTIONS relationships:   0%|          | 0/1 [00:00<?, ?it/s]"
      ]
     },
     "metadata": {},
     "output_type": "display_data"
    },
    {
     "data": {
      "application/vnd.jupyter.widget-view+json": {
       "model_id": "3c101e05097142eea4d61954d98607d7",
       "version_major": 2,
       "version_minor": 0
      },
      "text/plain": [
       "Creating RECONSIDERS_BILLS_WITH_OBJECTIONS relationships:   0%|          | 0/1 [00:00<?, ?it/s]"
      ]
     },
     "metadata": {},
     "output_type": "display_data"
    },
    {
     "data": {
      "application/vnd.jupyter.widget-view+json": {
       "model_id": "7208ac0d7f574cfe926b676ddf6b33ee",
       "version_major": 2,
       "version_minor": 0
      },
      "text/plain": [
       "Creating MAKES_LAWS relationships:   0%|          | 0/1 [00:00<?, ?it/s]"
      ]
     },
     "metadata": {},
     "output_type": "display_data"
    },
    {
     "data": {
      "application/vnd.jupyter.widget-view+json": {
       "model_id": "e38b6a36ce5047e9a061a93efeab9b19",
       "version_major": 2,
       "version_minor": 0
      },
      "text/plain": [
       "Creating PRESENTS_ORDERS_RESOLUTIONS_OR_VOTES relationships:   0%|          | 0/1 [00:00<?, ?it/s]"
      ]
     },
     "metadata": {},
     "output_type": "display_data"
    },
    {
     "data": {
      "application/vnd.jupyter.widget-view+json": {
       "model_id": "73f45ae81ef2467bab919ac05550f5f9",
       "version_major": 2,
       "version_minor": 0
      },
      "text/plain": [
       "Creating TAKES_EFFECT_OR_VETOES_ORDERS_RESOLUTIONS_OR_VOTES relationships:   0%|          | 0/1 [00:00<?, ?it/…"
      ]
     },
     "metadata": {},
     "output_type": "display_data"
    },
    {
     "data": {
      "application/vnd.jupyter.widget-view+json": {
       "model_id": "3b5d673a20c1403db20ccb66b2c83ad9",
       "version_major": 2,
       "version_minor": 0
      },
      "text/plain": [
       "Creating CAN_PASS relationships:   0%|          | 0/1 [00:00<?, ?it/s]"
      ]
     },
     "metadata": {},
     "output_type": "display_data"
    },
    {
     "data": {
      "application/vnd.jupyter.widget-view+json": {
       "model_id": "1eb2207d6eda4232b9d2cc36be2fafa4",
       "version_major": 2,
       "version_minor": 0
      },
      "text/plain": [
       "Creating CAN_IMPOSE_TAX relationships:   0%|          | 0/1 [00:00<?, ?it/s]"
      ]
     },
     "metadata": {},
     "output_type": "display_data"
    },
    {
     "data": {
      "application/vnd.jupyter.widget-view+json": {
       "model_id": "6cfb458adf2b435aba6f1c01e687a56f",
       "version_major": 2,
       "version_minor": 0
      },
      "text/plain": [
       "Creating CAN_IMPOSE_DUTY relationships:   0%|          | 0/1 [00:00<?, ?it/s]"
      ]
     },
     "metadata": {},
     "output_type": "display_data"
    },
    {
     "data": {
      "application/vnd.jupyter.widget-view+json": {
       "model_id": "3f0aa16bfbad44a48ea6fc2fd9b34a63",
       "version_major": 2,
       "version_minor": 0
      },
      "text/plain": [
       "Creating CAN_SUSPEND relationships:   0%|          | 0/1 [00:00<?, ?it/s]"
      ]
     },
     "metadata": {},
     "output_type": "display_data"
    },
    {
     "data": {
      "application/vnd.jupyter.widget-view+json": {
       "model_id": "dc4cad1facd64fcea8c3e3103688afd1",
       "version_major": 2,
       "version_minor": 0
      },
      "text/plain": [
       "Creating CAN_RETURN_BILL relationships:   0%|          | 0/1 [00:00<?, ?it/s]"
      ]
     },
     "metadata": {},
     "output_type": "display_data"
    },
    {
     "data": {
      "application/vnd.jupyter.widget-view+json": {
       "model_id": "cb51900522284585bc193054ad96beba",
       "version_major": 2,
       "version_minor": 0
      },
      "text/plain": [
       "Creating CAN_APPROVE_OR_DISAPPROVE relationships:   0%|          | 0/1 [00:00<?, ?it/s]"
      ]
     },
     "metadata": {},
     "output_type": "display_data"
    },
    {
     "data": {
      "application/vnd.jupyter.widget-view+json": {
       "model_id": "dcbc9cb42f16418db72c17a4be65e164",
       "version_major": 2,
       "version_minor": 0
      },
      "text/plain": [
       "Creating CAN_REPASS_DISAPPROVED_ORDER_OR_VOTE relationships:   0%|          | 0/1 [00:00<?, ?it/s]"
      ]
     },
     "metadata": {},
     "output_type": "display_data"
    },
    {
     "data": {
      "application/vnd.jupyter.widget-view+json": {
       "model_id": "5dbde039c65342fab9911b81cf17d11f",
       "version_major": 2,
       "version_minor": 0
      },
      "text/plain": [
       "Creating CAN_LAY_TAXES relationships:   0%|          | 0/1 [00:00<?, ?it/s]"
      ]
     },
     "metadata": {},
     "output_type": "display_data"
    },
    {
     "data": {
      "application/vnd.jupyter.widget-view+json": {
       "model_id": "6724ab0fabc741379f9effb487169c70",
       "version_major": 2,
       "version_minor": 0
      },
      "text/plain": [
       "Creating CAN_LAY_DUTIES relationships:   0%|          | 0/1 [00:00<?, ?it/s]"
      ]
     },
     "metadata": {},
     "output_type": "display_data"
    },
    {
     "data": {
      "application/vnd.jupyter.widget-view+json": {
       "model_id": "ed58b4e9c00641d9bd773d88f57da81c",
       "version_major": 2,
       "version_minor": 0
      },
      "text/plain": [
       "Creating CAN_LAY_IMPOSTS relationships:   0%|          | 0/1 [00:00<?, ?it/s]"
      ]
     },
     "metadata": {},
     "output_type": "display_data"
    },
    {
     "data": {
      "application/vnd.jupyter.widget-view+json": {
       "model_id": "db994225ed9c414d94fbc0dcc5167f18",
       "version_major": 2,
       "version_minor": 0
      },
      "text/plain": [
       "Creating CAN_LAY_EXCISES relationships:   0%|          | 0/1 [00:00<?, ?it/s]"
      ]
     },
     "metadata": {},
     "output_type": "display_data"
    },
    {
     "data": {
      "application/vnd.jupyter.widget-view+json": {
       "model_id": "b6540ef476e14176bd31f75817dbb761",
       "version_major": 2,
       "version_minor": 0
      },
      "text/plain": [
       "Creating CAN_PROVIDE_FOR_DEFENSE relationships:   0%|          | 0/1 [00:00<?, ?it/s]"
      ]
     },
     "metadata": {},
     "output_type": "display_data"
    },
    {
     "data": {
      "application/vnd.jupyter.widget-view+json": {
       "model_id": "b893b528e83e4260b6a14491deba9b76",
       "version_major": 2,
       "version_minor": 0
      },
      "text/plain": [
       "Creating CAN_PROVIDE_FOR_WELFARE relationships:   0%|          | 0/1 [00:00<?, ?it/s]"
      ]
     },
     "metadata": {},
     "output_type": "display_data"
    },
    {
     "data": {
      "application/vnd.jupyter.widget-view+json": {
       "model_id": "650854febaca4023ad0101826e4b4d7b",
       "version_major": 2,
       "version_minor": 0
      },
      "text/plain": [
       "Creating CAN_BORROW_MONEY relationships:   0%|          | 0/1 [00:00<?, ?it/s]"
      ]
     },
     "metadata": {},
     "output_type": "display_data"
    },
    {
     "data": {
      "application/vnd.jupyter.widget-view+json": {
       "model_id": "38bc54667d644167b0c3e6f26fd445b2",
       "version_major": 2,
       "version_minor": 0
      },
      "text/plain": [
       "Creating CAN_REGULATE_COMMERCE relationships:   0%|          | 0/1 [00:00<?, ?it/s]"
      ]
     },
     "metadata": {},
     "output_type": "display_data"
    },
    {
     "data": {
      "application/vnd.jupyter.widget-view+json": {
       "model_id": "806d31e4088e4a128de9d736b38bc543",
       "version_major": 2,
       "version_minor": 0
      },
      "text/plain": [
       "Creating CAN_REGULATE_COMMERCE_WITH_FOREIGN_NATIONS relationships:   0%|          | 0/1 [00:00<?, ?it/s]"
      ]
     },
     "metadata": {},
     "output_type": "display_data"
    },
    {
     "data": {
      "application/vnd.jupyter.widget-view+json": {
       "model_id": "31a22e20125c419f82ca869deb2160a5",
       "version_major": 2,
       "version_minor": 0
      },
      "text/plain": [
       "Creating CAN_REGULATE_COMMERCE_AMONG_STATES relationships:   0%|          | 0/1 [00:00<?, ?it/s]"
      ]
     },
     "metadata": {},
     "output_type": "display_data"
    },
    {
     "data": {
      "application/vnd.jupyter.widget-view+json": {
       "model_id": "3768c4c85c764099a8345353ffdde7e3",
       "version_major": 2,
       "version_minor": 0
      },
      "text/plain": [
       "Creating CAN_REGULATE_COMMERCE_WITH_INDIAN_TRIBES relationships:   0%|          | 0/1 [00:00<?, ?it/s]"
      ]
     },
     "metadata": {},
     "output_type": "display_data"
    },
    {
     "data": {
      "application/vnd.jupyter.widget-view+json": {
       "model_id": "176ccbeece1147ccb580cd39f9aace3d",
       "version_major": 2,
       "version_minor": 0
      },
      "text/plain": [
       "Creating CAN_ESTABLISH_NATURALIZATION_RULES relationships:   0%|          | 0/1 [00:00<?, ?it/s]"
      ]
     },
     "metadata": {},
     "output_type": "display_data"
    },
    {
     "data": {
      "application/vnd.jupyter.widget-view+json": {
       "model_id": "5b3abcd6753a4fa18e666b488994cfbe",
       "version_major": 2,
       "version_minor": 0
      },
      "text/plain": [
       "Creating CAN_ESTABLISH_BANKRUPTCY_LAWS relationships:   0%|          | 0/1 [00:00<?, ?it/s]"
      ]
     },
     "metadata": {},
     "output_type": "display_data"
    },
    {
     "data": {
      "application/vnd.jupyter.widget-view+json": {
       "model_id": "41b15c20082e44429f3c280a938b3014",
       "version_major": 2,
       "version_minor": 0
      },
      "text/plain": [
       "Creating CAN_COIN_MONEY relationships:   0%|          | 0/1 [00:00<?, ?it/s]"
      ]
     },
     "metadata": {},
     "output_type": "display_data"
    },
    {
     "data": {
      "application/vnd.jupyter.widget-view+json": {
       "model_id": "5bc0ec6192d44cd6843008633b624e50",
       "version_major": 2,
       "version_minor": 0
      },
      "text/plain": [
       "Creating CAN_REGULATE_MONEY_VALUE relationships:   0%|          | 0/1 [00:00<?, ?it/s]"
      ]
     },
     "metadata": {},
     "output_type": "display_data"
    },
    {
     "data": {
      "application/vnd.jupyter.widget-view+json": {
       "model_id": "c889ffeb0be2414e835829ce44457505",
       "version_major": 2,
       "version_minor": 0
      },
      "text/plain": [
       "Creating CAN_REGULATE_FOREIGN_COIN relationships:   0%|          | 0/1 [00:00<?, ?it/s]"
      ]
     },
     "metadata": {},
     "output_type": "display_data"
    },
    {
     "data": {
      "application/vnd.jupyter.widget-view+json": {
       "model_id": "1e8a78695e154bf983ea37b7d95441a2",
       "version_major": 2,
       "version_minor": 0
      },
      "text/plain": [
       "Creating CAN_FIX_STANDARD_WEIGHTS_AND_MEASURES relationships:   0%|          | 0/1 [00:00<?, ?it/s]"
      ]
     },
     "metadata": {},
     "output_type": "display_data"
    },
    {
     "data": {
      "application/vnd.jupyter.widget-view+json": {
       "model_id": "38708d624485497a8d23f05484cb4365",
       "version_major": 2,
       "version_minor": 0
      },
      "text/plain": [
       "Creating CAN_PROVIDE_FOR_PUNISHMENT_OF_COUNTERFEITING relationships:   0%|          | 0/1 [00:00<?, ?it/s]"
      ]
     },
     "metadata": {},
     "output_type": "display_data"
    },
    {
     "data": {
      "application/vnd.jupyter.widget-view+json": {
       "model_id": "90e2f71386eb48df8ee611555190727a",
       "version_major": 2,
       "version_minor": 0
      },
      "text/plain": [
       "Creating CAN_ESTABLISH_POST_OFFICES relationships:   0%|          | 0/1 [00:00<?, ?it/s]"
      ]
     },
     "metadata": {},
     "output_type": "display_data"
    },
    {
     "data": {
      "application/vnd.jupyter.widget-view+json": {
       "model_id": "49eb251f24fb4109b43c15dc97917b93",
       "version_major": 2,
       "version_minor": 0
      },
      "text/plain": [
       "Creating CAN_ESTABLISH_POST_ROADS relationships:   0%|          | 0/1 [00:00<?, ?it/s]"
      ]
     },
     "metadata": {},
     "output_type": "display_data"
    },
    {
     "data": {
      "application/vnd.jupyter.widget-view+json": {
       "model_id": "fd78ebfeb7f44f2eb6418b62fe49dc84",
       "version_major": 2,
       "version_minor": 0
      },
      "text/plain": [
       "Creating CAN_PROMOTE_SCIENCE_AND_ARTS relationships:   0%|          | 0/1 [00:00<?, ?it/s]"
      ]
     },
     "metadata": {},
     "output_type": "display_data"
    },
    {
     "data": {
      "application/vnd.jupyter.widget-view+json": {
       "model_id": "ebdc93b5e6654e11b0a35df6162231fb",
       "version_major": 2,
       "version_minor": 0
      },
      "text/plain": [
       "Creating CAN_GRANT_EXCLUSIVE_RIGHTS relationships:   0%|          | 0/1 [00:00<?, ?it/s]"
      ]
     },
     "metadata": {},
     "output_type": "display_data"
    },
    {
     "data": {
      "application/vnd.jupyter.widget-view+json": {
       "model_id": "498330e551cf4f16ba8c8907e44345f5",
       "version_major": 2,
       "version_minor": 0
      },
      "text/plain": [
       "Creating CAN_CONSTITUTE_TRIBUNALS relationships:   0%|          | 0/1 [00:00<?, ?it/s]"
      ]
     },
     "metadata": {},
     "output_type": "display_data"
    },
    {
     "data": {
      "application/vnd.jupyter.widget-view+json": {
       "model_id": "e5224aa025b948fbac52c336dfa8b411",
       "version_major": 2,
       "version_minor": 0
      },
      "text/plain": [
       "Creating CAN_DECLARE_WAR relationships:   0%|          | 0/1 [00:00<?, ?it/s]"
      ]
     },
     "metadata": {},
     "output_type": "display_data"
    },
    {
     "data": {
      "application/vnd.jupyter.widget-view+json": {
       "model_id": "e9baf7c7aec24672a42ff1ebfe279e0e",
       "version_major": 2,
       "version_minor": 0
      },
      "text/plain": [
       "Creating CAN_GRANT_LETTERS_OF_MARQUE_AND_REPRISAL relationships:   0%|          | 0/1 [00:00<?, ?it/s]"
      ]
     },
     "metadata": {},
     "output_type": "display_data"
    },
    {
     "data": {
      "application/vnd.jupyter.widget-view+json": {
       "model_id": "a427b1ebd7d04961b3973b5e6cc73f2d",
       "version_major": 2,
       "version_minor": 0
      },
      "text/plain": [
       "Creating CAN_MAKE_RULES_CONCERNING_CAPTURES relationships:   0%|          | 0/1 [00:00<?, ?it/s]"
      ]
     },
     "metadata": {},
     "output_type": "display_data"
    },
    {
     "data": {
      "application/vnd.jupyter.widget-view+json": {
       "model_id": "2cf8032aaa584e749041870e5bd8db63",
       "version_major": 2,
       "version_minor": 0
      },
      "text/plain": [
       "Creating CAN_RAISE_AND_SUPPORT_ARMIES relationships:   0%|          | 0/1 [00:00<?, ?it/s]"
      ]
     },
     "metadata": {},
     "output_type": "display_data"
    },
    {
     "data": {
      "application/vnd.jupyter.widget-view+json": {
       "model_id": "d58ca52d87ec480689e8a3a281d80071",
       "version_major": 2,
       "version_minor": 0
      },
      "text/plain": [
       "Creating CAN_PROVIDE_FOR_NAVY relationships:   0%|          | 0/1 [00:00<?, ?it/s]"
      ]
     },
     "metadata": {},
     "output_type": "display_data"
    },
    {
     "data": {
      "application/vnd.jupyter.widget-view+json": {
       "model_id": "292b10fe17f84d00ba261346cb85e848",
       "version_major": 2,
       "version_minor": 0
      },
      "text/plain": [
       "Creating CAN_MAKE_RULES_FOR_GOVERNMENT_AND_REGULATION_OF_LAND_AND_NAVAL_FORCES relationships:   0%|          |…"
      ]
     },
     "metadata": {},
     "output_type": "display_data"
    },
    {
     "data": {
      "application/vnd.jupyter.widget-view+json": {
       "model_id": "cce7010905114675848682bbcb92e8ea",
       "version_major": 2,
       "version_minor": 0
      },
      "text/plain": [
       "Creating CAN_PROVIDE_FOR_CALLING_FORTH_MILITIA relationships:   0%|          | 0/1 [00:00<?, ?it/s]"
      ]
     },
     "metadata": {},
     "output_type": "display_data"
    },
    {
     "data": {
      "application/vnd.jupyter.widget-view+json": {
       "model_id": "162501ecdfb041298fb5ace80f176489",
       "version_major": 2,
       "version_minor": 0
      },
      "text/plain": [
       "Creating CAN_SUPPRESS_INSURRECTIONS relationships:   0%|          | 0/1 [00:00<?, ?it/s]"
      ]
     },
     "metadata": {},
     "output_type": "display_data"
    },
    {
     "data": {
      "application/vnd.jupyter.widget-view+json": {
       "model_id": "1cedfd8c4c7245ab990de1adbf4a0a3f",
       "version_major": 2,
       "version_minor": 0
      },
      "text/plain": [
       "Creating CAN_REPEL_INVASIONS relationships:   0%|          | 0/1 [00:00<?, ?it/s]"
      ]
     },
     "metadata": {},
     "output_type": "display_data"
    },
    {
     "data": {
      "application/vnd.jupyter.widget-view+json": {
       "model_id": "76141e35cea14a7e85cac0b645c4df34",
       "version_major": 2,
       "version_minor": 0
      },
      "text/plain": [
       "Creating CAN_PROVIDE_FOR_ORGANIZING_ARMING_AND_DISCIPLINING_MILITIA relationships:   0%|          | 0/1 [00:00…"
      ]
     },
     "metadata": {},
     "output_type": "display_data"
    },
    {
     "data": {
      "application/vnd.jupyter.widget-view+json": {
       "model_id": "d9be656fed134c30bbe31709f6c6cc68",
       "version_major": 2,
       "version_minor": 0
      },
      "text/plain": [
       "Creating CAN_APPOINT_OFFICERS_OF_MILITIA relationships:   0%|          | 0/1 [00:00<?, ?it/s]"
      ]
     },
     "metadata": {},
     "output_type": "display_data"
    },
    {
     "data": {
      "application/vnd.jupyter.widget-view+json": {
       "model_id": "588db60a295242729643dd7721f295e4",
       "version_major": 2,
       "version_minor": 0
      },
      "text/plain": [
       "Creating CAN_TRAIN_MILITIA_ACCORDING_TO_DISCIPLINE_PRESCRIBED_BY_CONGRESS relationships:   0%|          | 0/1 …"
      ]
     },
     "metadata": {},
     "output_type": "display_data"
    },
    {
     "data": {
      "application/vnd.jupyter.widget-view+json": {
       "model_id": "4c71b68783c7495c98773023e8572e5b",
       "version_major": 2,
       "version_minor": 0
      },
      "text/plain": [
       "Creating CAN_EXERCISE_EXCLUSIVE_LEGISLATION_OVER_DISTRICT relationships:   0%|          | 0/1 [00:00<?, ?it/s]"
      ]
     },
     "metadata": {},
     "output_type": "display_data"
    },
    {
     "data": {
      "application/vnd.jupyter.widget-view+json": {
       "model_id": "2e71a1bb41be4ab9885b05973f5cd3d3",
       "version_major": 2,
       "version_minor": 0
      },
      "text/plain": [
       "Creating CAN_EXERCISE_AUTHORITY_OVER_PLACES_PURCHASED_BY_CONSENT_OF_STATE_LEGISLATURE relationships:   0%|    …"
      ]
     },
     "metadata": {},
     "output_type": "display_data"
    },
    {
     "data": {
      "application/vnd.jupyter.widget-view+json": {
       "model_id": "b44bac5cf2ab4f339975b65f6e63bfe3",
       "version_major": 2,
       "version_minor": 0
      },
      "text/plain": [
       "Creating CAN_MAKE_ALL_LAWS_NECESSARY_AND_PROPER relationships:   0%|          | 0/1 [00:00<?, ?it/s]"
      ]
     },
     "metadata": {},
     "output_type": "display_data"
    },
    {
     "data": {
      "application/vnd.jupyter.widget-view+json": {
       "model_id": "5385088418a346ad8b245e5cf527bbaa",
       "version_major": 2,
       "version_minor": 0
      },
      "text/plain": [
       "Creating ELECTED_BY relationships:   0%|          | 0/1 [00:00<?, ?it/s]"
      ]
     },
     "metadata": {},
     "output_type": "display_data"
    },
    {
     "data": {
      "application/vnd.jupyter.widget-view+json": {
       "model_id": "c2aa78b962b7492f9cc89fac5c91e85d",
       "version_major": 2,
       "version_minor": 0
      },
      "text/plain": [
       "Creating VOTES_FOR relationships:   0%|          | 0/1 [00:00<?, ?it/s]"
      ]
     },
     "metadata": {},
     "output_type": "display_data"
    },
    {
     "data": {
      "application/vnd.jupyter.widget-view+json": {
       "model_id": "efb4379d81764b39aef8da922751a9a6",
       "version_major": 2,
       "version_minor": 0
      },
      "text/plain": [
       "Creating COUNTS_VOTES_FOR relationships:   0%|          | 0/1 [00:00<?, ?it/s]"
      ]
     },
     "metadata": {},
     "output_type": "display_data"
    },
    {
     "data": {
      "application/vnd.jupyter.widget-view+json": {
       "model_id": "27db11aad1454d46831fb44a2a481775",
       "version_major": 2,
       "version_minor": 0
      },
      "text/plain": [
       "Creating CHOOSES_VICE_PRESIDENT relationships:   0%|          | 0/1 [00:00<?, ?it/s]"
      ]
     },
     "metadata": {},
     "output_type": "display_data"
    },
    {
     "data": {
      "application/vnd.jupyter.widget-view+json": {
       "model_id": "fdb313abbe154c4b9bce3921068c0cf7",
       "version_major": 2,
       "version_minor": 0
      },
      "text/plain": [
       "Creating DETERMINES_TIME_OF_ELECTORS_CHOSING relationships:   0%|          | 0/1 [00:00<?, ?it/s]"
      ]
     },
     "metadata": {},
     "output_type": "display_data"
    },
    {
     "data": {
      "application/vnd.jupyter.widget-view+json": {
       "model_id": "ee79df27bc2f41e6b8f836c3a7471e66",
       "version_major": 2,
       "version_minor": 0
      },
      "text/plain": [
       "Creating DETERMINES_DAY_OF_ELECTORS_CHOSING relationships:   0%|          | 0/1 [00:00<?, ?it/s]"
      ]
     },
     "metadata": {},
     "output_type": "display_data"
    },
    {
     "data": {
      "application/vnd.jupyter.widget-view+json": {
       "model_id": "6a1925f7cfc54c219f1ca41e0aabd53a",
       "version_major": 2,
       "version_minor": 0
      },
      "text/plain": [
       "Creating DETERMINES_QUORUM_FOR_ELECTORS_CHOSING relationships:   0%|          | 0/1 [00:00<?, ?it/s]"
      ]
     },
     "metadata": {},
     "output_type": "display_data"
    },
    {
     "data": {
      "application/vnd.jupyter.widget-view+json": {
       "model_id": "6f0c9f7641c14593aeca7aee85a2b22a",
       "version_major": 2,
       "version_minor": 0
      },
      "text/plain": [
       "Creating DETERMINES_MAJORITY_FOR_ELECTORS_CHOSING relationships:   0%|          | 0/1 [00:00<?, ?it/s]"
      ]
     },
     "metadata": {},
     "output_type": "display_data"
    },
    {
     "data": {
      "application/vnd.jupyter.widget-view+json": {
       "model_id": "fce6da3a8c324326ab2868b13064970f",
       "version_major": 2,
       "version_minor": 0
      },
      "text/plain": [
       "Creating VOTES_FOR_PRESIDENT relationships:   0%|          | 0/1 [00:00<?, ?it/s]"
      ]
     },
     "metadata": {},
     "output_type": "display_data"
    },
    {
     "data": {
      "application/vnd.jupyter.widget-view+json": {
       "model_id": "df3404a4f7514f8fbf0f95eeed28861e",
       "version_major": 2,
       "version_minor": 0
      },
      "text/plain": [
       "Creating CHOOSES_PRESIDENT relationships:   0%|          | 0/1 [00:00<?, ?it/s]"
      ]
     },
     "metadata": {},
     "output_type": "display_data"
    },
    {
     "data": {
      "application/vnd.jupyter.widget-view+json": {
       "model_id": "12cc425527b34eddbe20da29643a1f2a",
       "version_major": 2,
       "version_minor": 0
      },
      "text/plain": [
       "Creating VOTES_FOR_VICE_PRESIDENT relationships:   0%|          | 0/1 [00:00<?, ?it/s]"
      ]
     },
     "metadata": {},
     "output_type": "display_data"
    },
    {
     "data": {
      "application/vnd.jupyter.widget-view+json": {
       "model_id": "2d9b76db79c84256bd2741c6998cf275",
       "version_major": 2,
       "version_minor": 0
      },
      "text/plain": [
       "Creating COMMANDER_IN_CHIEF_OF relationships:   0%|          | 0/1 [00:00<?, ?it/s]"
      ]
     },
     "metadata": {},
     "output_type": "display_data"
    },
    {
     "data": {
      "application/vnd.jupyter.widget-view+json": {
       "model_id": "ebdd31a6ae244a38bd06c12f2a644596",
       "version_major": 2,
       "version_minor": 0
      },
      "text/plain": [
       "Creating RECEIVES_OPINION_FROM relationships:   0%|          | 0/1 [00:00<?, ?it/s]"
      ]
     },
     "metadata": {},
     "output_type": "display_data"
    },
    {
     "data": {
      "application/vnd.jupyter.widget-view+json": {
       "model_id": "cf23f2f28d9e4d918ceff7f10188c0cf",
       "version_major": 2,
       "version_minor": 0
      },
      "text/plain": [
       "Creating HAS_POWER_TO_GRANT_REPRIEVES_AND_PARDONS relationships:   0%|          | 0/1 [00:00<?, ?it/s]"
      ]
     },
     "metadata": {},
     "output_type": "display_data"
    },
    {
     "data": {
      "application/vnd.jupyter.widget-view+json": {
       "model_id": "d91b0ea84c6245cebfdb457f248bb093",
       "version_major": 2,
       "version_minor": 0
      },
      "text/plain": [
       "Creating HAS_POWER_BY_AND_WITH_THE_ADVICE_AND_CONSENT_OF_THE_SENATE relationships:   0%|          | 0/1 [00:00…"
      ]
     },
     "metadata": {},
     "output_type": "display_data"
    },
    {
     "data": {
      "application/vnd.jupyter.widget-view+json": {
       "model_id": "d8993b70dc404f6ab541db4036be5000",
       "version_major": 2,
       "version_minor": 0
      },
      "text/plain": [
       "Creating NOMINATES_AND_BY_AND_WITH_THE_ADVICE_AND_CONSENT_OF_THE_SENATE relationships:   0%|          | 0/1 [0…"
      ]
     },
     "metadata": {},
     "output_type": "display_data"
    },
    {
     "data": {
      "application/vnd.jupyter.widget-view+json": {
       "model_id": "480d0aa82bd346448edad681292eaffc",
       "version_major": 2,
       "version_minor": 0
      },
      "text/plain": [
       "Creating HAS_POWER_TO_FILL_UP_ALL_VACANCIES relationships:   0%|          | 0/1 [00:00<?, ?it/s]"
      ]
     },
     "metadata": {},
     "output_type": "display_data"
    },
    {
     "data": {
      "application/vnd.jupyter.widget-view+json": {
       "model_id": "978233b399e348eaa1d0c13f4df6dca8",
       "version_major": 2,
       "version_minor": 0
      },
      "text/plain": [
       "Creating GIVES_INFORMATION_TO relationships:   0%|          | 0/1 [00:00<?, ?it/s]"
      ]
     },
     "metadata": {},
     "output_type": "display_data"
    },
    {
     "data": {
      "application/vnd.jupyter.widget-view+json": {
       "model_id": "ed826ce57b734d61a3e451f553e09cb8",
       "version_major": 2,
       "version_minor": 0
      },
      "text/plain": [
       "Creating RECOMMENDS_TO_THEIR_CONSIDERATION relationships:   0%|          | 0/1 [00:00<?, ?it/s]"
      ]
     },
     "metadata": {},
     "output_type": "display_data"
    },
    {
     "data": {
      "application/vnd.jupyter.widget-view+json": {
       "model_id": "3bd114e99f644c119aadc474036ffe6e",
       "version_major": 2,
       "version_minor": 0
      },
      "text/plain": [
       "Creating MAY_CONVENE_BOTH_HOUSES relationships:   0%|          | 0/1 [00:00<?, ?it/s]"
      ]
     },
     "metadata": {},
     "output_type": "display_data"
    },
    {
     "data": {
      "application/vnd.jupyter.widget-view+json": {
       "model_id": "fc0696c65b7b45be9040ac8368c73801",
       "version_major": 2,
       "version_minor": 0
      },
      "text/plain": [
       "Creating MAY_ADJOURN_THEM relationships:   0%|          | 0/1 [00:00<?, ?it/s]"
      ]
     },
     "metadata": {},
     "output_type": "display_data"
    },
    {
     "data": {
      "application/vnd.jupyter.widget-view+json": {
       "model_id": "ad88303254f14d2abce578a50cc2aa3c",
       "version_major": 2,
       "version_minor": 0
      },
      "text/plain": [
       "Creating HAS_THE_POWER_TO_IMPEACH relationships:   0%|          | 0/1 [00:00<?, ?it/s]"
      ]
     },
     "metadata": {},
     "output_type": "display_data"
    },
    {
     "data": {
      "application/vnd.jupyter.widget-view+json": {
       "model_id": "b27a2170369b4ac6af4763c5289a37bc",
       "version_major": 2,
       "version_minor": 0
      },
      "text/plain": [
       "Creating MAY_FROM_TIME_TO_TIME_ORDAIN_AND_ESTABLISH relationships:   0%|          | 0/1 [00:00<?, ?it/s]"
      ]
     },
     "metadata": {},
     "output_type": "display_data"
    },
    {
     "data": {
      "application/vnd.jupyter.widget-view+json": {
       "model_id": "3a1a6be92400462ca221b464ff116369",
       "version_major": 2,
       "version_minor": 0
      },
      "text/plain": [
       "Creating SHALL_HOLD_THEIR_OFFICE_DURING_GOOD_BEHAVIOR relationships:   0%|          | 0/1 [00:00<?, ?it/s]"
      ]
     },
     "metadata": {},
     "output_type": "display_data"
    },
    {
     "data": {
      "application/vnd.jupyter.widget-view+json": {
       "model_id": "fe308810259d4fb4b44499dd3ff239c4",
       "version_major": 2,
       "version_minor": 0
      },
      "text/plain": [
       "Creating REGULATES relationships:   0%|          | 0/1 [00:00<?, ?it/s]"
      ]
     },
     "metadata": {},
     "output_type": "display_data"
    },
    {
     "data": {
      "application/vnd.jupyter.widget-view+json": {
       "model_id": "09ceda091b7a4f7f99bc6a7950b4fce5",
       "version_major": 2,
       "version_minor": 0
      },
      "text/plain": [
       "Creating HAS_JURISDICTION_OVER relationships:   0%|          | 0/1 [00:00<?, ?it/s]"
      ]
     },
     "metadata": {},
     "output_type": "display_data"
    },
    {
     "data": {
      "application/vnd.jupyter.widget-view+json": {
       "model_id": "99fff4dbfab846048eaf4afdb7036912",
       "version_major": 2,
       "version_minor": 0
      },
      "text/plain": [
       "Creating HAS_POWER_TO_DECLARE_PUNISHMENT_OF relationships:   0%|          | 0/1 [00:00<?, ?it/s]"
      ]
     },
     "metadata": {},
     "output_type": "display_data"
    },
    {
     "data": {
      "application/vnd.jupyter.widget-view+json": {
       "model_id": "f832f6e6b44f4ea9b60e720a8d51d3c9",
       "version_major": 2,
       "version_minor": 0
      },
      "text/plain": [
       "Creating HAS_POWER_TO_DISPOSE_OF relationships:   0%|          | 0/1 [00:00<?, ?it/s]"
      ]
     },
     "metadata": {},
     "output_type": "display_data"
    },
    {
     "data": {
      "application/vnd.jupyter.widget-view+json": {
       "model_id": "1dd96989058048b293452187881659a8",
       "version_major": 2,
       "version_minor": 0
      },
      "text/plain": [
       "Creating HAS_POWER_TO_MAKE_RULES_AND_REGULATIONS_RESPECTING relationships:   0%|          | 0/1 [00:00<?, ?it/…"
      ]
     },
     "metadata": {},
     "output_type": "display_data"
    },
    {
     "data": {
      "application/vnd.jupyter.widget-view+json": {
       "model_id": "993f658a9ffe40a4a3b2824b1c605a0f",
       "version_major": 2,
       "version_minor": 0
      },
      "text/plain": [
       "Creating GUARANTEES relationships:   0%|          | 0/1 [00:00<?, ?it/s]"
      ]
     },
     "metadata": {},
     "output_type": "display_data"
    },
    {
     "data": {
      "application/vnd.jupyter.widget-view+json": {
       "model_id": "703a4af153bb47a49839cf279c9d0fe8",
       "version_major": 2,
       "version_minor": 0
      },
      "text/plain": [
       "Creating PROTECTS relationships:   0%|          | 0/1 [00:00<?, ?it/s]"
      ]
     },
     "metadata": {},
     "output_type": "display_data"
    },
    {
     "data": {
      "application/vnd.jupyter.widget-view+json": {
       "model_id": "8157d229d2a4423e8fc26180ec0e138b",
       "version_major": 2,
       "version_minor": 0
      },
      "text/plain": [
       "Creating HAS_POWER_TO_ADMIT relationships:   0%|          | 0/1 [00:00<?, ?it/s]"
      ]
     },
     "metadata": {},
     "output_type": "display_data"
    },
    {
     "data": {
      "application/vnd.jupyter.widget-view+json": {
       "model_id": "797a3726381247098ff7046ac0b03b41",
       "version_major": 2,
       "version_minor": 0
      },
      "text/plain": [
       "Creating HAS_POWER_TO_FORM relationships:   0%|          | 0/1 [00:00<?, ?it/s]"
      ]
     },
     "metadata": {},
     "output_type": "display_data"
    },
    {
     "data": {
      "application/vnd.jupyter.widget-view+json": {
       "model_id": "8764167eb1164778827d9560078df8ce",
       "version_major": 2,
       "version_minor": 0
      },
      "text/plain": [
       "Creating HAS_POWER_TO_ERECT relationships:   0%|          | 0/1 [00:00<?, ?it/s]"
      ]
     },
     "metadata": {},
     "output_type": "display_data"
    },
    {
     "data": {
      "application/vnd.jupyter.widget-view+json": {
       "model_id": "6d995ddf4b7e43979d5e56a7fe3ec61e",
       "version_major": 2,
       "version_minor": 0
      },
      "text/plain": [
       "Creating HAS_POWER_TO_FORM_BY_JUNCTION relationships:   0%|          | 0/1 [00:00<?, ?it/s]"
      ]
     },
     "metadata": {},
     "output_type": "display_data"
    },
    {
     "data": {
      "application/vnd.jupyter.widget-view+json": {
       "model_id": "f137b4d95424456ba5ede9356a57de6b",
       "version_major": 2,
       "version_minor": 0
      },
      "text/plain": [
       "Creating HAS_POWER_TO_DISPOSE_OF_CLAIMS_OF relationships:   0%|          | 0/1 [00:00<?, ?it/s]"
      ]
     },
     "metadata": {},
     "output_type": "display_data"
    },
    {
     "data": {
      "application/vnd.jupyter.widget-view+json": {
       "model_id": "2a575c66ceb64e76bc3cf9f8d70491bb",
       "version_major": 2,
       "version_minor": 0
      },
      "text/plain": [
       "Creating GUARANTEES_TO relationships:   0%|          | 0/1 [00:00<?, ?it/s]"
      ]
     },
     "metadata": {},
     "output_type": "display_data"
    },
    {
     "data": {
      "application/vnd.jupyter.widget-view+json": {
       "model_id": "21d88be8b1eb412eaf2af83f495610ac",
       "version_major": 2,
       "version_minor": 0
      },
      "text/plain": [
       "Creating HAS_POWER_TO relationships:   0%|          | 0/1 [00:00<?, ?it/s]"
      ]
     },
     "metadata": {},
     "output_type": "display_data"
    },
    {
     "data": {
      "application/vnd.jupyter.widget-view+json": {
       "model_id": "682f633a360c4aa3894694c4e24a414b",
       "version_major": 2,
       "version_minor": 0
      },
      "text/plain": [
       "Creating RATIFIED_BY relationships:   0%|          | 0/1 [00:00<?, ?it/s]"
      ]
     },
     "metadata": {},
     "output_type": "display_data"
    },
    {
     "data": {
      "application/vnd.jupyter.widget-view+json": {
       "model_id": "54e38d5de30a4778af624888d2e453dc",
       "version_major": 2,
       "version_minor": 0
      },
      "text/plain": [
       "Creating BOUND_BY relationships:   0%|          | 0/1 [00:00<?, ?it/s]"
      ]
     },
     "metadata": {},
     "output_type": "display_data"
    },
    {
     "data": {
      "application/vnd.jupyter.widget-view+json": {
       "model_id": "a115c39229d845f496fccc71c85c95e6",
       "version_major": 2,
       "version_minor": 0
      },
      "text/plain": [
       "Creating PROPOSED_BY relationships:   0%|          | 0/1 [00:00<?, ?it/s]"
      ]
     },
     "metadata": {},
     "output_type": "display_data"
    },
    {
     "data": {
      "application/vnd.jupyter.widget-view+json": {
       "model_id": "2493ec34ba8942e6805a3c77ec186092",
       "version_major": 2,
       "version_minor": 0
      },
      "text/plain": [
       "Creating AFFECTS_NOT relationships:   0%|          | 0/1 [00:00<?, ?it/s]"
      ]
     },
     "metadata": {},
     "output_type": "display_data"
    },
    {
     "data": {
      "application/vnd.jupyter.widget-view+json": {
       "model_id": "1e5a3032da874163a233c1d0e66ee61d",
       "version_major": 2,
       "version_minor": 0
      },
      "text/plain": [
       "Creating SECRETARY relationships:   0%|          | 0/1 [00:00<?, ?it/s]"
      ]
     },
     "metadata": {},
     "output_type": "display_data"
    },
    {
     "data": {
      "application/vnd.jupyter.widget-view+json": {
       "model_id": "ad820bde3a794cd2b2d2768917443223",
       "version_major": 2,
       "version_minor": 0
      },
      "text/plain": [
       "Creating DELIVERED_SPEECH relationships:   0%|          | 0/1 [00:00<?, ?it/s]"
      ]
     },
     "metadata": {},
     "output_type": "display_data"
    },
    {
     "data": {
      "application/vnd.jupyter.widget-view+json": {
       "model_id": "b1e0c77baee74b84aa0f5178a2f29ea5",
       "version_major": 2,
       "version_minor": 0
      },
      "text/plain": [
       "Creating REFERRED_TO_BY relationships:   0%|          | 0/1 [00:00<?, ?it/s]"
      ]
     },
     "metadata": {},
     "output_type": "display_data"
    },
    {
     "data": {
      "application/vnd.jupyter.widget-view+json": {
       "model_id": "3ca386cad4834fbfaa018c98726d2503",
       "version_major": 2,
       "version_minor": 0
      },
      "text/plain": [
       "Creating SOVEREIGN_OF relationships:   0%|          | 0/1 [00:00<?, ?it/s]"
      ]
     },
     "metadata": {},
     "output_type": "display_data"
    },
    {
     "data": {
      "application/vnd.jupyter.widget-view+json": {
       "model_id": "e29c73138b0049cb917e08edb179d692",
       "version_major": 2,
       "version_minor": 0
      },
      "text/plain": [
       "Creating ABOUT relationships:   0%|          | 0/1 [00:00<?, ?it/s]"
      ]
     },
     "metadata": {},
     "output_type": "display_data"
    },
    {
     "data": {
      "application/vnd.jupyter.widget-view+json": {
       "model_id": "877a92884b494956837e479977a07127",
       "version_major": 2,
       "version_minor": 0
      },
      "text/plain": [
       "Creating REIGNS_OVER relationships:   0%|          | 0/1 [00:00<?, ?it/s]"
      ]
     },
     "metadata": {},
     "output_type": "display_data"
    },
    {
     "data": {
      "application/vnd.jupyter.widget-view+json": {
       "model_id": "d009d8a2f9c24f03951e69aa013cdc03",
       "version_major": 2,
       "version_minor": 0
      },
      "text/plain": [
       "Creating DELIVERS_SPEECH relationships:   0%|          | 0/1 [00:00<?, ?it/s]"
      ]
     },
     "metadata": {},
     "output_type": "display_data"
    },
    {
     "data": {
      "application/vnd.jupyter.widget-view+json": {
       "model_id": "576f739d0b34482584aee2250bf0323a",
       "version_major": 2,
       "version_minor": 0
      },
      "text/plain": [
       "Creating DELIVERED_SPEECH_AT relationships:   0%|          | 0/1 [00:00<?, ?it/s]"
      ]
     },
     "metadata": {},
     "output_type": "display_data"
    },
    {
     "data": {
      "application/vnd.jupyter.widget-view+json": {
       "model_id": "92340cbf7fa242ef89fc5eec73d99921",
       "version_major": 2,
       "version_minor": 0
      },
      "text/plain": [
       "Creating CAUSE_OF relationships:   0%|          | 0/1 [00:00<?, ?it/s]"
      ]
     },
     "metadata": {},
     "output_type": "display_data"
    },
    {
     "data": {
      "application/vnd.jupyter.widget-view+json": {
       "model_id": "21cd70c15d214d1da43f3e6377efb28b",
       "version_major": 2,
       "version_minor": 0
      },
      "text/plain": [
       "Creating LOCALIZED_IN relationships:   0%|          | 0/1 [00:00<?, ?it/s]"
      ]
     },
     "metadata": {},
     "output_type": "display_data"
    },
    {
     "data": {
      "application/vnd.jupyter.widget-view+json": {
       "model_id": "ec55d48de5c44d9bb89ba5d5eba22840",
       "version_major": 2,
       "version_minor": 0
      },
      "text/plain": [
       "Creating INTEREST_OF relationships:   0%|          | 0/1 [00:00<?, ?it/s]"
      ]
     },
     "metadata": {},
     "output_type": "display_data"
    },
    {
     "data": {
      "application/vnd.jupyter.widget-view+json": {
       "model_id": "28dedbc7ffcc48f19f73155a87a91354",
       "version_major": 2,
       "version_minor": 0
      },
      "text/plain": [
       "Creating DEPRECATED_WAR relationships:   0%|          | 0/1 [00:00<?, ?it/s]"
      ]
     },
     "metadata": {},
     "output_type": "display_data"
    },
    {
     "data": {
      "application/vnd.jupyter.widget-view+json": {
       "model_id": "1e73e6f7d7844d5a9169ef4d4734ff31",
       "version_major": 2,
       "version_minor": 0
      },
      "text/plain": [
       "Creating INVOKED_AID_FROM relationships:   0%|          | 0/1 [00:00<?, ?it/s]"
      ]
     },
     "metadata": {},
     "output_type": "display_data"
    },
    {
     "data": {
      "application/vnd.jupyter.widget-view+json": {
       "model_id": "448fb2d1506147ce93ce82f35edbae93",
       "version_major": 2,
       "version_minor": 0
      },
      "text/plain": [
       "Creating INVOKED_BY relationships:   0%|          | 0/1 [00:00<?, ?it/s]"
      ]
     },
     "metadata": {},
     "output_type": "display_data"
    },
    {
     "data": {
      "application/vnd.jupyter.widget-view+json": {
       "model_id": "6b7dc76e6a734468b81b689ff987ec29",
       "version_major": 2,
       "version_minor": 0
      },
      "text/plain": [
       "Creating OCCURRED_DURING relationships:   0%|          | 0/1 [00:00<?, ?it/s]"
      ]
     },
     "metadata": {},
     "output_type": "display_data"
    },
    {
     "data": {
      "application/vnd.jupyter.widget-view+json": {
       "model_id": "eca805f0e90848c28e92a7b96c3f6bf4",
       "version_major": 2,
       "version_minor": 0
      },
      "text/plain": [
       "Creating MAGNITUDE_OF relationships:   0%|          | 0/1 [00:00<?, ?it/s]"
      ]
     },
     "metadata": {},
     "output_type": "display_data"
    },
    {
     "data": {
      "application/vnd.jupyter.widget-view+json": {
       "model_id": "82e0df9905cb401dbfbba8ed72185975",
       "version_major": 2,
       "version_minor": 0
      },
      "text/plain": [
       "Creating DURATION_OF relationships:   0%|          | 0/1 [00:00<?, ?it/s]"
      ]
     },
     "metadata": {},
     "output_type": "display_data"
    },
    {
     "data": {
      "application/vnd.jupyter.widget-view+json": {
       "model_id": "a3feee1836884dc88de009cd9b77faa5",
       "version_major": 2,
       "version_minor": 0
      },
      "text/plain": [
       "Creating CEASED_BEFORE_CEASING_CAUSE relationships:   0%|          | 0/1 [00:00<?, ?it/s]"
      ]
     },
     "metadata": {},
     "output_type": "display_data"
    },
    {
     "data": {
      "application/vnd.jupyter.widget-view+json": {
       "model_id": "d178c3172d7240f9a452d94836e09fc4",
       "version_major": 2,
       "version_minor": 0
      },
      "text/plain": [
       "Creating WOE_DUE_TO relationships:   0%|          | 0/1 [00:00<?, ?it/s]"
      ]
     },
     "metadata": {},
     "output_type": "display_data"
    },
    {
     "data": {
      "application/vnd.jupyter.widget-view+json": {
       "model_id": "26bff031ea0d418ead38f74852ecd7ab",
       "version_major": 2,
       "version_minor": 0
      },
      "text/plain": [
       "Creating PURPOSES relationships:   0%|          | 0/1 [00:00<?, ?it/s]"
      ]
     },
     "metadata": {},
     "output_type": "display_data"
    },
    {
     "data": {
      "application/vnd.jupyter.widget-view+json": {
       "model_id": "cb47ce7eeb6146a7a202578d9a49205b",
       "version_major": 2,
       "version_minor": 0
      },
      "text/plain": [
       "Creating HOPED_FOR_END_OF_WAR relationships:   0%|          | 0/1 [00:00<?, ?it/s]"
      ]
     },
     "metadata": {},
     "output_type": "display_data"
    },
    {
     "data": {
      "application/vnd.jupyter.widget-view+json": {
       "model_id": "4da6aaaf342248ebae84cda2782f3f32",
       "version_major": 2,
       "version_minor": 0
      },
      "text/plain": [
       "Creating PRAYED_FOR_END_OF_WAR relationships:   0%|          | 0/1 [00:00<?, ?it/s]"
      ]
     },
     "metadata": {},
     "output_type": "display_data"
    },
    {
     "data": {
      "application/vnd.jupyter.widget-view+json": {
       "model_id": "415e8759754f4a3b85609b49638a67f4",
       "version_major": 2,
       "version_minor": 0
      },
      "text/plain": [
       "Creating SCOURGE_OF relationships:   0%|          | 0/1 [00:00<?, ?it/s]"
      ]
     },
     "metadata": {},
     "output_type": "display_data"
    },
    {
     "data": {
      "application/vnd.jupyter.widget-view+json": {
       "model_id": "ef00508d30c1483bbe63224a85a00bfd",
       "version_major": 2,
       "version_minor": 0
      },
      "text/plain": [
       "Creating SUNK_WEALTH_OF_BONDSMAN relationships:   0%|          | 0/1 [00:00<?, ?it/s]"
      ]
     },
     "metadata": {},
     "output_type": "display_data"
    },
    {
     "data": {
      "application/vnd.jupyter.widget-view+json": {
       "model_id": "b9cd1327f2a44a09afe8cd46ae7e0aac",
       "version_major": 2,
       "version_minor": 0
      },
      "text/plain": [
       "Creating PAID_BLOOD_DRAWN_BY_LASH relationships:   0%|          | 0/1 [00:00<?, ?it/s]"
      ]
     },
     "metadata": {},
     "output_type": "display_data"
    },
    {
     "data": {
      "application/vnd.jupyter.widget-view+json": {
       "model_id": "8e50da0ed6784f9e83df298ea0cd933f",
       "version_major": 2,
       "version_minor": 0
      },
      "text/plain": [
       "Creating JUDGMENTS_OF_GOD relationships:   0%|          | 0/1 [00:00<?, ?it/s]"
      ]
     },
     "metadata": {},
     "output_type": "display_data"
    },
    {
     "data": {
      "application/vnd.jupyter.widget-view+json": {
       "model_id": "5028826edcc241e0bb081ac91b5eeafb",
       "version_major": 2,
       "version_minor": 0
      },
      "text/plain": [
       "Creating WISHED_FOR_PEACE relationships:   0%|          | 0/1 [00:00<?, ?it/s]"
      ]
     },
     "metadata": {},
     "output_type": "display_data"
    },
    {
     "data": {
      "application/vnd.jupyter.widget-view+json": {
       "model_id": "8fe3161ef433475b92c89ce7adc88d88",
       "version_major": 2,
       "version_minor": 0
      },
      "text/plain": [
       "Creating TOOK_OATH_OF_OFFICE relationships:   0%|          | 0/1 [00:00<?, ?it/s]"
      ]
     },
     "metadata": {},
     "output_type": "display_data"
    },
    {
     "data": {
      "application/vnd.jupyter.widget-view+json": {
       "model_id": "8d479a9885ef44c2b412ad9d61ae3c1c",
       "version_major": 2,
       "version_minor": 0
      },
      "text/plain": [
       "Creating ADDRESSED_FELLOW_CITIZENS_OF_UNITED_STATES relationships:   0%|          | 0/1 [00:00<?, ?it/s]"
      ]
     },
     "metadata": {},
     "output_type": "display_data"
    },
    {
     "data": {
      "application/vnd.jupyter.widget-view+json": {
       "model_id": "47653326a5494624ae12c10ebc504316",
       "version_major": 2,
       "version_minor": 0
      },
      "text/plain": [
       "Creating DELIVERED_SPEECH_ON_MARCH_4_1861 relationships:   0%|          | 0/1 [00:00<?, ?it/s]"
      ]
     },
     "metadata": {},
     "output_type": "display_data"
    },
    {
     "data": {
      "application/vnd.jupyter.widget-view+json": {
       "model_id": "e2b4df428cd84615bc0f313f41ad103d",
       "version_major": 2,
       "version_minor": 0
      },
      "text/plain": [
       "Creating PUBLISHED_ON relationships:   0%|          | 0/1 [00:00<?, ?it/s]"
      ]
     },
     "metadata": {},
     "output_type": "display_data"
    },
    {
     "data": {
      "application/vnd.jupyter.widget-view+json": {
       "model_id": "594154c32e494d548b5b8dca62ee7f82",
       "version_major": 2,
       "version_minor": 0
      },
      "text/plain": [
       "Creating QUOTES relationships:   0%|          | 0/1 [00:00<?, ?it/s]"
      ]
     },
     "metadata": {},
     "output_type": "display_data"
    },
    {
     "data": {
      "application/vnd.jupyter.widget-view+json": {
       "model_id": "c8e20e93180042a8b3f31cc22e7959d3",
       "version_major": 2,
       "version_minor": 0
      },
      "text/plain": [
       "Creating DECLARES relationships:   0%|          | 0/1 [00:00<?, ?it/s]"
      ]
     },
     "metadata": {},
     "output_type": "display_data"
    },
    {
     "data": {
      "application/vnd.jupyter.widget-view+json": {
       "model_id": "0be86d00796d4b8fbdca96eeffc48a6f",
       "version_major": 2,
       "version_minor": 0
      },
      "text/plain": [
       "Creating PLACED_IN relationships:   0%|          | 0/1 [00:00<?, ?it/s]"
      ]
     },
     "metadata": {},
     "output_type": "display_data"
    },
    {
     "data": {
      "application/vnd.jupyter.widget-view+json": {
       "model_id": "ad3f49aa5cee497a9d1aad34864f98fd",
       "version_major": 2,
       "version_minor": 0
      },
      "text/plain": [
       "Creating REITERATES relationships:   0%|          | 0/1 [00:00<?, ?it/s]"
      ]
     },
     "metadata": {},
     "output_type": "display_data"
    },
    {
     "data": {
      "application/vnd.jupyter.widget-view+json": {
       "model_id": "c1494d63221b49b4847eb762778b6cd9",
       "version_major": 2,
       "version_minor": 0
      },
      "text/plain": [
       "Creating ADDS relationships:   0%|          | 0/1 [00:00<?, ?it/s]"
      ]
     },
     "metadata": {},
     "output_type": "display_data"
    },
    {
     "data": {
      "application/vnd.jupyter.widget-view+json": {
       "model_id": "340b4d628a49468aab9db5d5812bc3de",
       "version_major": 2,
       "version_minor": 0
      },
      "text/plain": [
       "Creating REFERS_TO relationships:   0%|          | 0/1 [00:00<?, ?it/s]"
      ]
     },
     "metadata": {},
     "output_type": "display_data"
    },
    {
     "data": {
      "application/vnd.jupyter.widget-view+json": {
       "model_id": "d840800d6a8744a79f111eaf3a85ab7b",
       "version_major": 2,
       "version_minor": 0
      },
      "text/plain": [
       "Creating SUGGESTS relationships:   0%|          | 0/1 [00:00<?, ?it/s]"
      ]
     },
     "metadata": {},
     "output_type": "display_data"
    },
    {
     "data": {
      "application/vnd.jupyter.widget-view+json": {
       "model_id": "2ce9da4a0b274a759bcc963ea39b4a97",
       "version_major": 2,
       "version_minor": 0
      },
      "text/plain": [
       "Creating FORMED_BY relationships:   0%|          | 0/1 [00:00<?, ?it/s]"
      ]
     },
     "metadata": {},
     "output_type": "display_data"
    },
    {
     "data": {
      "application/vnd.jupyter.widget-view+json": {
       "model_id": "ff41f97635214d1fa33e14e35dd1703f",
       "version_major": 2,
       "version_minor": 0
      },
      "text/plain": [
       "Creating MATURED_BY relationships:   0%|          | 0/1 [00:00<?, ?it/s]"
      ]
     },
     "metadata": {},
     "output_type": "display_data"
    },
    {
     "data": {
      "application/vnd.jupyter.widget-view+json": {
       "model_id": "9c832200e4aa484b9d5b75d1f44547ec",
       "version_major": 2,
       "version_minor": 0
      },
      "text/plain": [
       "Creating ESTABLISHED_BY relationships:   0%|          | 0/1 [00:00<?, ?it/s]"
      ]
     },
     "metadata": {},
     "output_type": "display_data"
    },
    {
     "data": {
      "application/vnd.jupyter.widget-view+json": {
       "model_id": "22b79b53aaf149bea215e7b3a81f8c07",
       "version_major": 2,
       "version_minor": 0
      },
      "text/plain": [
       "Creating CONSIDERS_THAT relationships:   0%|          | 0/1 [00:00<?, ?it/s]"
      ]
     },
     "metadata": {},
     "output_type": "display_data"
    },
    {
     "data": {
      "application/vnd.jupyter.widget-view+json": {
       "model_id": "20be64b71d4f4660a2be2f755d2d3da8",
       "version_major": 2,
       "version_minor": 0
      },
      "text/plain": [
       "Creating DEEMS_TO relationships:   0%|          | 0/1 [00:00<?, ?it/s]"
      ]
     },
     "metadata": {},
     "output_type": "display_data"
    },
    {
     "data": {
      "application/vnd.jupyter.widget-view+json": {
       "model_id": "d3fa07fec64b48dc9ec77f3e4bb3131c",
       "version_major": 2,
       "version_minor": 0
      },
      "text/plain": [
       "Creating TRUSTS_THIS_NOT_TO_BE_REGARDED_AS relationships:   0%|          | 0/1 [00:00<?, ?it/s]"
      ]
     },
     "metadata": {},
     "output_type": "display_data"
    },
    {
     "data": {
      "application/vnd.jupyter.widget-view+json": {
       "model_id": "ec4476f0f11847979ff51d423cc8fe71",
       "version_major": 2,
       "version_minor": 0
      },
      "text/plain": [
       "Creating RIGHTFUL_MASTERS relationships:   0%|          | 0/1 [00:00<?, ?it/s]"
      ]
     },
     "metadata": {},
     "output_type": "display_data"
    },
    {
     "data": {
      "application/vnd.jupyter.widget-view+json": {
       "model_id": "38524ad228624e9e92f314fd73f5c5a1",
       "version_major": 2,
       "version_minor": 0
      },
      "text/plain": [
       "Creating DEEMS_TO_PERFORM_DUTY_SO_FAR_AS_PRACTICABLE relationships:   0%|          | 0/1 [00:00<?, ?it/s]"
      ]
     },
     "metadata": {},
     "output_type": "display_data"
    },
    {
     "data": {
      "application/vnd.jupyter.widget-view+json": {
       "model_id": "15b02cacc1af499e80ec1019d6e6c1c3",
       "version_major": 2,
       "version_minor": 0
      },
      "text/plain": [
       "Creating DEEMS_TO_DEFEND_AND_MAINTAIN_CONSTITUTIONALLY relationships:   0%|          | 0/1 [00:00<?, ?it/s]"
      ]
     },
     "metadata": {},
     "output_type": "display_data"
    },
    {
     "data": {
      "application/vnd.jupyter.widget-view+json": {
       "model_id": "8f5cbf5b9da348c5bac1c0c176069b43",
       "version_major": 2,
       "version_minor": 0
      },
      "text/plain": [
       "Creating DEEMS_NO_BLOODSHED_OR_VIOLENCE relationships:   0%|          | 0/1 [00:00<?, ?it/s]"
      ]
     },
     "metadata": {},
     "output_type": "display_data"
    },
    {
     "data": {
      "application/vnd.jupyter.widget-view+json": {
       "model_id": "457bfa0b911e49d7829201b4048aa477",
       "version_major": 2,
       "version_minor": 0
      },
      "text/plain": [
       "Creating DEEMS_NO_ATTEMPT_TO_FORCE_OBNOXIOUS_STRANGERS_AMONG_THE_PEOPLE_FOR_THAT_OBJECT relationships:   0%|  …"
      ]
     },
     "metadata": {},
     "output_type": "display_data"
    },
    {
     "data": {
      "application/vnd.jupyter.widget-view+json": {
       "model_id": "81c60dd7077f40fcb6454af7c63b98e0",
       "version_major": 2,
       "version_minor": 0
      },
      "text/plain": [
       "Creating REGULATED_BY relationships:   0%|          | 0/1 [00:00<?, ?it/s]"
      ]
     },
     "metadata": {},
     "output_type": "display_data"
    },
    {
     "data": {
      "application/vnd.jupyter.widget-view+json": {
       "model_id": "d95de97ac9d84ff6bcbd23e998343e50",
       "version_major": 2,
       "version_minor": 0
      },
      "text/plain": [
       "Creating STUDIED_BY relationships:   0%|          | 0/1 [00:00<?, ?it/s]"
      ]
     },
     "metadata": {},
     "output_type": "display_data"
    },
    {
     "data": {
      "application/vnd.jupyter.widget-view+json": {
       "model_id": "b8d71fb75797456280c3872f37a57bac",
       "version_major": 2,
       "version_minor": 0
      },
      "text/plain": [
       "Creating OWNS relationships:   0%|          | 0/1 [00:00<?, ?it/s]"
      ]
     },
     "metadata": {},
     "output_type": "display_data"
    },
    {
     "data": {
      "application/vnd.jupyter.widget-view+json": {
       "model_id": "764e9a0a8e72498fa0f702e5d258aaae",
       "version_major": 2,
       "version_minor": 0
      },
      "text/plain": [
       "Creating HAS_RIGHT relationships:   0%|          | 0/1 [00:00<?, ?it/s]"
      ]
     },
     "metadata": {},
     "output_type": "display_data"
    },
    {
     "data": {
      "application/vnd.jupyter.widget-view+json": {
       "model_id": "52ac24dc47694bf295f8999f44a89938",
       "version_major": 2,
       "version_minor": 0
      },
      "text/plain": [
       "Creating DERIVES_AUTHORITY_FROM relationships:   0%|          | 0/1 [00:00<?, ?it/s]"
      ]
     },
     "metadata": {},
     "output_type": "display_data"
    },
    {
     "data": {
      "application/vnd.jupyter.widget-view+json": {
       "model_id": "d8faf7da3c194564a30f020c26e8a5cd",
       "version_major": 2,
       "version_minor": 0
      },
      "text/plain": [
       "Creating HAS_NO_POWER relationships:   0%|          | 0/1 [00:00<?, ?it/s]"
      ]
     },
     "metadata": {},
     "output_type": "display_data"
    },
    {
     "data": {
      "application/vnd.jupyter.widget-view+json": {
       "model_id": "24d0919b921c4665a46b930af077531c",
       "version_major": 2,
       "version_minor": 0
      },
      "text/plain": [
       "Creating DUTY relationships:   0%|          | 0/1 [00:00<?, ?it/s]"
      ]
     },
     "metadata": {},
     "output_type": "display_data"
    },
    {
     "data": {
      "application/vnd.jupyter.widget-view+json": {
       "model_id": "7014f0cb0b8a4936bfc27da648408b5d",
       "version_major": 2,
       "version_minor": 0
      },
      "text/plain": [
       "Creating FAITH relationships:   0%|          | 0/1 [00:00<?, ?it/s]"
      ]
     },
     "metadata": {},
     "output_type": "display_data"
    },
    {
     "data": {
      "application/vnd.jupyter.widget-view+json": {
       "model_id": "28afe6a6af6c46ac8b016b60f3f76476",
       "version_major": 2,
       "version_minor": 0
      },
      "text/plain": [
       "Creating ON_SIDE_OF relationships:   0%|          | 0/1 [00:00<?, ?it/s]"
      ]
     },
     "metadata": {},
     "output_type": "display_data"
    },
    {
     "data": {
      "application/vnd.jupyter.widget-view+json": {
       "model_id": "5cba55b2cee34d809ea644e5a8b764c1",
       "version_major": 2,
       "version_minor": 0
      },
      "text/plain": [
       "Creating PREVAIL relationships:   0%|          | 0/1 [00:00<?, ?it/s]"
      ]
     },
     "metadata": {},
     "output_type": "display_data"
    },
    {
     "data": {
      "application/vnd.jupyter.widget-view+json": {
       "model_id": "a761f678b7464d7fa5eb273422b944d2",
       "version_major": 2,
       "version_minor": 0
      },
      "text/plain": [
       "Creating SWORN_OATH relationships:   0%|          | 0/1 [00:00<?, ?it/s]"
      ]
     },
     "metadata": {},
     "output_type": "display_data"
    },
    {
     "data": {
      "application/vnd.jupyter.widget-view+json": {
       "model_id": "911bd9c00b22488690c0bf913ac41353",
       "version_major": 2,
       "version_minor": 0
      },
      "text/plain": [
       "Creating NO_OATH_REGISTERED_IN_HEAVEN relationships:   0%|          | 0/1 [00:00<?, ?it/s]"
      ]
     },
     "metadata": {},
     "output_type": "display_data"
    },
    {
     "data": {
      "application/vnd.jupyter.widget-view+json": {
       "model_id": "f8fdbdd11d9b40f380c4ed80419a08ab",
       "version_major": 2,
       "version_minor": 0
      },
      "text/plain": [
       "Creating LOATHE relationships:   0%|          | 0/1 [00:00<?, ?it/s]"
      ]
     },
     "metadata": {},
     "output_type": "display_data"
    },
    {
     "data": {
      "application/vnd.jupyter.widget-view+json": {
       "model_id": "d41beffe60f64a0cbf1d00d69ea9b8e0",
       "version_major": 2,
       "version_minor": 0
      },
      "text/plain": [
       "Creating FRIENDS relationships:   0%|          | 0/1 [00:00<?, ?it/s]"
      ]
     },
     "metadata": {},
     "output_type": "display_data"
    },
    {
     "data": {
      "application/vnd.jupyter.widget-view+json": {
       "model_id": "b419ae8c38824e7ba636328e10a91b1a",
       "version_major": 2,
       "version_minor": 0
      },
      "text/plain": [
       "Creating NOT_ENEMIES relationships:   0%|          | 0/1 [00:00<?, ?it/s]"
      ]
     },
     "metadata": {},
     "output_type": "display_data"
    },
    {
     "data": {
      "application/vnd.jupyter.widget-view+json": {
       "model_id": "401535834ad14459ae8346441a3595cd",
       "version_major": 2,
       "version_minor": 0
      },
      "text/plain": [
       "Creating PASSION_MAY_HAVE_STRAINED relationships:   0%|          | 0/1 [00:00<?, ?it/s]"
      ]
     },
     "metadata": {},
     "output_type": "display_data"
    },
    {
     "data": {
      "application/vnd.jupyter.widget-view+json": {
       "model_id": "4f83aba9ffbb449293fc1515a8de2b82",
       "version_major": 2,
       "version_minor": 0
      },
      "text/plain": [
       "Creating DISSOLVED_POLITICAL_BANDS_WITH relationships:   0%|          | 0/1 [00:00<?, ?it/s]"
      ]
     },
     "metadata": {},
     "output_type": "display_data"
    },
    {
     "data": {
      "application/vnd.jupyter.widget-view+json": {
       "model_id": "2d0b84e4a6b74b3fb8ec39aabb8a5458",
       "version_major": 2,
       "version_minor": 0
      },
      "text/plain": [
       "Creating ASSUMED relationships:   0%|          | 0/1 [00:00<?, ?it/s]"
      ]
     },
     "metadata": {},
     "output_type": "display_data"
    },
    {
     "data": {
      "application/vnd.jupyter.widget-view+json": {
       "model_id": "c840cb5f5a7244bbab76d4f4a44c123e",
       "version_major": 2,
       "version_minor": 0
      },
      "text/plain": [
       "Creating DECLARED relationships:   0%|          | 0/1 [00:00<?, ?it/s]"
      ]
     },
     "metadata": {},
     "output_type": "display_data"
    },
    {
     "data": {
      "application/vnd.jupyter.widget-view+json": {
       "model_id": "65dc56efb6b2468497eb3aa4b715552e",
       "version_major": 2,
       "version_minor": 0
      },
      "text/plain": [
       "Creating HELD relationships:   0%|          | 0/1 [00:00<?, ?it/s]"
      ]
     },
     "metadata": {},
     "output_type": "display_data"
    },
    {
     "data": {
      "application/vnd.jupyter.widget-view+json": {
       "model_id": "09d3193f32fa458dac7655b7b42a5417",
       "version_major": 2,
       "version_minor": 0
      },
      "text/plain": [
       "Creating BELIEVED relationships:   0%|          | 0/1 [00:00<?, ?it/s]"
      ]
     },
     "metadata": {},
     "output_type": "display_data"
    },
    {
     "data": {
      "application/vnd.jupyter.widget-view+json": {
       "model_id": "c970d1f4a5f147eea504ee7fc4b09ea3",
       "version_major": 2,
       "version_minor": 0
      },
      "text/plain": [
       "Creating REQUIRED relationships:   0%|          | 0/1 [00:00<?, ?it/s]"
      ]
     },
     "metadata": {},
     "output_type": "display_data"
    },
    {
     "data": {
      "application/vnd.jupyter.widget-view+json": {
       "model_id": "126504d40bcc4942a05518fbcea44a59",
       "version_major": 2,
       "version_minor": 0
      },
      "text/plain": [
       "Creating REFUSED_TO_ASSENT_TO relationships:   0%|          | 0/1 [00:00<?, ?it/s]"
      ]
     },
     "metadata": {},
     "output_type": "display_data"
    },
    {
     "data": {
      "application/vnd.jupyter.widget-view+json": {
       "model_id": "479a1b6bc892466abaf84019ab87cbc3",
       "version_major": 2,
       "version_minor": 0
      },
      "text/plain": [
       "Creating FORBADE relationships:   0%|          | 0/1 [00:00<?, ?it/s]"
      ]
     },
     "metadata": {},
     "output_type": "display_data"
    },
    {
     "data": {
      "application/vnd.jupyter.widget-view+json": {
       "model_id": "582e1b45a5bf4c87bf9d3c8cea945841",
       "version_major": 2,
       "version_minor": 0
      },
      "text/plain": [
       "Creating REFUSED_TO_PASS relationships:   0%|          | 0/1 [00:00<?, ?it/s]"
      ]
     },
     "metadata": {},
     "output_type": "display_data"
    },
    {
     "data": {
      "application/vnd.jupyter.widget-view+json": {
       "model_id": "5b02f014381e475f82cc5298df9bee53",
       "version_major": 2,
       "version_minor": 0
      },
      "text/plain": [
       "Creating CALLED_TOGETHER relationships:   0%|          | 0/1 [00:00<?, ?it/s]"
      ]
     },
     "metadata": {},
     "output_type": "display_data"
    },
    {
     "data": {
      "application/vnd.jupyter.widget-view+json": {
       "model_id": "66ba8de4e5db4a81970d53b091c3631a",
       "version_major": 2,
       "version_minor": 0
      },
      "text/plain": [
       "Creating DISSOLVED relationships:   0%|          | 0/1 [00:00<?, ?it/s]"
      ]
     },
     "metadata": {},
     "output_type": "display_data"
    },
    {
     "data": {
      "application/vnd.jupyter.widget-view+json": {
       "model_id": "2593c4a771624cbc91c75b0b840540f6",
       "version_major": 2,
       "version_minor": 0
      },
      "text/plain": [
       "Creating REFUSED_TO_CAUSE_OTHERS_TO_BE_ELECTED relationships:   0%|          | 0/1 [00:00<?, ?it/s]"
      ]
     },
     "metadata": {},
     "output_type": "display_data"
    },
    {
     "data": {
      "application/vnd.jupyter.widget-view+json": {
       "model_id": "ab32d064bff246b89148dfd80322bf67",
       "version_major": 2,
       "version_minor": 0
      },
      "text/plain": [
       "Creating PREVENTED_POPULATION relationships:   0%|          | 0/1 [00:00<?, ?it/s]"
      ]
     },
     "metadata": {},
     "output_type": "display_data"
    },
    {
     "data": {
      "application/vnd.jupyter.widget-view+json": {
       "model_id": "225eda65e3474babbd8396a4df39cb5f",
       "version_major": 2,
       "version_minor": 0
      },
      "text/plain": [
       "Creating MADE_JUDGES_DEPENDENT relationships:   0%|          | 0/1 [00:00<?, ?it/s]"
      ]
     },
     "metadata": {},
     "output_type": "display_data"
    },
    {
     "data": {
      "application/vnd.jupyter.widget-view+json": {
       "model_id": "34127fc09eaa4d08a3984c2fb7d52043",
       "version_major": 2,
       "version_minor": 0
      },
      "text/plain": [
       "Creating ERECTED_NEW_OFFICES relationships:   0%|          | 0/1 [00:00<?, ?it/s]"
      ]
     },
     "metadata": {},
     "output_type": "display_data"
    },
    {
     "data": {
      "application/vnd.jupyter.widget-view+json": {
       "model_id": "1c0b36c65c74437489d92815503bf0cd",
       "version_major": 2,
       "version_minor": 0
      },
      "text/plain": [
       "Creating KEPT_STANDING_ARMIES relationships:   0%|          | 0/1 [00:00<?, ?it/s]"
      ]
     },
     "metadata": {},
     "output_type": "display_data"
    },
    {
     "data": {
      "application/vnd.jupyter.widget-view+json": {
       "model_id": "c4fa4fde716e41168d1fc5f89c9405de",
       "version_major": 2,
       "version_minor": 0
      },
      "text/plain": [
       "Creating AFFECTED_TO_MAKE_MILITARY relationships:   0%|          | 0/1 [00:00<?, ?it/s]"
      ]
     },
     "metadata": {},
     "output_type": "display_data"
    },
    {
     "data": {
      "application/vnd.jupyter.widget-view+json": {
       "model_id": "43c4940a19004188a3ba921ab811bc4c",
       "version_major": 2,
       "version_minor": 0
      },
      "text/plain": [
       "Creating COMBINED_WITH_OTHERS relationships:   0%|          | 0/1 [00:00<?, ?it/s]"
      ]
     },
     "metadata": {},
     "output_type": "display_data"
    },
    {
     "data": {
      "application/vnd.jupyter.widget-view+json": {
       "model_id": "1c4eb609818f46fa972a390136650e74",
       "version_major": 2,
       "version_minor": 0
      },
      "text/plain": [
       "Creating GAVE_ASSENT_TO relationships:   0%|          | 0/1 [00:00<?, ?it/s]"
      ]
     },
     "metadata": {},
     "output_type": "display_data"
    },
    {
     "data": {
      "application/vnd.jupyter.widget-view+json": {
       "model_id": "7f27e3df73534d4cad2e96cc6ed4e5c7",
       "version_major": 2,
       "version_minor": 0
      },
      "text/plain": [
       "Creating QUARTERED_LARGE_BODIES_OF_ARMED_TROOPS relationships:   0%|          | 0/1 [00:00<?, ?it/s]"
      ]
     },
     "metadata": {},
     "output_type": "display_data"
    },
    {
     "data": {
      "application/vnd.jupyter.widget-view+json": {
       "model_id": "8a14331cb7274a5689059e1fc8ea393b",
       "version_major": 2,
       "version_minor": 0
      },
      "text/plain": [
       "Creating PROTECTED_THEM relationships:   0%|          | 0/1 [00:00<?, ?it/s]"
      ]
     },
     "metadata": {},
     "output_type": "display_data"
    },
    {
     "data": {
      "application/vnd.jupyter.widget-view+json": {
       "model_id": "b72bd198ff9a422b9db3b4cd272c190e",
       "version_major": 2,
       "version_minor": 0
      },
      "text/plain": [
       "Creating CUT_OFF_TRADE relationships:   0%|          | 0/1 [00:00<?, ?it/s]"
      ]
     },
     "metadata": {},
     "output_type": "display_data"
    },
    {
     "data": {
      "application/vnd.jupyter.widget-view+json": {
       "model_id": "abfa66e78c7e488a8167f2dc04df6632",
       "version_major": 2,
       "version_minor": 0
      },
      "text/plain": [
       "Creating IMPOSED_TAXES relationships:   0%|          | 0/1 [00:00<?, ?it/s]"
      ]
     },
     "metadata": {},
     "output_type": "display_data"
    },
    {
     "data": {
      "application/vnd.jupyter.widget-view+json": {
       "model_id": "685df2a797824f948deceef1089ce0b7",
       "version_major": 2,
       "version_minor": 0
      },
      "text/plain": [
       "Creating DEPRIVED_OF_BENEFITS_OF_TRIAL_BY_JURY relationships:   0%|          | 0/1 [00:00<?, ?it/s]"
      ]
     },
     "metadata": {},
     "output_type": "display_data"
    },
    {
     "data": {
      "application/vnd.jupyter.widget-view+json": {
       "model_id": "70cd7061669e4712b8065e0df27d4591",
       "version_major": 2,
       "version_minor": 0
      },
      "text/plain": [
       "Creating TRANSPORTED_BEYOND_SEAS relationships:   0%|          | 0/1 [00:00<?, ?it/s]"
      ]
     },
     "metadata": {},
     "output_type": "display_data"
    },
    {
     "data": {
      "application/vnd.jupyter.widget-view+json": {
       "model_id": "ad9edc891c224132a25ded003ef1c163",
       "version_major": 2,
       "version_minor": 0
      },
      "text/plain": [
       "Creating DECLARED_INDEPENDENCE_FROM relationships:   0%|          | 0/1 [00:00<?, ?it/s]"
      ]
     },
     "metadata": {},
     "output_type": "display_data"
    },
    {
     "data": {
      "application/vnd.jupyter.widget-view+json": {
       "model_id": "f5523197be9d49e19b82bc9e1e12e823",
       "version_major": 2,
       "version_minor": 0
      },
      "text/plain": [
       "Creating RULED_OVER relationships:   0%|          | 0/1 [00:00<?, ?it/s]"
      ]
     },
     "metadata": {},
     "output_type": "display_data"
    },
    {
     "data": {
      "application/vnd.jupyter.widget-view+json": {
       "model_id": "52128eb75d654289883412cb22734cc4",
       "version_major": 2,
       "version_minor": 0
      },
      "text/plain": [
       "Creating WROTE relationships:   0%|          | 0/1 [00:00<?, ?it/s]"
      ]
     },
     "metadata": {},
     "output_type": "display_data"
    },
    {
     "data": {
      "application/vnd.jupyter.widget-view+json": {
       "model_id": "b41c2fa6ce54467fbecaf295964611ab",
       "version_major": 2,
       "version_minor": 0
      },
      "text/plain": [
       "Creating BASED_ON relationships:   0%|          | 0/1 [00:00<?, ?it/s]"
      ]
     },
     "metadata": {},
     "output_type": "display_data"
    },
    {
     "data": {
      "application/vnd.jupyter.widget-view+json": {
       "model_id": "f7fef26066fe4d819136749c0bc1fe48",
       "version_major": 2,
       "version_minor": 0
      },
      "text/plain": [
       "Creating RELEASED_ON relationships:   0%|          | 0/1 [00:00<?, ?it/s]"
      ]
     },
     "metadata": {},
     "output_type": "display_data"
    },
    {
     "data": {
      "application/vnd.jupyter.widget-view+json": {
       "model_id": "f89dd0b69d9d4b8083ab5664f2df6090",
       "version_major": 2,
       "version_minor": 0
      },
      "text/plain": [
       "Creating MOST_RECENTLY_UPDATED_ON relationships:   0%|          | 0/1 [00:00<?, ?it/s]"
      ]
     },
     "metadata": {},
     "output_type": "display_data"
    },
    {
     "data": {
      "application/vnd.jupyter.widget-view+json": {
       "model_id": "5b61723b7c7b416b993eeab9fa604b55",
       "version_major": 2,
       "version_minor": 0
      },
      "text/plain": [
       "Creating COLLEAGUE_OF relationships:   0%|          | 0/1 [00:00<?, ?it/s]"
      ]
     },
     "metadata": {},
     "output_type": "display_data"
    },
    {
     "data": {
      "application/vnd.jupyter.widget-view+json": {
       "model_id": "af494acb1630454bb99b8873dc7fc63b",
       "version_major": 2,
       "version_minor": 0
      },
      "text/plain": [
       "Creating HAS_ENMITY_WITH relationships:   0%|          | 0/1 [00:00<?, ?it/s]"
      ]
     },
     "metadata": {},
     "output_type": "display_data"
    },
    {
     "data": {
      "application/vnd.jupyter.widget-view+json": {
       "model_id": "6b0bdffbc12a4a07b504da1f9a8f4cd5",
       "version_major": 2,
       "version_minor": 0
      },
      "text/plain": [
       "Creating FIGHTS_WITH relationships:   0%|          | 0/1 [00:00<?, ?it/s]"
      ]
     },
     "metadata": {},
     "output_type": "display_data"
    },
    {
     "data": {
      "application/vnd.jupyter.widget-view+json": {
       "model_id": "481a1f230ee44e52a617db0665a0cc44",
       "version_major": 2,
       "version_minor": 0
      },
      "text/plain": [
       "Creating BREAKS_UP_FIGHT relationships:   0%|          | 0/1 [00:00<?, ?it/s]"
      ]
     },
     "metadata": {},
     "output_type": "display_data"
    },
    {
     "data": {
      "application/vnd.jupyter.widget-view+json": {
       "model_id": "5bec45e89dba408985886d6ebddd94d2",
       "version_major": 2,
       "version_minor": 0
      },
      "text/plain": [
       "Creating PARTICIPATES_IN relationships:   0%|          | 0/1 [00:00<?, ?it/s]"
      ]
     },
     "metadata": {},
     "output_type": "display_data"
    },
    {
     "data": {
      "application/vnd.jupyter.widget-view+json": {
       "model_id": "a49e599d0ff8487c881c174166850dd9",
       "version_major": 2,
       "version_minor": 0
      },
      "text/plain": [
       "Creating INVOLVED_IN_FIGHT relationships:   0%|          | 0/1 [00:00<?, ?it/s]"
      ]
     },
     "metadata": {},
     "output_type": "display_data"
    },
    {
     "data": {
      "application/vnd.jupyter.widget-view+json": {
       "model_id": "443f1ebb580e4712a7f5afaabc3a984c",
       "version_major": 2,
       "version_minor": 0
      },
      "text/plain": [
       "Creating CALLS_FOR_WEAPON relationships:   0%|          | 0/1 [00:00<?, ?it/s]"
      ]
     },
     "metadata": {},
     "output_type": "display_data"
    },
    {
     "data": {
      "application/vnd.jupyter.widget-view+json": {
       "model_id": "0d2fffb72664423685c14c3d973b9ec3",
       "version_major": 2,
       "version_minor": 0
      },
      "text/plain": [
       "Creating PREVENTS_ACTION relationships:   0%|          | 0/1 [00:00<?, ?it/s]"
      ]
     },
     "metadata": {},
     "output_type": "display_data"
    },
    {
     "data": {
      "application/vnd.jupyter.widget-view+json": {
       "model_id": "5bd0731baa754768b0e7210b69fefd66",
       "version_major": 2,
       "version_minor": 0
      },
      "text/plain": [
       "Creating INTERVENES_IN_FIGHT relationships:   0%|          | 0/1 [00:00<?, ?it/s]"
      ]
     },
     "metadata": {},
     "output_type": "display_data"
    },
    {
     "data": {
      "application/vnd.jupyter.widget-view+json": {
       "model_id": "e79263b30d1842a5ae108b7f3e701c87",
       "version_major": 2,
       "version_minor": 0
      },
      "text/plain": [
       "Creating INVOLVED_IN_COURT_CASE relationships:   0%|          | 0/1 [00:00<?, ?it/s]"
      ]
     },
     "metadata": {},
     "output_type": "display_data"
    },
    {
     "data": {
      "application/vnd.jupyter.widget-view+json": {
       "model_id": "598388b9fd3543e2b1db25dd40a2c7c6",
       "version_major": 2,
       "version_minor": 0
      },
      "text/plain": [
       "Creating LEAVES_WITH relationships:   0%|          | 0/1 [00:00<?, ?it/s]"
      ]
     },
     "metadata": {},
     "output_type": "display_data"
    },
    {
     "data": {
      "application/vnd.jupyter.widget-view+json": {
       "model_id": "ff0cf6f83fb74bcfa4cd539a495f50e1",
       "version_major": 2,
       "version_minor": 0
      },
      "text/plain": [
       "Creating WITNESSED_EVENT relationships:   0%|          | 0/1 [00:00<?, ?it/s]"
      ]
     },
     "metadata": {},
     "output_type": "display_data"
    },
    {
     "data": {
      "application/vnd.jupyter.widget-view+json": {
       "model_id": "577a06d5be3c482091455ed29fb76625",
       "version_major": 2,
       "version_minor": 0
      },
      "text/plain": [
       "Creating WIFE_OF relationships:   0%|          | 0/1 [00:00<?, ?it/s]"
      ]
     },
     "metadata": {},
     "output_type": "display_data"
    },
    {
     "data": {
      "application/vnd.jupyter.widget-view+json": {
       "model_id": "dbaac856eac44e36a9f9682923a732d4",
       "version_major": 2,
       "version_minor": 0
      },
      "text/plain": [
       "Creating SPOKE_TO relationships:   0%|          | 0/1 [00:00<?, ?it/s]"
      ]
     },
     "metadata": {},
     "output_type": "display_data"
    },
    {
     "data": {
      "application/vnd.jupyter.widget-view+json": {
       "model_id": "c41fec7b319b44c7a51f8303a76a69ea",
       "version_major": 2,
       "version_minor": 0
      },
      "text/plain": [
       "Creating INQUIRED_ABOUT relationships:   0%|          | 0/1 [00:00<?, ?it/s]"
      ]
     },
     "metadata": {},
     "output_type": "display_data"
    },
    {
     "data": {
      "application/vnd.jupyter.widget-view+json": {
       "model_id": "d2b7101d357c4688a176447500ada44c",
       "version_major": 2,
       "version_minor": 0
      },
      "text/plain": [
       "Creating PARENT_OF relationships:   0%|          | 0/1 [00:00<?, ?it/s]"
      ]
     },
     "metadata": {},
     "output_type": "display_data"
    },
    {
     "data": {
      "application/vnd.jupyter.widget-view+json": {
       "model_id": "7f195ccdea08438ea313c1ffc87ea6cd",
       "version_major": 2,
       "version_minor": 0
      },
      "text/plain": [
       "Creating WALKED_WITH relationships:   0%|          | 0/1 [00:00<?, ?it/s]"
      ]
     },
     "metadata": {},
     "output_type": "display_data"
    },
    {
     "data": {
      "application/vnd.jupyter.widget-view+json": {
       "model_id": "b4fef51f83cc4329b59dec005585351b",
       "version_major": 2,
       "version_minor": 0
      },
      "text/plain": [
       "Creating SON_OF relationships:   0%|          | 0/1 [00:00<?, ?it/s]"
      ]
     },
     "metadata": {},
     "output_type": "display_data"
    },
    {
     "data": {
      "application/vnd.jupyter.widget-view+json": {
       "model_id": "6b6ad666572f4a71bd3b9f8e89bd36bb",
       "version_major": 2,
       "version_minor": 0
      },
      "text/plain": [
       "Creating OBSERVED_BY relationships:   0%|          | 0/1 [00:00<?, ?it/s]"
      ]
     },
     "metadata": {},
     "output_type": "display_data"
    },
    {
     "data": {
      "application/vnd.jupyter.widget-view+json": {
       "model_id": "e08e5f13d89b41459bb9db4cd7ef7621",
       "version_major": 2,
       "version_minor": 0
      },
      "text/plain": [
       "Creating AVOIDED_BY relationships:   0%|          | 0/1 [00:00<?, ?it/s]"
      ]
     },
     "metadata": {},
     "output_type": "display_data"
    },
    {
     "data": {
      "application/vnd.jupyter.widget-view+json": {
       "model_id": "b2f5a59c46414424a9ca11ad85f5acdc",
       "version_major": 2,
       "version_minor": 0
      },
      "text/plain": [
       "Creating HID_FROM relationships:   0%|          | 0/1 [00:00<?, ?it/s]"
      ]
     },
     "metadata": {},
     "output_type": "display_data"
    },
    {
     "data": {
      "application/vnd.jupyter.widget-view+json": {
       "model_id": "6376031621ec4b53b273bf6672db2ce8",
       "version_major": 2,
       "version_minor": 0
      },
      "text/plain": [
       "Creating INTERPRETED_ROMEOS_ACTIONS_BY relationships:   0%|          | 0/1 [00:00<?, ?it/s]"
      ]
     },
     "metadata": {},
     "output_type": "display_data"
    },
    {
     "data": {
      "application/vnd.jupyter.widget-view+json": {
       "model_id": "3ca09fe8a5e74becb8187cd81ecd6682",
       "version_major": 2,
       "version_minor": 0
      },
      "text/plain": [
       "Creating SEEN_BY relationships:   0%|          | 0/1 [00:00<?, ?it/s]"
      ]
     },
     "metadata": {},
     "output_type": "display_data"
    },
    {
     "data": {
      "application/vnd.jupyter.widget-view+json": {
       "model_id": "621fd2eaf44042cc9e5f64dec4713577",
       "version_major": 2,
       "version_minor": 0
      },
      "text/plain": [
       "Creating SPEAKS_WITH relationships:   0%|          | 0/1 [00:00<?, ?it/s]"
      ]
     },
     "metadata": {},
     "output_type": "display_data"
    },
    {
     "data": {
      "application/vnd.jupyter.widget-view+json": {
       "model_id": "8f7bdb9ab58d4b2ca89888b4497918e0",
       "version_major": 2,
       "version_minor": 0
      },
      "text/plain": [
       "Creating ATTENDS_WITH relationships:   0%|          | 0/1 [00:00<?, ?it/s]"
      ]
     },
     "metadata": {},
     "output_type": "display_data"
    },
    {
     "data": {
      "application/vnd.jupyter.widget-view+json": {
       "model_id": "0f35e577417741aeb3323d53eae44a12",
       "version_major": 2,
       "version_minor": 0
      },
      "text/plain": [
       "Creating LOVES relationships:   0%|          | 0/1 [00:00<?, ?it/s]"
      ]
     },
     "metadata": {},
     "output_type": "display_data"
    },
    {
     "data": {
      "application/vnd.jupyter.widget-view+json": {
       "model_id": "3c1849509de4428ebf0ae59d22f7b542",
       "version_major": 2,
       "version_minor": 0
      },
      "text/plain": [
       "Creating MENTIONS_LOCATION relationships:   0%|          | 0/1 [00:00<?, ?it/s]"
      ]
     },
     "metadata": {},
     "output_type": "display_data"
    },
    {
     "data": {
      "application/vnd.jupyter.widget-view+json": {
       "model_id": "6a82fb664ec14c478c3a8bcc56c1508b",
       "version_major": 2,
       "version_minor": 0
      },
      "text/plain": [
       "Creating HOSTS_EVENT relationships:   0%|          | 0/1 [00:00<?, ?it/s]"
      ]
     },
     "metadata": {},
     "output_type": "display_data"
    },
    {
     "data": {
      "application/vnd.jupyter.widget-view+json": {
       "model_id": "f6dad3850916486bad15a6bd0c77f3ae",
       "version_major": 2,
       "version_minor": 0
      },
      "text/plain": [
       "Creating FATHER_OF relationships:   0%|          | 0/1 [00:00<?, ?it/s]"
      ]
     },
     "metadata": {},
     "output_type": "display_data"
    },
    {
     "data": {
      "application/vnd.jupyter.widget-view+json": {
       "model_id": "6854a0cba9ce4a76b182fbd8d04449ae",
       "version_major": 2,
       "version_minor": 0
      },
      "text/plain": [
       "Creating ATTENDS_EVENT relationships:   0%|          | 0/1 [00:00<?, ?it/s]"
      ]
     },
     "metadata": {},
     "output_type": "display_data"
    },
    {
     "data": {
      "application/vnd.jupyter.widget-view+json": {
       "model_id": "94a782a45a94420faf3a31e775d0e41a",
       "version_major": 2,
       "version_minor": 0
      },
      "text/plain": [
       "Creating INVITES relationships:   0%|          | 0/1 [00:00<?, ?it/s]"
      ]
     },
     "metadata": {},
     "output_type": "display_data"
    },
    {
     "data": {
      "application/vnd.jupyter.widget-view+json": {
       "model_id": "af31b0b245b24cac891ae348c1499642",
       "version_major": 2,
       "version_minor": 0
      },
      "text/plain": [
       "Creating FRIEND_OF relationships:   0%|          | 0/1 [00:00<?, ?it/s]"
      ]
     },
     "metadata": {},
     "output_type": "display_data"
    },
    {
     "data": {
      "application/vnd.jupyter.widget-view+json": {
       "model_id": "f5b5ae70534044eca3d0868753a6fc62",
       "version_major": 2,
       "version_minor": 0
      },
      "text/plain": [
       "Creating SPEAKS_TO relationships:   0%|          | 0/1 [00:00<?, ?it/s]"
      ]
     },
     "metadata": {},
     "output_type": "display_data"
    },
    {
     "data": {
      "application/vnd.jupyter.widget-view+json": {
       "model_id": "dedf73605be048ceb5892ab0ede6bac6",
       "version_major": 2,
       "version_minor": 0
      },
      "text/plain": [
       "Creating REQUESTS_HELP relationships:   0%|          | 0/1 [00:00<?, ?it/s]"
      ]
     },
     "metadata": {},
     "output_type": "display_data"
    },
    {
     "data": {
      "application/vnd.jupyter.widget-view+json": {
       "model_id": "0078d83dfd89412db5d88dc04a703f05",
       "version_major": 2,
       "version_minor": 0
      },
      "text/plain": [
       "Creating OFFERS_HELP relationships:   0%|          | 0/1 [00:00<?, ?it/s]"
      ]
     },
     "metadata": {},
     "output_type": "display_data"
    },
    {
     "data": {
      "application/vnd.jupyter.widget-view+json": {
       "model_id": "ebc64d5c04814519a81edfbb50f3f5f2",
       "version_major": 2,
       "version_minor": 0
      },
      "text/plain": [
       "Creating REQUESTS_READING_HELP relationships:   0%|          | 0/1 [00:00<?, ?it/s]"
      ]
     },
     "metadata": {},
     "output_type": "display_data"
    },
    {
     "data": {
      "application/vnd.jupyter.widget-view+json": {
       "model_id": "99ce0c7e38164179a80725e9b32cf6af",
       "version_major": 2,
       "version_minor": 0
      },
      "text/plain": [
       "Creating CAN_READ relationships:   0%|          | 0/1 [00:00<?, ?it/s]"
      ]
     },
     "metadata": {},
     "output_type": "display_data"
    },
    {
     "data": {
      "application/vnd.jupyter.widget-view+json": {
       "model_id": "a4ddfa3ed5d146c392b65d3071952354",
       "version_major": 2,
       "version_minor": 0
      },
      "text/plain": [
       "Creating WORKS_FOR_ORGANIZATION relationships:   0%|          | 0/1 [00:00<?, ?it/s]"
      ]
     },
     "metadata": {},
     "output_type": "display_data"
    },
    {
     "data": {
      "application/vnd.jupyter.widget-view+json": {
       "model_id": "e4369d4f3d4d424598b24e7fffef56ce",
       "version_major": 2,
       "version_minor": 0
      },
      "text/plain": [
       "Creating READS relationships:   0%|          | 0/1 [00:00<?, ?it/s]"
      ]
     },
     "metadata": {},
     "output_type": "display_data"
    },
    {
     "data": {
      "application/vnd.jupyter.widget-view+json": {
       "model_id": "0e8877b486734c678f1a612686ae0e2c",
       "version_major": 2,
       "version_minor": 0
      },
      "text/plain": [
       "Creating MASTER_OF relationships:   0%|          | 0/1 [00:00<?, ?it/s]"
      ]
     },
     "metadata": {},
     "output_type": "display_data"
    },
    {
     "data": {
      "application/vnd.jupyter.widget-view+json": {
       "model_id": "646801d28bc2407e9a862bd22eae5442",
       "version_major": 2,
       "version_minor": 0
      },
      "text/plain": [
       "Creating NOT_OF_THE_HOUSE_OF relationships:   0%|          | 0/1 [00:00<?, ?it/s]"
      ]
     },
     "metadata": {},
     "output_type": "display_data"
    },
    {
     "data": {
      "application/vnd.jupyter.widget-view+json": {
       "model_id": "7a0fbc25fb5a4efdbad7bebcb85380a3",
       "version_major": 2,
       "version_minor": 0
      },
      "text/plain": [
       "Creating HOSTS_A_FEAST relationships:   0%|          | 0/1 [00:00<?, ?it/s]"
      ]
     },
     "metadata": {},
     "output_type": "display_data"
    },
    {
     "data": {
      "application/vnd.jupyter.widget-view+json": {
       "model_id": "e587fd19617b47859b2e2f2aa35a4cb3",
       "version_major": 2,
       "version_minor": 0
      },
      "text/plain": [
       "Creating ATTENDS_THE_FEAST relationships:   0%|          | 0/1 [00:00<?, ?it/s]"
      ]
     },
     "metadata": {},
     "output_type": "display_data"
    },
    {
     "data": {
      "application/vnd.jupyter.widget-view+json": {
       "model_id": "71a5988f94374909a71211278b063bfd",
       "version_major": 2,
       "version_minor": 0
      },
      "text/plain": [
       "Creating MOTHER_OF relationships:   0%|          | 0/1 [00:00<?, ?it/s]"
      ]
     },
     "metadata": {},
     "output_type": "display_data"
    },
    {
     "data": {
      "application/vnd.jupyter.widget-view+json": {
       "model_id": "30b5d4b882ee4d56bcac75e8ea211ab7",
       "version_major": 2,
       "version_minor": 0
      },
      "text/plain": [
       "Creating CARETAKER_OF relationships:   0%|          | 0/1 [00:00<?, ?it/s]"
      ]
     },
     "metadata": {},
     "output_type": "display_data"
    },
    {
     "data": {
      "application/vnd.jupyter.widget-view+json": {
       "model_id": "a704616af64840e3bc32b8f3cdc257f7",
       "version_major": 2,
       "version_minor": 0
      },
      "text/plain": [
       "Creating DAUGHTER_OF relationships:   0%|          | 0/1 [00:00<?, ?it/s]"
      ]
     },
     "metadata": {},
     "output_type": "display_data"
    },
    {
     "data": {
      "application/vnd.jupyter.widget-view+json": {
       "model_id": "1850f685cb854c93ac1e5b5a267126c8",
       "version_major": 2,
       "version_minor": 0
      },
      "text/plain": [
       "Creating WANTS_TO_TALK_IN_SECRET_WITH relationships:   0%|          | 0/1 [00:00<?, ?it/s]"
      ]
     },
     "metadata": {},
     "output_type": "display_data"
    },
    {
     "data": {
      "application/vnd.jupyter.widget-view+json": {
       "model_id": "6a7cd16571ba416aac44b323670fff39",
       "version_major": 2,
       "version_minor": 0
      },
      "text/plain": [
       "Creating AGREES_TO_LEAVE relationships:   0%|          | 0/1 [00:00<?, ?it/s]"
      ]
     },
     "metadata": {},
     "output_type": "display_data"
    },
    {
     "data": {
      "application/vnd.jupyter.widget-view+json": {
       "model_id": "e0216e5867924844a27bb9b5d9a5f94c",
       "version_major": 2,
       "version_minor": 0
      },
      "text/plain": [
       "Creating WEANED_ON relationships:   0%|          | 0/1 [00:00<?, ?it/s]"
      ]
     },
     "metadata": {},
     "output_type": "display_data"
    },
    {
     "data": {
      "application/vnd.jupyter.widget-view+json": {
       "model_id": "4c2c34dde9c14e7e9e72ba3a4b836f8d",
       "version_major": 2,
       "version_minor": 0
      },
      "text/plain": [
       "Creating FIRST_WALKED_AT relationships:   0%|          | 0/1 [00:00<?, ?it/s]"
      ]
     },
     "metadata": {},
     "output_type": "display_data"
    },
    {
     "data": {
      "application/vnd.jupyter.widget-view+json": {
       "model_id": "16332b3a298f4a73b5fb171952d9da66",
       "version_major": 2,
       "version_minor": 0
      },
      "text/plain": [
       "Creating MET_HUSBAND_AT relationships:   0%|          | 0/1 [00:00<?, ?it/s]"
      ]
     },
     "metadata": {},
     "output_type": "display_data"
    },
    {
     "data": {
      "application/vnd.jupyter.widget-view+json": {
       "model_id": "66509615b28342f0a7e5eaaeea4efe79",
       "version_major": 2,
       "version_minor": 0
      },
      "text/plain": [
       "Creating HAS_BEEN_NURSED_BY relationships:   0%|          | 0/1 [00:00<?, ?it/s]"
      ]
     },
     "metadata": {},
     "output_type": "display_data"
    },
    {
     "data": {
      "application/vnd.jupyter.widget-view+json": {
       "model_id": "2cf76e9855f9446a8f896d0572260bb2",
       "version_major": 2,
       "version_minor": 0
      },
      "text/plain": [
       "Creating TO_BE_MARRIED_TO relationships:   0%|          | 0/1 [00:00<?, ?it/s]"
      ]
     },
     "metadata": {},
     "output_type": "display_data"
    },
    {
     "data": {
      "application/vnd.jupyter.widget-view+json": {
       "model_id": "5b7ccaa9936f4eabaad7d45fd2f2fb06",
       "version_major": 2,
       "version_minor": 0
      },
      "text/plain": [
       "Creating SEEKS_MARRIAGE_WITH relationships:   0%|          | 0/1 [00:00<?, ?it/s]"
      ]
     },
     "metadata": {},
     "output_type": "display_data"
    },
    {
     "data": {
      "application/vnd.jupyter.widget-view+json": {
       "model_id": "203996a5c5fd4af89c1afac24f9ac3e6",
       "version_major": 2,
       "version_minor": 0
      },
      "text/plain": [
       "Creating SEEKS_LOVE_FROM relationships:   0%|          | 0/1 [00:00<?, ?it/s]"
      ]
     },
     "metadata": {},
     "output_type": "display_data"
    },
    {
     "data": {
      "application/vnd.jupyter.widget-view+json": {
       "model_id": "7973608b1a794e2c81f9e3289fe5d837",
       "version_major": 2,
       "version_minor": 0
      },
      "text/plain": [
       "Creating FROM_CITY relationships:   0%|          | 0/1 [00:00<?, ?it/s]"
      ]
     },
     "metadata": {},
     "output_type": "display_data"
    },
    {
     "data": {
      "application/vnd.jupyter.widget-view+json": {
       "model_id": "1c8958a4eb0a4802b020566fb8225c4c",
       "version_major": 2,
       "version_minor": 0
      },
      "text/plain": [
       "Creating ATTENDS_EVENT_WITH relationships:   0%|          | 0/1 [00:00<?, ?it/s]"
      ]
     },
     "metadata": {},
     "output_type": "display_data"
    },
    {
     "data": {
      "application/vnd.jupyter.widget-view+json": {
       "model_id": "7e8c51c7e8e848849c23f092818749ca",
       "version_major": 2,
       "version_minor": 0
      },
      "text/plain": [
       "Creating DREAMS_ABOUT relationships:   0%|          | 0/1 [00:00<?, ?it/s]"
      ]
     },
     "metadata": {},
     "output_type": "display_data"
    },
    {
     "data": {
      "application/vnd.jupyter.widget-view+json": {
       "model_id": "d5d74ccdee3f4568b20c819d24a6657f",
       "version_major": 2,
       "version_minor": 0
      },
      "text/plain": [
       "Creating ATTENDS_IN relationships:   0%|          | 0/1 [00:00<?, ?it/s]"
      ]
     },
     "metadata": {},
     "output_type": "display_data"
    },
    {
     "data": {
      "application/vnd.jupyter.widget-view+json": {
       "model_id": "a01e2884a93047fea26602fd6863ef2c",
       "version_major": 2,
       "version_minor": 0
      },
      "text/plain": [
       "Creating HOSTS relationships:   0%|          | 0/1 [00:00<?, ?it/s]"
      ]
     },
     "metadata": {},
     "output_type": "display_data"
    },
    {
     "data": {
      "application/vnd.jupyter.widget-view+json": {
       "model_id": "2b9f34c9b29a48b28ca38929bb755e26",
       "version_major": 2,
       "version_minor": 0
      },
      "text/plain": [
       "Creating PERFORMS_FOR relationships:   0%|          | 0/1 [00:00<?, ?it/s]"
      ]
     },
     "metadata": {},
     "output_type": "display_data"
    },
    {
     "data": {
      "application/vnd.jupyter.widget-view+json": {
       "model_id": "8e8977d016c94d1491633e1fae90fd9b",
       "version_major": 2,
       "version_minor": 0
      },
      "text/plain": [
       "Creating MARRIED_TO relationships:   0%|          | 0/1 [00:00<?, ?it/s]"
      ]
     },
     "metadata": {},
     "output_type": "display_data"
    },
    {
     "data": {
      "application/vnd.jupyter.widget-view+json": {
       "model_id": "4419f6e78990405fa07f1a0bb7778c31",
       "version_major": 2,
       "version_minor": 0
      },
      "text/plain": [
       "Creating COMPETES_WITH relationships:   0%|          | 0/1 [00:00<?, ?it/s]"
      ]
     },
     "metadata": {},
     "output_type": "display_data"
    },
    {
     "data": {
      "application/vnd.jupyter.widget-view+json": {
       "model_id": "fbf28bbfbb714cd798a31d3a0ab59723",
       "version_major": 2,
       "version_minor": 0
      },
      "text/plain": [
       "Creating ENEMY_OF relationships:   0%|          | 0/1 [00:00<?, ?it/s]"
      ]
     },
     "metadata": {},
     "output_type": "display_data"
    },
    {
     "data": {
      "application/vnd.jupyter.widget-view+json": {
       "model_id": "fb663169cb5e430984f2cdabdd0bc46a",
       "version_major": 2,
       "version_minor": 0
      },
      "text/plain": [
       "Creating DANCED_WITH relationships:   0%|          | 0/1 [00:00<?, ?it/s]"
      ]
     },
     "metadata": {},
     "output_type": "display_data"
    },
    {
     "data": {
      "application/vnd.jupyter.widget-view+json": {
       "model_id": "2616105378c54191aa1f045d2cfa0176",
       "version_major": 2,
       "version_minor": 0
      },
      "text/plain": [
       "Creating NURSE_OF relationships:   0%|          | 0/1 [00:00<?, ?it/s]"
      ]
     },
     "metadata": {},
     "output_type": "display_data"
    },
    {
     "data": {
      "application/vnd.jupyter.widget-view+json": {
       "model_id": "d3e59ffd975d4c34ba70877149b81ec1",
       "version_major": 2,
       "version_minor": 0
      },
      "text/plain": [
       "Creating HOST_OF relationships:   0%|          | 0/1 [00:00<?, ?it/s]"
      ]
     },
     "metadata": {},
     "output_type": "display_data"
    },
    {
     "data": {
      "application/vnd.jupyter.widget-view+json": {
       "model_id": "76b4c397046a4674a8e34f79f85dc211",
       "version_major": 2,
       "version_minor": 0
      },
      "text/plain": [
       "Creating CONJURES relationships:   0%|          | 0/1 [00:00<?, ?it/s]"
      ]
     },
     "metadata": {},
     "output_type": "display_data"
    },
    {
     "data": {
      "application/vnd.jupyter.widget-view+json": {
       "model_id": "3c9becf2d0bb42ec88bb14a66805f28f",
       "version_major": 2,
       "version_minor": 0
      },
      "text/plain": [
       "Creating HIDDEN_FROM relationships:   0%|          | 0/1 [00:00<?, ?it/s]"
      ]
     },
     "metadata": {},
     "output_type": "display_data"
    },
    {
     "data": {
      "application/vnd.jupyter.widget-view+json": {
       "model_id": "f6b1c226535b4e52a16137193bb9c0f8",
       "version_major": 2,
       "version_minor": 0
      },
      "text/plain": [
       "Creating MENTIONS relationships:   0%|          | 0/1 [00:00<?, ?it/s]"
      ]
     },
     "metadata": {},
     "output_type": "display_data"
    },
    {
     "data": {
      "application/vnd.jupyter.widget-view+json": {
       "model_id": "9caf19f94f3d4324825425f0aa608b53",
       "version_major": 2,
       "version_minor": 0
      },
      "text/plain": [
       "Creating GOES_TO_BED relationships:   0%|          | 0/1 [00:00<?, ?it/s]"
      ]
     },
     "metadata": {},
     "output_type": "display_data"
    },
    {
     "data": {
      "application/vnd.jupyter.widget-view+json": {
       "model_id": "193ce0cd07a946c8a545bd11b3a56274",
       "version_major": 2,
       "version_minor": 0
      },
      "text/plain": [
       "Creating APPEARS_AT relationships:   0%|          | 0/1 [00:00<?, ?it/s]"
      ]
     },
     "metadata": {},
     "output_type": "display_data"
    },
    {
     "data": {
      "application/vnd.jupyter.widget-view+json": {
       "model_id": "c9510df2226d465290569e1bdeb0efb3",
       "version_major": 2,
       "version_minor": 0
      },
      "text/plain": [
       "Creating IS_THE_SUN_TO_ROMEO relationships:   0%|          | 0/1 [00:00<?, ?it/s]"
      ]
     },
     "metadata": {},
     "output_type": "display_data"
    },
    {
     "data": {
      "application/vnd.jupyter.widget-view+json": {
       "model_id": "f18423ed90f34b87b08e4936eb8b6074",
       "version_major": 2,
       "version_minor": 0
      },
      "text/plain": [
       "Creating ASPIRES_TO_TOUCH relationships:   0%|          | 0/1 [00:00<?, ?it/s]"
      ]
     },
     "metadata": {},
     "output_type": "display_data"
    },
    {
     "data": {
      "application/vnd.jupyter.widget-view+json": {
       "model_id": "5acd13e17d1a45919fdc4e82d7a5f8b9",
       "version_major": 2,
       "version_minor": 0
      },
      "text/plain": [
       "Creating EXPRESSES_LOVE_FOR relationships:   0%|          | 0/1 [00:00<?, ?it/s]"
      ]
     },
     "metadata": {},
     "output_type": "display_data"
    },
    {
     "data": {
      "application/vnd.jupyter.widget-view+json": {
       "model_id": "1d0340ae9d6a4970b82678c0ca9083ae",
       "version_major": 2,
       "version_minor": 0
      },
      "text/plain": [
       "Creating RESPONDS_TO_JULIETS_LOVE relationships:   0%|          | 0/1 [00:00<?, ?it/s]"
      ]
     },
     "metadata": {},
     "output_type": "display_data"
    },
    {
     "data": {
      "application/vnd.jupyter.widget-view+json": {
       "model_id": "3cd1a37a2a5e4fb18666979b64744f67",
       "version_major": 2,
       "version_minor": 0
      },
      "text/plain": [
       "Creating DENIES_HIS_NAME_TO_JULIET relationships:   0%|          | 0/1 [00:00<?, ?it/s]"
      ]
     },
     "metadata": {},
     "output_type": "display_data"
    },
    {
     "data": {
      "application/vnd.jupyter.widget-view+json": {
       "model_id": "3393d6f865194cbbaaaf1b156731e91f",
       "version_major": 2,
       "version_minor": 0
      },
      "text/plain": [
       "Creating ACCEPTS_ROMEO_WITHOUT_NAME relationships:   0%|          | 0/1 [00:00<?, ?it/s]"
      ]
     },
     "metadata": {},
     "output_type": "display_data"
    },
    {
     "data": {
      "application/vnd.jupyter.widget-view+json": {
       "model_id": "48273d95267a4fe6ae4818d04302fea2",
       "version_major": 2,
       "version_minor": 0
      },
      "text/plain": [
       "Creating ACCEPTS_JULIETS_LOVE relationships:   0%|          | 0/1 [00:00<?, ?it/s]"
      ]
     },
     "metadata": {},
     "output_type": "display_data"
    },
    {
     "data": {
      "application/vnd.jupyter.widget-view+json": {
       "model_id": "fb37b62df88c4298b73383ac6ec02a2c",
       "version_major": 2,
       "version_minor": 0
      },
      "text/plain": [
       "Creating REVEALS_HIS_IDENTITY_TO_JULIET relationships:   0%|          | 0/1 [00:00<?, ?it/s]"
      ]
     },
     "metadata": {},
     "output_type": "display_data"
    },
    {
     "data": {
      "application/vnd.jupyter.widget-view+json": {
       "model_id": "8524d8b4c7814fe89a97765917eb4767",
       "version_major": 2,
       "version_minor": 0
      },
      "text/plain": [
       "Creating RECOGNIZES_ROMEO_DESPITE_NAME relationships:   0%|          | 0/1 [00:00<?, ?it/s]"
      ]
     },
     "metadata": {},
     "output_type": "display_data"
    },
    {
     "data": {
      "application/vnd.jupyter.widget-view+json": {
       "model_id": "ddf1e1e66d2b4382aba18423bdff5d10",
       "version_major": 2,
       "version_minor": 0
      },
      "text/plain": [
       "Creating REVEALS_HIS_DISLIKE_FOR_HIS_NAME relationships:   0%|          | 0/1 [00:00<?, ?it/s]"
      ]
     },
     "metadata": {},
     "output_type": "display_data"
    },
    {
     "data": {
      "application/vnd.jupyter.widget-view+json": {
       "model_id": "763991d51b0a4655b759610764336ac7",
       "version_major": 2,
       "version_minor": 0
      },
      "text/plain": [
       "Creating ASKS_ROMEO_HOW_HE_ARRIVED relationships:   0%|          | 0/1 [00:00<?, ?it/s]"
      ]
     },
     "metadata": {},
     "output_type": "display_data"
    },
    {
     "data": {
      "application/vnd.jupyter.widget-view+json": {
       "model_id": "441fd5cc37894cec9c4e911cb1c00dcf",
       "version_major": 2,
       "version_minor": 0
      },
      "text/plain": [
       "Creating EXPLAINS_HOW_HE_ARRIVED_USING_LOVES_WINGS relationships:   0%|          | 0/1 [00:00<?, ?it/s]"
      ]
     },
     "metadata": {},
     "output_type": "display_data"
    },
    {
     "data": {
      "application/vnd.jupyter.widget-view+json": {
       "model_id": "bca514da16bc48b8b324877de96d6ca3",
       "version_major": 2,
       "version_minor": 0
      },
      "text/plain": [
       "Creating OVERCOMES_PHYSICAL_BARRIERS_FOR_LOVE relationships:   0%|          | 0/1 [00:00<?, ?it/s]"
      ]
     },
     "metadata": {},
     "output_type": "display_data"
    },
    {
     "data": {
      "application/vnd.jupyter.widget-view+json": {
       "model_id": "8df26485b76343ca9fcd97f5cb697e01",
       "version_major": 2,
       "version_minor": 0
      },
      "text/plain": [
       "Creating MEMBER_OF relationships:   0%|          | 0/1 [00:00<?, ?it/s]"
      ]
     },
     "metadata": {},
     "output_type": "display_data"
    },
    {
     "data": {
      "application/vnd.jupyter.widget-view+json": {
       "model_id": "ba319cb3a3e54a62b568ab39b47a99fd",
       "version_major": 2,
       "version_minor": 0
      },
      "text/plain": [
       "Creating PROMPTS relationships:   0%|          | 0/1 [00:00<?, ?it/s]"
      ]
     },
     "metadata": {},
     "output_type": "display_data"
    },
    {
     "data": {
      "application/vnd.jupyter.widget-view+json": {
       "model_id": "25e527d930c2431a8998ae24f26dfb4c",
       "version_major": 2,
       "version_minor": 0
      },
      "text/plain": [
       "Creating LENDS_COUNSEL_TO relationships:   0%|          | 0/1 [00:00<?, ?it/s]"
      ]
     },
     "metadata": {},
     "output_type": "display_data"
    },
    {
     "data": {
      "application/vnd.jupyter.widget-view+json": {
       "model_id": "96261e888f5c49e08ad3f49c850cde81",
       "version_major": 2,
       "version_minor": 0
      },
      "text/plain": [
       "Creating LENDS_EYES_TO relationships:   0%|          | 0/1 [00:00<?, ?it/s]"
      ]
     },
     "metadata": {},
     "output_type": "display_data"
    },
    {
     "data": {
      "application/vnd.jupyter.widget-view+json": {
       "model_id": "ebdafc9fc8124fbdaada8bce5df78f10",
       "version_major": 2,
       "version_minor": 0
      },
      "text/plain": [
       "Creating OVERHEARS relationships:   0%|          | 0/1 [00:00<?, ?it/s]"
      ]
     },
     "metadata": {},
     "output_type": "display_data"
    },
    {
     "data": {
      "application/vnd.jupyter.widget-view+json": {
       "model_id": "559e60010d034acaa99bb3f3bebddef3",
       "version_major": 2,
       "version_minor": 0
      },
      "text/plain": [
       "Creating HAS_TRUE_LOVE_PASSION_FOR relationships:   0%|          | 0/1 [00:00<?, ?it/s]"
      ]
     },
     "metadata": {},
     "output_type": "display_data"
    },
    {
     "data": {
      "application/vnd.jupyter.widget-view+json": {
       "model_id": "b0b1d4ec42064a0381a0ff1c4aee5826",
       "version_major": 2,
       "version_minor": 0
      },
      "text/plain": [
       "Creating IDOLIZES relationships:   0%|          | 0/1 [00:00<?, ?it/s]"
      ]
     },
     "metadata": {},
     "output_type": "display_data"
    },
    {
     "data": {
      "application/vnd.jupyter.widget-view+json": {
       "model_id": "ff6fcd620126489db997ce9c4588dd98",
       "version_major": 2,
       "version_minor": 0
      },
      "text/plain": [
       "Creating SWEARS_BY relationships:   0%|          | 0/1 [00:00<?, ?it/s]"
      ]
     },
     "metadata": {},
     "output_type": "display_data"
    },
    {
     "data": {
      "application/vnd.jupyter.widget-view+json": {
       "model_id": "ea88acaafd784b418e0c2e8de088b344",
       "version_major": 2,
       "version_minor": 0
      },
      "text/plain": [
       "Creating ADVISES_AGAINST relationships:   0%|          | 0/1 [00:00<?, ?it/s]"
      ]
     },
     "metadata": {},
     "output_type": "display_data"
    },
    {
     "data": {
      "application/vnd.jupyter.widget-view+json": {
       "model_id": "c762e71d9ba64faf9273124e58693329",
       "version_major": 2,
       "version_minor": 0
      },
      "text/plain": [
       "Creating GIVES_LOVE_VOW_TO relationships:   0%|          | 0/1 [00:00<?, ?it/s]"
      ]
     },
     "metadata": {},
     "output_type": "display_data"
    },
    {
     "data": {
      "application/vnd.jupyter.widget-view+json": {
       "model_id": "ca13b801c1b24c379930a4135eb67f59",
       "version_major": 2,
       "version_minor": 0
      },
      "text/plain": [
       "Creating REQUESTS_LOVE_VOW_FROM relationships:   0%|          | 0/1 [00:00<?, ?it/s]"
      ]
     },
     "metadata": {},
     "output_type": "display_data"
    },
    {
     "data": {
      "application/vnd.jupyter.widget-view+json": {
       "model_id": "c94efe6439ea420f88df690ddc3a0e45",
       "version_major": 2,
       "version_minor": 0
      },
      "text/plain": [
       "Creating REPEATS_LOVE_VOW_TO relationships:   0%|          | 0/1 [00:00<?, ?it/s]"
      ]
     },
     "metadata": {},
     "output_type": "display_data"
    },
    {
     "data": {
      "application/vnd.jupyter.widget-view+json": {
       "model_id": "79b05e61c1834afd830b31071d08da6f",
       "version_major": 2,
       "version_minor": 0
      },
      "text/plain": [
       "Creating DESIRES_SATISFACTION_FROM relationships:   0%|          | 0/1 [00:00<?, ?it/s]"
      ]
     },
     "metadata": {},
     "output_type": "display_data"
    },
    {
     "data": {
      "application/vnd.jupyter.widget-view+json": {
       "model_id": "0667817177ea4a4a8d240afb7c041b12",
       "version_major": 2,
       "version_minor": 0
      },
      "text/plain": [
       "Creating DENIES_SATISFACTION_TO relationships:   0%|          | 0/1 [00:00<?, ?it/s]"
      ]
     },
     "metadata": {},
     "output_type": "display_data"
    },
    {
     "data": {
      "application/vnd.jupyter.widget-view+json": {
       "model_id": "072c3422359e4ef9a6cd958343838b3d",
       "version_major": 2,
       "version_minor": 0
      },
      "text/plain": [
       "Creating SENDS_MESSAGE_TO relationships:   0%|          | 0/1 [00:00<?, ?it/s]"
      ]
     },
     "metadata": {},
     "output_type": "display_data"
    },
    {
     "data": {
      "application/vnd.jupyter.widget-view+json": {
       "model_id": "cf91132bcabb4bafb147de36073b734b",
       "version_major": 2,
       "version_minor": 0
      },
      "text/plain": [
       "Creating RECEIVES_MESSAGE_FROM relationships:   0%|          | 0/1 [00:00<?, ?it/s]"
      ]
     },
     "metadata": {},
     "output_type": "display_data"
    },
    {
     "data": {
      "application/vnd.jupyter.widget-view+json": {
       "model_id": "afc0baf4cf85433d981d9179daef9752",
       "version_major": 2,
       "version_minor": 0
      },
      "text/plain": [
       "Creating MEETS_WITH relationships:   0%|          | 0/1 [00:00<?, ?it/s]"
      ]
     },
     "metadata": {},
     "output_type": "display_data"
    },
    {
     "data": {
      "application/vnd.jupyter.widget-view+json": {
       "model_id": "bec15de73d4248cb9709cc54a23eb8ca",
       "version_major": 2,
       "version_minor": 0
      },
      "text/plain": [
       "Creating DECLARES_LOVE_FOR relationships:   0%|          | 0/1 [00:00<?, ?it/s]"
      ]
     },
     "metadata": {},
     "output_type": "display_data"
    },
    {
     "data": {
      "application/vnd.jupyter.widget-view+json": {
       "model_id": "2d16052c1ff0472ca56154beb8c12655",
       "version_major": 2,
       "version_minor": 0
      },
      "text/plain": [
       "Creating PROMISES_MARRIAGE_TO relationships:   0%|          | 0/1 [00:00<?, ?it/s]"
      ]
     },
     "metadata": {},
     "output_type": "display_data"
    },
    {
     "data": {
      "application/vnd.jupyter.widget-view+json": {
       "model_id": "03d048e4ceaf461098d7fc03586e5a39",
       "version_major": 2,
       "version_minor": 0
      },
      "text/plain": [
       "Creating ACCEPTS_PROPOSAL_FROM relationships:   0%|          | 0/1 [00:00<?, ?it/s]"
      ]
     },
     "metadata": {},
     "output_type": "display_data"
    },
    {
     "data": {
      "application/vnd.jupyter.widget-view+json": {
       "model_id": "4b3dc57ca3b94f7eb1b1299331e74f9d",
       "version_major": 2,
       "version_minor": 0
      },
      "text/plain": [
       "Creating SETS_MEETING_TIME_WITH relationships:   0%|          | 0/1 [00:00<?, ?it/s]"
      ]
     },
     "metadata": {},
     "output_type": "display_data"
    },
    {
     "data": {
      "application/vnd.jupyter.widget-view+json": {
       "model_id": "19620aae0b4f467aa2d121fe59552bf2",
       "version_major": 2,
       "version_minor": 0
      },
      "text/plain": [
       "Creating FORGETS_SOMETHING relationships:   0%|          | 0/1 [00:00<?, ?it/s]"
      ]
     },
     "metadata": {},
     "output_type": "display_data"
    },
    {
     "data": {
      "application/vnd.jupyter.widget-view+json": {
       "model_id": "42992a610a9f427b8d93104ffc43eacc",
       "version_major": 2,
       "version_minor": 0
      },
      "text/plain": [
       "Creating MENTOR_OF relationships:   0%|          | 0/1 [00:00<?, ?it/s]"
      ]
     },
     "metadata": {},
     "output_type": "display_data"
    },
    {
     "data": {
      "application/vnd.jupyter.widget-view+json": {
       "model_id": "8e679db1fea049d290304a693dc20a5a",
       "version_major": 2,
       "version_minor": 0
      },
      "text/plain": [
       "Creating OCCURS_ON relationships:   0%|          | 0/1 [00:00<?, ?it/s]"
      ]
     },
     "metadata": {},
     "output_type": "display_data"
    },
    {
     "data": {
      "application/vnd.jupyter.widget-view+json": {
       "model_id": "9bf1cb9940d84d03bb10902dd60fe020",
       "version_major": 2,
       "version_minor": 0
      },
      "text/plain": [
       "Creating RISES_FROM relationships:   0%|          | 0/1 [00:00<?, ?it/s]"
      ]
     },
     "metadata": {},
     "output_type": "display_data"
    },
    {
     "data": {
      "application/vnd.jupyter.widget-view+json": {
       "model_id": "a55ea7fea8664ac1a21ac98cd6145b34",
       "version_major": 2,
       "version_minor": 0
      },
      "text/plain": [
       "Creating GIVES_LIFE_TO relationships:   0%|          | 0/1 [00:00<?, ?it/s]"
      ]
     },
     "metadata": {},
     "output_type": "display_data"
    },
    {
     "data": {
      "application/vnd.jupyter.widget-view+json": {
       "model_id": "c12ffa49255d4b19a436803c8cc84de8",
       "version_major": 2,
       "version_minor": 0
      },
      "text/plain": [
       "Creating HAVE_VIRTUES relationships:   0%|          | 0/1 [00:00<?, ?it/s]"
      ]
     },
     "metadata": {},
     "output_type": "display_data"
    },
    {
     "data": {
      "application/vnd.jupyter.widget-view+json": {
       "model_id": "4c8b29c78f354c4fbbfad5ed738f2f5a",
       "version_major": 2,
       "version_minor": 0
      },
      "text/plain": [
       "Creating HAVE_OPPOSED_QUALITIES relationships:   0%|          | 0/1 [00:00<?, ?it/s]"
      ]
     },
     "metadata": {},
     "output_type": "display_data"
    },
    {
     "data": {
      "application/vnd.jupyter.widget-view+json": {
       "model_id": "71f1f18fe86a45b4939a589954c82e9a",
       "version_major": 2,
       "version_minor": 0
      },
      "text/plain": [
       "Creating OPPOSES relationships:   0%|          | 0/1 [00:00<?, ?it/s]"
      ]
     },
     "metadata": {},
     "output_type": "display_data"
    },
    {
     "data": {
      "application/vnd.jupyter.widget-view+json": {
       "model_id": "8e03ccb2e0074ccbb2162d7ae42c02a9",
       "version_major": 2,
       "version_minor": 0
      },
      "text/plain": [
       "Creating EATS_UP relationships:   0%|          | 0/1 [00:00<?, ?it/s]"
      ]
     },
     "metadata": {},
     "output_type": "display_data"
    },
    {
     "data": {
      "application/vnd.jupyter.widget-view+json": {
       "model_id": "2ff1434db7a247f19201b761a574dd00",
       "version_major": 2,
       "version_minor": 0
      },
      "text/plain": [
       "Creating HAS_AFFECTION_FOR relationships:   0%|          | 0/1 [00:00<?, ?it/s]"
      ]
     },
     "metadata": {},
     "output_type": "display_data"
    },
    {
     "data": {
      "application/vnd.jupyter.widget-view+json": {
       "model_id": "cb695d9a3f36461c8e12c13dc540aeab",
       "version_major": 2,
       "version_minor": 0
      },
      "text/plain": [
       "Creating OWNS_BY_ASSOCIATION relationships:   0%|          | 0/1 [00:00<?, ?it/s]"
      ]
     },
     "metadata": {},
     "output_type": "display_data"
    },
    {
     "data": {
      "application/vnd.jupyter.widget-view+json": {
       "model_id": "8deb50bedb644535b6c37b4a8082b6cb",
       "version_major": 2,
       "version_minor": 0
      },
      "text/plain": [
       "Creating INTERCEDES_FOR relationships:   0%|          | 0/1 [00:00<?, ?it/s]"
      ]
     },
     "metadata": {},
     "output_type": "display_data"
    },
    {
     "data": {
      "application/vnd.jupyter.widget-view+json": {
       "model_id": "f6b3d084235e4780a47bf349943baae2",
       "version_major": 2,
       "version_minor": 0
      },
      "text/plain": [
       "Creating LIVES_IN relationships:   0%|          | 0/1 [00:00<?, ?it/s]"
      ]
     },
     "metadata": {},
     "output_type": "display_data"
    },
    {
     "data": {
      "application/vnd.jupyter.widget-view+json": {
       "model_id": "e5aab55076864d529f48457caa2779a5",
       "version_major": 2,
       "version_minor": 0
      },
      "text/plain": [
       "Creating PREVIOUSLY_LOVED relationships:   0%|          | 0/1 [00:00<?, ?it/s]"
      ]
     },
     "metadata": {},
     "output_type": "display_data"
    },
    {
     "data": {
      "application/vnd.jupyter.widget-view+json": {
       "model_id": "e530cf770583402c8b01ad5b6024f251",
       "version_major": 2,
       "version_minor": 0
      },
      "text/plain": [
       "Creating SENDS_CHALLENGE_TO relationships:   0%|          | 0/1 [00:00<?, ?it/s]"
      ]
     },
     "metadata": {},
     "output_type": "display_data"
    },
    {
     "data": {
      "application/vnd.jupyter.widget-view+json": {
       "model_id": "49b6e0a955d1492b999465d7317b3b5d",
       "version_major": 2,
       "version_minor": 0
      },
      "text/plain": [
       "Creating RESPONDS_TO_CHALLENGE relationships:   0%|          | 0/1 [00:00<?, ?it/s]"
      ]
     },
     "metadata": {},
     "output_type": "display_data"
    },
    {
     "data": {
      "application/vnd.jupyter.widget-view+json": {
       "model_id": "ed003c1ed1b34393b99ad7861848bcc4",
       "version_major": 2,
       "version_minor": 0
      },
      "text/plain": [
       "Creating SINGS_AT relationships:   0%|          | 0/1 [00:00<?, ?it/s]"
      ]
     },
     "metadata": {},
     "output_type": "display_data"
    },
    {
     "data": {
      "application/vnd.jupyter.widget-view+json": {
       "model_id": "8ef57518cceb4331b264375ebd799ccf",
       "version_major": 2,
       "version_minor": 0
      },
      "text/plain": [
       "Creating ASKS_ABOUT relationships:   0%|          | 0/1 [00:00<?, ?it/s]"
      ]
     },
     "metadata": {},
     "output_type": "display_data"
    },
    {
     "data": {
      "application/vnd.jupyter.widget-view+json": {
       "model_id": "e8e9d804d090480599e861c4115b3eb4",
       "version_major": 2,
       "version_minor": 0
      },
      "text/plain": [
       "Creating RESPONDS_TO relationships:   0%|          | 0/1 [00:00<?, ?it/s]"
      ]
     },
     "metadata": {},
     "output_type": "display_data"
    },
    {
     "data": {
      "application/vnd.jupyter.widget-view+json": {
       "model_id": "69ca766b368944b49658f552285f3cc2",
       "version_major": 2,
       "version_minor": 0
      },
      "text/plain": [
       "Creating COMMENTS_ON relationships:   0%|          | 0/1 [00:00<?, ?it/s]"
      ]
     },
     "metadata": {},
     "output_type": "display_data"
    },
    {
     "data": {
      "application/vnd.jupyter.widget-view+json": {
       "model_id": "d003b8f91c4643b8b4f23d985281f0f3",
       "version_major": 2,
       "version_minor": 0
      },
      "text/plain": [
       "Creating DESCRIBES_HIMSELF relationships:   0%|          | 0/1 [00:00<?, ?it/s]"
      ]
     },
     "metadata": {},
     "output_type": "display_data"
    },
    {
     "data": {
      "application/vnd.jupyter.widget-view+json": {
       "model_id": "9706f2ea994f414d9ccc8001b8dd9403",
       "version_major": 2,
       "version_minor": 0
      },
      "text/plain": [
       "Creating THREATENS relationships:   0%|          | 0/1 [00:00<?, ?it/s]"
      ]
     },
     "metadata": {},
     "output_type": "display_data"
    },
    {
     "data": {
      "application/vnd.jupyter.widget-view+json": {
       "model_id": "50136d6cc9ff4b04a37ec25d01eb8468",
       "version_major": 2,
       "version_minor": 0
      },
      "text/plain": [
       "Creating SINGS_ABOUT relationships:   0%|          | 0/1 [00:00<?, ?it/s]"
      ]
     },
     "metadata": {},
     "output_type": "display_data"
    },
    {
     "data": {
      "application/vnd.jupyter.widget-view+json": {
       "model_id": "557043bd3346474b82838c4d98ae03b5",
       "version_major": 2,
       "version_minor": 0
      },
      "text/plain": [
       "Creating EXITS_WITH relationships:   0%|          | 0/1 [00:00<?, ?it/s]"
      ]
     },
     "metadata": {},
     "output_type": "display_data"
    },
    {
     "data": {
      "application/vnd.jupyter.widget-view+json": {
       "model_id": "67da34d95db34694bd6db99f375746b8",
       "version_major": 2,
       "version_minor": 0
      },
      "text/plain": [
       "Creating DESCRIBES_MERCUTIO relationships:   0%|          | 0/1 [00:00<?, ?it/s]"
      ]
     },
     "metadata": {},
     "output_type": "display_data"
    },
    {
     "data": {
      "application/vnd.jupyter.widget-view+json": {
       "model_id": "4bcd04133d804f1980b0951c47062a04",
       "version_major": 2,
       "version_minor": 0
      },
      "text/plain": [
       "Creating THREATENS_AGAINST relationships:   0%|          | 0/1 [00:00<?, ?it/s]"
      ]
     },
     "metadata": {},
     "output_type": "display_data"
    },
    {
     "data": {
      "application/vnd.jupyter.widget-view+json": {
       "model_id": "4427b2c22e1c4aad8bf07998ff43d36f",
       "version_major": 2,
       "version_minor": 0
      },
      "text/plain": [
       "Creating ASKS_FOR_HELP relationships:   0%|          | 0/1 [00:00<?, ?it/s]"
      ]
     },
     "metadata": {},
     "output_type": "display_data"
    },
    {
     "data": {
      "application/vnd.jupyter.widget-view+json": {
       "model_id": "47c3ec8e2e4542fc994ce0f56dd08a3b",
       "version_major": 2,
       "version_minor": 0
      },
      "text/plain": [
       "Creating TELLS_SECRET relationships:   0%|          | 0/1 [00:00<?, ?it/s]"
      ]
     },
     "metadata": {},
     "output_type": "display_data"
    },
    {
     "data": {
      "application/vnd.jupyter.widget-view+json": {
       "model_id": "12c88d6b8e1649058c09410eae902877",
       "version_major": 2,
       "version_minor": 0
      },
      "text/plain": [
       "Creating PLANS_MARRIAGE_WITH relationships:   0%|          | 0/1 [00:00<?, ?it/s]"
      ]
     },
     "metadata": {},
     "output_type": "display_data"
    },
    {
     "data": {
      "application/vnd.jupyter.widget-view+json": {
       "model_id": "869f02ec59f24feb8708bc5aaa8f3590",
       "version_major": 2,
       "version_minor": 0
      },
      "text/plain": [
       "Creating ARRANGES_SECRET_MEETING_WITH relationships:   0%|          | 0/1 [00:00<?, ?it/s]"
      ]
     },
     "metadata": {},
     "output_type": "display_data"
    },
    {
     "data": {
      "application/vnd.jupyter.widget-view+json": {
       "model_id": "b06b74a282264fbb89f2b2abef419ab7",
       "version_major": 2,
       "version_minor": 0
      },
      "text/plain": [
       "Creating TRUSTS_CONFIDENTIAL_TASK_TO relationships:   0%|          | 0/1 [00:00<?, ?it/s]"
      ]
     },
     "metadata": {},
     "output_type": "display_data"
    },
    {
     "data": {
      "application/vnd.jupyter.widget-view+json": {
       "model_id": "ca7f35701bc84aa4ac03d408d5a9073d",
       "version_major": 2,
       "version_minor": 0
      },
      "text/plain": [
       "Creating WARNS_AGAINST_DECEIT relationships:   0%|          | 0/1 [00:00<?, ?it/s]"
      ]
     },
     "metadata": {},
     "output_type": "display_data"
    },
    {
     "data": {
      "application/vnd.jupyter.widget-view+json": {
       "model_id": "780b8cd9eaed4b3b92dbeaad33820424",
       "version_major": 2,
       "version_minor": 0
      },
      "text/plain": [
       "Creating MENTIONS_RIVAL_SUITOR relationships:   0%|          | 0/1 [00:00<?, ?it/s]"
      ]
     },
     "metadata": {},
     "output_type": "display_data"
    },
    {
     "data": {
      "application/vnd.jupyter.widget-view+json": {
       "model_id": "afb021693733453f8a5c563f7fad9238",
       "version_major": 2,
       "version_minor": 0
      },
      "text/plain": [
       "Creating DISLIKES_RIVAL_SUITOR relationships:   0%|          | 0/1 [00:00<?, ?it/s]"
      ]
     },
     "metadata": {},
     "output_type": "display_data"
    },
    {
     "data": {
      "application/vnd.jupyter.widget-view+json": {
       "model_id": "7d1f8861cf424198a64f6fb941fb90c6",
       "version_major": 2,
       "version_minor": 0
      },
      "text/plain": [
       "Creating USES_FLOWER_NAMES_FOR_AFFECTION relationships:   0%|          | 0/1 [00:00<?, ?it/s]"
      ]
     },
     "metadata": {},
     "output_type": "display_data"
    },
    {
     "data": {
      "application/vnd.jupyter.widget-view+json": {
       "model_id": "d4115e76706142f38225d3db29803c92",
       "version_major": 2,
       "version_minor": 0
      },
      "text/plain": [
       "Creating WAITS_FOR relationships:   0%|          | 0/1 [00:00<?, ?it/s]"
      ]
     },
     "metadata": {},
     "output_type": "display_data"
    },
    {
     "data": {
      "application/vnd.jupyter.widget-view+json": {
       "model_id": "16fc050ba1834c1aa639222f65ce878e",
       "version_major": 2,
       "version_minor": 0
      },
      "text/plain": [
       "Creating RETURNS_TO relationships:   0%|          | 0/1 [00:00<?, ?it/s]"
      ]
     },
     "metadata": {},
     "output_type": "display_data"
    },
    {
     "data": {
      "application/vnd.jupyter.widget-view+json": {
       "model_id": "20e888af2bb2491c9334f813485e579c",
       "version_major": 2,
       "version_minor": 0
      },
      "text/plain": [
       "Creating EXPRESSES_CONCERN_FOR relationships:   0%|          | 0/1 [00:00<?, ?it/s]"
      ]
     },
     "metadata": {},
     "output_type": "display_data"
    },
    {
     "data": {
      "application/vnd.jupyter.widget-view+json": {
       "model_id": "e250df2d1a5e4b67aa33c05085c9b2e8",
       "version_major": 2,
       "version_minor": 0
      },
      "text/plain": [
       "Creating PROVIDES_INFORMATION_TO relationships:   0%|          | 0/1 [00:00<?, ?it/s]"
      ]
     },
     "metadata": {},
     "output_type": "display_data"
    },
    {
     "data": {
      "application/vnd.jupyter.widget-view+json": {
       "model_id": "818022c05896401aaf9fc95c2fb2b2f0",
       "version_major": 2,
       "version_minor": 0
      },
      "text/plain": [
       "Creating DESCRIBES_ROMEO relationships:   0%|          | 0/1 [00:00<?, ?it/s]"
      ]
     },
     "metadata": {},
     "output_type": "display_data"
    },
    {
     "data": {
      "application/vnd.jupyter.widget-view+json": {
       "model_id": "def1b76485624f76a4deed4455fec181",
       "version_major": 2,
       "version_minor": 0
      },
      "text/plain": [
       "Creating PRAISES_ROMEO relationships:   0%|          | 0/1 [00:00<?, ?it/s]"
      ]
     },
     "metadata": {},
     "output_type": "display_data"
    },
    {
     "data": {
      "application/vnd.jupyter.widget-view+json": {
       "model_id": "ab846a96ed9a4dc5add5af5601003a5f",
       "version_major": 2,
       "version_minor": 0
      },
      "text/plain": [
       "Creating ATTENDED_BY relationships:   0%|          | 0/1 [00:00<?, ?it/s]"
      ]
     },
     "metadata": {},
     "output_type": "display_data"
    },
    {
     "data": {
      "application/vnd.jupyter.widget-view+json": {
       "model_id": "cc82202629ed401abd5eb80683b5b437",
       "version_major": 2,
       "version_minor": 0
      },
      "text/plain": [
       "Creating HAS_LEAVE_TO_GO_TO_SHRIFT_TODAY relationships:   0%|          | 0/1 [00:00<?, ?it/s]"
      ]
     },
     "metadata": {},
     "output_type": "display_data"
    },
    {
     "data": {
      "application/vnd.jupyter.widget-view+json": {
       "model_id": "0b13c60c2d8e4a759c12341db06f21ab",
       "version_major": 2,
       "version_minor": 0
      },
      "text/plain": [
       "Creating GOES_TO_FRIAR_LAWRENCES_CELL relationships:   0%|          | 0/1 [00:00<?, ?it/s]"
      ]
     },
     "metadata": {},
     "output_type": "display_data"
    },
    {
     "data": {
      "application/vnd.jupyter.widget-view+json": {
       "model_id": "ee02b07dac4d4d42bf933693a5ced56b",
       "version_major": 2,
       "version_minor": 0
      },
      "text/plain": [
       "Creating MARRIES relationships:   0%|          | 0/1 [00:00<?, ?it/s]"
      ]
     },
     "metadata": {},
     "output_type": "display_data"
    },
    {
     "data": {
      "application/vnd.jupyter.widget-view+json": {
       "model_id": "3631f2183f774a3f83341cfe52c682f0",
       "version_major": 2,
       "version_minor": 0
      },
      "text/plain": [
       "Creating PERFORMS_MARRIAGE_CEREMONY relationships:   0%|          | 0/1 [00:00<?, ?it/s]"
      ]
     },
     "metadata": {},
     "output_type": "display_data"
    },
    {
     "data": {
      "application/vnd.jupyter.widget-view+json": {
       "model_id": "61986780388c472388906ce83543f6c1",
       "version_major": 2,
       "version_minor": 0
      },
      "text/plain": [
       "Creating BECOMES_WIFE_OF relationships:   0%|          | 0/1 [00:00<?, ?it/s]"
      ]
     },
     "metadata": {},
     "output_type": "display_data"
    },
    {
     "data": {
      "application/vnd.jupyter.widget-view+json": {
       "model_id": "961c8de270174c94823a382fd6b4e925",
       "version_major": 2,
       "version_minor": 0
      },
      "text/plain": [
       "Creating BECOMES_HUSBAND_OF relationships:   0%|          | 0/1 [00:00<?, ?it/s]"
      ]
     },
     "metadata": {},
     "output_type": "display_data"
    },
    {
     "data": {
      "application/vnd.jupyter.widget-view+json": {
       "model_id": "dc8b4b1056e44447a8da5ffc2c949539",
       "version_major": 2,
       "version_minor": 0
      },
      "text/plain": [
       "Creating ADVISES relationships:   0%|          | 0/1 [00:00<?, ?it/s]"
      ]
     },
     "metadata": {},
     "output_type": "display_data"
    },
    {
     "data": {
      "application/vnd.jupyter.widget-view+json": {
       "model_id": "e107d3bf72ae45baad0904b009e269dc",
       "version_major": 2,
       "version_minor": 0
      },
      "text/plain": [
       "Creating EXPRESSES_JOY_TO relationships:   0%|          | 0/1 [00:00<?, ?it/s]"
      ]
     },
     "metadata": {},
     "output_type": "display_data"
    },
    {
     "data": {
      "application/vnd.jupyter.widget-view+json": {
       "model_id": "2d87f016369242ee9eef7570bf2d8a41",
       "version_major": 2,
       "version_minor": 0
      },
      "text/plain": [
       "Creating WARNS_ABOUT_LOVE relationships:   0%|          | 0/1 [00:00<?, ?it/s]"
      ]
     },
     "metadata": {},
     "output_type": "display_data"
    },
    {
     "data": {
      "application/vnd.jupyter.widget-view+json": {
       "model_id": "689459d705f74bf7acba009feb635e13",
       "version_major": 2,
       "version_minor": 0
      },
      "text/plain": [
       "Creating RECEIVES_MARRIAGE_ADVICE_FROM relationships:   0%|          | 0/1 [00:00<?, ?it/s]"
      ]
     },
     "metadata": {},
     "output_type": "display_data"
    },
    {
     "data": {
      "application/vnd.jupyter.widget-view+json": {
       "model_id": "43fe9a90b16848e28bf5afcdc3e0a976",
       "version_major": 2,
       "version_minor": 0
      },
      "text/plain": [
       "Creating QUOTES_PROVERB relationships:   0%|          | 0/1 [00:00<?, ?it/s]"
      ]
     },
     "metadata": {},
     "output_type": "display_data"
    },
    {
     "data": {
      "application/vnd.jupyter.widget-view+json": {
       "model_id": "588222fc715747d0b1bb485c91827f05",
       "version_major": 2,
       "version_minor": 0
      },
      "text/plain": [
       "Creating RESPONDS_TO_FRIAR_LAWRENCES_PROVERB relationships:   0%|          | 0/1 [00:00<?, ?it/s]"
      ]
     },
     "metadata": {},
     "output_type": "display_data"
    },
    {
     "data": {
      "application/vnd.jupyter.widget-view+json": {
       "model_id": "edfc48ab45d545fcbc4a3db80f9c03d6",
       "version_major": 2,
       "version_minor": 0
      },
      "text/plain": [
       "Creating EXPRESSES_LOVE_FOR_ROMEO relationships:   0%|          | 0/1 [00:00<?, ?it/s]"
      ]
     },
     "metadata": {},
     "output_type": "display_data"
    },
    {
     "data": {
      "application/vnd.jupyter.widget-view+json": {
       "model_id": "c9cb276deffa420b95823a279dc5c98b",
       "version_major": 2,
       "version_minor": 0
      },
      "text/plain": [
       "Creating EXPRESSES_LOVE_FOR_JULIET relationships:   0%|          | 0/1 [00:00<?, ?it/s]"
      ]
     },
     "metadata": {},
     "output_type": "display_data"
    },
    {
     "data": {
      "application/vnd.jupyter.widget-view+json": {
       "model_id": "0dffd219ab5e4ed1a8ee10a7aaae5fa7",
       "version_major": 2,
       "version_minor": 0
      },
      "text/plain": [
       "Creating LEAVES_FRIAR_LAWRENCES_CELL relationships:   0%|          | 0/1 [00:00<?, ?it/s]"
      ]
     },
     "metadata": {},
     "output_type": "display_data"
    },
    {
     "data": {
      "application/vnd.jupyter.widget-view+json": {
       "model_id": "36f6804b46cb4da99fda9149b518d323",
       "version_major": 2,
       "version_minor": 0
      },
      "text/plain": [
       "Creating BLESSES_MARRIAGE relationships:   0%|          | 0/1 [00:00<?, ?it/s]"
      ]
     },
     "metadata": {},
     "output_type": "display_data"
    },
    {
     "data": {
      "application/vnd.jupyter.widget-view+json": {
       "model_id": "b10228ef12ae4d498ec207d35a9713ac",
       "version_major": 2,
       "version_minor": 0
      },
      "text/plain": [
       "Creating REPORTS_TO relationships:   0%|          | 0/1 [00:00<?, ?it/s]"
      ]
     },
     "metadata": {},
     "output_type": "display_data"
    },
    {
     "data": {
      "application/vnd.jupyter.widget-view+json": {
       "model_id": "5d9e437484e543da9cd922e9426dfbbc",
       "version_major": 2,
       "version_minor": 0
      },
      "text/plain": [
       "Creating MOCKS relationships:   0%|          | 0/1 [00:00<?, ?it/s]"
      ]
     },
     "metadata": {},
     "output_type": "display_data"
    },
    {
     "data": {
      "application/vnd.jupyter.widget-view+json": {
       "model_id": "29a5b06696e249ceae8b8a44e62d6ce5",
       "version_major": 2,
       "version_minor": 0
      },
      "text/plain": [
       "Creating WARNS relationships:   0%|          | 0/1 [00:00<?, ?it/s]"
      ]
     },
     "metadata": {},
     "output_type": "display_data"
    },
    {
     "data": {
      "application/vnd.jupyter.widget-view+json": {
       "model_id": "09e01809a631473b9c9914f3ab6115b7",
       "version_major": 2,
       "version_minor": 0
      },
      "text/plain": [
       "Creating DENIES relationships:   0%|          | 0/1 [00:00<?, ?it/s]"
      ]
     },
     "metadata": {},
     "output_type": "display_data"
    },
    {
     "data": {
      "application/vnd.jupyter.widget-view+json": {
       "model_id": "ab908cf35de149c082f4fa1201646895",
       "version_major": 2,
       "version_minor": 0
      },
      "text/plain": [
       "Creating ENTERS relationships:   0%|          | 0/1 [00:00<?, ?it/s]"
      ]
     },
     "metadata": {},
     "output_type": "display_data"
    },
    {
     "data": {
      "application/vnd.jupyter.widget-view+json": {
       "model_id": "07966ebfec07459ea1cb78fc4a3ebf74",
       "version_major": 2,
       "version_minor": 0
      },
      "text/plain": [
       "Creating SIBLING_OF relationships:   0%|          | 0/1 [00:00<?, ?it/s]"
      ]
     },
     "metadata": {},
     "output_type": "display_data"
    },
    {
     "data": {
      "application/vnd.jupyter.widget-view+json": {
       "model_id": "8dd8426a70b64c408182a8c563c4b949",
       "version_major": 2,
       "version_minor": 0
      },
      "text/plain": [
       "Creating INJURED_BY relationships:   0%|          | 0/1 [00:00<?, ?it/s]"
      ]
     },
     "metadata": {},
     "output_type": "display_data"
    },
    {
     "data": {
      "application/vnd.jupyter.widget-view+json": {
       "model_id": "1e49dfed09c64ab8b3c16cec0429464d",
       "version_major": 2,
       "version_minor": 0
      },
      "text/plain": [
       "Creating DIES_IN relationships:   0%|          | 0/1 [00:00<?, ?it/s]"
      ]
     },
     "metadata": {},
     "output_type": "display_data"
    },
    {
     "data": {
      "application/vnd.jupyter.widget-view+json": {
       "model_id": "d3634832efff4a2bac000ce1fabae117",
       "version_major": 2,
       "version_minor": 0
      },
      "text/plain": [
       "Creating FEELS_RESPONSIBLE_FOR relationships:   0%|          | 0/1 [00:00<?, ?it/s]"
      ]
     },
     "metadata": {},
     "output_type": "display_data"
    },
    {
     "data": {
      "application/vnd.jupyter.widget-view+json": {
       "model_id": "d7cb6a4eeb864ce6b490df235fa5f338",
       "version_major": 2,
       "version_minor": 0
      },
      "text/plain": [
       "Creating HELPS_WITH relationships:   0%|          | 0/1 [00:00<?, ?it/s]"
      ]
     },
     "metadata": {},
     "output_type": "display_data"
    },
    {
     "data": {
      "application/vnd.jupyter.widget-view+json": {
       "model_id": "7c079a51f51d418487f07aa54b9e9c29",
       "version_major": 2,
       "version_minor": 0
      },
      "text/plain": [
       "Creating INFORMS_ABOUT relationships:   0%|          | 0/1 [00:00<?, ?it/s]"
      ]
     },
     "metadata": {},
     "output_type": "display_data"
    },
    {
     "data": {
      "application/vnd.jupyter.widget-view+json": {
       "model_id": "3e37053b3ca149329bb2c552560e1e80",
       "version_major": 2,
       "version_minor": 0
      },
      "text/plain": [
       "Creating FEELS_GUILTY_ABOUT relationships:   0%|          | 0/1 [00:00<?, ?it/s]"
      ]
     },
     "metadata": {},
     "output_type": "display_data"
    },
    {
     "data": {
      "application/vnd.jupyter.widget-view+json": {
       "model_id": "fb6d63cfa96248e6985df1f6a511202d",
       "version_major": 2,
       "version_minor": 0
      },
      "text/plain": [
       "Creating FEELS_AFFECTION_TOWARDS relationships:   0%|          | 0/1 [00:00<?, ?it/s]"
      ]
     },
     "metadata": {},
     "output_type": "display_data"
    },
    {
     "data": {
      "application/vnd.jupyter.widget-view+json": {
       "model_id": "43fefe4f31954742b9bcc3a9af0f608b",
       "version_major": 2,
       "version_minor": 0
      },
      "text/plain": [
       "Creating FAMILY_OF relationships:   0%|          | 0/1 [00:00<?, ?it/s]"
      ]
     },
     "metadata": {},
     "output_type": "display_data"
    },
    {
     "data": {
      "application/vnd.jupyter.widget-view+json": {
       "model_id": "32959b88dd174ca8986854ce22a647ca",
       "version_major": 2,
       "version_minor": 0
      },
      "text/plain": [
       "Creating OVERSEES relationships:   0%|          | 0/1 [00:00<?, ?it/s]"
      ]
     },
     "metadata": {},
     "output_type": "display_data"
    },
    {
     "data": {
      "application/vnd.jupyter.widget-view+json": {
       "model_id": "13d10281945e4a3383aace269e0b16fb",
       "version_major": 2,
       "version_minor": 0
      },
      "text/plain": [
       "Creating FOUGHT_WITH relationships:   0%|          | 0/1 [00:00<?, ?it/s]"
      ]
     },
     "metadata": {},
     "output_type": "display_data"
    },
    {
     "data": {
      "application/vnd.jupyter.widget-view+json": {
       "model_id": "dab36f2ba862470692928076d1c69a66",
       "version_major": 2,
       "version_minor": 0
      },
      "text/plain": [
       "Creating INTERVENED_IN relationships:   0%|          | 0/1 [00:00<?, ?it/s]"
      ]
     },
     "metadata": {},
     "output_type": "display_data"
    },
    {
     "data": {
      "application/vnd.jupyter.widget-view+json": {
       "model_id": "c4af0f692d364beeb6efafec4f35126f",
       "version_major": 2,
       "version_minor": 0
      },
      "text/plain": [
       "Creating WITNESSES_TO relationships:   0%|          | 0/1 [00:00<?, ?it/s]"
      ]
     },
     "metadata": {},
     "output_type": "display_data"
    },
    {
     "data": {
      "application/vnd.jupyter.widget-view+json": {
       "model_id": "04a0d3dbc3e1466ea2562385e776bcf3",
       "version_major": 2,
       "version_minor": 0
      },
      "text/plain": [
       "Creating MOURNS_FOR relationships:   0%|          | 0/1 [00:00<?, ?it/s]"
      ]
     },
     "metadata": {},
     "output_type": "display_data"
    },
    {
     "data": {
      "application/vnd.jupyter.widget-view+json": {
       "model_id": "0916ab7fa92643e48b8e7234828e4997",
       "version_major": 2,
       "version_minor": 0
      },
      "text/plain": [
       "Creating INFORMS_PRINCE_ABOUT relationships:   0%|          | 0/1 [00:00<?, ?it/s]"
      ]
     },
     "metadata": {},
     "output_type": "display_data"
    },
    {
     "data": {
      "application/vnd.jupyter.widget-view+json": {
       "model_id": "f56d430456c04d0bb446e267ec83383f",
       "version_major": 2,
       "version_minor": 0
      },
      "text/plain": [
       "Creating PUNISHES relationships:   0%|          | 0/1 [00:00<?, ?it/s]"
      ]
     },
     "metadata": {},
     "output_type": "display_data"
    },
    {
     "data": {
      "application/vnd.jupyter.widget-view+json": {
       "model_id": "e68c4629b8f54c3595845083e39ffe73",
       "version_major": 2,
       "version_minor": 0
      },
      "text/plain": [
       "Creating IS_RELATIVE_OF relationships:   0%|          | 0/1 [00:00<?, ?it/s]"
      ]
     },
     "metadata": {},
     "output_type": "display_data"
    },
    {
     "data": {
      "application/vnd.jupyter.widget-view+json": {
       "model_id": "d726429f68cc4fddbd2312b0b844440c",
       "version_major": 2,
       "version_minor": 0
      },
      "text/plain": [
       "Creating SPEAKS_AGAINST relationships:   0%|          | 0/1 [00:00<?, ?it/s]"
      ]
     },
     "metadata": {},
     "output_type": "display_data"
    },
    {
     "data": {
      "application/vnd.jupyter.widget-view+json": {
       "model_id": "91146014a6d5421c802e931b7dd6ebcf",
       "version_major": 2,
       "version_minor": 0
      },
      "text/plain": [
       "Creating SUPPORTS relationships:   0%|          | 0/1 [00:00<?, ?it/s]"
      ]
     },
     "metadata": {},
     "output_type": "display_data"
    },
    {
     "data": {
      "application/vnd.jupyter.widget-view+json": {
       "model_id": "d32f5097124945e1b05899effa2be483",
       "version_major": 2,
       "version_minor": 0
      },
      "text/plain": [
       "Creating KILLS relationships:   0%|          | 0/1 [00:00<?, ?it/s]"
      ]
     },
     "metadata": {},
     "output_type": "display_data"
    },
    {
     "data": {
      "application/vnd.jupyter.widget-view+json": {
       "model_id": "aa8f83019b0d44a0babffae1af4eac8d",
       "version_major": 2,
       "version_minor": 0
      },
      "text/plain": [
       "Creating IS_EXILED_BY relationships:   0%|          | 0/1 [00:00<?, ?it/s]"
      ]
     },
     "metadata": {},
     "output_type": "display_data"
    },
    {
     "data": {
      "application/vnd.jupyter.widget-view+json": {
       "model_id": "81238709521544f8846f3406fb3f4162",
       "version_major": 2,
       "version_minor": 0
      },
      "text/plain": [
       "Creating COMFORTS relationships:   0%|          | 0/1 [00:00<?, ?it/s]"
      ]
     },
     "metadata": {},
     "output_type": "display_data"
    },
    {
     "data": {
      "application/vnd.jupyter.widget-view+json": {
       "model_id": "b6019e1144b44c7fba6717f6ffc0a0dd",
       "version_major": 2,
       "version_minor": 0
      },
      "text/plain": [
       "Creating BRINGS_NEWS_TO relationships:   0%|          | 0/1 [00:00<?, ?it/s]"
      ]
     },
     "metadata": {},
     "output_type": "display_data"
    },
    {
     "data": {
      "application/vnd.jupyter.widget-view+json": {
       "model_id": "fe03b2712cc94f4095d8d62a6bdb6567",
       "version_major": 2,
       "version_minor": 0
      },
      "text/plain": [
       "Creating DELIVERS_MESSAGE relationships:   0%|          | 0/1 [00:00<?, ?it/s]"
      ]
     },
     "metadata": {},
     "output_type": "display_data"
    },
    {
     "data": {
      "application/vnd.jupyter.widget-view+json": {
       "model_id": "c010234601e843da8cfc8944ec44ff18",
       "version_major": 2,
       "version_minor": 0
      },
      "text/plain": [
       "Creating RECEIVES_BAD_NEWS_FROM relationships:   0%|          | 0/1 [00:00<?, ?it/s]"
      ]
     },
     "metadata": {},
     "output_type": "display_data"
    },
    {
     "data": {
      "application/vnd.jupyter.widget-view+json": {
       "model_id": "94206e6f69b843e1b8377a8b70620a81",
       "version_major": 2,
       "version_minor": 0
      },
      "text/plain": [
       "Creating BANISHED_BY relationships:   0%|          | 0/1 [00:00<?, ?it/s]"
      ]
     },
     "metadata": {},
     "output_type": "display_data"
    },
    {
     "data": {
      "application/vnd.jupyter.widget-view+json": {
       "model_id": "e12a2ecf4b5b4a949e233df611a7b18a",
       "version_major": 2,
       "version_minor": 0
      },
      "text/plain": [
       "Creating REGULATES_OVER relationships:   0%|          | 0/1 [00:00<?, ?it/s]"
      ]
     },
     "metadata": {},
     "output_type": "display_data"
    },
    {
     "data": {
      "application/vnd.jupyter.widget-view+json": {
       "model_id": "aa0f12983cae45fbac586e337f021e0d",
       "version_major": 2,
       "version_minor": 0
      },
      "text/plain": [
       "Creating INFORMS relationships:   0%|          | 0/1 [00:00<?, ?it/s]"
      ]
     },
     "metadata": {},
     "output_type": "display_data"
    },
    {
     "data": {
      "application/vnd.jupyter.widget-view+json": {
       "model_id": "67cdd00717e44698a059ea7127f31f1b",
       "version_major": 2,
       "version_minor": 0
      },
      "text/plain": [
       "Creating RECEIVES_FROM relationships:   0%|          | 0/1 [00:00<?, ?it/s]"
      ]
     },
     "metadata": {},
     "output_type": "display_data"
    },
    {
     "data": {
      "application/vnd.jupyter.widget-view+json": {
       "model_id": "a59f8fe7ec6048c4a6ae6cff7126bb7c",
       "version_major": 2,
       "version_minor": 0
      },
      "text/plain": [
       "Creating PROVIDES relationships:   0%|          | 0/1 [00:00<?, ?it/s]"
      ]
     },
     "metadata": {},
     "output_type": "display_data"
    },
    {
     "data": {
      "application/vnd.jupyter.widget-view+json": {
       "model_id": "148239c8c52a448883a5fd892eaccc1b",
       "version_major": 2,
       "version_minor": 0
      },
      "text/plain": [
       "Creating FINDS relationships:   0%|          | 0/1 [00:00<?, ?it/s]"
      ]
     },
     "metadata": {},
     "output_type": "display_data"
    },
    {
     "data": {
      "application/vnd.jupyter.widget-view+json": {
       "model_id": "deecb93eb714412999dbe0b69bb64cd9",
       "version_major": 2,
       "version_minor": 0
      },
      "text/plain": [
       "Creating DELIVERS_TO relationships:   0%|          | 0/1 [00:00<?, ?it/s]"
      ]
     },
     "metadata": {},
     "output_type": "display_data"
    },
    {
     "data": {
      "application/vnd.jupyter.widget-view+json": {
       "model_id": "6a63e6cbb0c1429483eca26c0c519b3a",
       "version_major": 2,
       "version_minor": 0
      },
      "text/plain": [
       "Creating INTENDS_TO_MEET relationships:   0%|          | 0/1 [00:00<?, ?it/s]"
      ]
     },
     "metadata": {},
     "output_type": "display_data"
    },
    {
     "data": {
      "application/vnd.jupyter.widget-view+json": {
       "model_id": "6d876d962b894c3fbb321b595ed14bba",
       "version_major": 2,
       "version_minor": 0
      },
      "text/plain": [
       "Creating ATTENDS_AT_NIGHT relationships:   0%|          | 0/1 [00:00<?, ?it/s]"
      ]
     },
     "metadata": {},
     "output_type": "display_data"
    },
    {
     "data": {
      "application/vnd.jupyter.widget-view+json": {
       "model_id": "b380aaaa24534464abe25a8aadf6473e",
       "version_major": 2,
       "version_minor": 0
      },
      "text/plain": [
       "Creating RECEIVES_RING_FROM relationships:   0%|          | 0/1 [00:00<?, ?it/s]"
      ]
     },
     "metadata": {},
     "output_type": "display_data"
    },
    {
     "data": {
      "application/vnd.jupyter.widget-view+json": {
       "model_id": "317c15dbd2df4a609d233006c5c4f987",
       "version_major": 2,
       "version_minor": 0
      },
      "text/plain": [
       "Creating LEAVES_HOUSE relationships:   0%|          | 0/1 [00:00<?, ?it/s]"
      ]
     },
     "metadata": {},
     "output_type": "display_data"
    },
    {
     "data": {
      "application/vnd.jupyter.widget-view+json": {
       "model_id": "db6cbdbc1a4a4331b59e0f70e073227f",
       "version_major": 2,
       "version_minor": 0
      },
      "text/plain": [
       "Creating GOES_TO_MANTUA relationships:   0%|          | 0/1 [00:00<?, ?it/s]"
      ]
     },
     "metadata": {},
     "output_type": "display_data"
    },
    {
     "data": {
      "application/vnd.jupyter.widget-view+json": {
       "model_id": "7e3f60d8922a450dab3da1afc09f88ed",
       "version_major": 2,
       "version_minor": 0
      },
      "text/plain": [
       "Creating MEETS_WITH_FRIAR_LAWRENCE relationships:   0%|          | 0/1 [00:00<?, ?it/s]"
      ]
     },
     "metadata": {},
     "output_type": "display_data"
    },
    {
     "data": {
      "application/vnd.jupyter.widget-view+json": {
       "model_id": "02491bf34cfc408084903ee5a8d9325b",
       "version_major": 2,
       "version_minor": 0
      },
      "text/plain": [
       "Creating RECEIVES_INSTRUCTIONS_FROM relationships:   0%|          | 0/1 [00:00<?, ?it/s]"
      ]
     },
     "metadata": {},
     "output_type": "display_data"
    },
    {
     "data": {
      "application/vnd.jupyter.widget-view+json": {
       "model_id": "f29a7a1ed1044b378b9efc62ba8ce5fb",
       "version_major": 2,
       "version_minor": 0
      },
      "text/plain": [
       "Creating EXITS_HOUSE relationships:   0%|          | 0/1 [00:00<?, ?it/s]"
      ]
     },
     "metadata": {},
     "output_type": "display_data"
    },
    {
     "data": {
      "application/vnd.jupyter.widget-view+json": {
       "model_id": "d4ef0efcb7bc4df194b840b1effc4a5f",
       "version_major": 2,
       "version_minor": 0
      },
      "text/plain": [
       "Creating HAS_DAUGHTER relationships:   0%|          | 0/1 [00:00<?, ?it/s]"
      ]
     },
     "metadata": {},
     "output_type": "display_data"
    },
    {
     "data": {
      "application/vnd.jupyter.widget-view+json": {
       "model_id": "938cfe68c588417c945d8affd4edb97b",
       "version_major": 2,
       "version_minor": 0
      },
      "text/plain": [
       "Creating LOVES_DEARLY relationships:   0%|          | 0/1 [00:00<?, ?it/s]"
      ]
     },
     "metadata": {},
     "output_type": "display_data"
    },
    {
     "data": {
      "application/vnd.jupyter.widget-view+json": {
       "model_id": "3ff1c0c0973b45f38f7266f1ff84f86a",
       "version_major": 2,
       "version_minor": 0
      },
      "text/plain": [
       "Creating HAS_WIFE relationships:   0%|          | 0/1 [00:00<?, ?it/s]"
      ]
     },
     "metadata": {},
     "output_type": "display_data"
    },
    {
     "data": {
      "application/vnd.jupyter.widget-view+json": {
       "model_id": "d8814c55e14f4453940ce77179339d71",
       "version_major": 2,
       "version_minor": 0
      },
      "text/plain": [
       "Creating VISITS_CAPULET_HOUSE relationships:   0%|          | 0/1 [00:00<?, ?it/s]"
      ]
     },
     "metadata": {},
     "output_type": "display_data"
    },
    {
     "data": {
      "application/vnd.jupyter.widget-view+json": {
       "model_id": "d845b6c86d54454195f17a612b65730a",
       "version_major": 2,
       "version_minor": 0
      },
      "text/plain": [
       "Creating COMMENDS_HIMSELF_TO_LADY_CAPULET relationships:   0%|          | 0/1 [00:00<?, ?it/s]"
      ]
     },
     "metadata": {},
     "output_type": "display_data"
    },
    {
     "data": {
      "application/vnd.jupyter.widget-view+json": {
       "model_id": "27d47f4d10544d4eb35725fb2f3f5f81",
       "version_major": 2,
       "version_minor": 0
      },
      "text/plain": [
       "Creating PROMISES_LADY_CAPULET relationships:   0%|          | 0/1 [00:00<?, ?it/s]"
      ]
     },
     "metadata": {},
     "output_type": "display_data"
    },
    {
     "data": {
      "application/vnd.jupyter.widget-view+json": {
       "model_id": "aee45974f10a431a884e2e2803558e24",
       "version_major": 2,
       "version_minor": 0
      },
      "text/plain": [
       "Creating TELLS_LADY_CAPULET relationships:   0%|          | 0/1 [00:00<?, ?it/s]"
      ]
     },
     "metadata": {},
     "output_type": "display_data"
    },
    {
     "data": {
      "application/vnd.jupyter.widget-view+json": {
       "model_id": "87a4aebb66b44adc9744fa9193ae5d89",
       "version_major": 2,
       "version_minor": 0
      },
      "text/plain": [
       "Creating SETS_WEDDING_DAY relationships:   0%|          | 0/1 [00:00<?, ?it/s]"
      ]
     },
     "metadata": {},
     "output_type": "display_data"
    },
    {
     "data": {
      "application/vnd.jupyter.widget-view+json": {
       "model_id": "c7570b8a74bf4b498324accc3efa03a5",
       "version_major": 2,
       "version_minor": 0
      },
      "text/plain": [
       "Creating TELLS_LADY_CAPULET_TO_INFORM_JULIET relationships:   0%|          | 0/1 [00:00<?, ?it/s]"
      ]
     },
     "metadata": {},
     "output_type": "display_data"
    },
    {
     "data": {
      "application/vnd.jupyter.widget-view+json": {
       "model_id": "46e45e1a54c04cc2b090f8ec5bd5e3ce",
       "version_major": 2,
       "version_minor": 0
      },
      "text/plain": [
       "Creating CONSIDERS_WEDDING_HASTE_TOO_SOON relationships:   0%|          | 0/1 [00:00<?, ?it/s]"
      ]
     },
     "metadata": {},
     "output_type": "display_data"
    },
    {
     "data": {
      "application/vnd.jupyter.widget-view+json": {
       "model_id": "84552337c20e4e079e541831937da820",
       "version_major": 2,
       "version_minor": 0
      },
      "text/plain": [
       "Creating SETS_NEW_WEDDING_DAY relationships:   0%|          | 0/1 [00:00<?, ?it/s]"
      ]
     },
     "metadata": {},
     "output_type": "display_data"
    },
    {
     "data": {
      "application/vnd.jupyter.widget-view+json": {
       "model_id": "7b00c2e81e5342efadf4e3b891677a5f",
       "version_major": 2,
       "version_minor": 0
      },
      "text/plain": [
       "Creating TELLS_LADY_CAPULET_TO_PREPARE_JULIET relationships:   0%|          | 0/1 [00:00<?, ?it/s]"
      ]
     },
     "metadata": {},
     "output_type": "display_data"
    },
    {
     "data": {
      "application/vnd.jupyter.widget-view+json": {
       "model_id": "eab057185c45430fb3d6450b51b7be40",
       "version_major": 2,
       "version_minor": 0
      },
      "text/plain": [
       "Creating CONSIDERS_WEDDING_ADOU relationships:   0%|          | 0/1 [00:00<?, ?it/s]"
      ]
     },
     "metadata": {},
     "output_type": "display_data"
    },
    {
     "data": {
      "application/vnd.jupyter.widget-view+json": {
       "model_id": "5fc2e39bbc334d12bcb63ffb264d94d6",
       "version_major": 2,
       "version_minor": 0
      },
      "text/plain": [
       "Creating MENTIONS_TYBALTS_DEATH relationships:   0%|          | 0/1 [00:00<?, ?it/s]"
      ]
     },
     "metadata": {},
     "output_type": "display_data"
    },
    {
     "data": {
      "application/vnd.jupyter.widget-view+json": {
       "model_id": "87058e1b9f9243beabbb14e1446148f5",
       "version_major": 2,
       "version_minor": 0
      },
      "text/plain": [
       "Creating CONSIDERS_REVELING_CARELESSLY_DUE_TO_TYBALTS_DEATH relationships:   0%|          | 0/1 [00:00<?, ?it/…"
      ]
     },
     "metadata": {},
     "output_type": "display_data"
    },
    {
     "data": {
      "application/vnd.jupyter.widget-view+json": {
       "model_id": "a6b0e03eac584863ba8fc8996506723d",
       "version_major": 2,
       "version_minor": 0
      },
      "text/plain": [
       "Creating SPOUSE_OF relationships:   0%|          | 0/1 [00:00<?, ?it/s]"
      ]
     },
     "metadata": {},
     "output_type": "display_data"
    },
    {
     "data": {
      "application/vnd.jupyter.widget-view+json": {
       "model_id": "574b4fb4befb41e18509bc2f99cda596",
       "version_major": 2,
       "version_minor": 0
      },
      "text/plain": [
       "Creating ATTENDS_WEDDING_OF relationships:   0%|          | 0/1 [00:00<?, ?it/s]"
      ]
     },
     "metadata": {},
     "output_type": "display_data"
    },
    {
     "data": {
      "application/vnd.jupyter.widget-view+json": {
       "model_id": "dd9d64049af943d384eb22c10ecf6a3e",
       "version_major": 2,
       "version_minor": 0
      },
      "text/plain": [
       "Creating PREPARES_FOR_WEDDING relationships:   0%|          | 0/1 [00:00<?, ?it/s]"
      ]
     },
     "metadata": {},
     "output_type": "display_data"
    },
    {
     "data": {
      "application/vnd.jupyter.widget-view+json": {
       "model_id": "f39d32003db548b3b258389665bd9338",
       "version_major": 2,
       "version_minor": 0
      },
      "text/plain": [
       "Creating INFORMS_JULIET relationships:   0%|          | 0/1 [00:00<?, ?it/s]"
      ]
     },
     "metadata": {},
     "output_type": "display_data"
    },
    {
     "data": {
      "application/vnd.jupyter.widget-view+json": {
       "model_id": "c9ad3124934e44e2a8e139762eb06928",
       "version_major": 2,
       "version_minor": 0
      },
      "text/plain": [
       "Creating EXITS_CHAMBER relationships:   0%|          | 0/1 [00:00<?, ?it/s]"
      ]
     },
     "metadata": {},
     "output_type": "display_data"
    },
    {
     "data": {
      "application/vnd.jupyter.widget-view+json": {
       "model_id": "7a272231c3d342fda3e0fe967c561609",
       "version_major": 2,
       "version_minor": 0
      },
      "text/plain": [
       "Creating REQUESTS_DAILY_COMMUNICATION relationships:   0%|          | 0/1 [00:00<?, ?it/s]"
      ]
     },
     "metadata": {},
     "output_type": "display_data"
    },
    {
     "data": {
      "application/vnd.jupyter.widget-view+json": {
       "model_id": "e847e79b44c04dafbe2c4aa67eb33758",
       "version_major": 2,
       "version_minor": 0
      },
      "text/plain": [
       "Creating PROMISES_DAILY_COMMUNICATION relationships:   0%|          | 0/1 [00:00<?, ?it/s]"
      ]
     },
     "metadata": {},
     "output_type": "display_data"
    },
    {
     "data": {
      "application/vnd.jupyter.widget-view+json": {
       "model_id": "b03d35b36797486d8da5b0399c483c03",
       "version_major": 2,
       "version_minor": 0
      },
      "text/plain": [
       "Creating WAITS_FOR_ROMEO relationships:   0%|          | 0/1 [00:00<?, ?it/s]"
      ]
     },
     "metadata": {},
     "output_type": "display_data"
    },
    {
     "data": {
      "application/vnd.jupyter.widget-view+json": {
       "model_id": "6e0858d1c36442798e06e7706c66555f",
       "version_major": 2,
       "version_minor": 0
      },
      "text/plain": [
       "Creating DESCENDS_FROM_JULIETS_CHAMBER relationships:   0%|          | 0/1 [00:00<?, ?it/s]"
      ]
     },
     "metadata": {},
     "output_type": "display_data"
    },
    {
     "data": {
      "application/vnd.jupyter.widget-view+json": {
       "model_id": "8eb8bd2fa9af4ee69109b7b90d38656b",
       "version_major": 2,
       "version_minor": 0
      },
      "text/plain": [
       "Creating EXPRESSES_DESIRE_FOR_DAYLIGHT relationships:   0%|          | 0/1 [00:00<?, ?it/s]"
      ]
     },
     "metadata": {},
     "output_type": "display_data"
    },
    {
     "data": {
      "application/vnd.jupyter.widget-view+json": {
       "model_id": "8e2c4d57b37245e1a82e4af7600282c9",
       "version_major": 2,
       "version_minor": 0
      },
      "text/plain": [
       "Creating EXPRESSES_DESIRE_FOR_NIGHT relationships:   0%|          | 0/1 [00:00<?, ?it/s]"
      ]
     },
     "metadata": {},
     "output_type": "display_data"
    },
    {
     "data": {
      "application/vnd.jupyter.widget-view+json": {
       "model_id": "212d68e34d324124b953d44414f73cd4",
       "version_major": 2,
       "version_minor": 0
      },
      "text/plain": [
       "Creating OPENS_WINDOW relationships:   0%|          | 0/1 [00:00<?, ?it/s]"
      ]
     },
     "metadata": {},
     "output_type": "display_data"
    },
    {
     "data": {
      "application/vnd.jupyter.widget-view+json": {
       "model_id": "91b12b54cf0e4bff88022328777a9ade",
       "version_major": 2,
       "version_minor": 0
      },
      "text/plain": [
       "Creating DESCENDS relationships:   0%|          | 0/1 [00:00<?, ?it/s]"
      ]
     },
     "metadata": {},
     "output_type": "display_data"
    },
    {
     "data": {
      "application/vnd.jupyter.widget-view+json": {
       "model_id": "650b4d0b7b114fa6bec317b2924a360b",
       "version_major": 2,
       "version_minor": 0
      },
      "text/plain": [
       "Creating EXPRESSES_FAREWELL relationships:   0%|          | 0/1 [00:00<?, ?it/s]"
      ]
     },
     "metadata": {},
     "output_type": "display_data"
    },
    {
     "data": {
      "application/vnd.jupyter.widget-view+json": {
       "model_id": "c7eb6402a9c24ba5bd4f37451b516df8",
       "version_major": 2,
       "version_minor": 0
      },
      "text/plain": [
       "Creating PLANS_TO relationships:   0%|          | 0/1 [00:00<?, ?it/s]"
      ]
     },
     "metadata": {},
     "output_type": "display_data"
    },
    {
     "data": {
      "application/vnd.jupyter.widget-view+json": {
       "model_id": "c58eae294e8b4023a5110400b344bba3",
       "version_major": 2,
       "version_minor": 0
      },
      "text/plain": [
       "Creating HEADS_OF relationships:   0%|          | 0/1 [00:00<?, ?it/s]"
      ]
     },
     "metadata": {},
     "output_type": "display_data"
    },
    {
     "data": {
      "application/vnd.jupyter.widget-view+json": {
       "model_id": "b1876bad882b457c9d086f9fba3aefea",
       "version_major": 2,
       "version_minor": 0
      },
      "text/plain": [
       "Creating ARRANGES_MARRIAGE_FOR relationships:   0%|          | 0/1 [00:00<?, ?it/s]"
      ]
     },
     "metadata": {},
     "output_type": "display_data"
    },
    {
     "data": {
      "application/vnd.jupyter.widget-view+json": {
       "model_id": "7eb4aabb9de04310b7691c43a44e2ab0",
       "version_major": 2,
       "version_minor": 0
      },
      "text/plain": [
       "Creating REFUSES_MARRIAGE relationships:   0%|          | 0/1 [00:00<?, ?it/s]"
      ]
     },
     "metadata": {},
     "output_type": "display_data"
    },
    {
     "data": {
      "application/vnd.jupyter.widget-view+json": {
       "model_id": "3b70cf61fffb4455be50c21ee66bb9f4",
       "version_major": 2,
       "version_minor": 0
      },
      "text/plain": [
       "Creating THREATENS_WITH_PUNISHMENT relationships:   0%|          | 0/1 [00:00<?, ?it/s]"
      ]
     },
     "metadata": {},
     "output_type": "display_data"
    },
    {
     "data": {
      "application/vnd.jupyter.widget-view+json": {
       "model_id": "085d12474619416ca408c2e84d50efa0",
       "version_major": 2,
       "version_minor": 0
      },
      "text/plain": [
       "Creating EXPRESSES_DISPLEASURE_TO relationships:   0%|          | 0/1 [00:00<?, ?it/s]"
      ]
     },
     "metadata": {},
     "output_type": "display_data"
    },
    {
     "data": {
      "application/vnd.jupyter.widget-view+json": {
       "model_id": "456dd3e0b44d4d3692ed46115d234c21",
       "version_major": 2,
       "version_minor": 0
      },
      "text/plain": [
       "Creating EXPRESSES_DISAPPOINTMENT_AT relationships:   0%|          | 0/1 [00:00<?, ?it/s]"
      ]
     },
     "metadata": {},
     "output_type": "display_data"
    },
    {
     "data": {
      "application/vnd.jupyter.widget-view+json": {
       "model_id": "48f24d8a8e8e4fea9d92d0242a5f461c",
       "version_major": 2,
       "version_minor": 0
      },
      "text/plain": [
       "Creating PLEADS_WITH relationships:   0%|          | 0/1 [00:00<?, ?it/s]"
      ]
     },
     "metadata": {},
     "output_type": "display_data"
    },
    {
     "data": {
      "application/vnd.jupyter.widget-view+json": {
       "model_id": "5342ad4884b644759a5b180f08039185",
       "version_major": 2,
       "version_minor": 0
      },
      "text/plain": [
       "Creating EXPRESSES_FRUSTRATION_AT relationships:   0%|          | 0/1 [00:00<?, ?it/s]"
      ]
     },
     "metadata": {},
     "output_type": "display_data"
    },
    {
     "data": {
      "application/vnd.jupyter.widget-view+json": {
       "model_id": "d0356fb879204aac8861da513b573d20",
       "version_major": 2,
       "version_minor": 0
      },
      "text/plain": [
       "Creating MENTIONS_SAINT_PETERS_CHURCH relationships:   0%|          | 0/1 [00:00<?, ?it/s]"
      ]
     },
     "metadata": {},
     "output_type": "display_data"
    },
    {
     "data": {
      "application/vnd.jupyter.widget-view+json": {
       "model_id": "e95b3833b03746758bb02601f82a63ea",
       "version_major": 2,
       "version_minor": 0
      },
      "text/plain": [
       "Creating EXPRESSES_OPPOSITION_TO relationships:   0%|          | 0/1 [00:00<?, ?it/s]"
      ]
     },
     "metadata": {},
     "output_type": "display_data"
    },
    {
     "data": {
      "application/vnd.jupyter.widget-view+json": {
       "model_id": "c973d94ca7874ec1a69d802c45c6097b",
       "version_major": 2,
       "version_minor": 0
      },
      "text/plain": [
       "Creating EXPRESSES_DISAPPROVAL_AT relationships:   0%|          | 0/1 [00:00<?, ?it/s]"
      ]
     },
     "metadata": {},
     "output_type": "display_data"
    },
    {
     "data": {
      "application/vnd.jupyter.widget-view+json": {
       "model_id": "80d0206614224f259ef7947fe58a11bc",
       "version_major": 2,
       "version_minor": 0
      },
      "text/plain": [
       "Creating SERVANT_OF relationships:   0%|          | 0/1 [00:00<?, ?it/s]"
      ]
     },
     "metadata": {},
     "output_type": "display_data"
    },
    {
     "data": {
      "application/vnd.jupyter.widget-view+json": {
       "model_id": "1f29af53590349ec9997ec594863caf3",
       "version_major": 2,
       "version_minor": 0
      },
      "text/plain": [
       "Creating PARENTS_OF relationships:   0%|          | 0/1 [00:00<?, ?it/s]"
      ]
     },
     "metadata": {},
     "output_type": "display_data"
    },
    {
     "data": {
      "application/vnd.jupyter.widget-view+json": {
       "model_id": "44b9815ed39a414fb8e19edc25e02fcd",
       "version_major": 2,
       "version_minor": 0
      },
      "text/plain": [
       "Creating INTENDS_TO_MARRY_OFF relationships:   0%|          | 0/1 [00:00<?, ?it/s]"
      ]
     },
     "metadata": {},
     "output_type": "display_data"
    },
    {
     "data": {
      "application/vnd.jupyter.widget-view+json": {
       "model_id": "22192eae8fb843eba0d67b7f2edeaa31",
       "version_major": 2,
       "version_minor": 0
      },
      "text/plain": [
       "Creating THREATENS_TO_DISOWN relationships:   0%|          | 0/1 [00:00<?, ?it/s]"
      ]
     },
     "metadata": {},
     "output_type": "display_data"
    },
    {
     "data": {
      "application/vnd.jupyter.widget-view+json": {
       "model_id": "59624f23c1bd4af8b484e14e82e6d934",
       "version_major": 2,
       "version_minor": 0
      },
      "text/plain": [
       "Creating REFUSES_TO_MARRY relationships:   0%|          | 0/1 [00:00<?, ?it/s]"
      ]
     },
     "metadata": {},
     "output_type": "display_data"
    },
    {
     "data": {
      "application/vnd.jupyter.widget-view+json": {
       "model_id": "ae89be3f918c437bb34fc1689d1277e0",
       "version_major": 2,
       "version_minor": 0
      },
      "text/plain": [
       "Creating INTENDS_TO_MARRY relationships:   0%|          | 0/1 [00:00<?, ?it/s]"
      ]
     },
     "metadata": {},
     "output_type": "display_data"
    },
    {
     "data": {
      "application/vnd.jupyter.widget-view+json": {
       "model_id": "722b74216f89401bafbae7b4f1293cd1",
       "version_major": 2,
       "version_minor": 0
      },
      "text/plain": [
       "Creating BANISHES relationships:   0%|          | 0/1 [00:00<?, ?it/s]"
      ]
     },
     "metadata": {},
     "output_type": "display_data"
    },
    {
     "data": {
      "application/vnd.jupyter.widget-view+json": {
       "model_id": "c474c2e18a5d4f749c6830f65cac262c",
       "version_major": 2,
       "version_minor": 0
      },
      "text/plain": [
       "Creating GOES_TO relationships:   0%|          | 0/1 [00:00<?, ?it/s]"
      ]
     },
     "metadata": {},
     "output_type": "display_data"
    },
    {
     "data": {
      "application/vnd.jupyter.widget-view+json": {
       "model_id": "4a595958a4184b03954d3ca1bf799e12",
       "version_major": 2,
       "version_minor": 0
      },
      "text/plain": [
       "Creating CONFIDES_IN relationships:   0%|          | 0/1 [00:00<?, ?it/s]"
      ]
     },
     "metadata": {},
     "output_type": "display_data"
    },
    {
     "data": {
      "application/vnd.jupyter.widget-view+json": {
       "model_id": "9c2d1b5720d2488d8c28f41c9f20fba6",
       "version_major": 2,
       "version_minor": 0
      },
      "text/plain": [
       "Creating INTENDS_TO_MARRY_WITH relationships:   0%|          | 0/1 [00:00<?, ?it/s]"
      ]
     },
     "metadata": {},
     "output_type": "display_data"
    },
    {
     "data": {
      "application/vnd.jupyter.widget-view+json": {
       "model_id": "541b1435ccce4126bde909cdbc8cf9e2",
       "version_major": 2,
       "version_minor": 0
      },
      "text/plain": [
       "Creating DURING relationships:   0%|          | 0/1 [00:00<?, ?it/s]"
      ]
     },
     "metadata": {},
     "output_type": "display_data"
    },
    {
     "data": {
      "application/vnd.jupyter.widget-view+json": {
       "model_id": "dea5c738369540409340b96e83dda904",
       "version_major": 2,
       "version_minor": 0
      },
      "text/plain": [
       "Creating DISCUSSES_MARRIAGE_WITH relationships:   0%|          | 0/1 [00:00<?, ?it/s]"
      ]
     },
     "metadata": {},
     "output_type": "display_data"
    },
    {
     "data": {
      "application/vnd.jupyter.widget-view+json": {
       "model_id": "9fa730ab11064ce29891ea7ab604e913",
       "version_major": 2,
       "version_minor": 0
      },
      "text/plain": [
       "Creating COMPARES_ROMEO_TO relationships:   0%|          | 0/1 [00:00<?, ?it/s]"
      ]
     },
     "metadata": {},
     "output_type": "display_data"
    },
    {
     "data": {
      "application/vnd.jupyter.widget-view+json": {
       "model_id": "35b597cfd2a147e58b354adb41dfdfe4",
       "version_major": 2,
       "version_minor": 0
      },
      "text/plain": [
       "Creating DISPLEASES_FATHER relationships:   0%|          | 0/1 [00:00<?, ?it/s]"
      ]
     },
     "metadata": {},
     "output_type": "display_data"
    },
    {
     "data": {
      "application/vnd.jupyter.widget-view+json": {
       "model_id": "f64cff74fddc4420af333d7bee4e49ba",
       "version_major": 2,
       "version_minor": 0
      },
      "text/plain": [
       "Creating INTENDS_TO_CONFESS relationships:   0%|          | 0/1 [00:00<?, ?it/s]"
      ]
     },
     "metadata": {},
     "output_type": "display_data"
    },
    {
     "data": {
      "application/vnd.jupyter.widget-view+json": {
       "model_id": "b43d9813e4964e0ab49f30cd5c25735b",
       "version_major": 2,
       "version_minor": 0
      },
      "text/plain": [
       "Creating SEEKS_REMEDY_FROM relationships:   0%|          | 0/1 [00:00<?, ?it/s]"
      ]
     },
     "metadata": {},
     "output_type": "display_data"
    },
    {
     "data": {
      "application/vnd.jupyter.widget-view+json": {
       "model_id": "84444485443b48d8891777b93c60cf71",
       "version_major": 2,
       "version_minor": 0
      },
      "text/plain": [
       "Creating THREATENS_SUICIDE_IF_NEEDED relationships:   0%|          | 0/1 [00:00<?, ?it/s]"
      ]
     },
     "metadata": {},
     "output_type": "display_data"
    },
    {
     "data": {
      "application/vnd.jupyter.widget-view+json": {
       "model_id": "575c7e1ccd4740e2be2d500e145b1491",
       "version_major": 2,
       "version_minor": 0
      },
      "text/plain": [
       "Creating DISCUSSES_REASON_FOR_HASTE_WITH relationships:   0%|          | 0/1 [00:00<?, ?it/s]"
      ]
     },
     "metadata": {},
     "output_type": "display_data"
    },
    {
     "data": {
      "application/vnd.jupyter.widget-view+json": {
       "model_id": "768f09aadf774e4cb6b62fa809071dbd",
       "version_major": 2,
       "version_minor": 0
      },
      "text/plain": [
       "Creating ADVISES_AGAINST_HASTE relationships:   0%|          | 0/1 [00:00<?, ?it/s]"
      ]
     },
     "metadata": {},
     "output_type": "display_data"
    },
    {
     "data": {
      "application/vnd.jupyter.widget-view+json": {
       "model_id": "9dfb55a976cb478bbff590078e949908",
       "version_major": 2,
       "version_minor": 0
      },
      "text/plain": [
       "Creating KNOWS_JULIETS_MIND relationships:   0%|          | 0/1 [00:00<?, ?it/s]"
      ]
     },
     "metadata": {},
     "output_type": "display_data"
    },
    {
     "data": {
      "application/vnd.jupyter.widget-view+json": {
       "model_id": "ea3c4f9c803b4e26bce4e539801ec633",
       "version_major": 2,
       "version_minor": 0
      },
      "text/plain": [
       "Creating KNOWS_REASON_FOR_HASTE relationships:   0%|          | 0/1 [00:00<?, ?it/s]"
      ]
     },
     "metadata": {},
     "output_type": "display_data"
    },
    {
     "data": {
      "application/vnd.jupyter.widget-view+json": {
       "model_id": "d1974e460ed74a59b32a04c31a841e6e",
       "version_major": 2,
       "version_minor": 0
      },
      "text/plain": [
       "Creating WITNESSES_JULIETS_ARRIVAL relationships:   0%|          | 0/1 [00:00<?, ?it/s]"
      ]
     },
     "metadata": {},
     "output_type": "display_data"
    },
    {
     "data": {
      "application/vnd.jupyter.widget-view+json": {
       "model_id": "cf543755f06a4e788c2f0197f3569426",
       "version_major": 2,
       "version_minor": 0
      },
      "text/plain": [
       "Creating GREETS_JULIET relationships:   0%|          | 0/1 [00:00<?, ?it/s]"
      ]
     },
     "metadata": {},
     "output_type": "display_data"
    },
    {
     "data": {
      "application/vnd.jupyter.widget-view+json": {
       "model_id": "655457b4a0b548e281fc1468653a31e2",
       "version_major": 2,
       "version_minor": 0
      },
      "text/plain": [
       "Creating RESPONDS_TO_GREETING relationships:   0%|          | 0/1 [00:00<?, ?it/s]"
      ]
     },
     "metadata": {},
     "output_type": "display_data"
    },
    {
     "data": {
      "application/vnd.jupyter.widget-view+json": {
       "model_id": "829e5cd8d4b542b894b1364617e81130",
       "version_major": 2,
       "version_minor": 0
      },
      "text/plain": [
       "Creating DENIES_LOVE_FOR_PARIS relationships:   0%|          | 0/1 [00:00<?, ?it/s]"
      ]
     },
     "metadata": {},
     "output_type": "display_data"
    },
    {
     "data": {
      "application/vnd.jupyter.widget-view+json": {
       "model_id": "f8e11b425f754dfd8257570cfcdaa033",
       "version_major": 2,
       "version_minor": 0
      },
      "text/plain": [
       "Creating CONFESSES_LOVE_FOR_ROMEO relationships:   0%|          | 0/1 [00:00<?, ?it/s]"
      ]
     },
     "metadata": {},
     "output_type": "display_data"
    },
    {
     "data": {
      "application/vnd.jupyter.widget-view+json": {
       "model_id": "4b72339d383a4d1c9afc041d6a57d4f5",
       "version_major": 2,
       "version_minor": 0
      },
      "text/plain": [
       "Creating CRITICIZES_PARISS_FACE relationships:   0%|          | 0/1 [00:00<?, ?it/s]"
      ]
     },
     "metadata": {},
     "output_type": "display_data"
    },
    {
     "data": {
      "application/vnd.jupyter.widget-view+json": {
       "model_id": "9e53e6ce067241dbba85f8db1406c0eb",
       "version_major": 2,
       "version_minor": 0
      },
      "text/plain": [
       "Creating DEFENDS_HIS_FACE relationships:   0%|          | 0/1 [00:00<?, ?it/s]"
      ]
     },
     "metadata": {},
     "output_type": "display_data"
    },
    {
     "data": {
      "application/vnd.jupyter.widget-view+json": {
       "model_id": "8487fd5f00ce479fa12dc259bcab450d",
       "version_major": 2,
       "version_minor": 0
      },
      "text/plain": [
       "Creating DENIES_SLANDER_AGAINST_HERSELF relationships:   0%|          | 0/1 [00:00<?, ?it/s]"
      ]
     },
     "metadata": {},
     "output_type": "display_data"
    },
    {
     "data": {
      "application/vnd.jupyter.widget-view+json": {
       "model_id": "ecadb8870efc4de8ab079ec3987d16a5",
       "version_major": 2,
       "version_minor": 0
      },
      "text/plain": [
       "Creating ACCUSES_JULIET_OF_SLANDER relationships:   0%|          | 0/1 [00:00<?, ?it/s]"
      ]
     },
     "metadata": {},
     "output_type": "display_data"
    },
    {
     "data": {
      "application/vnd.jupyter.widget-view+json": {
       "model_id": "8fc01dd9598d4f30a6ee08d9e2bd4a91",
       "version_major": 2,
       "version_minor": 0
      },
      "text/plain": [
       "Creating DENIES_SLANDERING_HERSELF relationships:   0%|          | 0/1 [00:00<?, ?it/s]"
      ]
     },
     "metadata": {},
     "output_type": "display_data"
    },
    {
     "data": {
      "application/vnd.jupyter.widget-view+json": {
       "model_id": "73998ae3eaf242668b6c6ced8d7a69af",
       "version_major": 2,
       "version_minor": 0
      },
      "text/plain": [
       "Creating ACCUSES_JULIET_OF_SLANDERING_HIS_FACE relationships:   0%|          | 0/1 [00:00<?, ?it/s]"
      ]
     },
     "metadata": {},
     "output_type": "display_data"
    },
    {
     "data": {
      "application/vnd.jupyter.widget-view+json": {
       "model_id": "720922bfda8d43919bcbb267a58f48f7",
       "version_major": 2,
       "version_minor": 0
      },
      "text/plain": [
       "Creating DENIES_SLANDERING_PARISS_FACE relationships:   0%|          | 0/1 [00:00<?, ?it/s]"
      ]
     },
     "metadata": {},
     "output_type": "display_data"
    },
    {
     "data": {
      "application/vnd.jupyter.widget-view+json": {
       "model_id": "3009520bf5e640129eefa7a7fb19653e",
       "version_major": 2,
       "version_minor": 0
      },
      "text/plain": [
       "Creating DENIES_OWNERSHIP_OF_FACE relationships:   0%|          | 0/1 [00:00<?, ?it/s]"
      ]
     },
     "metadata": {},
     "output_type": "display_data"
    },
    {
     "data": {
      "application/vnd.jupyter.widget-view+json": {
       "model_id": "59860bf484974c87beca9c329f53aafa",
       "version_major": 2,
       "version_minor": 0
      },
      "text/plain": [
       "Creating MARRIES_WITH relationships:   0%|          | 0/1 [00:00<?, ?it/s]"
      ]
     },
     "metadata": {},
     "output_type": "display_data"
    },
    {
     "data": {
      "application/vnd.jupyter.widget-view+json": {
       "model_id": "23eec28c38a949f1bfac49cb77d24e98",
       "version_major": 2,
       "version_minor": 0
      },
      "text/plain": [
       "Creating OFFERS_REMEDY_TO relationships:   0%|          | 0/1 [00:00<?, ?it/s]"
      ]
     },
     "metadata": {},
     "output_type": "display_data"
    },
    {
     "data": {
      "application/vnd.jupyter.widget-view+json": {
       "model_id": "66cc45da72d24065868e925bd156cb07",
       "version_major": 2,
       "version_minor": 0
      },
      "text/plain": [
       "Creating ATTENDS_MEETINGS_WITH relationships:   0%|          | 0/1 [00:00<?, ?it/s]"
      ]
     },
     "metadata": {},
     "output_type": "display_data"
    },
    {
     "data": {
      "application/vnd.jupyter.widget-view+json": {
       "model_id": "77b6d06212584909aed23f62eb358092",
       "version_major": 2,
       "version_minor": 0
      },
      "text/plain": [
       "Creating SENDS_LETTERS_TO relationships:   0%|          | 0/1 [00:00<?, ?it/s]"
      ]
     },
     "metadata": {},
     "output_type": "display_data"
    },
    {
     "data": {
      "application/vnd.jupyter.widget-view+json": {
       "model_id": "518e8b4f9ffe45489a3f90f329f89d3f",
       "version_major": 2,
       "version_minor": 0
      },
      "text/plain": [
       "Creating PLANS_EVENT_WITH relationships:   0%|          | 0/1 [00:00<?, ?it/s]"
      ]
     },
     "metadata": {},
     "output_type": "display_data"
    },
    {
     "data": {
      "application/vnd.jupyter.widget-view+json": {
       "model_id": "4a120edac01a4af1834b86d75d0bb328",
       "version_major": 2,
       "version_minor": 0
      },
      "text/plain": [
       "Creating HIRES_EMPLOYEES_WITH relationships:   0%|          | 0/1 [00:00<?, ?it/s]"
      ]
     },
     "metadata": {},
     "output_type": "display_data"
    },
    {
     "data": {
      "application/vnd.jupyter.widget-view+json": {
       "model_id": "6f7b5ff4d2334a1fbc5e5a04f1116e08",
       "version_major": 2,
       "version_minor": 0
      },
      "text/plain": [
       "Creating EXPECTS_PRESENCE_OF relationships:   0%|          | 0/1 [00:00<?, ?it/s]"
      ]
     },
     "metadata": {},
     "output_type": "display_data"
    },
    {
     "data": {
      "application/vnd.jupyter.widget-view+json": {
       "model_id": "cad228d60e8f4eaf9d9ce5d944a247a7",
       "version_major": 2,
       "version_minor": 0
      },
      "text/plain": [
       "Creating SEEKS_FORGIVENESS_FROM relationships:   0%|          | 0/1 [00:00<?, ?it/s]"
      ]
     },
     "metadata": {},
     "output_type": "display_data"
    },
    {
     "data": {
      "application/vnd.jupyter.widget-view+json": {
       "model_id": "f060ef031bf749e5902a9d8ddcfeed77",
       "version_major": 2,
       "version_minor": 0
      },
      "text/plain": [
       "Creating INTENDS_TO_MARRY_OFF_JULIET_TO relationships:   0%|          | 0/1 [00:00<?, ?it/s]"
      ]
     },
     "metadata": {},
     "output_type": "display_data"
    },
    {
     "data": {
      "application/vnd.jupyter.widget-view+json": {
       "model_id": "b1fb0e1149254ff6a596200bb1fb24eb",
       "version_major": 2,
       "version_minor": 0
      },
      "text/plain": [
       "Creating INFORMS_CAPULET_ABOUT relationships:   0%|          | 0/1 [00:00<?, ?it/s]"
      ]
     },
     "metadata": {},
     "output_type": "display_data"
    },
    {
     "data": {
      "application/vnd.jupyter.widget-view+json": {
       "model_id": "8db0b7eb966249d58478a3930b16e41f",
       "version_major": 2,
       "version_minor": 0
      },
      "text/plain": [
       "Creating SUMMONS_COUNTY relationships:   0%|          | 0/1 [00:00<?, ?it/s]"
      ]
     },
     "metadata": {},
     "output_type": "display_data"
    },
    {
     "data": {
      "application/vnd.jupyter.widget-view+json": {
       "model_id": "0f45225595df4452bd823b134d20b57d",
       "version_major": 2,
       "version_minor": 0
      },
      "text/plain": [
       "Creating DISCUSSES_PROVISION_WITH relationships:   0%|          | 0/1 [00:00<?, ?it/s]"
      ]
     },
     "metadata": {},
     "output_type": "display_data"
    },
    {
     "data": {
      "application/vnd.jupyter.widget-view+json": {
       "model_id": "2ae549857c9148faa2af1a70477806ae",
       "version_major": 2,
       "version_minor": 0
      },
      "text/plain": [
       "Creating REQUESTS_HELP_FROM relationships:   0%|          | 0/1 [00:00<?, ?it/s]"
      ]
     },
     "metadata": {},
     "output_type": "display_data"
    },
    {
     "data": {
      "application/vnd.jupyter.widget-view+json": {
       "model_id": "4843f44de8f24887b4c9b21c6ac1d218",
       "version_major": 2,
       "version_minor": 0
      },
      "text/plain": [
       "Creating INTENDS_TO_ATTEND_CHURCH_TOMORROW relationships:   0%|          | 0/1 [00:00<?, ?it/s]"
      ]
     },
     "metadata": {},
     "output_type": "display_data"
    },
    {
     "data": {
      "application/vnd.jupyter.widget-view+json": {
       "model_id": "a378863fb4384d82b085839d9ebf12bb",
       "version_major": 2,
       "version_minor": 0
      },
      "text/plain": [
       "Creating PLANS_TO_PREPARE_FOR_WEDDING_WITH relationships:   0%|          | 0/1 [00:00<?, ?it/s]"
      ]
     },
     "metadata": {},
     "output_type": "display_data"
    },
    {
     "data": {
      "application/vnd.jupyter.widget-view+json": {
       "model_id": "5e5fb374c56f4c6bb67e5cd621415a68",
       "version_major": 2,
       "version_minor": 0
      },
      "text/plain": [
       "Creating DISCUSSES_SHORTAGE_OF_PROVISION_WITH relationships:   0%|          | 0/1 [00:00<?, ?it/s]"
      ]
     },
     "metadata": {},
     "output_type": "display_data"
    },
    {
     "data": {
      "application/vnd.jupyter.widget-view+json": {
       "model_id": "e4e238c73bb048dfb0c03001bff2e9fc",
       "version_major": 2,
       "version_minor": 0
      },
      "text/plain": [
       "Creating INTENDS_TO_MARRY_OFF_JULIET_TOMORROW relationships:   0%|          | 0/1 [00:00<?, ?it/s]"
      ]
     },
     "metadata": {},
     "output_type": "display_data"
    },
    {
     "data": {
      "application/vnd.jupyter.widget-view+json": {
       "model_id": "43db584ab9ac4a84b91b5a14578dd9de",
       "version_major": 2,
       "version_minor": 0
      },
      "text/plain": [
       "Creating LIVES_WITH relationships:   0%|          | 0/1 [00:00<?, ?it/s]"
      ]
     },
     "metadata": {},
     "output_type": "display_data"
    },
    {
     "data": {
      "application/vnd.jupyter.widget-view+json": {
       "model_id": "86a9451151fb46608843774836ee5112",
       "version_major": 2,
       "version_minor": 0
      },
      "text/plain": [
       "Creating PLANS_TO_MARRY_WITH relationships:   0%|          | 0/1 [00:00<?, ?it/s]"
      ]
     },
     "metadata": {},
     "output_type": "display_data"
    },
    {
     "data": {
      "application/vnd.jupyter.widget-view+json": {
       "model_id": "9da5cffb9f184e49a2643a9d6258254b",
       "version_major": 2,
       "version_minor": 0
      },
      "text/plain": [
       "Creating MARRIES_TO relationships:   0%|          | 0/1 [00:00<?, ?it/s]"
      ]
     },
     "metadata": {},
     "output_type": "display_data"
    },
    {
     "data": {
      "application/vnd.jupyter.widget-view+json": {
       "model_id": "d0a20df159a046a1978f2c915792bc06",
       "version_major": 2,
       "version_minor": 0
      },
      "text/plain": [
       "Creating HAS_FEAR_OF relationships:   0%|          | 0/1 [00:00<?, ?it/s]"
      ]
     },
     "metadata": {},
     "output_type": "display_data"
    },
    {
     "data": {
      "application/vnd.jupyter.widget-view+json": {
       "model_id": "b70606f76963427e904e821ac0cb9325",
       "version_major": 2,
       "version_minor": 0
      },
      "text/plain": [
       "Creating PLANS_TO_MEET_WITH relationships:   0%|          | 0/1 [00:00<?, ?it/s]"
      ]
     },
     "metadata": {},
     "output_type": "display_data"
    },
    {
     "data": {
      "application/vnd.jupyter.widget-view+json": {
       "model_id": "2de26cdc6b634f75b3f6ebf653462a3e",
       "version_major": 2,
       "version_minor": 0
      },
      "text/plain": [
       "Creating PLANS_TO_BE_MARRIED_ON relationships:   0%|          | 0/1 [00:00<?, ?it/s]"
      ]
     },
     "metadata": {},
     "output_type": "display_data"
    },
    {
     "data": {
      "application/vnd.jupyter.widget-view+json": {
       "model_id": "8aae5043a04540da9b5ba08e6b3652ab",
       "version_major": 2,
       "version_minor": 0
      },
      "text/plain": [
       "Creating PLANS_TO_BE_LEFT_ALONE_TONIGHT relationships:   0%|          | 0/1 [00:00<?, ?it/s]"
      ]
     },
     "metadata": {},
     "output_type": "display_data"
    },
    {
     "data": {
      "application/vnd.jupyter.widget-view+json": {
       "model_id": "a8e243f48a0d44f68f54d9308f7c07bb",
       "version_major": 2,
       "version_minor": 0
      },
      "text/plain": [
       "Creating HAS_RESPONSIBILITY_FOR relationships:   0%|          | 0/1 [00:00<?, ?it/s]"
      ]
     },
     "metadata": {},
     "output_type": "display_data"
    },
    {
     "data": {
      "application/vnd.jupyter.widget-view+json": {
       "model_id": "24037dc7bf7f4a11a4bcaebe88dc26be",
       "version_major": 2,
       "version_minor": 0
      },
      "text/plain": [
       "Creating PLANS_TO_GO_TO_BED relationships:   0%|          | 0/1 [00:00<?, ?it/s]"
      ]
     },
     "metadata": {},
     "output_type": "display_data"
    },
    {
     "data": {
      "application/vnd.jupyter.widget-view+json": {
       "model_id": "7bfde1fc804040aeb185841470a0d34b",
       "version_major": 2,
       "version_minor": 0
      },
      "text/plain": [
       "Creating PLANS_TO_LEAVE_JULIET_ALONE_TONIGHT relationships:   0%|          | 0/1 [00:00<?, ?it/s]"
      ]
     },
     "metadata": {},
     "output_type": "display_data"
    },
    {
     "data": {
      "application/vnd.jupyter.widget-view+json": {
       "model_id": "4b79b433c1804ae98c8c085014aaffb0",
       "version_major": 2,
       "version_minor": 0
      },
      "text/plain": [
       "Creating PLANS_TO_STAY_AWAKE_TONIGHT relationships:   0%|          | 0/1 [00:00<?, ?it/s]"
      ]
     },
     "metadata": {},
     "output_type": "display_data"
    },
    {
     "data": {
      "application/vnd.jupyter.widget-view+json": {
       "model_id": "312d08ce38914e90b43959be4427c364",
       "version_major": 2,
       "version_minor": 0
      },
      "text/plain": [
       "Creating PLANS_TO_PREPARE_COUNTY_PARIS relationships:   0%|          | 0/1 [00:00<?, ?it/s]"
      ]
     },
     "metadata": {},
     "output_type": "display_data"
    },
    {
     "data": {
      "application/vnd.jupyter.widget-view+json": {
       "model_id": "3c83ac1dde0c4edb9e8d8d0d123accbe",
       "version_major": 2,
       "version_minor": 0
      },
      "text/plain": [
       "Creating FEELS_HAPPY_ABOUT relationships:   0%|          | 0/1 [00:00<?, ?it/s]"
      ]
     },
     "metadata": {},
     "output_type": "display_data"
    },
    {
     "data": {
      "application/vnd.jupyter.widget-view+json": {
       "model_id": "ddd0a4fbebed4a5385c0329d244eab7c",
       "version_major": 2,
       "version_minor": 0
      },
      "text/plain": [
       "Creating PLANS_TO_EXIT relationships:   0%|          | 0/1 [00:00<?, ?it/s]"
      ]
     },
     "metadata": {},
     "output_type": "display_data"
    },
    {
     "data": {
      "application/vnd.jupyter.widget-view+json": {
       "model_id": "0846c1b413f94a4f80f7b4e82e892b51",
       "version_major": 2,
       "version_minor": 0
      },
      "text/plain": [
       "Creating PLANS_TO_PRAY_ALONE relationships:   0%|          | 0/1 [00:00<?, ?it/s]"
      ]
     },
     "metadata": {},
     "output_type": "display_data"
    },
    {
     "data": {
      "application/vnd.jupyter.widget-view+json": {
       "model_id": "19c5b4e64b5a469d9a4c7d74b2dfc8a3",
       "version_major": 2,
       "version_minor": 0
      },
      "text/plain": [
       "Creating PLANS_TO_USE_MIXTURE relationships:   0%|          | 0/1 [00:00<?, ?it/s]"
      ]
     },
     "metadata": {},
     "output_type": "display_data"
    },
    {
     "data": {
      "application/vnd.jupyter.widget-view+json": {
       "model_id": "93c7b34a47914ec78326d090d1803a8b",
       "version_major": 2,
       "version_minor": 0
      },
      "text/plain": [
       "Creating PLANS_TO_WAKE_UP_BEFORE_ROMEO relationships:   0%|          | 0/1 [00:00<?, ?it/s]"
      ]
     },
     "metadata": {},
     "output_type": "display_data"
    },
    {
     "data": {
      "application/vnd.jupyter.widget-view+json": {
       "model_id": "b9eb13dc33ab4c9a8e3ffc4c50f32040",
       "version_major": 2,
       "version_minor": 0
      },
      "text/plain": [
       "Creating FEARS_POISON_FROM_FRIAR relationships:   0%|          | 0/1 [00:00<?, ?it/s]"
      ]
     },
     "metadata": {},
     "output_type": "display_data"
    },
    {
     "data": {
      "application/vnd.jupyter.widget-view+json": {
       "model_id": "a57eebf164164554a327175881a5362a",
       "version_major": 2,
       "version_minor": 0
      },
      "text/plain": [
       "Creating FEARS_BEING_STIFLED_IN_VAULT relationships:   0%|          | 0/1 [00:00<?, ?it/s]"
      ]
     },
     "metadata": {},
     "output_type": "display_data"
    },
    {
     "data": {
      "application/vnd.jupyter.widget-view+json": {
       "model_id": "fbf87572f31d457c8e5d20d9a457844f",
       "version_major": 2,
       "version_minor": 0
      },
      "text/plain": [
       "Creating FEARS_WAKING_UP_MAD relationships:   0%|          | 0/1 [00:00<?, ?it/s]"
      ]
     },
     "metadata": {},
     "output_type": "display_data"
    },
    {
     "data": {
      "application/vnd.jupyter.widget-view+json": {
       "model_id": "707e32b783574b40b018a6fa66549f91",
       "version_major": 2,
       "version_minor": 0
      },
      "text/plain": [
       "Creating FEARS_PLUCKING_TYBALT_FROM_SHROUD relationships:   0%|          | 0/1 [00:00<?, ?it/s]"
      ]
     },
     "metadata": {},
     "output_type": "display_data"
    },
    {
     "data": {
      "application/vnd.jupyter.widget-view+json": {
       "model_id": "8ddacfa3e9b949c78bad7c5c1bd6b25c",
       "version_major": 2,
       "version_minor": 0
      },
      "text/plain": [
       "Creating FEARS_KILLING_KINSMAN_WITH_BONE relationships:   0%|          | 0/1 [00:00<?, ?it/s]"
      ]
     },
     "metadata": {},
     "output_type": "display_data"
    },
    {
     "data": {
      "application/vnd.jupyter.widget-view+json": {
       "model_id": "07153743d6cd4fd9bfbb04e33ae1cd4d",
       "version_major": 2,
       "version_minor": 0
      },
      "text/plain": [
       "Creating FEARS_SEEING_COUSINS_GHOST relationships:   0%|          | 0/1 [00:00<?, ?it/s]"
      ]
     },
     "metadata": {},
     "output_type": "display_data"
    },
    {
     "data": {
      "application/vnd.jupyter.widget-view+json": {
       "model_id": "b63b8fc27e7440259905178378adf511",
       "version_major": 2,
       "version_minor": 0
      },
      "text/plain": [
       "Creating FEARS_ENCOUNTERING_SPIRITS_IN_VAULT relationships:   0%|          | 0/1 [00:00<?, ?it/s]"
      ]
     },
     "metadata": {},
     "output_type": "display_data"
    },
    {
     "data": {
      "application/vnd.jupyter.widget-view+json": {
       "model_id": "5d4d89e3bcf043fab33474c923c1e608",
       "version_major": 2,
       "version_minor": 0
      },
      "text/plain": [
       "Creating FIANC_OF relationships:   0%|          | 0/1 [00:00<?, ?it/s]"
      ]
     },
     "metadata": {},
     "output_type": "display_data"
    },
    {
     "data": {
      "application/vnd.jupyter.widget-view+json": {
       "model_id": "3f0b2e76727249b493845fb5a57b828a",
       "version_major": 2,
       "version_minor": 0
      },
      "text/plain": [
       "Creating CAUSES_DEATH relationships:   0%|          | 0/1 [00:00<?, ?it/s]"
      ]
     },
     "metadata": {},
     "output_type": "display_data"
    },
    {
     "data": {
      "application/vnd.jupyter.widget-view+json": {
       "model_id": "41f93db593fa4ac4947e9407a3d72c52",
       "version_major": 2,
       "version_minor": 0
      },
      "text/plain": [
       "Creating GRIEF_OVER relationships:   0%|          | 0/1 [00:00<?, ?it/s]"
      ]
     },
     "metadata": {},
     "output_type": "display_data"
    },
    {
     "data": {
      "application/vnd.jupyter.widget-view+json": {
       "model_id": "94d4b2b6d9ba43bcaab80ae9605044c3",
       "version_major": 2,
       "version_minor": 0
      },
      "text/plain": [
       "Creating OFFICIATES_WEDDING_OF relationships:   0%|          | 0/1 [00:00<?, ?it/s]"
      ]
     },
     "metadata": {},
     "output_type": "display_data"
    },
    {
     "data": {
      "application/vnd.jupyter.widget-view+json": {
       "model_id": "5fa6b7ceaa5d4db0be179fa590c94090",
       "version_major": 2,
       "version_minor": 0
      },
      "text/plain": [
       "Creating DECEASED_AT_WEDDING_OF relationships:   0%|          | 0/1 [00:00<?, ?it/s]"
      ]
     },
     "metadata": {},
     "output_type": "display_data"
    },
    {
     "data": {
      "application/vnd.jupyter.widget-view+json": {
       "model_id": "fddc55a651a743f3ac59e96bab8d3e7b",
       "version_major": 2,
       "version_minor": 0
      },
      "text/plain": [
       "Creating BURIES_SPOUSE relationships:   0%|          | 0/1 [00:00<?, ?it/s]"
      ]
     },
     "metadata": {},
     "output_type": "display_data"
    },
    {
     "data": {
      "application/vnd.jupyter.widget-view+json": {
       "model_id": "0e1d23a2c31f40a9a293cdf66826ccef",
       "version_major": 2,
       "version_minor": 0
      },
      "text/plain": [
       "Creating HIRES_MUSICIANS relationships:   0%|          | 0/1 [00:00<?, ?it/s]"
      ]
     },
     "metadata": {},
     "output_type": "display_data"
    },
    {
     "data": {
      "application/vnd.jupyter.widget-view+json": {
       "model_id": "e98f5fd3e7834732974cb7d80539b63f",
       "version_major": 2,
       "version_minor": 0
      },
      "text/plain": [
       "Creating SAYS relationships:   0%|          | 0/1 [00:00<?, ?it/s]"
      ]
     },
     "metadata": {},
     "output_type": "display_data"
    },
    {
     "data": {
      "application/vnd.jupyter.widget-view+json": {
       "model_id": "0e14188332e6410ea2e177c96520c398",
       "version_major": 2,
       "version_minor": 0
      },
      "text/plain": [
       "Creating RECEIVES_NEWS_FROM relationships:   0%|          | 0/1 [00:00<?, ?it/s]"
      ]
     },
     "metadata": {},
     "output_type": "display_data"
    },
    {
     "data": {
      "application/vnd.jupyter.widget-view+json": {
       "model_id": "3ab28ac053c145e5a07cf91ebdcdb6b7",
       "version_major": 2,
       "version_minor": 0
      },
      "text/plain": [
       "Creating BRINGS_NEWS_FROM relationships:   0%|          | 0/1 [00:00<?, ?it/s]"
      ]
     },
     "metadata": {},
     "output_type": "display_data"
    },
    {
     "data": {
      "application/vnd.jupyter.widget-view+json": {
       "model_id": "8ec4562c3a164640babae38b9f51b94f",
       "version_major": 2,
       "version_minor": 0
      },
      "text/plain": [
       "Creating DEFIES relationships:   0%|          | 0/1 [00:00<?, ?it/s]"
      ]
     },
     "metadata": {},
     "output_type": "display_data"
    },
    {
     "data": {
      "application/vnd.jupyter.widget-view+json": {
       "model_id": "f633ff43f49549be9a5436c7c0038287",
       "version_major": 2,
       "version_minor": 0
      },
      "text/plain": [
       "Creating DOES_NOT_HAVE_LETTERS_FROM relationships:   0%|          | 0/1 [00:00<?, ?it/s]"
      ]
     },
     "metadata": {},
     "output_type": "display_data"
    },
    {
     "data": {
      "application/vnd.jupyter.widget-view+json": {
       "model_id": "a8278ec15e4542f6af047595829f90d4",
       "version_major": 2,
       "version_minor": 0
      },
      "text/plain": [
       "Creating REMEMBERS relationships:   0%|          | 0/1 [00:00<?, ?it/s]"
      ]
     },
     "metadata": {},
     "output_type": "display_data"
    },
    {
     "data": {
      "application/vnd.jupyter.widget-view+json": {
       "model_id": "77aeef36a9cc486788d3661efe43eb23",
       "version_major": 2,
       "version_minor": 0
      },
      "text/plain": [
       "Creating NOTES relationships:   0%|          | 0/1 [00:00<?, ?it/s]"
      ]
     },
     "metadata": {},
     "output_type": "display_data"
    },
    {
     "data": {
      "application/vnd.jupyter.widget-view+json": {
       "model_id": "92fcaaa542bd4b3693fad700dcdd204c",
       "version_major": 2,
       "version_minor": 0
      },
      "text/plain": [
       "Creating THINKS relationships:   0%|          | 0/1 [00:00<?, ?it/s]"
      ]
     },
     "metadata": {},
     "output_type": "display_data"
    },
    {
     "data": {
      "application/vnd.jupyter.widget-view+json": {
       "model_id": "d6aa516d8fba4a7c8d4d83abb1fbfa60",
       "version_major": 2,
       "version_minor": 0
      },
      "text/plain": [
       "Creating FORERUN_NEED relationships:   0%|          | 0/1 [00:00<?, ?it/s]"
      ]
     },
     "metadata": {},
     "output_type": "display_data"
    },
    {
     "data": {
      "application/vnd.jupyter.widget-view+json": {
       "model_id": "7db54631519646d486da15b5cd94bb68",
       "version_major": 2,
       "version_minor": 0
      },
      "text/plain": [
       "Creating SELLS relationships:   0%|          | 0/1 [00:00<?, ?it/s]"
      ]
     },
     "metadata": {},
     "output_type": "display_data"
    },
    {
     "data": {
      "application/vnd.jupyter.widget-view+json": {
       "model_id": "46dbaa32b8644ec8b1c85b6f13057b8a",
       "version_major": 2,
       "version_minor": 0
      },
      "text/plain": [
       "Creating BUYS relationships:   0%|          | 0/1 [00:00<?, ?it/s]"
      ]
     },
     "metadata": {},
     "output_type": "display_data"
    },
    {
     "data": {
      "application/vnd.jupyter.widget-view+json": {
       "model_id": "7dc3729d44e443b2bb0a467c3733c7a3",
       "version_major": 2,
       "version_minor": 0
      },
      "text/plain": [
       "Creating VISITS relationships:   0%|          | 0/1 [00:00<?, ?it/s]"
      ]
     },
     "metadata": {},
     "output_type": "display_data"
    },
    {
     "data": {
      "application/vnd.jupyter.widget-view+json": {
       "model_id": "54f0afb1bc254f65ac4b9f6d04ffd4fd",
       "version_major": 2,
       "version_minor": 0
      },
      "text/plain": [
       "Creating DELIVERS relationships:   0%|          | 0/1 [00:00<?, ?it/s]"
      ]
     },
     "metadata": {},
     "output_type": "display_data"
    },
    {
     "data": {
      "application/vnd.jupyter.widget-view+json": {
       "model_id": "95ec61906d16427fab8317a5a316bc00",
       "version_major": 2,
       "version_minor": 0
      },
      "text/plain": [
       "Creating SENDS relationships:   0%|          | 0/1 [00:00<?, ?it/s]"
      ]
     },
     "metadata": {},
     "output_type": "display_data"
    },
    {
     "data": {
      "application/vnd.jupyter.widget-view+json": {
       "model_id": "b643c2ce871a470cbd38f5780f9ca992",
       "version_major": 2,
       "version_minor": 0
      },
      "text/plain": [
       "Creating WRITES relationships:   0%|          | 0/1 [00:00<?, ?it/s]"
      ]
     },
     "metadata": {},
     "output_type": "display_data"
    },
    {
     "data": {
      "application/vnd.jupyter.widget-view+json": {
       "model_id": "68a34830d48d452e8abecd49cd7120cd",
       "version_major": 2,
       "version_minor": 0
      },
      "text/plain": [
       "Creating KEEPS_PART_OF relationships:   0%|          | 0/1 [00:00<?, ?it/s]"
      ]
     },
     "metadata": {},
     "output_type": "display_data"
    },
    {
     "data": {
      "application/vnd.jupyter.widget-view+json": {
       "model_id": "f2d4935dd297470691eaefd9055ff8c6",
       "version_major": 2,
       "version_minor": 0
      },
      "text/plain": [
       "Creating WRITES_AGAIN relationships:   0%|          | 0/1 [00:00<?, ?it/s]"
      ]
     },
     "metadata": {},
     "output_type": "display_data"
    },
    {
     "data": {
      "application/vnd.jupyter.widget-view+json": {
       "model_id": "868e396ac7eb419a932a45fef9d20b41",
       "version_major": 2,
       "version_minor": 0
      },
      "text/plain": [
       "Creating BRINGS relationships:   0%|          | 0/1 [00:00<?, ?it/s]"
      ]
     },
     "metadata": {},
     "output_type": "display_data"
    },
    {
     "data": {
      "application/vnd.jupyter.widget-view+json": {
       "model_id": "abf3c79ba628425bb59fc1a4a9797e68",
       "version_major": 2,
       "version_minor": 0
      },
      "text/plain": [
       "Creating KEEPS_AT relationships:   0%|          | 0/1 [00:00<?, ?it/s]"
      ]
     },
     "metadata": {},
     "output_type": "display_data"
    },
    {
     "data": {
      "application/vnd.jupyter.widget-view+json": {
       "model_id": "9f84af1f20e046bb82e8066e3502cf17",
       "version_major": 2,
       "version_minor": 0
      },
      "text/plain": [
       "Creating EXITS relationships:   0%|          | 0/1 [00:00<?, ?it/s]"
      ]
     },
     "metadata": {},
     "output_type": "display_data"
    },
    {
     "data": {
      "application/vnd.jupyter.widget-view+json": {
       "model_id": "ee4e5f92a0374a8ea99c1c3ad87a216e",
       "version_major": 2,
       "version_minor": 0
      },
      "text/plain": [
       "Creating WRITES_AGAIN_TO relationships:   0%|          | 0/1 [00:00<?, ?it/s]"
      ]
     },
     "metadata": {},
     "output_type": "display_data"
    },
    {
     "data": {
      "application/vnd.jupyter.widget-view+json": {
       "model_id": "23261c00eb0a40fab541b8eb981b8355",
       "version_major": 2,
       "version_minor": 0
      },
      "text/plain": [
       "Creating KEEPS_HER_AT_MY_CELL relationships:   0%|          | 0/1 [00:00<?, ?it/s]"
      ]
     },
     "metadata": {},
     "output_type": "display_data"
    },
    {
     "data": {
      "application/vnd.jupyter.widget-view+json": {
       "model_id": "f6f570c449e84fd7bd0e8f0cf70ca4de",
       "version_major": 2,
       "version_minor": 0
      },
      "text/plain": [
       "Creating GIVES_TORCH_TO relationships:   0%|          | 0/1 [00:00<?, ?it/s]"
      ]
     },
     "metadata": {},
     "output_type": "display_data"
    },
    {
     "data": {
      "application/vnd.jupyter.widget-view+json": {
       "model_id": "f652b1aa28c7487187a7a93b865bd155",
       "version_major": 2,
       "version_minor": 0
      },
      "text/plain": [
       "Creating GIVES_FLOWERS_TO relationships:   0%|          | 0/1 [00:00<?, ?it/s]"
      ]
     },
     "metadata": {},
     "output_type": "display_data"
    },
    {
     "data": {
      "application/vnd.jupyter.widget-view+json": {
       "model_id": "d9988e4f84c94a2aa1dafdca9f58ce84",
       "version_major": 2,
       "version_minor": 0
      },
      "text/plain": [
       "Creating BURIES_FLOWERS_ON relationships:   0%|          | 0/1 [00:00<?, ?it/s]"
      ]
     },
     "metadata": {},
     "output_type": "display_data"
    },
    {
     "data": {
      "application/vnd.jupyter.widget-view+json": {
       "model_id": "571c1ab4f16e4cdc920dcac6c0b5c88e",
       "version_major": 2,
       "version_minor": 0
      },
      "text/plain": [
       "Creating WHISTLES relationships:   0%|          | 0/1 [00:00<?, ?it/s]"
      ]
     },
     "metadata": {},
     "output_type": "display_data"
    },
    {
     "data": {
      "application/vnd.jupyter.widget-view+json": {
       "model_id": "5459d3521cba478bbc89b89d3f329c22",
       "version_major": 2,
       "version_minor": 0
      },
      "text/plain": [
       "Creating TAKES_LETTER_FROM relationships:   0%|          | 0/1 [00:00<?, ?it/s]"
      ]
     },
     "metadata": {},
     "output_type": "display_data"
    },
    {
     "data": {
      "application/vnd.jupyter.widget-view+json": {
       "model_id": "1e00be2bbd11451d9719d4c28f8b491e",
       "version_major": 2,
       "version_minor": 0
      },
      "text/plain": [
       "Creating GIVES_LETTER_TO relationships:   0%|          | 0/1 [00:00<?, ?it/s]"
      ]
     },
     "metadata": {},
     "output_type": "display_data"
    },
    {
     "data": {
      "application/vnd.jupyter.widget-view+json": {
       "model_id": "24a04775bc524952a9bf986362944337",
       "version_major": 2,
       "version_minor": 0
      },
      "text/plain": [
       "Creating TAKES_MATTOCK_AND_WRENCHING_IRON relationships:   0%|          | 0/1 [00:00<?, ?it/s]"
      ]
     },
     "metadata": {},
     "output_type": "display_data"
    },
    {
     "data": {
      "application/vnd.jupyter.widget-view+json": {
       "model_id": "7b95786d4a0947bab0cecd4cdf33f8f6",
       "version_major": 2,
       "version_minor": 0
      },
      "text/plain": [
       "Creating CHARGES_BALTHASAR relationships:   0%|          | 0/1 [00:00<?, ?it/s]"
      ]
     },
     "metadata": {},
     "output_type": "display_data"
    },
    {
     "data": {
      "application/vnd.jupyter.widget-view+json": {
       "model_id": "501f56e9a8004c7bb32d9f7a6c223f43",
       "version_major": 2,
       "version_minor": 0
      },
      "text/plain": [
       "Creating BREAKS_OPEN_THE_DOOR_OF_THE_MONUMENT relationships:   0%|          | 0/1 [00:00<?, ?it/s]"
      ]
     },
     "metadata": {},
     "output_type": "display_data"
    },
    {
     "data": {
      "application/vnd.jupyter.widget-view+json": {
       "model_id": "9150f4ae07dc44a785eb6e6b0bc10248",
       "version_major": 2,
       "version_minor": 0
      },
      "text/plain": [
       "Creating APPREHENDS_ROMEO relationships:   0%|          | 0/1 [00:00<?, ?it/s]"
      ]
     },
     "metadata": {},
     "output_type": "display_data"
    },
    {
     "data": {
      "application/vnd.jupyter.widget-view+json": {
       "model_id": "e5f0d8c027574dbf919c6bd244840b62",
       "version_major": 2,
       "version_minor": 0
      },
      "text/plain": [
       "Creating IS_APPREHENDED_BY relationships:   0%|          | 0/1 [00:00<?, ?it/s]"
      ]
     },
     "metadata": {},
     "output_type": "display_data"
    },
    {
     "data": {
      "application/vnd.jupyter.widget-view+json": {
       "model_id": "0f4710e57c3e41d1a525bdd5f7094a2a",
       "version_major": 2,
       "version_minor": 0
      },
      "text/plain": [
       "Creating DIED_ON relationships:   0%|          | 0/1 [00:00<?, ?it/s]"
      ]
     },
     "metadata": {},
     "output_type": "display_data"
    },
    {
     "data": {
      "application/vnd.jupyter.widget-view+json": {
       "model_id": "d9321af754fb4f9a95b9ac186a173ef0",
       "version_major": 2,
       "version_minor": 0
      },
      "text/plain": [
       "Creating FOUND_IN_TOMB relationships:   0%|          | 0/1 [00:00<?, ?it/s]"
      ]
     },
     "metadata": {},
     "output_type": "display_data"
    },
    {
     "data": {
      "application/vnd.jupyter.widget-view+json": {
       "model_id": "4f9a1864e22d4ffcb1f10fa1feb006a8",
       "version_major": 2,
       "version_minor": 0
      },
      "text/plain": [
       "Creating SPEAKS_ABOUT relationships:   0%|          | 0/1 [00:00<?, ?it/s]"
      ]
     },
     "metadata": {},
     "output_type": "display_data"
    },
    {
     "data": {
      "application/vnd.jupyter.widget-view+json": {
       "model_id": "af938a6abdf54ad88ad27aa507504d22",
       "version_major": 2,
       "version_minor": 0
      },
      "text/plain": [
       "Creating MENTIONS_MARRIED_TO relationships:   0%|          | 0/1 [00:00<?, ?it/s]"
      ]
     },
     "metadata": {},
     "output_type": "display_data"
    },
    {
     "data": {
      "application/vnd.jupyter.widget-view+json": {
       "model_id": "8f82b92946e8456f9fdd97e70fe8abdc",
       "version_major": 2,
       "version_minor": 0
      },
      "text/plain": [
       "Creating ASSOCIATED_WITH relationships:   0%|          | 0/1 [00:00<?, ?it/s]"
      ]
     },
     "metadata": {},
     "output_type": "display_data"
    },
    {
     "data": {
      "application/vnd.jupyter.widget-view+json": {
       "model_id": "534371e07ab74defa8a067790e09e8d8",
       "version_major": 2,
       "version_minor": 0
      },
      "text/plain": [
       "Creating BURIES relationships:   0%|          | 0/1 [00:00<?, ?it/s]"
      ]
     },
     "metadata": {},
     "output_type": "display_data"
    },
    {
     "data": {
      "application/vnd.jupyter.widget-view+json": {
       "model_id": "8f6bf85af258449ea9a3d9038db9295b",
       "version_major": 2,
       "version_minor": 0
      },
      "text/plain": [
       "Creating WAKES_UP_IN relationships:   0%|          | 0/1 [00:00<?, ?it/s]"
      ]
     },
     "metadata": {},
     "output_type": "display_data"
    },
    {
     "data": {
      "application/vnd.jupyter.widget-view+json": {
       "model_id": "53519f2c72fc43a6b878ea8677a2cc4e",
       "version_major": 2,
       "version_minor": 0
      },
      "text/plain": [
       "Creating FINDS_DEAD relationships:   0%|          | 0/1 [00:00<?, ?it/s]"
      ]
     },
     "metadata": {},
     "output_type": "display_data"
    },
    {
     "data": {
      "application/vnd.jupyter.widget-view+json": {
       "model_id": "47daec631f60447590aae96a50b874a3",
       "version_major": 2,
       "version_minor": 0
      },
      "text/plain": [
       "Creating SEARCHES_IN relationships:   0%|          | 0/1 [00:00<?, ?it/s]"
      ]
     },
     "metadata": {},
     "output_type": "display_data"
    },
    {
     "data": {
      "application/vnd.jupyter.widget-view+json": {
       "model_id": "2ad1b4ef49704beb8693c059acf88faa",
       "version_major": 2,
       "version_minor": 0
      },
      "text/plain": [
       "Creating DIED_IN relationships:   0%|          | 0/1 [00:00<?, ?it/s]"
      ]
     },
     "metadata": {},
     "output_type": "display_data"
    },
    {
     "data": {
      "application/vnd.jupyter.widget-view+json": {
       "model_id": "f2f340d04bc54c1a97dff76d941a300c",
       "version_major": 2,
       "version_minor": 0
      },
      "text/plain": [
       "Creating KILLED_BY relationships:   0%|          | 0/1 [00:00<?, ?it/s]"
      ]
     },
     "metadata": {},
     "output_type": "display_data"
    },
    {
     "data": {
      "application/vnd.jupyter.widget-view+json": {
       "model_id": "b4d0ea9b634d4e83a80dcb1a4f14b33b",
       "version_major": 2,
       "version_minor": 0
      },
      "text/plain": [
       "Creating INVESTIGATES_INCIDENT relationships:   0%|          | 0/1 [00:00<?, ?it/s]"
      ]
     },
     "metadata": {},
     "output_type": "display_data"
    },
    {
     "data": {
      "application/vnd.jupyter.widget-view+json": {
       "model_id": "f2641b9cdb3e4f95b401d62e6ff1f437",
       "version_major": 2,
       "version_minor": 0
      },
      "text/plain": [
       "Creating SUSPECTED_OF relationships:   0%|          | 0/1 [00:00<?, ?it/s]"
      ]
     },
     "metadata": {},
     "output_type": "display_data"
    },
    {
     "data": {
      "application/vnd.jupyter.widget-view+json": {
       "model_id": "2e8e6c40984e4723be665fb48a3fb88b",
       "version_major": 2,
       "version_minor": 0
      },
      "text/plain": [
       "Creating CONFESSES_TO relationships:   0%|          | 0/1 [00:00<?, ?it/s]"
      ]
     },
     "metadata": {},
     "output_type": "display_data"
    },
    {
     "data": {
      "application/vnd.jupyter.widget-view+json": {
       "model_id": "82bdb354eec04ca7adf132e3043beb0b",
       "version_major": 2,
       "version_minor": 0
      },
      "text/plain": [
       "Creating MARRIED relationships:   0%|          | 0/1 [00:00<?, ?it/s]"
      ]
     },
     "metadata": {},
     "output_type": "display_data"
    },
    {
     "data": {
      "application/vnd.jupyter.widget-view+json": {
       "model_id": "d5e48ae73e3246f5931a64619e731cb5",
       "version_major": 2,
       "version_minor": 0
      },
      "text/plain": [
       "Creating WROTE_LETTER relationships:   0%|          | 0/1 [00:00<?, ?it/s]"
      ]
     },
     "metadata": {},
     "output_type": "display_data"
    },
    {
     "data": {
      "application/vnd.jupyter.widget-view+json": {
       "model_id": "03c594810ec14878b5365bfbda998dce",
       "version_major": 2,
       "version_minor": 0
      },
      "text/plain": [
       "Creating DELIVERED_LETTER relationships:   0%|          | 0/1 [00:00<?, ?it/s]"
      ]
     },
     "metadata": {},
     "output_type": "display_data"
    },
    {
     "data": {
      "application/vnd.jupyter.widget-view+json": {
       "model_id": "57224bb7ebec48a8afddaaf0c3b3c80d",
       "version_major": 2,
       "version_minor": 0
      },
      "text/plain": [
       "Creating PLANNED_TO_MEET relationships:   0%|          | 0/1 [00:00<?, ?it/s]"
      ]
     },
     "metadata": {},
     "output_type": "display_data"
    },
    {
     "data": {
      "application/vnd.jupyter.widget-view+json": {
       "model_id": "fadbfad5df8f493da1e42c5332fd6fe4",
       "version_major": 2,
       "version_minor": 0
      },
      "text/plain": [
       "Creating ATTEMPTED_SUICIDE relationships:   0%|          | 0/1 [00:00<?, ?it/s]"
      ]
     },
     "metadata": {},
     "output_type": "display_data"
    },
    {
     "data": {
      "application/vnd.jupyter.widget-view+json": {
       "model_id": "59efefa8a5c74ed8b66f1919db97f4ca",
       "version_major": 2,
       "version_minor": 0
      },
      "text/plain": [
       "Creating GAVE_SLEEPING_POTION_TO relationships:   0%|          | 0/1 [00:00<?, ?it/s]"
      ]
     },
     "metadata": {},
     "output_type": "display_data"
    },
    {
     "data": {
      "application/vnd.jupyter.widget-view+json": {
       "model_id": "3ab2c9ee1b6241f79b51354be6fc553c",
       "version_major": 2,
       "version_minor": 0
      },
      "text/plain": [
       "Creating WROTE_LETTER_TO relationships:   0%|          | 0/1 [00:00<?, ?it/s]"
      ]
     },
     "metadata": {},
     "output_type": "display_data"
    },
    {
     "data": {
      "application/vnd.jupyter.widget-view+json": {
       "model_id": "73281bbd27404de49398f58c5788ea7e",
       "version_major": 2,
       "version_minor": 0
      },
      "text/plain": [
       "Creating RECEIVED_LETTER_FROM relationships:   0%|          | 0/1 [00:00<?, ?it/s]"
      ]
     },
     "metadata": {},
     "output_type": "display_data"
    },
    {
     "data": {
      "application/vnd.jupyter.widget-view+json": {
       "model_id": "08bdcb1637e34743b0b10b7d2f0ce972",
       "version_major": 2,
       "version_minor": 0
      },
      "text/plain": [
       "Creating PLANNED_TO_TAKE_JULIET_FROM_VAULT relationships:   0%|          | 0/1 [00:00<?, ?it/s]"
      ]
     },
     "metadata": {},
     "output_type": "display_data"
    },
    {
     "data": {
      "application/vnd.jupyter.widget-view+json": {
       "model_id": "bebcea3059d54d99b572693cb6695acd",
       "version_major": 2,
       "version_minor": 0
      },
      "text/plain": [
       "Creating FOUND_PARIS_AND_ROMEO_DEAD relationships:   0%|          | 0/1 [00:00<?, ?it/s]"
      ]
     },
     "metadata": {},
     "output_type": "display_data"
    },
    {
     "data": {
      "application/vnd.jupyter.widget-view+json": {
       "model_id": "3aafd4fec5ab496195700c9cf09f440a",
       "version_major": 2,
       "version_minor": 0
      },
      "text/plain": [
       "Creating ATTEMPTED_SUICIDE_AFTER_DEATH_OF_ROMEO relationships:   0%|          | 0/1 [00:00<?, ?it/s]"
      ]
     },
     "metadata": {},
     "output_type": "display_data"
    },
    {
     "data": {
      "application/vnd.jupyter.widget-view+json": {
       "model_id": "b12995c3747945aca8ebad5223188ea8",
       "version_major": 2,
       "version_minor": 0
      },
      "text/plain": [
       "Creating DELIVERED_MESSAGE relationships:   0%|          | 0/1 [00:00<?, ?it/s]"
      ]
     },
     "metadata": {},
     "output_type": "display_data"
    },
    {
     "data": {
      "application/vnd.jupyter.widget-view+json": {
       "model_id": "95fb99c09ec443718b6d8b79d269cef9",
       "version_major": 2,
       "version_minor": 0
      },
      "text/plain": [
       "Creating STOOD_ALOOF_WHILE_ROMEO_VISITED_GRAVE relationships:   0%|          | 0/1 [00:00<?, ?it/s]"
      ]
     },
     "metadata": {},
     "output_type": "display_data"
    },
    {
     "data": {
      "application/vnd.jupyter.widget-view+json": {
       "model_id": "89904fbd4472437c919b379397b6a4d3",
       "version_major": 2,
       "version_minor": 0
      },
      "text/plain": [
       "Creating RAN_AWAY_TO_CALL_WATCH relationships:   0%|          | 0/1 [00:00<?, ?it/s]"
      ]
     },
     "metadata": {},
     "output_type": "display_data"
    },
    {
     "data": {
      "application/vnd.jupyter.widget-view+json": {
       "model_id": "ed37d4da962944bfa9eac9bc3284c962",
       "version_major": 2,
       "version_minor": 0
      },
      "text/plain": [
       "Creating RECEIVED_LETTER relationships:   0%|          | 0/1 [00:00<?, ?it/s]"
      ]
     },
     "metadata": {},
     "output_type": "display_data"
    },
    {
     "data": {
      "application/vnd.jupyter.widget-view+json": {
       "model_id": "294ac7c50bd1451e8f75dc18eb2b9355",
       "version_major": 2,
       "version_minor": 0
      },
      "text/plain": [
       "Creating LEARNED_ABOUT_ROMEO_AND_JULIETS_LOVE relationships:   0%|          | 0/1 [00:00<?, ?it/s]"
      ]
     },
     "metadata": {},
     "output_type": "display_data"
    },
    {
     "data": {
      "application/vnd.jupyter.widget-view+json": {
       "model_id": "ff8d16b06e2a46e1b3705c54054a4bcc",
       "version_major": 2,
       "version_minor": 0
      },
      "text/plain": [
       "Creating LEARNED_ABOUT_JULIETS_DEATH relationships:   0%|          | 0/1 [00:00<?, ?it/s]"
      ]
     },
     "metadata": {},
     "output_type": "display_data"
    },
    {
     "data": {
      "application/vnd.jupyter.widget-view+json": {
       "model_id": "00d372c4de7a4ff4a609c243ad2ae365",
       "version_major": 2,
       "version_minor": 0
      },
      "text/plain": [
       "Creating LEARNED_ABOUT_ROMEOS_PLAN_TO_DIE_WITH_JULIET relationships:   0%|          | 0/1 [00:00<?, ?it/s]"
      ]
     },
     "metadata": {},
     "output_type": "display_data"
    },
    {
     "data": {
      "application/vnd.jupyter.widget-view+json": {
       "model_id": "3d22936186d440748f0770ed27436e38",
       "version_major": 2,
       "version_minor": 0
      },
      "text/plain": [
       "Creating LOST_DAUGHTER relationships:   0%|          | 0/1 [00:00<?, ?it/s]"
      ]
     },
     "metadata": {},
     "output_type": "display_data"
    },
    {
     "data": {
      "application/vnd.jupyter.widget-view+json": {
       "model_id": "2d50e5928cef470d8f9a5af9c6a73133",
       "version_major": 2,
       "version_minor": 0
      },
      "text/plain": [
       "Creating LOST_SON relationships:   0%|          | 0/1 [00:00<?, ?it/s]"
      ]
     },
     "metadata": {},
     "output_type": "display_data"
    },
    {
     "data": {
      "application/vnd.jupyter.widget-view+json": {
       "model_id": "833bfd19163b4fd6aa0dfd093b3f9fe2",
       "version_major": 2,
       "version_minor": 0
      },
      "text/plain": [
       "Creating LOST_KIN relationships:   0%|          | 0/1 [00:00<?, ?it/s]"
      ]
     },
     "metadata": {},
     "output_type": "display_data"
    },
    {
     "data": {
      "application/vnd.jupyter.widget-view+json": {
       "model_id": "a35299f469744dc6a84eff140e39a398",
       "version_major": 2,
       "version_minor": 0
      },
      "text/plain": [
       "Creating PUNISHED_CAPULET_AND_MONTAGUE relationships:   0%|          | 0/1 [00:00<?, ?it/s]"
      ]
     },
     "metadata": {},
     "output_type": "display_data"
    },
    {
     "data": {
      "application/vnd.jupyter.widget-view+json": {
       "model_id": "808b59f182e140ccb0940014539413ed",
       "version_major": 2,
       "version_minor": 0
      },
      "text/plain": [
       "Creating RAISES_STATUE_OF relationships:   0%|          | 0/1 [00:00<?, ?it/s]"
      ]
     },
     "metadata": {},
     "output_type": "display_data"
    },
    {
     "data": {
      "application/vnd.jupyter.widget-view+json": {
       "model_id": "b91a58a134c04a4689b9e53af6503f2b",
       "version_major": 2,
       "version_minor": 0
      },
      "text/plain": [
       "Creating ANNOUNCES_PUNISHMENT_FOR relationships:   0%|          | 0/1 [00:00<?, ?it/s]"
      ]
     },
     "metadata": {},
     "output_type": "display_data"
    },
    {
     "data": {
      "application/vnd.jupyter.widget-view+json": {
       "model_id": "45affd8e4f6743a7a540de78c5d1770d",
       "version_major": 2,
       "version_minor": 0
      },
      "text/plain": [
       "Creating ANNOUNCES_PARDON_FOR relationships:   0%|          | 0/1 [00:00<?, ?it/s]"
      ]
     },
     "metadata": {},
     "output_type": "display_data"
    },
    {
     "data": {
      "application/vnd.jupyter.widget-view+json": {
       "model_id": "920834d582bc4a64b953b85f0f805f60",
       "version_major": 2,
       "version_minor": 0
      },
      "text/plain": [
       "Creating PREDICTS_STORY_OF_WOE relationships:   0%|          | 0/1 [00:00<?, ?it/s]"
      ]
     },
     "metadata": {},
     "output_type": "display_data"
    },
    {
     "data": {
      "application/vnd.jupyter.widget-view+json": {
       "model_id": "c17d42db55784d399868e76eae8bf470",
       "version_major": 2,
       "version_minor": 0
      },
      "text/plain": [
       "Creating USED_BY relationships:   0%|          | 0/1 [00:00<?, ?it/s]"
      ]
     },
     "metadata": {},
     "output_type": "display_data"
    },
    {
     "data": {
      "application/vnd.jupyter.widget-view+json": {
       "model_id": "c742cafaabb9473d82b7d004cf4c581c",
       "version_major": 2,
       "version_minor": 0
      },
      "text/plain": [
       "Creating PROVIDES_ACCESS_TO relationships:   0%|          | 0/1 [00:00<?, ?it/s]"
      ]
     },
     "metadata": {},
     "output_type": "display_data"
    },
    {
     "data": {
      "application/vnd.jupyter.widget-view+json": {
       "model_id": "f6a7edcd85f04949814bbc13db86c535",
       "version_major": 2,
       "version_minor": 0
      },
      "text/plain": [
       "Creating GOVERNED_BY relationships:   0%|          | 0/1 [00:00<?, ?it/s]"
      ]
     },
     "metadata": {},
     "output_type": "display_data"
    },
    {
     "data": {
      "application/vnd.jupyter.widget-view+json": {
       "model_id": "7e6e4b59edfe4a05b6aa5764a1185331",
       "version_major": 2,
       "version_minor": 0
      },
      "text/plain": [
       "Creating DISTRIBUTES relationships:   0%|          | 0/1 [00:00<?, ?it/s]"
      ]
     },
     "metadata": {},
     "output_type": "display_data"
    },
    {
     "data": {
      "application/vnd.jupyter.widget-view+json": {
       "model_id": "935bc5a0bfcd45d1b9aac10b732a720c",
       "version_major": 2,
       "version_minor": 0
      },
      "text/plain": [
       "Creating PROVIDES_LICENSE_FOR relationships:   0%|          | 0/1 [00:00<?, ?it/s]"
      ]
     },
     "metadata": {},
     "output_type": "display_data"
    },
    {
     "data": {
      "application/vnd.jupyter.widget-view+json": {
       "model_id": "cfc617695bc84370a339d32dee26b311",
       "version_major": 2,
       "version_minor": 0
      },
      "text/plain": [
       "Creating MAINTAINS_WEBSITE relationships:   0%|          | 0/1 [00:00<?, ?it/s]"
      ]
     },
     "metadata": {},
     "output_type": "display_data"
    },
    {
     "data": {
      "application/vnd.jupyter.widget-view+json": {
       "model_id": "8d8ac17ad64a48389c90274591080310",
       "version_major": 2,
       "version_minor": 0
      },
      "text/plain": [
       "Creating MANAGES relationships:   0%|          | 0/1 [00:00<?, ?it/s]"
      ]
     },
     "metadata": {},
     "output_type": "display_data"
    },
    {
     "data": {
      "application/vnd.jupyter.widget-view+json": {
       "model_id": "f15795bd49ba48038a66e5ea972af8cc",
       "version_major": 2,
       "version_minor": 0
      },
      "text/plain": [
       "Creating GOVERNS relationships:   0%|          | 0/1 [00:00<?, ?it/s]"
      ]
     },
     "metadata": {},
     "output_type": "display_data"
    },
    {
     "data": {
      "application/vnd.jupyter.widget-view+json": {
       "model_id": "4fbbf095a8524b9f91af3d8d4af32d53",
       "version_major": 2,
       "version_minor": 0
      },
      "text/plain": [
       "Creating MANAGED_BY relationships:   0%|          | 0/1 [00:00<?, ?it/s]"
      ]
     },
     "metadata": {},
     "output_type": "display_data"
    },
    {
     "data": {
      "application/vnd.jupyter.widget-view+json": {
       "model_id": "8123655835b74c44bc921ff4feef343c",
       "version_major": 2,
       "version_minor": 0
      },
      "text/plain": [
       "Creating AFFECTS relationships:   0%|          | 0/1 [00:00<?, ?it/s]"
      ]
     },
     "metadata": {},
     "output_type": "display_data"
    },
    {
     "data": {
      "application/vnd.jupyter.widget-view+json": {
       "model_id": "acc9d8cc254d44d1981521d924ad0b10",
       "version_major": 2,
       "version_minor": 0
      },
      "text/plain": [
       "Creating USED_FOR relationships:   0%|          | 0/1 [00:00<?, ?it/s]"
      ]
     },
     "metadata": {},
     "output_type": "display_data"
    },
    {
     "data": {
      "application/vnd.jupyter.widget-view+json": {
       "model_id": "4793e0af1e7342c5bd0adebca91d8cba",
       "version_major": 2,
       "version_minor": 0
      },
      "text/plain": [
       "Creating AGREED_BY relationships:   0%|          | 0/1 [00:00<?, ?it/s]"
      ]
     },
     "metadata": {},
     "output_type": "display_data"
    },
    {
     "data": {
      "application/vnd.jupyter.widget-view+json": {
       "model_id": "bda18f7ec88c4e64b7b1df9662b8ddd6",
       "version_major": 2,
       "version_minor": 0
      },
      "text/plain": [
       "Creating PROVIDES_COPIES_OF relationships:   0%|          | 0/1 [00:00<?, ?it/s]"
      ]
     },
     "metadata": {},
     "output_type": "display_data"
    },
    {
     "data": {
      "application/vnd.jupyter.widget-view+json": {
       "model_id": "0357b6f60efb46f3bf0480d8f1343582",
       "version_major": 2,
       "version_minor": 0
      },
      "text/plain": [
       "Creating ASSOCIATES_WITH relationships:   0%|          | 0/1 [00:00<?, ?it/s]"
      ]
     },
     "metadata": {},
     "output_type": "display_data"
    },
    {
     "data": {
      "application/vnd.jupyter.widget-view+json": {
       "model_id": "8aef4104ca2b43e58baeff141c796a1f",
       "version_major": 2,
       "version_minor": 0
      },
      "text/plain": [
       "Creating SYNONYMOUS_WITH relationships:   0%|          | 0/1 [00:00<?, ?it/s]"
      ]
     },
     "metadata": {},
     "output_type": "display_data"
    },
    {
     "data": {
      "application/vnd.jupyter.widget-view+json": {
       "model_id": "60658a9bbcb34069a3344e292a641f16",
       "version_major": 2,
       "version_minor": 0
      },
      "text/plain": [
       "Creating FOUNDED_BY relationships:   0%|          | 0/1 [00:00<?, ?it/s]"
      ]
     },
     "metadata": {},
     "output_type": "display_data"
    },
    {
     "data": {
      "application/vnd.jupyter.widget-view+json": {
       "model_id": "ae4c8a1a90554616ad137caebc786254",
       "version_major": 2,
       "version_minor": 0
      },
      "text/plain": [
       "Creating ORGANIZED_UNDER relationships:   0%|          | 0/1 [00:00<?, ?it/s]"
      ]
     },
     "metadata": {},
     "output_type": "display_data"
    },
    {
     "data": {
      "application/vnd.jupyter.widget-view+json": {
       "model_id": "a528b688d22f48c4bf70043f472c8bbf",
       "version_major": 2,
       "version_minor": 0
      },
      "text/plain": [
       "Creating GRANTED_TAX_EXEMPT_STATUS_BY relationships:   0%|          | 0/1 [00:00<?, ?it/s]"
      ]
     },
     "metadata": {},
     "output_type": "display_data"
    },
    {
     "data": {
      "application/vnd.jupyter.widget-view+json": {
       "model_id": "ab49d3325b63456797366cdef763b13e",
       "version_major": 2,
       "version_minor": 0
      },
      "text/plain": [
       "Creating EIN_OR_FEDERAL_TAX_IDENTIFICATION_NUMBER relationships:   0%|          | 0/1 [00:00<?, ?it/s]"
      ]
     },
     "metadata": {},
     "output_type": "display_data"
    },
    {
     "data": {
      "application/vnd.jupyter.widget-view+json": {
       "model_id": "b6ec7f0332304a9cb185a1dc6fd7f068",
       "version_major": 2,
       "version_minor": 0
      },
      "text/plain": [
       "Creating BUSINESS_OFFICE_LOCATED_AT relationships:   0%|          | 0/1 [00:00<?, ?it/s]"
      ]
     },
     "metadata": {},
     "output_type": "display_data"
    },
    {
     "data": {
      "application/vnd.jupyter.widget-view+json": {
       "model_id": "1644d47d1c5944af9189ef343612ac33",
       "version_major": 2,
       "version_minor": 0
      },
      "text/plain": [
       "Creating WEBSITE relationships:   0%|          | 0/1 [00:00<?, ?it/s]"
      ]
     },
     "metadata": {},
     "output_type": "display_data"
    },
    {
     "data": {
      "application/vnd.jupyter.widget-view+json": {
       "model_id": "1691ea28c2ca45d3936e31a643c85b9c",
       "version_major": 2,
       "version_minor": 0
      },
      "text/plain": [
       "Creating DONATIONS_TAX_DEDUCTIBLE relationships:   0%|          | 0/1 [00:00<?, ?it/s]"
      ]
     },
     "metadata": {},
     "output_type": "display_data"
    },
    {
     "data": {
      "application/vnd.jupyter.widget-view+json": {
       "model_id": "900007415b904ca7b2bc32c2fe507871",
       "version_major": 2,
       "version_minor": 0
      },
      "text/plain": [
       "Creating COMPLIES_WITH_LAWS_REGULATING_CHARITIES_AND_CHARITABLE_DONATIONS relationships:   0%|          | 0/1 …"
      ]
     },
     "metadata": {},
     "output_type": "display_data"
    },
    {
     "data": {
      "application/vnd.jupyter.widget-view+json": {
       "model_id": "e38b38ef6f2042beb40b1e146c535f56",
       "version_major": 2,
       "version_minor": 0
      },
      "text/plain": [
       "Creating DONATION_METHODS_AND_ADDRESSES_AVAILABLE_AT relationships:   0%|          | 0/1 [00:00<?, ?it/s]"
      ]
     },
     "metadata": {},
     "output_type": "display_data"
    },
    {
     "name": "stdout",
     "output_type": "stream",
     "text": [
      "Graph creation completed!\n",
      "Knowledge graph created successfully!\n"
     ]
    }
   ],
   "source": [
    "# Clear the existing database\n",
    "knowledge_graph.clear_database()\n",
    "\n",
    "# Create a knowledge graph from the documents\n",
    "knowledge_graph.create_graph_from_documents(documents)\n",
    "\n",
    "print(\"Knowledge graph created successfully!\")"
   ]
  },
  {
   "cell_type": "code",
   "execution_count": 5,
   "metadata": {
    "cellUniqueIdByVincent": "08a2b"
   },
   "outputs": [
    {
     "data": {
      "application/vnd.jupyter.widget-view+json": {
       "model_id": "91f7446f10db417e93061d8b6a1328b9",
       "version_major": 2,
       "version_minor": 0
      },
      "text/plain": [
       "GraphWidget(layout=Layout(height='770px', width='100%'))"
      ]
     },
     "metadata": {},
     "output_type": "display_data"
    }
   ],
   "source": [
    "knowledge_graph.visualize_graph()"
   ]
  },
  {
   "cell_type": "markdown",
   "metadata": {
    "cellUniqueIdByVincent": "97fdf"
   },
   "source": [
    "# Test entity Extraction"
   ]
  },
  {
   "cell_type": "code",
   "execution_count": 6,
   "metadata": {
    "cellUniqueIdByVincent": "65bbb"
   },
   "outputs": [
    {
     "name": "stdout",
     "output_type": "stream",
     "text": [
      "Extracting entities for question: Who is Chris Olande?\n",
      "Extracted 1 entities: ['Chris Olande']\n",
      "['Chris Olande']\n"
     ]
    }
   ],
   "source": [
    "question = \"Who is Chris Olande?\"\n",
    "entity = entity_extractor.extract_entities(question)\n",
    "print(entity)"
   ]
  },
  {
   "cell_type": "markdown",
   "metadata": {
    "cellUniqueIdByVincent": "7da29"
   },
   "source": [
    "# Test structured entity extraction"
   ]
  },
  {
   "cell_type": "code",
   "execution_count": 7,
   "metadata": {
    "cellUniqueIdByVincent": "b8f86"
   },
   "outputs": [
    {
     "name": "stdout",
     "output_type": "stream",
     "text": [
      "Processing structured retrieval for question: Who is Chris Olande?\n",
      "Extracting entities for question: Who is Chris Olande?\n",
      "Extracted 1 entities: ['Chris Olande']\n",
      "Retrieved 50 relationships for entity 'Chris Olande'\n",
      "Found 50 relationships for entity 'Chris Olande'\n",
      "  - Chris Olande - USES -> Pinecone\n",
      "  - Chris Olande - USES -> OpenCV\n",
      "  - Chris Olande - USES -> vision transformers\n",
      "  - Chris Olande - USES -> Flask\n",
      "  - Chris Olande - USES -> Docker\n",
      "  ... and 45 more\n",
      "Question: Who is Chris Olande?\n",
      "\n",
      "Structured retrieval results:\n",
      "Chris Olande - USES -> Pinecone\n",
      "Chris Olande - USES -> OpenCV\n",
      "Chris Olande - USES -> vision transformers\n",
      "Chris Olande - USES -> Flask\n",
      "Chris Olande - USES -> Docker\n",
      "Chris Olande - USES -> Fastai\n",
      "Chris Olande - USES -> FAISS\n",
      "Chris Olande - USES -> Streamlit\n",
      "Chris Olande - USES -> Gradio\n",
      "Chris Olande - USES -> Python\n",
      "Chris Olande - USES -> torchvision transforms\n",
      "Chris Olande - DESIGNS -> intelligent job search assistant\n",
      "Chris Olande - PROMOTES -> STEM exposure\n",
      "Chris Olande - DEVELOPS -> ConversationalRAG\n",
      "Chris Olande - IMPLEMENTS -> YOLOv8\n",
      "Chris Olande - WORKS_FOR -> RAG Systems\n",
      "Chris Olande - WORKS_FOR -> Research Labs & AI Startups (future)\n",
      "Chris Olande - LEADS -> educational visit to Impala Glass Industries\n",
      "Chris Olande - STUDIES -> Data Science\n",
      "Chris Olande - FINE_TUNES -> BERT\n",
      "Chris Olande - INTEGRATES -> LangChain\n",
      "Chris Olande - INTEGRATES -> OpenAI APIs\n",
      "Chris Olande - INTEGRATES -> Hugging Face pipelines\n",
      "Chris Olande - ADHERES_TO -> PEP-8\n",
      "Chris Olande - ADHERES_TO -> best_practices_in_version_control\n",
      "Chris Olande - CUSTOMIZES -> DataLoaders\n",
      "Chris Olande - APPLIES -> PCA\n",
      "Chris Olande - RUNS -> neural style transfer\n",
      "Chris Olande - VIEWS_ARTIFICIAL_INTELLIGENCE_AS -> moral_obligation\n",
      "Chris Olande - AIMS_TO_CONTRIBUTE_TO -> Haystack\n",
      "Chris Olande - AIMS_TO_CONTRIBUTE_TO -> LangChain\n",
      "Chris Olande - AIMS_TO_CONTRIBUTE_TO -> Hugging Face\n",
      "Chris Olande - ATTENDS_AT -> Kenyatta University\n",
      "Chris Olande - TRAINS -> convolutional networks\n",
      "Chris Olande - MENTORS -> peers\n",
      "Chris Olande - TUTORS -> peers in statistics and machine learning\n",
      "Chris Olande - BORN_IN -> Africa\n",
      "Chris Olande - HAS_VISION_OF_BECOMING -> one_of_Africa’s_leading_data_scientists\n",
      "Chris Olande - HAS_VISION_OF_CONTRIBUTING_TO -> responsible_AI_systems\n",
      "Chris Olande - HAS_VISION_OF_CONTRIBUTING_TO -> public_good\n",
      "Chris Olande - EMBODIES -> empathy\n",
      "Chris Olande - EMBODIES -> humility\n",
      "Chris Olande - EMBODIES -> principled\n",
      "Chris Olande - EMBODIES -> collaborative\n",
      "Chris Olande - HAS_CODING_STYLE_OF -> well-documented\n",
      "Chris Olande - HAS_CODING_STYLE_OF -> modular\n",
      "Chris Olande - HAS_CODING_STYLE_OF -> clean\n",
      "Nairobi - BASED_IN -> Chris Olande\n",
      "AI in Education - RESEARCHED_BY -> Chris Olande\n",
      "Intelligent Agents - RESEARCHED_BY -> Chris Olande\n"
     ]
    }
   ],
   "source": [
    "structured_results = entity_extractor.structured_retriever(question)\n",
    "\n",
    "print(f\"Question: {question}\")\n",
    "print(\"\\nStructured retrieval results:\")\n",
    "print(structured_results)"
   ]
  },
  {
   "cell_type": "markdown",
   "metadata": {
    "cellUniqueIdByVincent": "3c6ba"
   },
   "source": [
    "# Create the hybrid vector index"
   ]
  },
  {
   "cell_type": "code",
   "execution_count": 8,
   "metadata": {
    "cellUniqueIdByVincent": "a7cd6"
   },
   "outputs": [
    {
     "name": "stdout",
     "output_type": "stream",
     "text": [
      "Hybrid vector index created successfully!\n"
     ]
    }
   ],
   "source": [
    "vector_store.create_hybrid_index()\n",
    "\n",
    "print(\"Hybrid vector index created successfully!\")"
   ]
  },
  {
   "cell_type": "markdown",
   "metadata": {
    "cellUniqueIdByVincent": "7ab8f"
   },
   "source": [
    "# Create vector index"
   ]
  },
  {
   "cell_type": "code",
   "execution_count": 9,
   "metadata": {
    "cellUniqueIdByVincent": "a9a16"
   },
   "outputs": [
    {
     "name": "stdout",
     "output_type": "stream",
     "text": [
      "Vector index created successfully!\n"
     ]
    }
   ],
   "source": [
    "# create vector index from documents\n",
    "vector_store.create_vector_index(documents)\n",
    "\n",
    "print(\"Vector index created successfully!\")"
   ]
  },
  {
   "cell_type": "markdown",
   "metadata": {
    "cellUniqueIdByVincent": "53d75"
   },
   "source": [
    "## Test vector Retrieval"
   ]
  },
  {
   "cell_type": "code",
   "execution_count": 10,
   "metadata": {
    "cellUniqueIdByVincent": "173f8"
   },
   "outputs": [
    {
     "name": "stdout",
     "output_type": "stream",
     "text": [
      "Question: Who is Chris Olande?\n",
      "\n",
      "Vector retrieval results:\n",
      "\n",
      "Document 1:\n",
      "**Chris Olande: A Deep Professional Profile for RAG Systems**\n",
      "\n",
      "**Overview**\n",
      "\n",
      "Chris Olande is an ambitious and intellectually gifted data science student at Kenyatta University in Nairobi, Kenya. With a rigorous academic foundation in statistics and programming, Chris is cultivating a multidisciplina...\n",
      "\n",
      "Document 2:\n",
      " tutoring peers in statistics and machine learning, explaining complex concepts like backpropagation, gradient descent, and dimensionality reduction using intuitive analogies and real-life examples.\n",
      "\n",
      "**Personality, Work Ethic, and Personal Interests**\n",
      "\n",
      "Chris is disciplined, curious, and mathematical...\n",
      "\n",
      "Document 3:\n",
      ".\n",
      "Have we anything new to offer upon the subject?  Nothing.  We have held the\n",
      "subject up in every light of which it is capable; but it has been all in vain.\n",
      "Shall we resort to entreaty and humble supplication?  What terms shall we\n",
      "find which have not been already exhausted?  Let us not, I beseech yo...\n",
      "\n",
      "Document 4:\n",
      "\n",
      "\n",
      "The Mayflower Compact\n",
      "\n",
      "November 11, 1620  [This was November 21, old style calendar]\n",
      "\n",
      "In the name of God, Amen.  We, whose names are underwritten,\n",
      "the Loyal Subjects of our dread Sovereigne Lord, King James,\n",
      "by the Grace of God, of Great Britaine, France, and Ireland,\n",
      "King, Defender of the Faith, ...\n"
     ]
    }
   ],
   "source": [
    "# Test vector retrieval\n",
    "vector_results = retriever.vector_retrieval(question, k=2)\n",
    "\n",
    "print(f\"Question: {question}\")\n",
    "print(\"\\nVector retrieval results:\")\n",
    "for i, doc in enumerate(vector_results):\n",
    "    print(f\"\\nDocument {i+1}:\")\n",
    "    print(doc.page_content[:300] + \"...\")"
   ]
  },
  {
   "cell_type": "markdown",
   "metadata": {
    "cellUniqueIdByVincent": "0aeb5"
   },
   "source": [
    "# Test hybrid retrieval\n"
   ]
  },
  {
   "cell_type": "code",
   "execution_count": 11,
   "metadata": {
    "cellUniqueIdByVincent": "4a76d"
   },
   "outputs": [
    {
     "name": "stdout",
     "output_type": "stream",
     "text": [
      "Question: Who is Chris Olande?\n",
      "\n",
      "Hybrid retrieval results:\n",
      "Structured data:\n",
      "            No relevant information found in the knowledge graph.\n",
      "\n",
      "            Unstructured data:\n",
      "            **Chris Olande: A Deep Professional Profile for RAG Systems**\n",
      "\n",
      "**Overview**\n",
      "\n",
      "Chris Olande is an ambitious and intellectually gifted data science student at Kenyatta University in Nairobi, Kenya. With a rigorous academic foundation in statistics and programming, Chris is cultivating a multidisciplinary approach that intersects applied mathematics, artificial intelligence, and human-centered design. He brings together analytical precision, computational depth, and social responsibility in his work. Chris is not only building machine learning systems—he is actively shaping the future of AI literacy and ethical, context-aware data applications in Kenya and beyond.\n",
      "\n",
      "**Academic Background and Technical Expertise**\n",
      "\n",
      "Chris’s academic journey is rooted in mathematical reasoning and statistical theory, reinforced by practical mastery in Python programming. His skillset spans across a comprehensive set of technologies essential to modern data science, including:\n",
      "\n",
      "* **Statistical Foundations**: Hypothesis testing, linear and multiple regression, time series analysis, exploratory factor analysis (EFA), and experimental design.\n",
      "* **Programming and Tooling**: Python, R (for statistical computing), Git/GitHub, and shell scripting for automated workflows.\n",
      "* **Data Science Libraries**: NumPy, pandas, matplotlib, seaborn, scikit-learn, SciPy.\n",
      "* **Deep Learning and NLP**: PyTorch, Hugging Face Transformers, Fastai, OpenCV, LangChain, SentenceTransformers.\n",
      "* **ML Experiment Tracking**: Weights & Biases, TensorBoard.\n",
      "* **Deployment Tools**: Streamlit, Gradio, and Flask for prototyping models; Docker for containerized environments.\n",
      "\n",
      "Chris routinely constructs full pipelines—from ingestion and preprocessing to modeling, evaluation, and deployment—both for academic research and real-world impact.\n",
      "\n",
      "**Advanced NLP and Retrieval-Augmented Generation Work**\n",
      "\n",
      "Chris’s passion for language modeling has evolved into serious research around **Retrieval-Augmented Generation (RAG)** and its applications in building intelligent agents. Notably:\n",
      "\n",
      "* He has fine-tuned transformer models such as BERT and DistilBERT for sentiment classification tasks, integrating techniques such as early stopping, learning rate schedulers, and hyperparameter optimization.\n",
      "* He developed a **modular ConversationalRAG class** integrating OpenAI APIs, LangChain, and Hugging Face pipelines with vector search (e.g., FAISS or Pinecone), enabling semantic Q\\&A from custom document stores.\n",
      "* He is actively experimenting with **agentic RAG systems** capable of long-term memory, tool invocation, and self-reflection via LangChain Expression Language (LCEL). His agents feature layered control loops for planning, reasoning, and document-aware response generation.\n",
      "* As of May 2025, Chris is designing an intelligent job search assistant powered by OpenRouter’s LLaMA 3.2B and Gemini embeddings. It connects Pinecone for semantic search, parses job listings, and enables modular response formatting, highlighting his system design skills.\n",
      "\n",
      "**Computer Vision and Multimodal Learning**\n",
      "\n",
      "Chris has substantial experience in image classification, object detection, and style transfer. His work includes:\n",
      "\n",
      "* Training convolutional networks on disease detection datasets involving tomato leaves.\n",
      "* Implementing YOLOv8 and vision transformers for object detection tasks.\n",
      "* Using Fastai with ViT backbones, customizing DataLoaders, and applying PCA for dimensionality reduction and visualization.\n",
      "* Running neural style transfer with customized weight tuning and visual outputs using Gradio Blocks.\n",
      "* Performing practical image augmentation and preprocessing using OpenCV and torchvision transforms.\n",
      "\n",
      "**Educational Leadership and STEM Advocacy**\n",
      "\n",
      "A lifelong learner and passionate educator, Chris led a pioneering educational visit for Grade 7 students to Impala Glass Industries in Nairobi. His initiative promoted STEM exposure and hands-on industry engagement among young learners. As a mentor and community leader, he values demystifying technology for marginalized groups, ensuring equitable access to digital education in Kenya.\n",
      "\n",
      "He is also a firm believer in **constructive peer learning**. At Kenyatta University, Chris is known for tutoring peers in statistics and machine learning, explaining complex concepts like backpropagation, gradient descent, and dimensionality reduction using intuitive analogies and real-life examples.\n",
      "\n",
      "**Personality, Work Ethic, and Personal Interests**\n",
      "\n",
      "Chris is disciplined, curious, and mathematically inclined. He can spend hours discussing abstract mathematical theory—from convergence of sequences to information entropy. Despite his technical prowess, he remains grounded and people-centered, embodying humility and empathy in all collaborations.\n",
      "\n",
      "* **Personality traits**: Methodical, introspective, self-motivated, collaborative, and principled.\n",
      "#Document  tutoring peers in statistics and machine learning, explaining complex concepts like backpropagation, gradient descent, and dimensionality reduction using intuitive analogies and real-life examples.\n",
      "\n",
      "**Personality, Work Ethic, and Personal Interests**\n",
      "\n",
      "Chris is disciplined, curious, and mathematically inclined. He can spend hours discussing abstract mathematical theory—from convergence of sequences to information entropy. Despite his technical prowess, he remains grounded and people-centered, embodying humility and empathy in all collaborations.\n",
      "\n",
      "* **Personality traits**: Methodical, introspective, self-motivated, collaborative, and principled.\n",
      "* **Coding style**: Clean, modular, well-documented with adherence to PEP-8 and best practices in version control.\n",
      "* **Personal vision**: To become one of Africa’s leading data scientists and contribute to responsible AI systems that serve the public good.\n",
      "\n",
      "Chris views artificial intelligence not just as a technical endeavor, but as a **moral obligation**—a way to design systems that preserve human dignity, enhance transparency, and foster equitable outcomes.\n",
      "\n",
      "**Career Aspirations and Future Directions**\n",
      "\n",
      "Chris is preparing for a future that merges AI systems research with applied data science in dynamic sectors such as:\n",
      "\n",
      "* **Intelligent Agents**: Autonomous systems with real-time planning, reasoning, and interactivity.\n",
      "* **AI in Education**: Systems that personalize learning, assess student understanding, and provide adaptive feedback.\n",
      "* **Research Labs & AI Startups**: Contributing to language model interpretability, ethical AI, or real-time AI tooling.\n",
      "* **Open Source Contributions**: Chris aims to contribute to LangChain, Haystack, or Hugging Face projects.\n",
      "\n",
      "In the near term, he seeks internships, research assistantships, and open-source opportunities aligned with his vision.\n",
      "\n",
      "**Final Note**\n",
      "\n",
      "Chris Olande is not merely a student of data science—he is a builder of knowledge systems, an educational innovator, and a principled technologist. With his intellectual rigor, empathetic leadership, and forward-thinking spirit, Chris represents the future of responsible AI in Africa.\n",
      "\n",
      "He is ready not just to participate in the next wave of technological progress—but to lead it.\n",
      "#Document .\n",
      "Have we anything new to offer upon the subject?  Nothing.  We have held the\n",
      "subject up in every light of which it is capable; but it has been all in vain.\n",
      "Shall we resort to entreaty and humble supplication?  What terms shall we\n",
      "find which have not been already exhausted?  Let us not, I beseech you, sir,\n",
      "deceive ourselves.  Sir, we have done everything that could be done to avert\n",
      "the storm which is now coming on.  We have petitioned; we have remonstrated;\n",
      "we have supplicated; we have prostrated ourselves before the throne, and have\n",
      "implored its interposition to arrest the tyrannical hands of the ministry and\n",
      "Parliament.  Our petitions have been slighted; our remonstrances have produced\n",
      "additional violence and insult; our supplications have been disregarded;\n",
      "and we have been spurned, with contempt, from the foot of the throne!\n",
      "In vain, after these things, may we indulge the fond hope of peace and\n",
      "reconciliation.  There is no longer any room for hope.  If we wish to be free--\n",
      "if we mean to preserve inviolate those inestimable privileges for which\n",
      "we have been so long contending--if we mean not basely to abandon the noble\n",
      "struggle in which we have been so long engaged, and which we have pledged\n",
      "ourselves never to abandon until the glorious object of our contest\n",
      "shall be obtained--we must fight!  I repeat it, sir, we must fight!\n",
      "An appeal to arms  and to the God of hosts is all that is left us!\n",
      "\n",
      "They tell us, sir, that we are weak; unable to cope with so formidable\n",
      "an adversary.  But when shall we be stronger?  Will it be the next week,\n",
      "or the next year?  Will it be when we are totally disarmed, and when a British\n",
      "guard shall be stationed in every house?  Shall we gather strength but\n",
      "irresolution and inaction?  Shall we acquire the means of effectual resistance\n",
      "by lying supinely on our backs and hugging the delusive phantom of hope, until\n",
      "our enemies shall have bound us hand and foot?  Sir, we are not weak if we make\n",
      "a proper use of those means which the God of nature hath placed in our power.\n",
      "The millions of people, armed in the holy cause of liberty, and in such a\n",
      "country as that which we possess, are invincible by any force which our enemy\n",
      "can send against us.  Besides, sir, we shall not fight our battles alone.\n",
      "There is a just God who presides over the destinies of nations, and who will\n",
      "raise up friends to fight our battles for us.  The battle, sir, is not to the\n",
      "strong alone; it is to the vigilant, the active, the brave.  Besides, sir,\n",
      "we have no election.  If we were base enough to desire it, it is now too late\n",
      "to retire from the contest.  There is no retreat but in submission and slavery!\n",
      "Our chains are forged!  Their clanking may be heard on the plains of Boston!\n",
      "The war is inevitable--and let it come!  I repeat it, sir, let it come.\n",
      "\n",
      "It is in vain, sir, to extenuate the matter.  Gentlemen may cry, Peace, Peace--\n",
      "but there is no peace.  The war is actually begun!  The next gale that sweeps\n",
      "from the north will bring to our ears the clash of resounding arms!\n",
      "Our brethren are already in the field!  Why stand we here idle?\n",
      "What is it that gentlemen wish?  What would they have?  Is life so dear,\n",
      "or peace so sweet, as to be purchased at the price of chains and slavery?\n",
      "Forbid it, Almighty God!  I know not what course others may take;\n",
      "but as for me, give me liberty or give me death!\n",
      "\n",
      "\n",
      "\n",
      "\n",
      "Officially released December 31, 1977  [Etext #7]\n",
      "Officially re-released November 25, 1993\n",
      "In honor of Thanksgiving\n",
      "\n",
      "******The Project Gutenberg Etext of The Mayflower Compact*****\n",
      "\n",
      "\n",
      "\n",
      "The Mayflower Compact\n",
      "\n",
      "November 11, 1620  [This was November 21, old style calendar]\n",
      "\n",
      "In the name of God, Amen.  We, whose names are underwritten,\n",
      "the Loyal Subjects of our dread Sovereigne Lord, King James,\n",
      "by the Grace of God, of Great Britaine, France, and Ireland,\n",
      "King, Defender of the Faith, &c.\n",
      "\n",
      "Having undertaken for the Glory of God, and Advancement of\n",
      "the Christian Faith, and the Honour of our King and Country,\n",
      "a Voyage to plant the first colony in the Northerne Parts#Document \n",
      "\n",
      "The Mayflower Compact\n",
      "\n",
      "November 11, 1620  [This was November 21, old style calendar]\n",
      "\n",
      "In the name of God, Amen.  We, whose names are underwritten,\n",
      "the Loyal Subjects of our dread Sovereigne Lord, King James,\n",
      "by the Grace of God, of Great Britaine, France, and Ireland,\n",
      "King, Defender of the Faith, &c.\n",
      "\n",
      "Having undertaken for the Glory of God, and Advancement of\n",
      "the Christian Faith, and the Honour of our King and Country,\n",
      "a Voyage to plant the first colony in the Northerne Parts\n",
      "of Virginia; doe, by these Presents, solemnly and mutually\n",
      "in the Presence of God and one of another, covenant and\n",
      "combine ourselves together into a civill Body Politick,\n",
      "for our better Ordering and Preservation, and Furtherance\n",
      "of the Ends aforesaid; And by Virtue hereof do enact,\n",
      "constitute, and frame, such just and equall Laws, Ordinances,\n",
      "Acts, Constitutions, and Offices, from time to time,\n",
      "as shall be thought most meete and convenient for the\n",
      "Generall Good of the Colonie; unto which we promise\n",
      "all due Submission and Obedience.\n",
      "\n",
      "In Witness whereof we have hereunto subscribed our names\n",
      "at Cape Cod the eleventh of November, in the Raigne of our\n",
      "Sovereigne Lord, King James of England, France, and Ireland,\n",
      "the eighteenth, and of Scotland, the fiftie-fourth,\n",
      "Anno. Domini, 1620.\n",
      "\n",
      "Mr. John Carver           Mr. Stephen Hopkins\n",
      "Mr. William Bradford      Digery Priest\n",
      "Mr. Edward Winslow        Thomas Williams\n",
      "Mr. William Brewster      Gilbert Winslow\n",
      "Isaac Allerton            Edmund Margesson\n",
      "Miles Standish            Peter Brown\n",
      "John Alden                Richard Bitteridge\n",
      "John Turner               George Soule\n",
      "Francis Eaton             Edward Tilly\n",
      "James Chilton             John Tilly\n",
      "John Craxton              Francis Cooke\n",
      "John Billington           Thomas Rogers\n",
      "Joses Fletcher            Thomas Tinker\n",
      "John Goodman              John Ridgate\n",
      "Mr. Samuel Fuller         Edward Fuller\n",
      "Mr. Christopher Martin    Richard Clark\n",
      "Mr. William Mullins       Richard Gardiner\n",
      "Mr. William White         Mr. John Allerton\n",
      "Mr. Richard Warren        Thomas English\n",
      "John Howland              Edward Doten\n",
      "Edward Liester\n",
      "\n",
      "\n",
      "\n",
      "December, 1978  [Etext #8]\n",
      "\n",
      "**The Project Gutenberg Etext of Lincoln's 2nd Inaugural Address**\n",
      "\n",
      "\n",
      "\n",
      "\n",
      "Lincoln's Second Inaugural Address\n",
      "March 4, 1865\n",
      "\n",
      "\n",
      "\n",
      "Fellow countrymen:  At this second appearing to take the oath\n",
      "of the presidential office, there is less occasion for an extended\n",
      "address than there was at the first.  Then a statement, somewhat\n",
      "in detail, of a course to be pursued, seemed fitting and proper.\n",
      "Now, at the expiration of four years, during which public declarations\n",
      "have been constantly called forth on every point and phase of the great\n",
      "contest which still absorbs the attention and engrosses the energies\n",
      "of the nation, little that is new could be presented.  The progress\n",
      "of our arms, upon which all else chiefly depends, is as well known\n",
      "to the public as to myself; and it is, I trust, reasonably satisfactory\n",
      "and encouraging to all.  With high hope for the future, no prediction\n",
      "in regard to it is ventured.\n",
      "\n",
      "On the occasion corresponding to this four years ago, all thoughts\n",
      "were anxiously directed to an impending civil war.  All dreaded it--\n",
      "all sought to avert it.  While the inaugural address was being delivered\n",
      "from this place, devoted altogether to saving the Union without war,\n",
      "insurgent agents were in the city seeking to destroy it without war--\n",
      "seeking to dissolve the Union, and divide effects, by negotiation.\n",
      "Both parties deprecated war; but one of them would make war rather\n",
      "than let the nation survive; and the other would accept war rather\n",
      "\n",
      "            \n"
     ]
    }
   ],
   "source": [
    "# Test hybrid retrieval\n",
    "hybrid_results = retriever.hybrid_retrieval(question)\n",
    "\n",
    "print(f\"Question: {question}\")\n",
    "print(\"\\nHybrid retrieval results:\")\n",
    "print(hybrid_results)"
   ]
  },
  {
   "cell_type": "markdown",
   "metadata": {
    "cellUniqueIdByVincent": "6473b"
   },
   "source": [
    "# Test RAG Chain"
   ]
  },
  {
   "cell_type": "code",
   "execution_count": 12,
   "metadata": {
    "cellUniqueIdByVincent": "7e4f1"
   },
   "outputs": [
    {
     "name": "stdout",
     "output_type": "stream",
     "text": [
      "Question: Who is Chris Olande?\n",
      "\n",
      "Answer:  Chris Olande is an ambitious and intellectually gifted data science student at Kenyatta University in Nairobi, Kenya. He has a rigorous academic foundation in statistics and programming, and is cultivating a multidisciplinary approach that intersects applied mathematics, artificial intelligence, and human-centered design. Chris is not only building machine learning systems, but also actively shaping the future of AI literacy and ethical, context-aware data applications in Kenya and beyond.\n"
     ]
    }
   ],
   "source": [
    "# Test the RAG chain\n",
    "answer = rag_chain.invoke({\"question\": question})\n",
    "\n",
    "print(f\"Question: {question}\")\n",
    "print(f\"\\nAnswer: {answer}\")"
   ]
  },
  {
   "cell_type": "markdown",
   "metadata": {
    "cellUniqueIdByVincent": "d2e68"
   },
   "source": [
    "## Test using a follow up question"
   ]
  },
  {
   "cell_type": "code",
   "execution_count": 13,
   "metadata": {
    "cellUniqueIdByVincent": "fc8fb"
   },
   "outputs": [
    {
     "name": "stdout",
     "output_type": "stream",
     "text": [
      "Follow-up question: What does he even do at Kenyatta University?\n",
      "\n",
      "Answer:  Chris Olande is a data science student at Kenyatta University in Nairobi, Kenya. He tutors peers in statistics and machine learning, explaining complex concepts using intuitive analogies and real-life examples. He is also known for his leadership in educational initiatives, promoting STEM exposure and hands-on industry engagement among young learners.\n"
     ]
    }
   ],
   "source": [
    "# Initialize chat history\n",
    "chat_history = [(question, answer)]\n",
    "\n",
    "# Ask a follow-up question\n",
    "follow_up_question = \"What does he even do at Kenyatta University?\"\n",
    "\n",
    "# Get answer to follow-up question\n",
    "follow_up_answer = rag_chain.invoke({\n",
    "    \"question\": follow_up_question,\n",
    "    \"chat_history\": chat_history\n",
    "})\n",
    "\n",
    "print(f\"Follow-up question: {follow_up_question}\")\n",
    "print(f\"\\nAnswer: {follow_up_answer}\")"
   ]
  },
  {
   "cell_type": "code",
   "execution_count": 14,
   "metadata": {
    "cellUniqueIdByVincent": "7909e"
   },
   "outputs": [
    {
     "name": "stdout",
     "output_type": "stream",
     "text": [
      "Follow-up question: How and what tools does he use and what jobs is he suited for in the future?\n",
      "\n",
      "Answer:  Chris Olande uses a variety of tools in data science, including Python, R, Git/GitHub, shell scripting, data science libraries such as NumPy, pandas, matplotlib, seaborn, scikit-learn, SciPy, deep learning and NLP libraries like PyTorch, Hugging Face Transformers, Fastai, OpenCV, LangChain, SentenceTransformers, ML experiment tracking tools like Weights & Biases and TensorBoard, and deployment tools like Streamlit, Gradio, Flask, Docker. Given his background, he might be suited for job opportunities in AI research labs, AI startups, contributing to open-source projects, developing intelligent agents, AI in education, and building systems that personalize learning, assess student understanding, and provide adaptive feedback.\n"
     ]
    }
   ],
   "source": [
    "quiz = \"How and what tools does he use and what jobs is he suited for in the future?\"\n",
    "\n",
    "# Get answer to follow-up question\n",
    "follow_up_answer = rag_chain.invoke({\n",
    "    \"question\": quiz,\n",
    "    \"chat_history\": chat_history\n",
    "})\n",
    "\n",
    "print(f\"Follow-up question: {quiz}\")\n",
    "print(f\"\\nAnswer: {follow_up_answer}\")"
   ]
  },
  {
   "cell_type": "markdown",
   "metadata": {
    "cellUniqueIdByVincent": "8e3d9"
   },
   "source": [
    "# Test questions based on romeo and juliet knowledge base"
   ]
  },
  {
   "cell_type": "code",
   "execution_count": 15,
   "metadata": {
    "cellUniqueIdByVincent": "ad736"
   },
   "outputs": [
    {
     "name": "stdout",
     "output_type": "stream",
     "text": [
      "Question: give me a brief story about the romeo and juliet book\n",
      "\n",
      "Answer:  \"Romeo and Juliet\" is a tragic play written by William Shakespeare. The story is set in Verona, Italy, and revolves around two young lovers, Romeo Montague and Juliet Capulet, who are from two long-standing feuding families. Despite their families' hatred for each other, Romeo and Juliet fall in love at first sight and secretly marry with the help of Friar Lawrence. However, their marriage is short-lived due to a series of unfortunate events, including the death of Tybalt, a Capulet, at the hands of Romeo, and the subsequent exile of Romeo. In a desperate attempt to reunite the families and save Romeo from exile, Friar Lawrence gives Juliet a potion that will make it appear as if she is dead for 42 hours, allowing Romeo to believe she is dead and giving them time to escape. However, a misunderstanding leads to Juliet being awakened prematurely, and she is found by Romeo, who, believing she is dead, takes poison and dies. Juliet, upon waking and finding Romeo dead, takes the same poison and dies as well. The play ends tragically with the reconciliation of the Montague and Capulet families at the tomb of the young lovers.\n"
     ]
    }
   ],
   "source": [
    "question = \"give me a brief story about the romeo and juliet book\"\n",
    "# Test the RAG chain\n",
    "answer = rag_chain.invoke({\"question\": question})\n",
    "\n",
    "print(f\"Question: {question}\")\n",
    "print(f\"\\nAnswer: {answer}\")"
   ]
  },
  {
   "cell_type": "code",
   "execution_count": 16,
   "metadata": {
    "cellUniqueIdByVincent": "849a0"
   },
   "outputs": [
    {
     "name": "stdout",
     "output_type": "stream",
     "text": [
      "Follow-up question: How did Romeo meet Juliet?\n",
      "\n",
      "Answer:  Romeo and Juliet first met at a public place where a ball was being held. They met secretly because they were from rival families, Montagues and Capulets, who were at feud with each other. Romeo was disguised as a servant, and Juliet was talking with her nurse. They met and fell in love at first sight.\n"
     ]
    }
   ],
   "source": [
    "question = \"How did Romeo meet Juliet?\"\n",
    "\n",
    "# Get answer to follow-up question\n",
    "follow_up_answer = rag_chain.invoke({\n",
    "    \"question\": question,\n",
    "    \"chat_history\": chat_history\n",
    "})\n",
    "\n",
    "print(f\"Follow-up question: {question}\")\n",
    "print(f\"\\nAnswer: {follow_up_answer}\")"
   ]
  },
  {
   "cell_type": "code",
   "execution_count": 17,
   "metadata": {
    "cellUniqueIdByVincent": "217fe"
   },
   "outputs": [
    {
     "name": "stdout",
     "output_type": "stream",
     "text": [
      "Follow-up question: How did Romeo meet his fate? go on to tell me how Juliet met her too.\n",
      "\n",
      "Answer:  Romeo met his fate by drinking a poison that he believed was a remedy, but it was actually a fatal dose. Juliet met her fate by taking Romeo's dagger and stabbing herself after finding him dead.\n"
     ]
    }
   ],
   "source": [
    "quiz = \"How did Romeo meet his fate? go on to tell me how Juliet met her too.\"\n",
    "\n",
    "# Get answer to follow-up question\n",
    "follow_up_answer = rag_chain.invoke({\n",
    "    \"question\": quiz,\n",
    "    \"chat_history\": chat_history\n",
    "})\n",
    "\n",
    "print(f\"Follow-up question: {quiz}\")\n",
    "print(f\"\\nAnswer: {follow_up_answer}\")"
   ]
  },
  {
   "cell_type": "markdown",
   "metadata": {
    "cellUniqueIdByVincent": "6a385"
   },
   "source": [
    "# Test for questions about the declaration of independence"
   ]
  },
  {
   "cell_type": "code",
   "execution_count": 18,
   "metadata": {
    "cellUniqueIdByVincent": "da1f5"
   },
   "outputs": [
    {
     "name": "stdout",
     "output_type": "stream",
     "text": [
      "Question: what grievances were made against the King of England?\n",
      "\n",
      "Answer:  The grievances made against the King of England, as stated in the Declaration of Independence, include:\n",
      "\n",
      "1. Refusing to give assent to laws that were wholesome and necessary for the public good.\n",
      "2. Forbidding governors to pass laws of immediate and pressing importance without suspending them until his assent was obtained, and neglecting to attend to them when suspended.\n",
      "3. Refusing to pass laws for the accommodation of large districts of people unless they would relinquish the right of representation in the legislature.\n",
      "4. Calling legislative bodies together at places unusual, uncomfortable, and distant from the depository of their public records, for the sole purpose of fatiguing them into compliance with his measures.\n",
      "5. Dissolving representative houses repeatedly for opposing his invasions on the rights of the people.\n",
      "6. Refusing for a long time to cause others to be elected after dissolutions, leaving the legislative powers incapable of annihilation in the hands of the people.\n",
      "7. Preventing the population of the states by obstructing the laws of naturalization of foreigners, refusing to pass laws to encourage their migration, and raising the conditions of new appropriations of lands.\n",
      "8. Obstructing the administration of justice by refusing his assent to laws for establishing judiciary powers.\n",
      "9. Making judges dependent on his will alone for the tenure of their offices and the amount and payment of their salaries.\n",
      "10. Erecting a multitude of new offices and sending swarms of officers to harass the people and eat out their substance.\n",
      "11. Keeping standing armies among the people in times of peace without the consent of their legislatures.\n",
      "12. Affecting to render the military independent of and superior to the civil power.\n",
      "13. Combining with others to subject the people to a jurisdiction foreign to their constitution and unacknowledged by their laws.\n",
      "14. Quartering large bodies of armed troops among the people.\n",
      "15. Protecting soldiers by a mock trial from punishment for any murders they might commit on the inhabitants of the states.\n",
      "16. Cutting off trade with all parts of the world.\n",
      "17. Imposing taxes on the people without their consent.\n",
      "18. Depriving the people, in many cases, of the benefits of trial by jury.\n",
      "19. Transporting the people beyond seas to be tried for pretended offenses.\n",
      "20. Abolishing the free system of English laws in a neighboring province, establishing therein an arbitrary government, and enlarging its boundaries so as to render it at once an example and fit instrument for introducing the same absolute rule into these colonies.\n",
      "21. Taking away their charters, abolishing their most valuable laws, and altering fundamentally the forms of their governments.\n",
      "22. Suspending their own legislatures and declaring themselves invested with power to legislate for them in all cases whatsoever.\n",
      "23. Abdicating government here by declaring them out of his protection and waging war against them.\n",
      "24. Plundering their seas, ravaging their coasts, burning their towns, and destroying the lives of their people.\n",
      "25. Transporting large armies of foreign mercenaries to complete the works of death, desolation, and tyranny already begun.\n",
      "26. Constraining fellow citizens taken captive on the high seas to bear arms against their country, to become the executioners of their friends and brethren, or to fall themselves by their hands.\n",
      "27. Exciting domestic insurrections amongst them and endeavoring to bring on the inhabitants of their frontiers, the merciless Indian savages, whose known rule of warfare is an undistinguished destruction of all ages, sexes, and conditions.\n",
      "28. In every stage of these oppressions, they have petitioned for redress in the most humble terms, but their repeated petitions have been answered only by repeated injury.\n"
     ]
    }
   ],
   "source": [
    "question = \"what grievances were made against the King of England?\"\n",
    "# Test the RAG chain\n",
    "answer = rag_chain.invoke({\"question\": question})\n",
    "\n",
    "print(f\"Question: {question}\")\n",
    "print(f\"\\nAnswer: {answer}\")"
   ]
  },
  {
   "cell_type": "code",
   "execution_count": 20,
   "metadata": {
    "cellUniqueIdByVincent": "73d82"
   },
   "outputs": [
    {
     "name": "stdout",
     "output_type": "stream",
     "text": [
      "Follow-up question: How did the declaration change the status of the American colonies?\n",
      "\n",
      "Answer:  The Declaration of Independence declared the American colonies to be free and independent states, absolved from all allegiance to the British Crown, and dissolved all political connection between them and the State of Great Britain. This effectively ended the political relationship between the American colonies and Great Britain, and established the United States as a separate and independent nation.\n"
     ]
    }
   ],
   "source": [
    "quiz = \"How did the declaration change the status of the American colonies?\"\n",
    "\n",
    "# Get answer to follow-up question\n",
    "follow_up_answer = rag_chain.invoke({\n",
    "    \"question\": quiz,\n",
    "    \"chat_history\": chat_history\n",
    "})\n",
    "\n",
    "print(f\"Follow-up question: {quiz}\")\n",
    "print(f\"\\nAnswer: {follow_up_answer}\")"
   ]
  },
  {
   "cell_type": "code",
   "execution_count": 21,
   "metadata": {
    "cellUniqueIdByVincent": "6a972"
   },
   "outputs": [
    {
     "name": "stdout",
     "output_type": "stream",
     "text": [
      "Follow-up question: What enlightenment ideas are embedded in the declaration of independence?\n",
      "\n",
      "Answer:  The Declaration of Independence, written by Thomas Jefferson, is a foundational document of the United States and embodies several Enlightenment ideas. Here are some key Enlightenment ideas that can be found in the Declaration:\n",
      "\n",
      "1. Natural Rights: The Declaration asserts that all men are created equal and are endowed by their Creator with certain unalienable Rights, such as Life, Liberty, and the pursuit of Happiness. This idea is rooted in the Enlightenment belief in natural rights, which are inherent to all individuals and cannot be taken away by any government.\n",
      "\n",
      "2. Consent of the governed: The Declaration states that governments are instituted among men to secure these rights, deriving their just powers from the consent of the governed. This idea reflects the Enlightenment belief in the social contract, whereby individuals agree to be governed in exchange for protection of their rights.\n",
      "\n",
      "3. Reason and evidence: The Declaration presents a series of grievances against the British government, providing evidence to support each claim. This approach reflects the Enlightenment emphasis on reason, evidence, and the use of empirical evidence to support arguments.\n",
      "\n",
      "4. Self-determination: The Declaration asserts the right of the colonists to alter or abolish their government when it becomes destructive of their rights. This idea reflects the Enlightenment belief in the sovereignty of the people and their right to determine their own destiny.\n",
      "\n",
      "5. Humanity and universalism: The Declaration asserts that all men are created equal, without regard for race, religion, or nationality. This idea reflects the Enlightenment belief in the inherent dignity and worth of all human beings and the idea of universal human rights.\n",
      "\n",
      "6. Progress and optimism: The Declaration expresses optimism about the potential for human progress and the ability of individuals to improve their circumstances through reason and self-government. This idea reflects the Enlightenment belief in the perfectibility of human society and the potential for human progress through reason and the application of scientific principles.\n",
      "\n",
      "Overall, the Declaration of Independence embodies several key Enlightenment ideas, including natural rights, the consent of the governed, reason and evidence, self-determination, humanity and universalism, and progress and optimism. These ideas continue to influence American political thought and culture to this day.\n"
     ]
    }
   ],
   "source": [
    "quiz = \"What enlightenment ideas are embedded in the declaration of independence?\"\n",
    "\n",
    "# Get answer to follow-up question\n",
    "follow_up_answer = rag_chain.invoke({\n",
    "    \"question\": quiz,\n",
    "    \"chat_history\": chat_history\n",
    "})\n",
    "\n",
    "print(f\"Follow-up question: {quiz}\")\n",
    "print(f\"\\nAnswer: {follow_up_answer}\")"
   ]
  },
  {
   "cell_type": "code",
   "execution_count": null,
   "metadata": {
    "cellUniqueIdByVincent": "dfea3"
   },
   "outputs": [],
   "source": [
    "quiz = \"What were the contradictions in the declaration regarding slavery and equality?\"\n",
    "\n",
    "# Get answer to follow-up question\n",
    "follow_up_answer = rag_chain.invoke({\n",
    "    \"question\": quiz,\n",
    "    \"chat_history\": chat_history\n",
    "})\n",
    "\n",
    "print(f\"Follow-up question: {quiz}\")\n",
    "print(f\"\\nAnswer: {follow_up_answer}\")"
   ]
  },
  {
   "cell_type": "code",
   "execution_count": null,
   "metadata": {
    "cellUniqueIdByVincent": "969f3"
   },
   "outputs": [],
   "source": []
  }
 ],
 "metadata": {
  "kernelspec": {
   "display_name": ".venv",
   "language": "python",
   "name": "python3"
  },
  "language_info": {
   "codemirror_mode": {
    "name": "ipython",
    "version": 3
   },
   "file_extension": ".py",
   "mimetype": "text/x-python",
   "name": "python",
   "nbconvert_exporter": "python",
   "pygments_lexer": "ipython3",
   "version": "3.13.3"
  },
  "vincent": {
   "sessionId": "2427feff4053bc9692a9fc94_2025-05-23T15-31-23-081Z"
  }
 },
 "nbformat": 4,
 "nbformat_minor": 5
}
