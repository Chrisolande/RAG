{
 "cells": [
  {
   "cell_type": "markdown",
   "metadata": {
    "cellUniqueIdByVincent": "016df"
   },
   "source": [
    "# Tunneling to kaggle, we have to install popper-utils"
   ]
  },
  {
   "cell_type": "code",
   "execution_count": 43,
   "metadata": {
    "cellUniqueIdByVincent": "d8ea1"
   },
   "outputs": [
    {
     "name": "stdout",
     "output_type": "stream",
     "text": [
      "Reading package lists... Done\n",
      "Building dependency tree... Done\n",
      "Reading state information... Done\n",
      "poppler-utils is already the newest version (22.02.0-2ubuntu0.8).\n",
      "0 upgraded, 0 newly installed, 0 to remove and 84 not upgraded.\n"
     ]
    }
   ],
   "source": [
    "!apt-get install -y poppler-utils\n"
   ]
  },
  {
   "cell_type": "markdown",
   "metadata": {
    "cellUniqueIdByVincent": "5bd60"
   },
   "source": [
    "# Use asynchronous programming to read the pdf files in parallel"
   ]
  },
  {
   "cell_type": "code",
   "execution_count": 44,
   "metadata": {
    "cellUniqueIdByVincent": "4996b"
   },
   "outputs": [
    {
     "name": "stdout",
     "output_type": "stream",
     "text": [
      "Converting PDF: /kaggle/input/knbs-real-estate/2023-24-Real-Estate-Survey-Report_1.pdf\n",
      "Output directory: real_estate_images\n",
      "Converted 60 pages\n",
      "Compressing and saving images...\n"
     ]
    },
    {
     "ename": "CancelledError",
     "evalue": "",
     "output_type": "error",
     "traceback": [
      "\u001b[0;31m---------------------------------------------------------------------------\u001b[0m",
      "\u001b[0;31mCancelledError\u001b[0m                            Traceback (most recent call last)",
      "\u001b[0;32m/tmp/ipykernel_278/3813057704.py\u001b[0m in \u001b[0;36m<cell line: 1>\u001b[0;34m()\u001b[0m\n\u001b[1;32m     78\u001b[0m \u001b[0;31m# Run the async function\u001b[0m\u001b[0;34m\u001b[0m\u001b[0;34m\u001b[0m\u001b[0m\n\u001b[1;32m     79\u001b[0m \u001b[0;32mif\u001b[0m \u001b[0m__name__\u001b[0m \u001b[0;34m==\u001b[0m \u001b[0;34m\"__main__\"\u001b[0m\u001b[0;34m:\u001b[0m\u001b[0;34m\u001b[0m\u001b[0;34m\u001b[0m\u001b[0m\n\u001b[0;32m---> 80\u001b[0;31m     \u001b[0;32mawait\u001b[0m \u001b[0mmain\u001b[0m\u001b[0;34m(\u001b[0m\u001b[0;34m)\u001b[0m\u001b[0;34m\u001b[0m\u001b[0;34m\u001b[0m\u001b[0m\n\u001b[0m",
      "\u001b[0;32m/tmp/ipykernel_278/3813057704.py\u001b[0m in \u001b[0;36mmain\u001b[0;34m()\u001b[0m\n\u001b[1;32m     69\u001b[0m     \u001b[0mpdf_path\u001b[0m \u001b[0;34m=\u001b[0m \u001b[0;34m\"/kaggle/input/knbs-real-estate/2023-24-Real-Estate-Survey-Report_1.pdf\"\u001b[0m\u001b[0;34m\u001b[0m\u001b[0;34m\u001b[0m\u001b[0m\n\u001b[1;32m     70\u001b[0m \u001b[0;34m\u001b[0m\u001b[0m\n\u001b[0;32m---> 71\u001b[0;31m     await convert_pdf_to_compressed_images(\n\u001b[0m\u001b[1;32m     72\u001b[0m         \u001b[0mpdf_path\u001b[0m\u001b[0;34m=\u001b[0m\u001b[0mpdf_path\u001b[0m\u001b[0;34m,\u001b[0m\u001b[0;34m\u001b[0m\u001b[0;34m\u001b[0m\u001b[0m\n\u001b[1;32m     73\u001b[0m         \u001b[0moutput_dir\u001b[0m\u001b[0;34m=\u001b[0m\u001b[0;34m\"real_estate_images\"\u001b[0m\u001b[0;34m,\u001b[0m\u001b[0;34m\u001b[0m\u001b[0;34m\u001b[0m\u001b[0m\n",
      "\u001b[0;32m/tmp/ipykernel_278/3813057704.py\u001b[0m in \u001b[0;36mconvert_pdf_to_compressed_images\u001b[0;34m(pdf_path, output_dir, dpi, quality)\u001b[0m\n\u001b[1;32m     52\u001b[0m     \u001b[0;31m# Execute all compression tasks concurrently\u001b[0m\u001b[0;34m\u001b[0m\u001b[0;34m\u001b[0m\u001b[0m\n\u001b[1;32m     53\u001b[0m     \u001b[0mprint\u001b[0m\u001b[0;34m(\u001b[0m\u001b[0;34m\"Compressing and saving images...\"\u001b[0m\u001b[0;34m)\u001b[0m\u001b[0;34m\u001b[0m\u001b[0;34m\u001b[0m\u001b[0m\n\u001b[0;32m---> 54\u001b[0;31m     \u001b[0mfile_sizes\u001b[0m \u001b[0;34m=\u001b[0m \u001b[0;32mawait\u001b[0m \u001b[0masyncio\u001b[0m\u001b[0;34m.\u001b[0m\u001b[0mgather\u001b[0m\u001b[0;34m(\u001b[0m\u001b[0;34m*\u001b[0m\u001b[0mtasks\u001b[0m\u001b[0;34m)\u001b[0m\u001b[0;34m\u001b[0m\u001b[0;34m\u001b[0m\u001b[0m\n\u001b[0m\u001b[1;32m     55\u001b[0m \u001b[0;34m\u001b[0m\u001b[0m\n\u001b[1;32m     56\u001b[0m     \u001b[0;31m# Report results\u001b[0m\u001b[0;34m\u001b[0m\u001b[0;34m\u001b[0m\u001b[0m\n",
      "\u001b[0;32m/tmp/ipykernel_278/3813057704.py\u001b[0m in \u001b[0;36mcompress_and_save_image\u001b[0;34m(image, filepath, quality, optimize)\u001b[0m\n\u001b[1;32m     20\u001b[0m     \u001b[0mloop\u001b[0m \u001b[0;34m=\u001b[0m \u001b[0masyncio\u001b[0m\u001b[0;34m.\u001b[0m\u001b[0mget_event_loop\u001b[0m\u001b[0;34m(\u001b[0m\u001b[0;34m)\u001b[0m\u001b[0;34m\u001b[0m\u001b[0;34m\u001b[0m\u001b[0m\n\u001b[1;32m     21\u001b[0m     \u001b[0;32mwith\u001b[0m \u001b[0mThreadPoolExecutor\u001b[0m\u001b[0;34m(\u001b[0m\u001b[0;34m)\u001b[0m \u001b[0;32mas\u001b[0m \u001b[0mexecutor\u001b[0m\u001b[0;34m:\u001b[0m\u001b[0;34m\u001b[0m\u001b[0;34m\u001b[0m\u001b[0m\n\u001b[0;32m---> 22\u001b[0;31m         \u001b[0;32mreturn\u001b[0m \u001b[0;32mawait\u001b[0m \u001b[0mloop\u001b[0m\u001b[0;34m.\u001b[0m\u001b[0mrun_in_executor\u001b[0m\u001b[0;34m(\u001b[0m\u001b[0mexecutor\u001b[0m\u001b[0;34m,\u001b[0m \u001b[0m_compress_save\u001b[0m\u001b[0;34m)\u001b[0m\u001b[0;34m\u001b[0m\u001b[0;34m\u001b[0m\u001b[0m\n\u001b[0m\u001b[1;32m     23\u001b[0m \u001b[0;34m\u001b[0m\u001b[0m\n\u001b[1;32m     24\u001b[0m \u001b[0;34m\u001b[0m\u001b[0m\n",
      "\u001b[0;31mCancelledError\u001b[0m: "
     ]
    }
   ],
   "source": [
    "import os\n",
    "import asyncio\n",
    "from concurrent.futures import ThreadPoolExecutor\n",
    "from pdf2image import convert_from_path\n",
    "from PIL import Image\n",
    "import io\n",
    "\n",
    "async def compress_and_save_image(image, filepath, quality=85, optimize=True):\n",
    "    def _compress_save(img=image):  # pass image explicitly\n",
    "        if img.mode in ('RGBA', 'LA', 'P'):\n",
    "            background = Image.new('RGB', img.size, (255, 255, 255))\n",
    "            background.paste(img, mask=img.split()[-1])\n",
    "            img = background\n",
    "        else:\n",
    "            img = img.convert('RGB')\n",
    "\n",
    "        img.save(filepath, 'JPEG', quality=quality, optimize=optimize, progressive=True)\n",
    "        return os.path.getsize(filepath)\n",
    "\n",
    "    loop = asyncio.get_event_loop()\n",
    "    with ThreadPoolExecutor() as executor:\n",
    "        return await loop.run_in_executor(executor, _compress_save)\n",
    "\n",
    "\n",
    "async def convert_pdf_to_compressed_images(pdf_path, output_dir=\"economic_survey_images\", \n",
    "                                         dpi=150, quality=85):\n",
    "    \"\"\"Convert PDF to compressed images asynchronously\"\"\"\n",
    "    \n",
    "    # Create output directory\n",
    "    os.makedirs(output_dir, exist_ok=True)\n",
    "    \n",
    "    print(f\"Converting PDF: {pdf_path}\")\n",
    "    print(f\"Output directory: {output_dir}\")\n",
    "    \n",
    "    # Convert PDF to images (reduce DPI for smaller file size)\n",
    "    def _convert_pdf():\n",
    "        return convert_from_path(pdf_path, dpi=dpi, output_folder=output_dir)\n",
    "    \n",
    "    loop = asyncio.get_event_loop()\n",
    "    with ThreadPoolExecutor() as executor:\n",
    "        images = await loop.run_in_executor(executor, _convert_pdf)\n",
    "    \n",
    "    print(f\"Converted {len(images)} pages\")\n",
    "    \n",
    "    # Create tasks for compressing and saving all images concurrently\n",
    "    tasks = []\n",
    "    for i, image in enumerate(images):\n",
    "        filepath = os.path.join(output_dir, f'page_{i+1:03d}.jpg')  # Use .jpg extension\n",
    "        task = compress_and_save_image(image, filepath, quality=quality)\n",
    "        tasks.append(task)\n",
    "    \n",
    "    # Execute all compression tasks concurrently\n",
    "    print(\"Compressing and saving images...\")\n",
    "    file_sizes = await asyncio.gather(*tasks)\n",
    "    \n",
    "    # Report results\n",
    "    total_size = sum(file_sizes)\n",
    "    avg_size = total_size / len(file_sizes) if file_sizes else 0\n",
    "    \n",
    "    print(f\"✅ Conversion complete!\")\n",
    "    print(f\"📁 Total files: {len(file_sizes)}\")\n",
    "    print(f\"💾 Total size: {total_size / (1024*1024):.2f} MB\")\n",
    "    print(f\"📊 Average size per image: {avg_size / 1024:.2f} KB\")\n",
    "    \n",
    "    return len(images), total_size\n",
    "\n",
    "# Main execution\n",
    "async def main():\n",
    "    pdf_path = \"/kaggle/input/knbs-real-estate/2023-24-Real-Estate-Survey-Report_1.pdf\"\n",
    "    \n",
    "    await convert_pdf_to_compressed_images(\n",
    "        pdf_path=pdf_path,\n",
    "        output_dir=\"real_estate_images\",\n",
    "        dpi=150,\n",
    "        quality=85\n",
    "    )\n",
    "\n",
    "# Run the async function\n",
    "if __name__ == \"__main__\":\n",
    "    await main()"
   ]
  },
  {
   "cell_type": "code",
   "execution_count": null,
   "metadata": {
    "cellUniqueIdByVincent": "762db"
   },
   "outputs": [],
   "source": [
    "!rm -rf /kaggle/working"
   ]
  },
  {
   "cell_type": "code",
   "execution_count": null,
   "metadata": {
    "cellUniqueIdByVincent": "c7896"
   },
   "outputs": [],
   "source": []
  }
 ],
 "metadata": {
  "kernelspec": {
   "display_name": "Python 3 (ipykernel)",
   "language": "python",
   "name": "python3"
  },
  "language_info": {
   "codemirror_mode": {
    "name": "ipython",
    "version": 3
   },
   "file_extension": ".py",
   "mimetype": "text/x-python",
   "name": "python",
   "nbconvert_exporter": "python",
   "pygments_lexer": "ipython3",
   "version": "3.11.11"
  },
  "vincent": {
   "sessionId": "0e66d2624a6beb6c12502d5f_2025-05-26T13-17-44-147Z"
  }
 },
 "nbformat": 4,
 "nbformat_minor": 5
}
